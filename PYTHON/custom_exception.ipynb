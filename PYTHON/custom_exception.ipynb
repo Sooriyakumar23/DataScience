{
 "cells": [
  {
   "cell_type": "code",
   "execution_count": 1,
   "id": "37a191c4",
   "metadata": {},
   "outputs": [],
   "source": [
    "class CustomError(Exception):\n",
    "    pass"
   ]
  },
  {
   "cell_type": "code",
   "execution_count": 2,
   "id": "4e7eff16",
   "metadata": {},
   "outputs": [],
   "source": [
    "class DoBException(CustomError):\n",
    "    pass"
   ]
  },
  {
   "cell_type": "code",
   "execution_count": 3,
   "id": "33af76ae",
   "metadata": {},
   "outputs": [
    {
     "name": "stdout",
     "output_type": "stream",
     "text": [
      "You are registered for the exam\n"
     ]
    }
   ],
   "source": [
    "try:\n",
    "    year = int(input(\"Enter your birth year: \"))\n",
    "    age = 2025 - year\n",
    "    if (age < 18):\n",
    "        raise DoBException()\n",
    "    print (\"You are registered for the exam\")\n",
    "except DoBException:\n",
    "    print (\"Sorry, you are not allowed for the exam since your age is below 18 years\")"
   ]
  },
  {
   "cell_type": "code",
   "execution_count": 4,
   "id": "8ca47e1d",
   "metadata": {},
   "outputs": [
    {
     "name": "stdout",
     "output_type": "stream",
     "text": [
      "Sorry, you are not allowed for the exam since your age is below 18 years\n"
     ]
    }
   ],
   "source": [
    "try:\n",
    "    year = int(input(\"Enter your birth year: \"))\n",
    "    age = 2025 - year\n",
    "    if (age < 18):\n",
    "        raise DoBException()\n",
    "    print (\"You are registered for the exam\")\n",
    "except DoBException:\n",
    "    print (\"Sorry, you are not allowed for the exam since your age is below 18 years\")"
   ]
  }
 ],
 "metadata": {
  "kernelspec": {
   "display_name": "base",
   "language": "python",
   "name": "python3"
  },
  "language_info": {
   "codemirror_mode": {
    "name": "ipython",
    "version": 3
   },
   "file_extension": ".py",
   "mimetype": "text/x-python",
   "name": "python",
   "nbconvert_exporter": "python",
   "pygments_lexer": "ipython3",
   "version": "3.12.3"
  }
 },
 "nbformat": 4,
 "nbformat_minor": 5
}
