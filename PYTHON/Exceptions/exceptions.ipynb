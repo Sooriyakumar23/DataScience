{
 "cells": [
  {
   "cell_type": "code",
   "execution_count": 11,
   "id": "dc858536",
   "metadata": {},
   "outputs": [
    {
     "ename": "TypeError",
     "evalue": "can only concatenate str (not \"int\") to str",
     "output_type": "error",
     "traceback": [
      "\u001b[31m---------------------------------------------------------------------------\u001b[39m",
      "\u001b[31mTypeError\u001b[39m                                 Traceback (most recent call last)",
      "\u001b[36mCell\u001b[39m\u001b[36m \u001b[39m\u001b[32mIn[11]\u001b[39m\u001b[32m, line 3\u001b[39m\n\u001b[32m      1\u001b[39m a = \u001b[33m\"\u001b[39m\u001b[33mAlice\u001b[39m\u001b[33m\"\u001b[39m\n\u001b[32m      2\u001b[39m b = \u001b[32m1\u001b[39m\n\u001b[32m----> \u001b[39m\u001b[32m3\u001b[39m c = \u001b[43ma\u001b[49m\u001b[43m \u001b[49m\u001b[43m+\u001b[49m\u001b[43m \u001b[49m\u001b[43mb\u001b[49m \u001b[38;5;66;03m# Error -> Below codes are not getting executed\u001b[39;00m\n\u001b[32m      4\u001b[39m d = \u001b[33m\"\u001b[39m\u001b[33mHello\u001b[39m\u001b[33m\"\u001b[39m\n\u001b[32m      5\u001b[39m \u001b[38;5;28mprint\u001b[39m (d)\n",
      "\u001b[31mTypeError\u001b[39m: can only concatenate str (not \"int\") to str"
     ]
    }
   ],
   "source": [
    "a = \"Alice\"\n",
    "b = 1\n",
    "c = a + b # Error -> Below codes are not getting executed\n",
    "d = \"Hello\"\n",
    "print (d)"
   ]
  },
  {
   "cell_type": "markdown",
   "id": "bc7c8113",
   "metadata": {},
   "source": [
    "Error"
   ]
  },
  {
   "cell_type": "code",
   "execution_count": 12,
   "id": "bcc2e8d1",
   "metadata": {},
   "outputs": [
    {
     "ename": "TypeError",
     "evalue": "unsupported operand type(s) for +: 'int' and 'str'",
     "output_type": "error",
     "traceback": [
      "\u001b[31m---------------------------------------------------------------------------\u001b[39m",
      "\u001b[31mTypeError\u001b[39m                                 Traceback (most recent call last)",
      "\u001b[36mCell\u001b[39m\u001b[36m \u001b[39m\u001b[32mIn[12]\u001b[39m\u001b[32m, line 1\u001b[39m\n\u001b[32m----> \u001b[39m\u001b[32m1\u001b[39m \u001b[32;43m1\u001b[39;49m\u001b[43m \u001b[49m\u001b[43m+\u001b[49m\u001b[43m \u001b[49m\u001b[33;43m\"\u001b[39;49m\u001b[33;43mAlice\u001b[39;49m\u001b[33;43m\"\u001b[39;49m \u001b[38;5;66;03m# int + str -> Type Error\u001b[39;00m\n",
      "\u001b[31mTypeError\u001b[39m: unsupported operand type(s) for +: 'int' and 'str'"
     ]
    }
   ],
   "source": [
    "1 + \"Alice\" # int + str -> Type Error"
   ]
  },
  {
   "cell_type": "code",
   "execution_count": 15,
   "id": "a8f36514",
   "metadata": {},
   "outputs": [
    {
     "ename": "ValueError",
     "evalue": "invalid literal for int() with base 10: 'h'",
     "output_type": "error",
     "traceback": [
      "\u001b[31m---------------------------------------------------------------------------\u001b[39m",
      "\u001b[31mValueError\u001b[39m                                Traceback (most recent call last)",
      "\u001b[36mCell\u001b[39m\u001b[36m \u001b[39m\u001b[32mIn[15]\u001b[39m\u001b[32m, line 2\u001b[39m\n\u001b[32m      1\u001b[39m a = \u001b[38;5;28minput\u001b[39m(\u001b[33m\"\u001b[39m\u001b[33mEnter a Number: \u001b[39m\u001b[33m\"\u001b[39m)\n\u001b[32m----> \u001b[39m\u001b[32m2\u001b[39m a = \u001b[38;5;28;43mint\u001b[39;49m\u001b[43m(\u001b[49m\u001b[43ma\u001b[49m\u001b[43m)\u001b[49m \u001b[38;5;66;03m# int(str) -> Value Error\u001b[39;00m\n\u001b[32m      3\u001b[39m \u001b[38;5;28mprint\u001b[39m (a)\n",
      "\u001b[31mValueError\u001b[39m: invalid literal for int() with base 10: 'h'"
     ]
    }
   ],
   "source": [
    "a = input(\"Enter a Number: \")\n",
    "a = int(a) # int(str) -> Value Error\n",
    "print (a)"
   ]
  },
  {
   "cell_type": "code",
   "execution_count": 17,
   "id": "93182d24",
   "metadata": {},
   "outputs": [
    {
     "ename": "ZeroDivisionError",
     "evalue": "division by zero",
     "output_type": "error",
     "traceback": [
      "\u001b[31m---------------------------------------------------------------------------\u001b[39m",
      "\u001b[31mZeroDivisionError\u001b[39m                         Traceback (most recent call last)",
      "\u001b[36mCell\u001b[39m\u001b[36m \u001b[39m\u001b[32mIn[17]\u001b[39m\u001b[32m, line 1\u001b[39m\n\u001b[32m----> \u001b[39m\u001b[32m1\u001b[39m \u001b[32;43m1\u001b[39;49m\u001b[43m/\u001b[49m\u001b[32;43m0\u001b[39;49m \u001b[38;5;66;03m# ZeroDivisionError\u001b[39;00m\n",
      "\u001b[31mZeroDivisionError\u001b[39m: division by zero"
     ]
    }
   ],
   "source": [
    "1/0 # ZeroDivisionError"
   ]
  },
  {
   "cell_type": "code",
   "execution_count": 19,
   "id": "a8666058",
   "metadata": {},
   "outputs": [
    {
     "ename": "SyntaxError",
     "evalue": "incomplete input (322964997.py, line 1)",
     "output_type": "error",
     "traceback": [
      "  \u001b[36mCell\u001b[39m\u001b[36m \u001b[39m\u001b[32mIn[19]\u001b[39m\u001b[32m, line 1\u001b[39m\n\u001b[31m    \u001b[39m\u001b[31mprint (\"Hello Python World\" # SyntaxError\u001b[39m\n                                             ^\n\u001b[31mSyntaxError\u001b[39m\u001b[31m:\u001b[39m incomplete input\n"
     ]
    }
   ],
   "source": [
    "print (\"Hello Python World\" # SyntaxError"
   ]
  },
  {
   "cell_type": "markdown",
   "id": "8db07d1e",
   "metadata": {},
   "source": [
    "Try - Catch"
   ]
  },
  {
   "cell_type": "code",
   "execution_count": 21,
   "id": "df021e7a",
   "metadata": {},
   "outputs": [
    {
     "ename": "ZeroDivisionError",
     "evalue": "division by zero",
     "output_type": "error",
     "traceback": [
      "\u001b[31m---------------------------------------------------------------------------\u001b[39m",
      "\u001b[31mZeroDivisionError\u001b[39m                         Traceback (most recent call last)",
      "\u001b[36mCell\u001b[39m\u001b[36m \u001b[39m\u001b[32mIn[21]\u001b[39m\u001b[32m, line 1\u001b[39m\n\u001b[32m----> \u001b[39m\u001b[32m1\u001b[39m a = \u001b[32;43m1\u001b[39;49m\u001b[43m/\u001b[49m\u001b[32;43m0\u001b[39;49m\n\u001b[32m      2\u001b[39m \u001b[38;5;28mprint\u001b[39m (\u001b[33m\"\u001b[39m\u001b[33mThis code is not executed\u001b[39m\u001b[33m\"\u001b[39m)\n",
      "\u001b[31mZeroDivisionError\u001b[39m: division by zero"
     ]
    }
   ],
   "source": [
    "a = 1/0\n",
    "print (\"This code is not executed\")"
   ]
  },
  {
   "cell_type": "code",
   "execution_count": 25,
   "id": "0c906df6",
   "metadata": {},
   "outputs": [
    {
     "name": "stdout",
     "output_type": "stream",
     "text": [
      "Before Error\n",
      "Try block is not working\n",
      "This code is not executed\n"
     ]
    }
   ],
   "source": [
    "try:\n",
    "    print (\"Before Error\") # 1\n",
    "    a = 1/0 # 2\n",
    "    print (\"After Error\")\n",
    "except Exception: # 3\n",
    "    print (\"Try block is not working\") # 4\n",
    "\n",
    "\n",
    "print (\"This code is not executed\") # 5"
   ]
  },
  {
   "cell_type": "code",
   "execution_count": 30,
   "id": "4682b6c5",
   "metadata": {},
   "outputs": [
    {
     "name": "stdout",
     "output_type": "stream",
     "text": [
      "Before Error\n"
     ]
    },
    {
     "ename": "ZeroDivisionError",
     "evalue": "division by zero",
     "output_type": "error",
     "traceback": [
      "\u001b[31m---------------------------------------------------------------------------\u001b[39m",
      "\u001b[31mZeroDivisionError\u001b[39m                         Traceback (most recent call last)",
      "\u001b[36mCell\u001b[39m\u001b[36m \u001b[39m\u001b[32mIn[30]\u001b[39m\u001b[32m, line 3\u001b[39m\n\u001b[32m      1\u001b[39m \u001b[38;5;28;01mtry\u001b[39;00m:\n\u001b[32m      2\u001b[39m     \u001b[38;5;28mprint\u001b[39m (\u001b[33m\"\u001b[39m\u001b[33mBefore Error\u001b[39m\u001b[33m\"\u001b[39m)\n\u001b[32m----> \u001b[39m\u001b[32m3\u001b[39m     a = \u001b[32;43m1\u001b[39;49m\u001b[43m/\u001b[49m\u001b[32;43m0\u001b[39;49m\n\u001b[32m      4\u001b[39m     \u001b[38;5;28mprint\u001b[39m (\u001b[33m\"\u001b[39m\u001b[33mAfter Error\u001b[39m\u001b[33m\"\u001b[39m)\n\u001b[32m      5\u001b[39m \u001b[38;5;28;01mexcept\u001b[39;00m \u001b[38;5;167;01mValueError\u001b[39;00m: \u001b[38;5;66;03m# ZeroDivisionError\u001b[39;00m\n",
      "\u001b[31mZeroDivisionError\u001b[39m: division by zero"
     ]
    }
   ],
   "source": [
    "try:\n",
    "    print (\"Before Error\")\n",
    "    a = 1/0\n",
    "    print (\"After Error\")\n",
    "except ValueError: # ZeroDivisionError\n",
    "    print (\"Got Zero Division Error\")\n",
    "\n",
    "\n",
    "print (\"This code is not executed\")"
   ]
  },
  {
   "cell_type": "code",
   "execution_count": 31,
   "id": "ab7e5500",
   "metadata": {},
   "outputs": [
    {
     "name": "stdout",
     "output_type": "stream",
     "text": [
      "Before Error\n",
      "Got Zero Division Error\n",
      "This code is not executed\n"
     ]
    }
   ],
   "source": [
    "try:\n",
    "    print (\"Before Error\")\n",
    "    a = 1/0\n",
    "    print (\"After Error\")\n",
    "except ZeroDivisionError:\n",
    "    print (\"Got Zero Division Error\")\n",
    "\n",
    "\n",
    "print (\"This code is not executed\")"
   ]
  },
  {
   "cell_type": "code",
   "execution_count": 32,
   "id": "55cb42c8",
   "metadata": {},
   "outputs": [
    {
     "name": "stdout",
     "output_type": "stream",
     "text": [
      "Before Error\n",
      "Got Zero Division Error\n",
      "This code is not executed\n"
     ]
    }
   ],
   "source": [
    "try:\n",
    "    print (\"Before Error\")\n",
    "    a = 1/0\n",
    "    print (\"After Error\")\n",
    "except:\n",
    "    print (\"Got Zero Division Error\")\n",
    "\n",
    "\n",
    "print (\"This code is not executed\")"
   ]
  },
  {
   "cell_type": "code",
   "execution_count": 36,
   "id": "c32591a9",
   "metadata": {},
   "outputs": [
    {
     "name": "stdout",
     "output_type": "stream",
     "text": [
      "Before Error\n",
      "-------------------------\n",
      "division by zero\n",
      "-------------------------\n",
      "This code is not executed\n"
     ]
    }
   ],
   "source": [
    "try:\n",
    "    print (\"Before Error\")\n",
    "    a = 1/0\n",
    "    print (\"After Error\")\n",
    "except Exception as e:\n",
    "    print (\"-------------------------\")\n",
    "    print (e)\n",
    "    print (\"-------------------------\")\n",
    "\n",
    "\n",
    "print (\"This code is not executed\")"
   ]
  },
  {
   "cell_type": "code",
   "execution_count": 37,
   "id": "cc824097",
   "metadata": {},
   "outputs": [
    {
     "name": "stdout",
     "output_type": "stream",
     "text": [
      "User is trying to divide number by 0\n"
     ]
    }
   ],
   "source": [
    "try : \n",
    "    a = 0\n",
    "    a = int(a) # 0\n",
    "    b = \"1\" # \"1\"\n",
    "    print(10/a) # 10/0 -> ZeroDivisionError\n",
    "    int(b)\n",
    "except ValueError:\n",
    "    print(\"User is trying to convert alpha-character to integer\")\n",
    "except ZeroDivisionError:\n",
    "    print(\"User is trying to divide number by 0\")\n",
    "except Exception as e:\n",
    "    print(\"We have encountered error : \", e)"
   ]
  },
  {
   "cell_type": "code",
   "execution_count": 38,
   "id": "e4fc511c",
   "metadata": {},
   "outputs": [
    {
     "name": "stdout",
     "output_type": "stream",
     "text": [
      "We have encountered error :  division by zero\n"
     ]
    }
   ],
   "source": [
    "try : \n",
    "    a = 0\n",
    "    a = int(a) # 0\n",
    "    b = \"1\" # \"1\"\n",
    "    print(10/a) # 10/0 -> ZeroDivisionError\n",
    "    int(b)\n",
    "except ValueError:\n",
    "    print(\"User is trying to convert alpha-character to integer\")\n",
    "except Exception as e:\n",
    "    print(\"We have encountered error : \", e)\n",
    "except ZeroDivisionError:\n",
    "    print(\"User is trying to divide number by 0\")"
   ]
  },
  {
   "cell_type": "code",
   "execution_count": 39,
   "id": "1c9d5fa9",
   "metadata": {},
   "outputs": [
    {
     "name": "stdout",
     "output_type": "stream",
     "text": [
      "We have encountered error :  division by zero\n",
      "This is the final code\n"
     ]
    }
   ],
   "source": [
    "try : \n",
    "    a = 0\n",
    "    a = int(a) # 0\n",
    "    b = \"1\" # \"1\"\n",
    "    print(10/a) # 10/0 -> ZeroDivisionError\n",
    "    int(b)\n",
    "except ValueError:\n",
    "    print(\"User is trying to convert alpha-character to integer\")\n",
    "except Exception as e:\n",
    "    print(\"We have encountered error : \", e)\n",
    "except ZeroDivisionError:\n",
    "    print(\"User is trying to divide number by 0\")\n",
    "\n",
    "print (\"This is the final code\")"
   ]
  },
  {
   "cell_type": "code",
   "execution_count": 43,
   "id": "6411688b",
   "metadata": {},
   "outputs": [
    {
     "name": "stdout",
     "output_type": "stream",
     "text": [
      "We have encountered error :  division by zero\n",
      "This is the final code\n"
     ]
    }
   ],
   "source": [
    "try : \n",
    "    a = 0\n",
    "    a = int(a) # 0\n",
    "    b = \"1\" # \"1\"\n",
    "    print(10/a) # 10/0 -> ZeroDivisionError\n",
    "    int(b)\n",
    "except ValueError:\n",
    "    print(\"User is trying to convert alpha-character to integer\")\n",
    "except Exception as e:\n",
    "    print(\"We have encountered error : \", e)\n",
    "except ZeroDivisionError:\n",
    "    print(\"User is trying to divide number by 0\")\n",
    "finally:\n",
    "    print (\"This is the final code\")"
   ]
  },
  {
   "cell_type": "code",
   "execution_count": 44,
   "id": "e4bf6ccb",
   "metadata": {},
   "outputs": [
    {
     "name": "stdout",
     "output_type": "stream",
     "text": [
      "We have encountered error :  division by zero\n",
      "This is the final code\n"
     ]
    }
   ],
   "source": [
    "try : \n",
    "    a = 0\n",
    "    a = int(a) # 0\n",
    "    b = \"1\" # \"1\"\n",
    "    print(10/a) # 10/0 -> ZeroDivisionError\n",
    "    int(b)\n",
    "except Exception as e:\n",
    "    print(\"We have encountered error : \", e)\n",
    "else:\n",
    "    print (\"I am else block !\")\n",
    "finally:\n",
    "    print (\"This is the final code\")"
   ]
  },
  {
   "cell_type": "code",
   "execution_count": 47,
   "id": "810b3325",
   "metadata": {},
   "outputs": [
    {
     "name": "stdout",
     "output_type": "stream",
     "text": [
      "10.0\n",
      "1\n",
      "I am else block !\n",
      "This is the final code\n"
     ]
    }
   ],
   "source": [
    "try : \n",
    "    a = 1\n",
    "    a = int(a) # 1\n",
    "    b = \"1\" # \"1\"\n",
    "    print(10/a) # 10/1 = 10.0\n",
    "    int(b) # 1\n",
    "    print (b) # 1\n",
    "except Exception as e:\n",
    "    print(\"We have encountered error : \", e)\n",
    "else:\n",
    "    print (\"I am else block !\")\n",
    "finally:\n",
    "    print (\"This is the final code\")"
   ]
  },
  {
   "cell_type": "code",
   "execution_count": 48,
   "id": "9508a8ce",
   "metadata": {},
   "outputs": [],
   "source": [
    "def take_input():\n",
    "    try : \n",
    "        a = input(\"Enter a value : \")\n",
    "        a = int(a)\n",
    "        a = 100/a\n",
    "    except Exception as e:\n",
    "        print(e)\n",
    "    else:\n",
    "        print(\"Result of operation is : \", a)\n",
    "    finally:\n",
    "        print(\"Code executed successfully.\")"
   ]
  },
  {
   "cell_type": "code",
   "execution_count": 49,
   "id": "0c91e19f",
   "metadata": {},
   "outputs": [
    {
     "name": "stdout",
     "output_type": "stream",
     "text": [
      "Result of operation is :  12.5\n",
      "Code executed successfully.\n"
     ]
    }
   ],
   "source": [
    "take_input()"
   ]
  },
  {
   "cell_type": "code",
   "execution_count": 50,
   "id": "e1ed20fc",
   "metadata": {},
   "outputs": [
    {
     "name": "stdout",
     "output_type": "stream",
     "text": [
      "division by zero\n",
      "Code executed successfully.\n"
     ]
    }
   ],
   "source": [
    "take_input()"
   ]
  },
  {
   "cell_type": "code",
   "execution_count": null,
   "id": "c6dfc48c",
   "metadata": {},
   "outputs": [],
   "source": [
    "def take_age(age):\n",
    "    try : \n",
    "        age_int = int(age) # 500\n",
    "        if age_int<0 or age_int>100:\n",
    "            raise ValueError(\"Age should be between 0 to 100, please try with a valid age\") # run\n",
    "        else:\n",
    "            print(age_int)\n",
    "    except Exception as e:\n",
    "        print(e) # run\n",
    "    finally:\n",
    "        print(\"Code executed successfully.\") # run"
   ]
  },
  {
   "cell_type": "code",
   "execution_count": 60,
   "id": "acb5b9ed",
   "metadata": {},
   "outputs": [
    {
     "name": "stdout",
     "output_type": "stream",
     "text": [
      "5\n",
      "Code executed successfully.\n"
     ]
    }
   ],
   "source": [
    "take_age(5)"
   ]
  },
  {
   "cell_type": "code",
   "execution_count": 61,
   "id": "e09645fc",
   "metadata": {},
   "outputs": [
    {
     "name": "stdout",
     "output_type": "stream",
     "text": [
      "Age should be between 0 to 100, please try with a valid age\n",
      "Code executed successfully.\n"
     ]
    }
   ],
   "source": [
    "take_age(-5)"
   ]
  },
  {
   "cell_type": "code",
   "execution_count": 62,
   "id": "4fdbf548",
   "metadata": {},
   "outputs": [
    {
     "name": "stdout",
     "output_type": "stream",
     "text": [
      "Age should be between 0 to 100, please try with a valid age\n",
      "Code executed successfully.\n"
     ]
    }
   ],
   "source": [
    "take_age(500)"
   ]
  }
 ],
 "metadata": {
  "kernelspec": {
   "display_name": "base",
   "language": "python",
   "name": "python3"
  },
  "language_info": {
   "codemirror_mode": {
    "name": "ipython",
    "version": 3
   },
   "file_extension": ".py",
   "mimetype": "text/x-python",
   "name": "python",
   "nbconvert_exporter": "python",
   "pygments_lexer": "ipython3",
   "version": "3.12.3"
  }
 },
 "nbformat": 4,
 "nbformat_minor": 5
}
