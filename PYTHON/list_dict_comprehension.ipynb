{
 "cells": [
  {
   "cell_type": "markdown",
   "id": "998fc3ff",
   "metadata": {},
   "source": [
    "List Comprehension"
   ]
  },
  {
   "cell_type": "code",
   "execution_count": 1,
   "id": "58ec2d8a",
   "metadata": {},
   "outputs": [],
   "source": [
    "nums = [1, 1, 1, 1, 2, 2, 2, 3, 3, 4, 4, 4, 4, 2, 1, 1, 1]"
   ]
  },
  {
   "cell_type": "code",
   "execution_count": 3,
   "id": "87739fad",
   "metadata": {},
   "outputs": [
    {
     "name": "stdout",
     "output_type": "stream",
     "text": [
      "2\n",
      "2\n",
      "2\n",
      "2\n"
     ]
    }
   ],
   "source": [
    "for i in nums:\n",
    "    if i == 2:\n",
    "        print (i)"
   ]
  },
  {
   "cell_type": "code",
   "execution_count": 6,
   "id": "6fc08582",
   "metadata": {},
   "outputs": [],
   "source": [
    "res1 = [i for i in nums if i == 2]"
   ]
  },
  {
   "cell_type": "code",
   "execution_count": 7,
   "id": "a536cbf2",
   "metadata": {},
   "outputs": [
    {
     "data": {
      "text/plain": [
       "[2, 2, 2, 2]"
      ]
     },
     "execution_count": 7,
     "metadata": {},
     "output_type": "execute_result"
    }
   ],
   "source": [
    "res1"
   ]
  },
  {
   "cell_type": "code",
   "execution_count": 8,
   "id": "fb7cf9c5",
   "metadata": {},
   "outputs": [],
   "source": [
    "res2 = [i*i for i in nums]"
   ]
  },
  {
   "cell_type": "code",
   "execution_count": 9,
   "id": "344f717e",
   "metadata": {},
   "outputs": [
    {
     "data": {
      "text/plain": [
       "[1, 1, 1, 1, 4, 4, 4, 9, 9, 16, 16, 16, 16, 4, 1, 1, 1]"
      ]
     },
     "execution_count": 9,
     "metadata": {},
     "output_type": "execute_result"
    }
   ],
   "source": [
    "res2"
   ]
  },
  {
   "cell_type": "code",
   "execution_count": 11,
   "id": "edae7561",
   "metadata": {},
   "outputs": [],
   "source": [
    "res3 = [i*i for i in nums if i%2 == 0]"
   ]
  },
  {
   "cell_type": "code",
   "execution_count": 12,
   "id": "f58b4390",
   "metadata": {},
   "outputs": [
    {
     "data": {
      "text/plain": [
       "[4, 4, 4, 16, 16, 16, 16, 4]"
      ]
     },
     "execution_count": 12,
     "metadata": {},
     "output_type": "execute_result"
    }
   ],
   "source": [
    "res3"
   ]
  },
  {
   "cell_type": "markdown",
   "id": "fb4642f6",
   "metadata": {},
   "source": [
    "Dict Comprehension"
   ]
  },
  {
   "cell_type": "code",
   "execution_count": 13,
   "id": "8111d2a1",
   "metadata": {},
   "outputs": [],
   "source": [
    "names = [\"sooriya\", \"nisha\", \"vel\"]\n",
    "scores = [10, 100, 90]"
   ]
  },
  {
   "cell_type": "code",
   "execution_count": 14,
   "id": "f3570022",
   "metadata": {},
   "outputs": [],
   "source": [
    "# {\"sooriya\": 10, \"nisha\": 100, \"vel\": 90}"
   ]
  },
  {
   "cell_type": "code",
   "execution_count": 15,
   "id": "2f2e927e",
   "metadata": {},
   "outputs": [],
   "source": [
    "result = {i : j for i, j in zip(names, scores)}"
   ]
  },
  {
   "cell_type": "code",
   "execution_count": 16,
   "id": "9a2907ad",
   "metadata": {},
   "outputs": [
    {
     "data": {
      "text/plain": [
       "{'sooriya': 10, 'nisha': 100, 'vel': 90}"
      ]
     },
     "execution_count": 16,
     "metadata": {},
     "output_type": "execute_result"
    }
   ],
   "source": [
    "result"
   ]
  },
  {
   "cell_type": "code",
   "execution_count": 17,
   "id": "91be3181",
   "metadata": {},
   "outputs": [],
   "source": [
    "names = [\"sooriya\", \"nisha\", \"vel\"]\n",
    "scores = [10, 100, 90]\n",
    "changes = [-5, -1, 2]\n",
    "\n",
    "# {\"sooriya\": 5, \"nisha\": 99, \"vel\": 92}\n",
    "\n",
    "result_2 = {i : j+k for i, j, k in zip(names, scores, changes)}"
   ]
  },
  {
   "cell_type": "code",
   "execution_count": 18,
   "id": "45003586",
   "metadata": {},
   "outputs": [
    {
     "data": {
      "text/plain": [
       "{'sooriya': 5, 'nisha': 99, 'vel': 92}"
      ]
     },
     "execution_count": 18,
     "metadata": {},
     "output_type": "execute_result"
    }
   ],
   "source": [
    "result_2"
   ]
  },
  {
   "cell_type": "code",
   "execution_count": 19,
   "id": "1c17cc28",
   "metadata": {},
   "outputs": [],
   "source": [
    "names = [\"sooriya\", \"nisha\", \"vel\"] # i\n",
    "scores = [10, 100, 90] # j\n",
    "last_names = [\"kumar\", \"ntha\", \"muruga\"] # k\n",
    "\n",
    "# {\"sooriyakumar\": 10, \"nishantha\": 100, \"velmuruga\": 90}\n",
    "\n",
    "result_3 = {i+k: j for i, j, k in zip(names, scores, last_names)}"
   ]
  },
  {
   "cell_type": "code",
   "execution_count": 20,
   "id": "baf774d5",
   "metadata": {},
   "outputs": [
    {
     "data": {
      "text/plain": [
       "{'sooriyakumar': 10, 'nishantha': 100, 'velmuruga': 90}"
      ]
     },
     "execution_count": 20,
     "metadata": {},
     "output_type": "execute_result"
    }
   ],
   "source": [
    "result_3"
   ]
  }
 ],
 "metadata": {
  "kernelspec": {
   "display_name": "base",
   "language": "python",
   "name": "python3"
  },
  "language_info": {
   "codemirror_mode": {
    "name": "ipython",
    "version": 3
   },
   "file_extension": ".py",
   "mimetype": "text/x-python",
   "name": "python",
   "nbconvert_exporter": "python",
   "pygments_lexer": "ipython3",
   "version": "3.12.3"
  }
 },
 "nbformat": 4,
 "nbformat_minor": 5
}
