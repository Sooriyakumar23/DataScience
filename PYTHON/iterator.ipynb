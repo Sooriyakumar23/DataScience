{
 "cells": [
  {
   "cell_type": "code",
   "execution_count": 1,
   "id": "22c835d3",
   "metadata": {},
   "outputs": [
    {
     "name": "stdout",
     "output_type": "stream",
     "text": [
      "1\n",
      "2\n",
      "3\n",
      "4\n",
      "5\n",
      "6\n"
     ]
    }
   ],
   "source": [
    "list1 = [1, 2, 3, 4, 5, 6]\n",
    "\n",
    "for i in list1:\n",
    "    print (i)"
   ]
  },
  {
   "cell_type": "code",
   "execution_count": 2,
   "id": "a61d33ef",
   "metadata": {},
   "outputs": [],
   "source": [
    "list2 = [1, 2, 3, 4, 5, 6]\n",
    "\n",
    "iter_list2 = iter(list2)"
   ]
  },
  {
   "cell_type": "code",
   "execution_count": 3,
   "id": "d648cb91",
   "metadata": {},
   "outputs": [
    {
     "data": {
      "text/plain": [
       "1"
      ]
     },
     "execution_count": 3,
     "metadata": {},
     "output_type": "execute_result"
    }
   ],
   "source": [
    "next(iter_list2)"
   ]
  },
  {
   "cell_type": "code",
   "execution_count": 4,
   "id": "c9175658",
   "metadata": {},
   "outputs": [
    {
     "data": {
      "text/plain": [
       "2"
      ]
     },
     "execution_count": 4,
     "metadata": {},
     "output_type": "execute_result"
    }
   ],
   "source": [
    "next(iter_list2)"
   ]
  },
  {
   "cell_type": "code",
   "execution_count": 5,
   "id": "dc1fa7d3",
   "metadata": {},
   "outputs": [
    {
     "data": {
      "text/plain": [
       "3"
      ]
     },
     "execution_count": 5,
     "metadata": {},
     "output_type": "execute_result"
    }
   ],
   "source": [
    "next(iter_list2)"
   ]
  },
  {
   "cell_type": "code",
   "execution_count": 6,
   "id": "f7b89435",
   "metadata": {},
   "outputs": [
    {
     "data": {
      "text/plain": [
       "4"
      ]
     },
     "execution_count": 6,
     "metadata": {},
     "output_type": "execute_result"
    }
   ],
   "source": [
    "next(iter_list2)"
   ]
  },
  {
   "cell_type": "code",
   "execution_count": 7,
   "id": "37df6fab",
   "metadata": {},
   "outputs": [
    {
     "data": {
      "text/plain": [
       "5"
      ]
     },
     "execution_count": 7,
     "metadata": {},
     "output_type": "execute_result"
    }
   ],
   "source": [
    "next(iter_list2)"
   ]
  },
  {
   "cell_type": "code",
   "execution_count": 8,
   "id": "b24e09b5",
   "metadata": {},
   "outputs": [
    {
     "data": {
      "text/plain": [
       "6"
      ]
     },
     "execution_count": 8,
     "metadata": {},
     "output_type": "execute_result"
    }
   ],
   "source": [
    "next(iter_list2)"
   ]
  },
  {
   "cell_type": "code",
   "execution_count": 9,
   "id": "64d1f3a2",
   "metadata": {},
   "outputs": [
    {
     "ename": "StopIteration",
     "evalue": "",
     "output_type": "error",
     "traceback": [
      "\u001b[31m---------------------------------------------------------------------------\u001b[39m",
      "\u001b[31mStopIteration\u001b[39m                             Traceback (most recent call last)",
      "\u001b[36mCell\u001b[39m\u001b[36m \u001b[39m\u001b[32mIn[9]\u001b[39m\u001b[32m, line 1\u001b[39m\n\u001b[32m----> \u001b[39m\u001b[32m1\u001b[39m \u001b[38;5;28;43mnext\u001b[39;49m\u001b[43m(\u001b[49m\u001b[43miter_list2\u001b[49m\u001b[43m)\u001b[49m\n",
      "\u001b[31mStopIteration\u001b[39m: "
     ]
    }
   ],
   "source": [
    "next(iter_list2)"
   ]
  },
  {
   "cell_type": "code",
   "execution_count": 10,
   "id": "29611c2e",
   "metadata": {},
   "outputs": [
    {
     "name": "stdout",
     "output_type": "stream",
     "text": [
      "10\n",
      "20\n",
      "30\n",
      "40\n",
      "50\n",
      "60\n",
      "70\n",
      "80\n",
      "90\n",
      "100\n",
      "Iteration Ended\n"
     ]
    }
   ],
   "source": [
    "list3 = [10, 20, 30, 40, 50, 60, 70, 80, 90, 100]\n",
    "\n",
    "iter_list3 = iter(list3)\n",
    "\n",
    "try:\n",
    "    while True:\n",
    "        print (next(iter_list3))\n",
    "except Exception:\n",
    "    print (\"Iteration Ended\")"
   ]
  },
  {
   "cell_type": "code",
   "execution_count": 11,
   "id": "67022255",
   "metadata": {},
   "outputs": [],
   "source": [
    "string = \"Hello\"\n",
    "iter_string = iter(string)"
   ]
  },
  {
   "cell_type": "code",
   "execution_count": 14,
   "id": "4d8f2ee2",
   "metadata": {},
   "outputs": [
    {
     "data": {
      "text/plain": [
       "'H'"
      ]
     },
     "execution_count": 14,
     "metadata": {},
     "output_type": "execute_result"
    }
   ],
   "source": [
    "next(iter_string)"
   ]
  },
  {
   "cell_type": "code",
   "execution_count": 15,
   "id": "77a6e1d4",
   "metadata": {},
   "outputs": [
    {
     "data": {
      "text/plain": [
       "'e'"
      ]
     },
     "execution_count": 15,
     "metadata": {},
     "output_type": "execute_result"
    }
   ],
   "source": [
    "next(iter_string)"
   ]
  },
  {
   "cell_type": "code",
   "execution_count": 16,
   "id": "1addd10f",
   "metadata": {},
   "outputs": [
    {
     "data": {
      "text/plain": [
       "'l'"
      ]
     },
     "execution_count": 16,
     "metadata": {},
     "output_type": "execute_result"
    }
   ],
   "source": [
    "next(iter_string)"
   ]
  },
  {
   "cell_type": "code",
   "execution_count": 17,
   "id": "c2bd59df",
   "metadata": {},
   "outputs": [
    {
     "data": {
      "text/plain": [
       "'l'"
      ]
     },
     "execution_count": 17,
     "metadata": {},
     "output_type": "execute_result"
    }
   ],
   "source": [
    "next(iter_string)"
   ]
  },
  {
   "cell_type": "code",
   "execution_count": 18,
   "id": "e2a59f3a",
   "metadata": {},
   "outputs": [
    {
     "data": {
      "text/plain": [
       "'o'"
      ]
     },
     "execution_count": 18,
     "metadata": {},
     "output_type": "execute_result"
    }
   ],
   "source": [
    "next(iter_string)"
   ]
  },
  {
   "cell_type": "code",
   "execution_count": 19,
   "id": "e233699e",
   "metadata": {},
   "outputs": [
    {
     "ename": "StopIteration",
     "evalue": "",
     "output_type": "error",
     "traceback": [
      "\u001b[31m---------------------------------------------------------------------------\u001b[39m",
      "\u001b[31mStopIteration\u001b[39m                             Traceback (most recent call last)",
      "\u001b[36mCell\u001b[39m\u001b[36m \u001b[39m\u001b[32mIn[19]\u001b[39m\u001b[32m, line 1\u001b[39m\n\u001b[32m----> \u001b[39m\u001b[32m1\u001b[39m \u001b[38;5;28;43mnext\u001b[39;49m\u001b[43m(\u001b[49m\u001b[43miter_string\u001b[49m\u001b[43m)\u001b[49m\n",
      "\u001b[31mStopIteration\u001b[39m: "
     ]
    }
   ],
   "source": [
    "next(iter_string)"
   ]
  }
 ],
 "metadata": {
  "kernelspec": {
   "display_name": "base",
   "language": "python",
   "name": "python3"
  },
  "language_info": {
   "codemirror_mode": {
    "name": "ipython",
    "version": 3
   },
   "file_extension": ".py",
   "mimetype": "text/x-python",
   "name": "python",
   "nbconvert_exporter": "python",
   "pygments_lexer": "ipython3",
   "version": "3.12.3"
  }
 },
 "nbformat": 4,
 "nbformat_minor": 5
}
