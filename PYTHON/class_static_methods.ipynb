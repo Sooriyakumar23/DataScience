{
 "cells": [
  {
   "cell_type": "markdown",
   "id": "a37b4b95",
   "metadata": {},
   "source": [
    "# 1: Class Method"
   ]
  },
  {
   "cell_type": "markdown",
   "id": "5837726b",
   "metadata": {},
   "source": [
    "### 1.1. How to Use it ?"
   ]
  },
  {
   "cell_type": "code",
   "execution_count": 3,
   "id": "6133dfdc",
   "metadata": {},
   "outputs": [],
   "source": [
    "class Memory:\n",
    "    total_memory = 256\n",
    "\n",
    "    @classmethod\n",
    "    def reduce_memory(cls, m):\n",
    "        cls.total_memory -= m"
   ]
  },
  {
   "cell_type": "code",
   "execution_count": 4,
   "id": "9c63af83",
   "metadata": {},
   "outputs": [
    {
     "data": {
      "text/plain": [
       "256"
      ]
     },
     "execution_count": 4,
     "metadata": {},
     "output_type": "execute_result"
    }
   ],
   "source": [
    "Memory.total_memory"
   ]
  },
  {
   "cell_type": "code",
   "execution_count": 5,
   "id": "91943eef",
   "metadata": {},
   "outputs": [],
   "source": [
    "Memory.reduce_memory(2)"
   ]
  },
  {
   "cell_type": "code",
   "execution_count": 12,
   "id": "8d808dff",
   "metadata": {},
   "outputs": [
    {
     "data": {
      "text/plain": [
       "254"
      ]
     },
     "execution_count": 12,
     "metadata": {},
     "output_type": "execute_result"
    }
   ],
   "source": [
    "Memory.total_memory"
   ]
  },
  {
   "cell_type": "markdown",
   "id": "8e6099fe",
   "metadata": {},
   "source": [
    "### 1.2. How to Use it as Alternate Constructor ?"
   ]
  },
  {
   "cell_type": "code",
   "execution_count": 7,
   "id": "ec179935",
   "metadata": {},
   "outputs": [],
   "source": [
    "class Processor:\n",
    "    def __init__(self, speed, cores):\n",
    "        self.speed = speed\n",
    "        self.cores = cores\n",
    "\n",
    "    @classmethod\n",
    "    def from_alternate_constructor(cls, data):\n",
    "        speed, cores = data.split()\n",
    "        return cls(speed, cores)\n",
    "\n",
    "    def print_data(self):\n",
    "        print (self.speed)\n",
    "        print (self.cores)"
   ]
  },
  {
   "cell_type": "code",
   "execution_count": 8,
   "id": "966c26af",
   "metadata": {},
   "outputs": [],
   "source": [
    "processor_obj = Processor.from_alternate_constructor(\"10GHz 4\")"
   ]
  },
  {
   "cell_type": "code",
   "execution_count": 9,
   "id": "f6cd7a86",
   "metadata": {},
   "outputs": [
    {
     "name": "stdout",
     "output_type": "stream",
     "text": [
      "10GHz\n",
      "4\n"
     ]
    }
   ],
   "source": [
    "processor_obj.print_data()"
   ]
  },
  {
   "cell_type": "markdown",
   "id": "062e7e31",
   "metadata": {},
   "source": [
    "# 2: Static Method"
   ]
  },
  {
   "cell_type": "code",
   "execution_count": 10,
   "id": "2614dd1a",
   "metadata": {},
   "outputs": [],
   "source": [
    "class Calculator:\n",
    "    \n",
    "    @staticmethod\n",
    "    def add(a, b):\n",
    "        print (a + b)\n",
    "\n",
    "    @staticmethod\n",
    "    def sub(a, b):\n",
    "        print (a - b)"
   ]
  },
  {
   "cell_type": "code",
   "execution_count": 11,
   "id": "c3dc0428",
   "metadata": {},
   "outputs": [],
   "source": [
    "calc = Calculator()"
   ]
  },
  {
   "cell_type": "code",
   "execution_count": 12,
   "id": "a3987d67",
   "metadata": {},
   "outputs": [
    {
     "name": "stdout",
     "output_type": "stream",
     "text": [
      "3\n"
     ]
    }
   ],
   "source": [
    "calc.add(1, 2)"
   ]
  },
  {
   "cell_type": "code",
   "execution_count": 13,
   "id": "0424e18d",
   "metadata": {},
   "outputs": [
    {
     "name": "stdout",
     "output_type": "stream",
     "text": [
      "3\n"
     ]
    }
   ],
   "source": [
    "Calculator.add(1, 2)"
   ]
  }
 ],
 "metadata": {
  "kernelspec": {
   "display_name": "base",
   "language": "python",
   "name": "python3"
  },
  "language_info": {
   "codemirror_mode": {
    "name": "ipython",
    "version": 3
   },
   "file_extension": ".py",
   "mimetype": "text/x-python",
   "name": "python",
   "nbconvert_exporter": "python",
   "pygments_lexer": "ipython3",
   "version": "3.12.3"
  }
 },
 "nbformat": 4,
 "nbformat_minor": 5
}
