{
 "cells": [
  {
   "cell_type": "markdown",
   "id": "a1b5b922",
   "metadata": {},
   "source": [
    "# Magic methods:\n",
    "\n",
    "##### Methods which name starts and ends with dunder(double underscore).\n",
    "##### Used to enhance experience for Developers and Users"
   ]
  },
  {
   "cell_type": "code",
   "execution_count": 1,
   "id": "164dbe37",
   "metadata": {},
   "outputs": [
    {
     "data": {
      "text/plain": [
       "'\\nEg:- __init__ Constructor in Class\\n'"
      ]
     },
     "execution_count": 1,
     "metadata": {},
     "output_type": "execute_result"
    }
   ],
   "source": [
    "'''\n",
    "Eg:- __init__ Constructor in Class\n",
    "'''"
   ]
  },
  {
   "cell_type": "code",
   "execution_count": 2,
   "id": "53d55431",
   "metadata": {},
   "outputs": [],
   "source": [
    "class Person1:\n",
    "    def __init__(self, name, age):\n",
    "        self.name = name\n",
    "        self.age = age"
   ]
  },
  {
   "cell_type": "code",
   "execution_count": 3,
   "id": "361e84a8",
   "metadata": {},
   "outputs": [],
   "source": [
    "person1 = Person1(\"Sooriya\", 5)"
   ]
  },
  {
   "cell_type": "code",
   "execution_count": 4,
   "id": "a619238a",
   "metadata": {},
   "outputs": [
    {
     "data": {
      "text/plain": [
       "<__main__.Person1 at 0x1dbb9251670>"
      ]
     },
     "execution_count": 4,
     "metadata": {},
     "output_type": "execute_result"
    }
   ],
   "source": [
    "person1"
   ]
  },
  {
   "cell_type": "code",
   "execution_count": 5,
   "id": "4684a316",
   "metadata": {},
   "outputs": [
    {
     "data": {
      "text/plain": [
       "'<__main__.Person1 object at 0x000001DBB9251670>'"
      ]
     },
     "execution_count": 5,
     "metadata": {},
     "output_type": "execute_result"
    }
   ],
   "source": [
    "repr(person1)"
   ]
  },
  {
   "cell_type": "code",
   "execution_count": 15,
   "id": "cf32af4d",
   "metadata": {},
   "outputs": [],
   "source": [
    "class Person2:\n",
    "    def __init__(self, name, age):\n",
    "        self.name = name\n",
    "        self.age = age\n",
    "\n",
    "    def __str__(self):\n",
    "        return (f\"My name is {self.name} and age is {self.age}\")\n",
    "    \n",
    "    def __repr__(self):\n",
    "        return (f\"Person2(name = {self.name}, age={self.age})\")"
   ]
  },
  {
   "cell_type": "code",
   "execution_count": 16,
   "id": "d409e530",
   "metadata": {},
   "outputs": [],
   "source": [
    "person2 = Person2(\"Kumar\", 1)"
   ]
  },
  {
   "cell_type": "code",
   "execution_count": 17,
   "id": "a747aa36",
   "metadata": {},
   "outputs": [
    {
     "name": "stdout",
     "output_type": "stream",
     "text": [
      "My name is Kumar and age is 1\n"
     ]
    }
   ],
   "source": [
    "print (person2)"
   ]
  },
  {
   "cell_type": "code",
   "execution_count": 18,
   "id": "f0f22ebd",
   "metadata": {},
   "outputs": [
    {
     "name": "stdout",
     "output_type": "stream",
     "text": [
      "Person2(name = Kumar, age=1)\n"
     ]
    }
   ],
   "source": [
    "print (repr(person2))"
   ]
  },
  {
   "cell_type": "code",
   "execution_count": 19,
   "id": "8fd7eb0a",
   "metadata": {},
   "outputs": [
    {
     "data": {
      "text/plain": [
       "['__class__',\n",
       " '__delattr__',\n",
       " '__dict__',\n",
       " '__dir__',\n",
       " '__doc__',\n",
       " '__eq__',\n",
       " '__format__',\n",
       " '__ge__',\n",
       " '__getattribute__',\n",
       " '__getstate__',\n",
       " '__gt__',\n",
       " '__hash__',\n",
       " '__init__',\n",
       " '__init_subclass__',\n",
       " '__le__',\n",
       " '__lt__',\n",
       " '__module__',\n",
       " '__ne__',\n",
       " '__new__',\n",
       " '__reduce__',\n",
       " '__reduce_ex__',\n",
       " '__repr__',\n",
       " '__setattr__',\n",
       " '__sizeof__',\n",
       " '__str__',\n",
       " '__subclasshook__',\n",
       " '__weakref__']"
      ]
     },
     "execution_count": 19,
     "metadata": {},
     "output_type": "execute_result"
    }
   ],
   "source": [
    "dir(Person2)"
   ]
  },
  {
   "cell_type": "code",
   "execution_count": 20,
   "id": "e2479089",
   "metadata": {},
   "outputs": [
    {
     "data": {
      "text/plain": [
       "'\\n1. __str__ and __repr__ both implemented -> when calling relevant implementation occur\\n2. __str__ implemented but not __repr__ -> when we call repr it will call str\\n3. __str__ not implemented but __repr__ implemented -> relevant implementation get called (default str method called)\\n4. __str__ and __repr__ both not implemented -> when calling any of them will call str\\n'"
      ]
     },
     "execution_count": 20,
     "metadata": {},
     "output_type": "execute_result"
    }
   ],
   "source": [
    "'''\n",
    "1. __str__ and __repr__ both implemented -> when calling relevant implementation occur\n",
    "2. __str__ implemented but not __repr__ -> when we call repr it will call str\n",
    "3. __str__ not implemented but __repr__ implemented -> relevant implementation get called (default str method called)\n",
    "4. __str__ and __repr__ both not implemented -> when calling any of them will call str\n",
    "'''"
   ]
  },
  {
   "cell_type": "code",
   "execution_count": 26,
   "id": "e2a79b87",
   "metadata": {},
   "outputs": [],
   "source": [
    "class NewAdd:\n",
    "    def __init__(self, x, y):\n",
    "        self.x = x\n",
    "        self.y = y\n",
    "    def __repr__(self):\n",
    "        print (f\"New Add(x={self.x}, y={self.y})\")\n",
    "    def __add__(self, other): # Add two NewAdd objects\n",
    "        return (self.x+other.x, self.y+other.y)"
   ]
  },
  {
   "cell_type": "code",
   "execution_count": 27,
   "id": "dafc0e50",
   "metadata": {},
   "outputs": [],
   "source": [
    "obj1 = NewAdd(1, 10)\n",
    "obj2 = NewAdd(2, 20)\n"
   ]
  },
  {
   "cell_type": "code",
   "execution_count": 28,
   "id": "8dcd2002",
   "metadata": {},
   "outputs": [
    {
     "data": {
      "text/plain": [
       "(3, 30)"
      ]
     },
     "execution_count": 28,
     "metadata": {},
     "output_type": "execute_result"
    }
   ],
   "source": [
    "obj1 + obj2"
   ]
  },
  {
   "cell_type": "code",
   "execution_count": 29,
   "id": "e2aaec11",
   "metadata": {},
   "outputs": [],
   "source": [
    "class NewEq:\n",
    "    def __init__(self, x):\n",
    "        self.x = x\n",
    "    def __eq__(self, other):\n",
    "        return (self.x == other.x)"
   ]
  },
  {
   "cell_type": "code",
   "execution_count": 30,
   "id": "3914c913",
   "metadata": {},
   "outputs": [],
   "source": [
    "obj_eq1 = NewEq(1)\n",
    "obj_eq2 = NewEq(2)"
   ]
  },
  {
   "cell_type": "code",
   "execution_count": 31,
   "id": "5d775951",
   "metadata": {},
   "outputs": [
    {
     "data": {
      "text/plain": [
       "False"
      ]
     },
     "execution_count": 31,
     "metadata": {},
     "output_type": "execute_result"
    }
   ],
   "source": [
    "obj_eq1 == obj_eq2"
   ]
  },
  {
   "cell_type": "code",
   "execution_count": 32,
   "id": "ade6e8af",
   "metadata": {},
   "outputs": [],
   "source": [
    "obj_eq3 = NewEq(10)\n",
    "obj_eq4 = NewEq(10)"
   ]
  },
  {
   "cell_type": "code",
   "execution_count": 33,
   "id": "91f88984",
   "metadata": {},
   "outputs": [
    {
     "data": {
      "text/plain": [
       "True"
      ]
     },
     "execution_count": 33,
     "metadata": {},
     "output_type": "execute_result"
    }
   ],
   "source": [
    "obj_eq3 == obj_eq4"
   ]
  },
  {
   "cell_type": "code",
   "execution_count": 36,
   "id": "e6b8538f",
   "metadata": {},
   "outputs": [],
   "source": [
    "class ClassLength:\n",
    "    def __init__(self, my_list):\n",
    "        self.my_list = my_list\n",
    "    def __len__(self):\n",
    "        return len(self.my_list)"
   ]
  },
  {
   "cell_type": "code",
   "execution_count": 37,
   "id": "1f5b6dbc",
   "metadata": {},
   "outputs": [],
   "source": [
    "class_length = ClassLength([1, 2, 3, 4, 5])"
   ]
  },
  {
   "cell_type": "code",
   "execution_count": 38,
   "id": "a3e3ab3d",
   "metadata": {},
   "outputs": [
    {
     "data": {
      "text/plain": [
       "5"
      ]
     },
     "execution_count": 38,
     "metadata": {},
     "output_type": "execute_result"
    }
   ],
   "source": [
    "len(class_length)"
   ]
  },
  {
   "cell_type": "code",
   "execution_count": 40,
   "id": "cecfcc8a",
   "metadata": {},
   "outputs": [],
   "source": [
    "class GetItem:\n",
    "    def __init__(self, items):\n",
    "        self.items = items\n",
    "    def __getitem__(self, index):\n",
    "        return self.items[index]"
   ]
  },
  {
   "cell_type": "code",
   "execution_count": 41,
   "id": "f7f4ea4f",
   "metadata": {},
   "outputs": [],
   "source": [
    "get_item = GetItem([1, 2, 3, 4, 5])"
   ]
  },
  {
   "cell_type": "code",
   "execution_count": 42,
   "id": "8f97fb3e",
   "metadata": {},
   "outputs": [
    {
     "data": {
      "text/plain": [
       "2"
      ]
     },
     "execution_count": 42,
     "metadata": {},
     "output_type": "execute_result"
    }
   ],
   "source": [
    "get_item[1]"
   ]
  }
 ],
 "metadata": {
  "kernelspec": {
   "display_name": "base",
   "language": "python",
   "name": "python3"
  },
  "language_info": {
   "codemirror_mode": {
    "name": "ipython",
    "version": 3
   },
   "file_extension": ".py",
   "mimetype": "text/x-python",
   "name": "python",
   "nbconvert_exporter": "python",
   "pygments_lexer": "ipython3",
   "version": "3.12.3"
  }
 },
 "nbformat": 4,
 "nbformat_minor": 5
}
