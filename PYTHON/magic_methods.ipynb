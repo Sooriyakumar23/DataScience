{
 "cells": [
  {
   "cell_type": "markdown",
   "id": "a1b5b922",
   "metadata": {},
   "source": [
    "# Magic methods:\n",
    "\n",
    "##### Methods which name starts and ends with dunder(double underscore)."
   ]
  },
  {
   "cell_type": "code",
   "execution_count": 1,
   "id": "164dbe37",
   "metadata": {},
   "outputs": [
    {
     "data": {
      "text/plain": [
       "'\\nEg:- __init__ Constructor in Class\\n'"
      ]
     },
     "execution_count": 1,
     "metadata": {},
     "output_type": "execute_result"
    }
   ],
   "source": [
    "'''\n",
    "Eg:- __init__ Constructor in Class\n",
    "'''"
   ]
  },
  {
   "cell_type": "code",
   "execution_count": 2,
   "id": "53d55431",
   "metadata": {},
   "outputs": [],
   "source": [
    "class Person1:\n",
    "    def __init__(self, name, age):\n",
    "        self.name = name\n",
    "        self.age = age"
   ]
  },
  {
   "cell_type": "code",
   "execution_count": 3,
   "id": "361e84a8",
   "metadata": {},
   "outputs": [],
   "source": [
    "person1 = Person1(\"Sooriya\", 5)"
   ]
  },
  {
   "cell_type": "code",
   "execution_count": 4,
   "id": "a619238a",
   "metadata": {},
   "outputs": [
    {
     "data": {
      "text/plain": [
       "<__main__.Person1 at 0x1dbb9251670>"
      ]
     },
     "execution_count": 4,
     "metadata": {},
     "output_type": "execute_result"
    }
   ],
   "source": [
    "person1"
   ]
  },
  {
   "cell_type": "code",
   "execution_count": 5,
   "id": "4684a316",
   "metadata": {},
   "outputs": [
    {
     "data": {
      "text/plain": [
       "'<__main__.Person1 object at 0x000001DBB9251670>'"
      ]
     },
     "execution_count": 5,
     "metadata": {},
     "output_type": "execute_result"
    }
   ],
   "source": [
    "repr(person1)"
   ]
  },
  {
   "cell_type": "code",
   "execution_count": 15,
   "id": "cf32af4d",
   "metadata": {},
   "outputs": [],
   "source": [
    "class Person2:\n",
    "    def __init__(self, name, age):\n",
    "        self.name = name\n",
    "        self.age = age\n",
    "\n",
    "    def __str__(self):\n",
    "        return (f\"My name is {self.name} and age is {self.age}\")\n",
    "    \n",
    "    def __repr__(self):\n",
    "        return (f\"Person2(name = {self.name}, age={self.age})\")"
   ]
  },
  {
   "cell_type": "code",
   "execution_count": 16,
   "id": "d409e530",
   "metadata": {},
   "outputs": [],
   "source": [
    "person2 = Person2(\"Kumar\", 1)"
   ]
  },
  {
   "cell_type": "code",
   "execution_count": 17,
   "id": "a747aa36",
   "metadata": {},
   "outputs": [
    {
     "name": "stdout",
     "output_type": "stream",
     "text": [
      "My name is Kumar and age is 1\n"
     ]
    }
   ],
   "source": [
    "print (person2)"
   ]
  },
  {
   "cell_type": "code",
   "execution_count": 18,
   "id": "f0f22ebd",
   "metadata": {},
   "outputs": [
    {
     "name": "stdout",
     "output_type": "stream",
     "text": [
      "Person2(name = Kumar, age=1)\n"
     ]
    }
   ],
   "source": [
    "print (repr(person2))"
   ]
  }
 ],
 "metadata": {
  "kernelspec": {
   "display_name": "base",
   "language": "python",
   "name": "python3"
  },
  "language_info": {
   "codemirror_mode": {
    "name": "ipython",
    "version": 3
   },
   "file_extension": ".py",
   "mimetype": "text/x-python",
   "name": "python",
   "nbconvert_exporter": "python",
   "pygments_lexer": "ipython3",
   "version": "3.12.3"
  }
 },
 "nbformat": 4,
 "nbformat_minor": 5
}
