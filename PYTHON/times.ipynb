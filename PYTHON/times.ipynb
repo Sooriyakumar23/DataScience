{
 "cells": [
  {
   "cell_type": "code",
   "execution_count": 1,
   "id": "a4d47b31",
   "metadata": {},
   "outputs": [],
   "source": [
    "import time"
   ]
  },
  {
   "cell_type": "code",
   "execution_count": 2,
   "id": "7e1070bb",
   "metadata": {},
   "outputs": [
    {
     "data": {
      "text/plain": [
       "1746888764.991174"
      ]
     },
     "execution_count": 2,
     "metadata": {},
     "output_type": "execute_result"
    }
   ],
   "source": [
    "time.time()"
   ]
  },
  {
   "cell_type": "code",
   "execution_count": 3,
   "id": "bb8734d9",
   "metadata": {},
   "outputs": [
    {
     "data": {
      "text/plain": [
       "'Sat May 10 20:22:50 2025'"
      ]
     },
     "execution_count": 3,
     "metadata": {},
     "output_type": "execute_result"
    }
   ],
   "source": [
    "time.ctime()"
   ]
  },
  {
   "cell_type": "code",
   "execution_count": 4,
   "id": "34579408",
   "metadata": {},
   "outputs": [
    {
     "data": {
      "text/plain": [
       "time.struct_time(tm_year=2025, tm_mon=5, tm_mday=10, tm_hour=20, tm_min=23, tm_sec=5, tm_wday=5, tm_yday=130, tm_isdst=0)"
      ]
     },
     "execution_count": 4,
     "metadata": {},
     "output_type": "execute_result"
    }
   ],
   "source": [
    "time.localtime()"
   ]
  },
  {
   "cell_type": "code",
   "execution_count": 5,
   "id": "2320533f",
   "metadata": {},
   "outputs": [
    {
     "name": "stdout",
     "output_type": "stream",
     "text": [
      "1746888922.1716168\n"
     ]
    }
   ],
   "source": [
    "t1 = time.time()\n",
    "print (t1)"
   ]
  },
  {
   "cell_type": "code",
   "execution_count": 6,
   "id": "e1f68805",
   "metadata": {},
   "outputs": [
    {
     "name": "stdout",
     "output_type": "stream",
     "text": [
      "1746888933.3081818\n"
     ]
    }
   ],
   "source": [
    "t2 = time.time()\n",
    "print (t2)"
   ]
  },
  {
   "cell_type": "code",
   "execution_count": 8,
   "id": "3a4da862",
   "metadata": {},
   "outputs": [
    {
     "name": "stdout",
     "output_type": "stream",
     "text": [
      "11.13656497001648 seconds\n"
     ]
    }
   ],
   "source": [
    "print (f\"{t2 - t1} seconds\")"
   ]
  },
  {
   "cell_type": "code",
   "execution_count": 9,
   "id": "8a16d74e",
   "metadata": {},
   "outputs": [],
   "source": [
    "local_time = time.localtime()"
   ]
  },
  {
   "cell_type": "code",
   "execution_count": 14,
   "id": "e9390063",
   "metadata": {},
   "outputs": [
    {
     "name": "stdout",
     "output_type": "stream",
     "text": [
      "<class 'time.struct_time'>\n"
     ]
    }
   ],
   "source": [
    "print (type(local_time))"
   ]
  },
  {
   "cell_type": "code",
   "execution_count": 15,
   "id": "ef401817",
   "metadata": {},
   "outputs": [
    {
     "name": "stdout",
     "output_type": "stream",
     "text": [
      "time.struct_time(tm_year=2025, tm_mon=5, tm_mday=10, tm_hour=20, tm_min=32, tm_sec=24, tm_wday=5, tm_yday=130, tm_isdst=0)\n"
     ]
    }
   ],
   "source": [
    "print (local_time)"
   ]
  },
  {
   "cell_type": "code",
   "execution_count": 16,
   "id": "65020dd8",
   "metadata": {},
   "outputs": [
    {
     "data": {
      "text/plain": [
       "20"
      ]
     },
     "execution_count": 16,
     "metadata": {},
     "output_type": "execute_result"
    }
   ],
   "source": [
    "local_time.tm_hour"
   ]
  },
  {
   "cell_type": "code",
   "execution_count": 17,
   "id": "1ae55767",
   "metadata": {},
   "outputs": [
    {
     "data": {
      "text/plain": [
       "32"
      ]
     },
     "execution_count": 17,
     "metadata": {},
     "output_type": "execute_result"
    }
   ],
   "source": [
    "local_time.tm_min"
   ]
  },
  {
   "cell_type": "code",
   "execution_count": 27,
   "id": "d3ae124a",
   "metadata": {},
   "outputs": [
    {
     "name": "stdout",
     "output_type": "stream",
     "text": [
      "0.24604535102844238\n"
     ]
    }
   ],
   "source": [
    "t0 = time.time()\n",
    "count = 0\n",
    "for i in range(1000000):\n",
    "    count += i**2\n",
    "t1 = time.time()\n",
    "\n",
    "print (t1 - t0)"
   ]
  },
  {
   "cell_type": "markdown",
   "id": "767164c8",
   "metadata": {},
   "source": [
    "Format Time"
   ]
  },
  {
   "cell_type": "code",
   "execution_count": 36,
   "id": "ea8f3701",
   "metadata": {},
   "outputs": [
    {
     "data": {
      "text/plain": [
       "'2025-05-10 20:40:21'"
      ]
     },
     "execution_count": 36,
     "metadata": {},
     "output_type": "execute_result"
    }
   ],
   "source": [
    "time.strftime(\"%Y-%m-%d %H:%M:%S\", time.localtime())"
   ]
  },
  {
   "cell_type": "code",
   "execution_count": 37,
   "id": "4e71ad30",
   "metadata": {},
   "outputs": [
    {
     "data": {
      "text/plain": [
       "'2025-05-10'"
      ]
     },
     "execution_count": 37,
     "metadata": {},
     "output_type": "execute_result"
    }
   ],
   "source": [
    "time.strftime(\"%Y-%m-%d\", time.localtime())"
   ]
  },
  {
   "cell_type": "code",
   "execution_count": 38,
   "id": "a688bc97",
   "metadata": {},
   "outputs": [
    {
     "data": {
      "text/plain": [
       "'25-05-10'"
      ]
     },
     "execution_count": 38,
     "metadata": {},
     "output_type": "execute_result"
    }
   ],
   "source": [
    "time.strftime(\"%y-%m-%d\", time.localtime())"
   ]
  }
 ],
 "metadata": {
  "kernelspec": {
   "display_name": "base",
   "language": "python",
   "name": "python3"
  },
  "language_info": {
   "codemirror_mode": {
    "name": "ipython",
    "version": 3
   },
   "file_extension": ".py",
   "mimetype": "text/x-python",
   "name": "python",
   "nbconvert_exporter": "python",
   "pygments_lexer": "ipython3",
   "version": "3.12.3"
  }
 },
 "nbformat": 4,
 "nbformat_minor": 5
}
