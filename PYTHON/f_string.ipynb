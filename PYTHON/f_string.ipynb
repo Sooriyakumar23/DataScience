{
 "cells": [
  {
   "cell_type": "code",
   "execution_count": 1,
   "id": "fe07276d",
   "metadata": {},
   "outputs": [
    {
     "name": "stdout",
     "output_type": "stream",
     "text": [
      "Hello, How are you, Sooriyakumar ?\n"
     ]
    }
   ],
   "source": [
    "name = \"Sooriyakumar\"\n",
    "\n",
    "print (f\"Hello, How are you, {name} ?\")"
   ]
  },
  {
   "cell_type": "code",
   "execution_count": 5,
   "id": "042eea18",
   "metadata": {},
   "outputs": [
    {
     "name": "stdout",
     "output_type": "stream",
     "text": [
      "PI values is 3.142\n"
     ]
    }
   ],
   "source": [
    "pi = 3.1415926535\n",
    "\n",
    "print (f\"PI values is {pi:.3f}\")"
   ]
  },
  {
   "cell_type": "code",
   "execution_count": 10,
   "id": "caf2ece2",
   "metadata": {},
   "outputs": [
    {
     "name": "stdout",
     "output_type": "stream",
     "text": [
      "First name is Alice, Second name is Bob and Third name is Charlie .\n",
      "First name is David, Second name is Elixir and Third name is Franchis .\n"
     ]
    }
   ],
   "source": [
    "name_1 = \"Alice\"\n",
    "name_2 = \"Bob\"\n",
    "name_3 = \"Charlie\"\n",
    "\n",
    "print (f\"First name is {name_1}, Second name is {name_2} and Third name is {name_3} .\")\n",
    "\n",
    "print (\"First name is {a}, Second name is {b} and Third name is {c} .\".format(a = \"David\", b=\"Elixir\", c=\"Franchis\"))"
   ]
  }
 ],
 "metadata": {
  "kernelspec": {
   "display_name": "base",
   "language": "python",
   "name": "python3"
  },
  "language_info": {
   "codemirror_mode": {
    "name": "ipython",
    "version": 3
   },
   "file_extension": ".py",
   "mimetype": "text/x-python",
   "name": "python",
   "nbconvert_exporter": "python",
   "pygments_lexer": "ipython3",
   "version": "3.12.3"
  }
 },
 "nbformat": 4,
 "nbformat_minor": 5
}
