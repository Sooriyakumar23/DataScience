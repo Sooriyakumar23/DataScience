{
 "cells": [
  {
   "cell_type": "markdown",
   "id": "1d8b10e9",
   "metadata": {},
   "source": [
    "More pythonic / simpler way to access class attributes"
   ]
  },
  {
   "cell_type": "code",
   "execution_count": 1,
   "id": "3ea1abc6",
   "metadata": {},
   "outputs": [],
   "source": [
    "class PropertyClass:\n",
    "    def __init__(self, name):\n",
    "        self.__name = name\n",
    "    @property\n",
    "    def name(self):\n",
    "        return self.__name\n",
    "    @name.setter\n",
    "    def name(self, new_name):\n",
    "        self.__name = new_name\n",
    "    @name.deleter\n",
    "    def name(self):\n",
    "        del self.__name"
   ]
  },
  {
   "cell_type": "code",
   "execution_count": 2,
   "id": "a1fdddee",
   "metadata": {},
   "outputs": [],
   "source": [
    "prop_class = PropertyClass(\"SK\")"
   ]
  },
  {
   "cell_type": "code",
   "execution_count": 3,
   "id": "ffe7dd5f",
   "metadata": {},
   "outputs": [
    {
     "data": {
      "text/plain": [
       "'SK'"
      ]
     },
     "execution_count": 3,
     "metadata": {},
     "output_type": "execute_result"
    }
   ],
   "source": [
    "prop_class.name"
   ]
  },
  {
   "cell_type": "code",
   "execution_count": 4,
   "id": "f30178d1",
   "metadata": {},
   "outputs": [],
   "source": [
    "prop_class.name = \"Soo Kum\""
   ]
  },
  {
   "cell_type": "code",
   "execution_count": 5,
   "id": "48a5bceb",
   "metadata": {},
   "outputs": [
    {
     "data": {
      "text/plain": [
       "'Soo Kum'"
      ]
     },
     "execution_count": 5,
     "metadata": {},
     "output_type": "execute_result"
    }
   ],
   "source": [
    "prop_class.name"
   ]
  },
  {
   "cell_type": "code",
   "execution_count": 6,
   "id": "7e8fa731",
   "metadata": {},
   "outputs": [],
   "source": [
    "del prop_class.name"
   ]
  },
  {
   "cell_type": "code",
   "execution_count": 7,
   "id": "7d57063b",
   "metadata": {},
   "outputs": [
    {
     "ename": "AttributeError",
     "evalue": "'PropertyClass' object has no attribute '_PropertyClass__name'",
     "output_type": "error",
     "traceback": [
      "\u001b[31m---------------------------------------------------------------------------\u001b[39m",
      "\u001b[31mAttributeError\u001b[39m                            Traceback (most recent call last)",
      "\u001b[36mCell\u001b[39m\u001b[36m \u001b[39m\u001b[32mIn[7]\u001b[39m\u001b[32m, line 1\u001b[39m\n\u001b[32m----> \u001b[39m\u001b[32m1\u001b[39m \u001b[43mprop_class\u001b[49m\u001b[43m.\u001b[49m\u001b[43mname\u001b[49m\n",
      "\u001b[36mCell\u001b[39m\u001b[36m \u001b[39m\u001b[32mIn[1]\u001b[39m\u001b[32m, line 6\u001b[39m, in \u001b[36mPropertyClass.name\u001b[39m\u001b[34m(self)\u001b[39m\n\u001b[32m      4\u001b[39m \u001b[38;5;129m@property\u001b[39m\n\u001b[32m      5\u001b[39m \u001b[38;5;28;01mdef\u001b[39;00m\u001b[38;5;250m \u001b[39m\u001b[34mname\u001b[39m(\u001b[38;5;28mself\u001b[39m):\n\u001b[32m----> \u001b[39m\u001b[32m6\u001b[39m     \u001b[38;5;28;01mreturn\u001b[39;00m \u001b[38;5;28;43mself\u001b[39;49m\u001b[43m.\u001b[49m\u001b[43m__name\u001b[49m\n",
      "\u001b[31mAttributeError\u001b[39m: 'PropertyClass' object has no attribute '_PropertyClass__name'"
     ]
    }
   ],
   "source": [
    "prop_class.name"
   ]
  }
 ],
 "metadata": {
  "kernelspec": {
   "display_name": "base",
   "language": "python",
   "name": "python3"
  },
  "language_info": {
   "codemirror_mode": {
    "name": "ipython",
    "version": 3
   },
   "file_extension": ".py",
   "mimetype": "text/x-python",
   "name": "python",
   "nbconvert_exporter": "python",
   "pygments_lexer": "ipython3",
   "version": "3.12.3"
  }
 },
 "nbformat": 4,
 "nbformat_minor": 5
}
