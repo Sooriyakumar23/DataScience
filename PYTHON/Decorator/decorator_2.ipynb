{
 "cells": [
  {
   "cell_type": "markdown",
   "id": "367aba8f",
   "metadata": {},
   "source": [
    "# Decorator"
   ]
  },
  {
   "cell_type": "markdown",
   "id": "7a69dd3b",
   "metadata": {},
   "source": [
    "* Decorator is a function which takes input as a function and returns another function\n",
    "* Decorator adds more functionality and not modifying input function"
   ]
  },
  {
   "cell_type": "code",
   "execution_count": 2,
   "id": "765df808",
   "metadata": {},
   "outputs": [],
   "source": [
    "import time"
   ]
  },
  {
   "cell_type": "code",
   "execution_count": 3,
   "id": "aa1930d8",
   "metadata": {},
   "outputs": [],
   "source": [
    "def research():\n",
    "    time.sleep(3)"
   ]
  },
  {
   "cell_type": "markdown",
   "id": "35bf3333",
   "metadata": {},
   "source": [
    "Approach-1"
   ]
  },
  {
   "cell_type": "code",
   "execution_count": 4,
   "id": "0518a45d",
   "metadata": {},
   "outputs": [],
   "source": [
    "def time_it(func):\n",
    "    def wrapper():\n",
    "        t1 = time.time()\n",
    "        func()\n",
    "        t2 = time.time()\n",
    "        print (f\"Time taken in seconds = {t2 - t1}\")\n",
    "    return wrapper"
   ]
  },
  {
   "cell_type": "code",
   "execution_count": 5,
   "id": "94704123",
   "metadata": {},
   "outputs": [],
   "source": [
    "research = time_it(research)"
   ]
  },
  {
   "cell_type": "code",
   "execution_count": 6,
   "id": "38b40a3f",
   "metadata": {},
   "outputs": [
    {
     "name": "stdout",
     "output_type": "stream",
     "text": [
      "Time taken in seconds = 3.0006895065307617\n"
     ]
    }
   ],
   "source": [
    "research()"
   ]
  },
  {
   "cell_type": "markdown",
   "id": "5a64be65",
   "metadata": {},
   "source": [
    "Approach-2: Syntactic Sugar"
   ]
  },
  {
   "cell_type": "code",
   "execution_count": 8,
   "id": "5e2659f7",
   "metadata": {},
   "outputs": [],
   "source": [
    "@time_it\n",
    "def development():\n",
    "    time.sleep(3)"
   ]
  },
  {
   "cell_type": "code",
   "execution_count": 9,
   "id": "56131193",
   "metadata": {},
   "outputs": [
    {
     "name": "stdout",
     "output_type": "stream",
     "text": [
      "Time taken in seconds = 3.0009355545043945\n"
     ]
    }
   ],
   "source": [
    "development()"
   ]
  },
  {
   "cell_type": "code",
   "execution_count": 19,
   "id": "732f39d4",
   "metadata": {},
   "outputs": [],
   "source": [
    "def log_time_it_1(func):\n",
    "    def wrapper(*args):\n",
    "        t1 = time.time()\n",
    "        func(*args)\n",
    "        t2 = time.time()\n",
    "        print(f\"Total Time taken in seconds = {t2-t1}\")\n",
    "    return wrapper"
   ]
  },
  {
   "cell_type": "code",
   "execution_count": 20,
   "id": "12fb8a1d",
   "metadata": {},
   "outputs": [],
   "source": [
    "@log_time_it_1\n",
    "def add_twice(a, b, c):\n",
    "    print (a + b + c)\n",
    "    time.sleep(1)\n",
    "    print (a + b + c)\n",
    "    time.sleep(1)"
   ]
  },
  {
   "cell_type": "code",
   "execution_count": 21,
   "id": "38e87e50",
   "metadata": {},
   "outputs": [
    {
     "name": "stdout",
     "output_type": "stream",
     "text": [
      "6\n",
      "6\n",
      "Total Time taken in seconds = 2.001518487930298\n"
     ]
    }
   ],
   "source": [
    "add_twice(1, 2, 3)"
   ]
  },
  {
   "cell_type": "code",
   "execution_count": 22,
   "id": "a0cb346c",
   "metadata": {},
   "outputs": [],
   "source": [
    "def log_time_it_2(func):\n",
    "    def wrapper(*args, **kwargs):\n",
    "        t1 = time.time()\n",
    "        func(*args, **kwargs)\n",
    "        t2 = time.time()\n",
    "        print(f\"Total Time taken in seconds = {t2-t1}\")\n",
    "    return wrapper"
   ]
  },
  {
   "cell_type": "code",
   "execution_count": 23,
   "id": "b1eb279d",
   "metadata": {},
   "outputs": [],
   "source": [
    "@log_time_it_2\n",
    "def add_twice(a, b, c):\n",
    "    print (a + b + c)\n",
    "    time.sleep(1)\n",
    "    print (a + b + c)\n",
    "    time.sleep(1)"
   ]
  },
  {
   "cell_type": "code",
   "execution_count": 24,
   "id": "730b9fd7",
   "metadata": {},
   "outputs": [
    {
     "name": "stdout",
     "output_type": "stream",
     "text": [
      "6\n",
      "6\n",
      "Total Time taken in seconds = 2.001290798187256\n"
     ]
    }
   ],
   "source": [
    "add_twice(1, 2, c=3)"
   ]
  },
  {
   "cell_type": "code",
   "execution_count": 29,
   "id": "b31b8cc2",
   "metadata": {},
   "outputs": [],
   "source": [
    "def decorator_1(func):\n",
    "    def wrapper():\n",
    "        print (\"Decorator 1: Start\")\n",
    "        func()\n",
    "        print (\"Decorator 1: End\")\n",
    "    return wrapper"
   ]
  },
  {
   "cell_type": "code",
   "execution_count": 30,
   "id": "133b3d55",
   "metadata": {},
   "outputs": [],
   "source": [
    "def decorator_2(func):\n",
    "    def wrapper():\n",
    "        print (\"Decorator 2: Start\")\n",
    "        func()\n",
    "        print (\"Decorator 2: End\")\n",
    "    return wrapper"
   ]
  },
  {
   "cell_type": "code",
   "execution_count": 31,
   "id": "074aa69f",
   "metadata": {},
   "outputs": [],
   "source": [
    "@decorator_1\n",
    "@decorator_2\n",
    "def hello_world():\n",
    "    print (\"Start.....\")\n",
    "    time.sleep(3)\n",
    "    print (\"End.....\")"
   ]
  },
  {
   "cell_type": "code",
   "execution_count": 32,
   "id": "7004273c",
   "metadata": {},
   "outputs": [
    {
     "name": "stdout",
     "output_type": "stream",
     "text": [
      "Decorator 1: Start\n",
      "Decorator 2: Start\n",
      "Start.....\n",
      "End.....\n",
      "Decorator 2: End\n",
      "Decorator 1: End\n"
     ]
    }
   ],
   "source": [
    "hello_world()"
   ]
  }
 ],
 "metadata": {
  "kernelspec": {
   "display_name": "base",
   "language": "python",
   "name": "python3"
  },
  "language_info": {
   "codemirror_mode": {
    "name": "ipython",
    "version": 3
   },
   "file_extension": ".py",
   "mimetype": "text/x-python",
   "name": "python",
   "nbconvert_exporter": "python",
   "pygments_lexer": "ipython3",
   "version": "3.12.3"
  }
 },
 "nbformat": 4,
 "nbformat_minor": 5
}
