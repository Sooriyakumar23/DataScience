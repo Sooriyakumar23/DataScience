{
 "cells": [
  {
   "cell_type": "code",
   "execution_count": 1,
   "id": "01fade31",
   "metadata": {},
   "outputs": [],
   "source": [
    "def say_hi():\n",
    "    print (\"Hi, Hello.....\")"
   ]
  },
  {
   "cell_type": "code",
   "execution_count": 3,
   "id": "835ca717",
   "metadata": {},
   "outputs": [
    {
     "name": "stdout",
     "output_type": "stream",
     "text": [
      "This is Before\n",
      "Hi, Hello.....\n",
      "This is After\n"
     ]
    }
   ],
   "source": [
    "print(\"This is Before\")\n",
    "say_hi()\n",
    "print (\"This is After\")"
   ]
  },
  {
   "cell_type": "code",
   "execution_count": 5,
   "id": "3dcd5bcb",
   "metadata": {},
   "outputs": [
    {
     "name": "stdout",
     "output_type": "stream",
     "text": [
      "This is Before\n",
      "Hi, Hello.....\n",
      "This is After\n",
      "This is Before\n",
      "Hi, Hello.....\n",
      "This is After\n",
      "This is Before\n",
      "Hi, Hello.....\n",
      "This is After\n",
      "This is Before\n",
      "Hi, Hello.....\n",
      "This is After\n"
     ]
    }
   ],
   "source": [
    "\n",
    "\n",
    "print(\"This is Before\")\n",
    "say_hi()\n",
    "print (\"This is After\")\n",
    "\n",
    "\n",
    "print(\"This is Before\")\n",
    "say_hi()\n",
    "print (\"This is After\")\n",
    "\n",
    "\n",
    "\n",
    "print(\"This is Before\")\n",
    "say_hi()\n",
    "print (\"This is After\")\n",
    "\n",
    "\n",
    "print(\"This is Before\")\n",
    "say_hi()\n",
    "print (\"This is After\")\n",
    "\n",
    "\n",
    "\n"
   ]
  },
  {
   "cell_type": "code",
   "execution_count": 12,
   "id": "7c52a1ba",
   "metadata": {},
   "outputs": [],
   "source": [
    "def my_decorator(func):\n",
    "    def wrapper(*args):\n",
    "        print(\"This is Before\")\n",
    "        func()\n",
    "        print (\"This is After me\")\n",
    "    return wrapper"
   ]
  },
  {
   "cell_type": "code",
   "execution_count": 13,
   "id": "43ffff67",
   "metadata": {},
   "outputs": [],
   "source": [
    "@my_decorator\n",
    "def say_bye():\n",
    "    print (\"Good bye !\")"
   ]
  },
  {
   "cell_type": "code",
   "execution_count": 14,
   "id": "96262abc",
   "metadata": {},
   "outputs": [
    {
     "name": "stdout",
     "output_type": "stream",
     "text": [
      "This is Before\n",
      "Good bye !\n",
      "This is After me\n",
      "This is Before\n",
      "Good bye !\n",
      "This is After me\n",
      "This is Before\n",
      "Good bye !\n",
      "This is After me\n",
      "This is Before\n",
      "Good bye !\n",
      "This is After me\n"
     ]
    }
   ],
   "source": [
    "\n",
    "\n",
    "say_bye()\n",
    "\n",
    "\n",
    "say_bye()\n",
    "\n",
    "\n",
    "\n",
    "say_bye()\n",
    "\n",
    "\n",
    "say_bye()\n",
    "\n",
    "\n",
    "\n"
   ]
  },
  {
   "cell_type": "code",
   "execution_count": 15,
   "id": "8a7dbe3f",
   "metadata": {},
   "outputs": [],
   "source": [
    "def my_decorator(func):\n",
    "    def wrapper(*args):\n",
    "        print(\"This is Before\")\n",
    "        func()\n",
    "        print (\"This is After me\")\n",
    "    return wrapper"
   ]
  },
  {
   "cell_type": "code",
   "execution_count": 16,
   "id": "5c8cb15c",
   "metadata": {},
   "outputs": [],
   "source": [
    "def say_welcome():\n",
    "    print (\"Hey, Welcome bro.....\")"
   ]
  },
  {
   "cell_type": "code",
   "execution_count": 17,
   "id": "06cdc4cf",
   "metadata": {},
   "outputs": [],
   "source": [
    "say_welcome_again = my_decorator(say_welcome)"
   ]
  },
  {
   "cell_type": "code",
   "execution_count": 18,
   "id": "1bcc1bbe",
   "metadata": {},
   "outputs": [
    {
     "data": {
      "text/plain": [
       "<function __main__.my_decorator.<locals>.wrapper(*args)>"
      ]
     },
     "execution_count": 18,
     "metadata": {},
     "output_type": "execute_result"
    }
   ],
   "source": [
    "say_welcome_again"
   ]
  },
  {
   "cell_type": "code",
   "execution_count": 19,
   "id": "c28d9722",
   "metadata": {},
   "outputs": [
    {
     "name": "stdout",
     "output_type": "stream",
     "text": [
      "This is Before\n",
      "Hey, Welcome bro.....\n",
      "This is After me\n"
     ]
    }
   ],
   "source": [
    "say_welcome_again()"
   ]
  }
 ],
 "metadata": {
  "kernelspec": {
   "display_name": "base",
   "language": "python",
   "name": "python3"
  },
  "language_info": {
   "codemirror_mode": {
    "name": "ipython",
    "version": 3
   },
   "file_extension": ".py",
   "mimetype": "text/x-python",
   "name": "python",
   "nbconvert_exporter": "python",
   "pygments_lexer": "ipython3",
   "version": "3.12.3"
  }
 },
 "nbformat": 4,
 "nbformat_minor": 5
}
