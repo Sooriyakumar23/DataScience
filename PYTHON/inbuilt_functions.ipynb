{
 "cells": [
  {
   "cell_type": "code",
   "execution_count": 7,
   "id": "b147c33d",
   "metadata": {},
   "outputs": [
    {
     "data": {
      "text/plain": [
       "'hi, Nisha. How are you ? I am Sooriya'"
      ]
     },
     "execution_count": 7,
     "metadata": {},
     "output_type": "execute_result"
    }
   ],
   "source": [
    "\"hi, Nisha. How are you ? I am Sooriya\""
   ]
  },
  {
   "cell_type": "code",
   "execution_count": 9,
   "id": "3e69152d",
   "metadata": {},
   "outputs": [
    {
     "data": {
      "text/plain": [
       "'hi, Nisha. How are you ? I am Sooriya'"
      ]
     },
     "execution_count": 9,
     "metadata": {},
     "output_type": "execute_result"
    }
   ],
   "source": [
    "name1 = \"Nisha\"\n",
    "name2 = \"Sooriya\"\n",
    "\n",
    "\"hi, \" + name1 + \". How are you ? I am \" + name2"
   ]
  },
  {
   "cell_type": "code",
   "execution_count": 10,
   "id": "96d2f9d2",
   "metadata": {},
   "outputs": [
    {
     "data": {
      "text/plain": [
       "'hi, Nisha. How are you ? I am Sooriya'"
      ]
     },
     "execution_count": 10,
     "metadata": {},
     "output_type": "execute_result"
    }
   ],
   "source": [
    "f\"hi, {name1}. How are you ? I am {name2}\""
   ]
  },
  {
   "cell_type": "markdown",
   "id": "6d6b156f",
   "metadata": {},
   "source": [
    "Lambda"
   ]
  },
  {
   "cell_type": "code",
   "execution_count": 12,
   "id": "96150582",
   "metadata": {},
   "outputs": [
    {
     "data": {
      "text/plain": [
       "'Hi, Sooriya'"
      ]
     },
     "execution_count": 12,
     "metadata": {},
     "output_type": "execute_result"
    }
   ],
   "source": [
    "def print_me(name):\n",
    "    return f\"Hi, {name}\"\n",
    "\n",
    "print_me(\"Sooriya\")"
   ]
  },
  {
   "cell_type": "code",
   "execution_count": 15,
   "id": "41acd89a",
   "metadata": {},
   "outputs": [
    {
     "data": {
      "text/plain": [
       "'Hi, Nisha'"
      ]
     },
     "execution_count": 15,
     "metadata": {},
     "output_type": "execute_result"
    }
   ],
   "source": [
    "print_me_lambda = lambda name : f\"Hi, {name}\"\n",
    "\n",
    "print_me_lambda(\"Nisha\")"
   ]
  },
  {
   "cell_type": "code",
   "execution_count": 16,
   "id": "35fa4b55",
   "metadata": {},
   "outputs": [
    {
     "data": {
      "text/plain": [
       "16"
      ]
     },
     "execution_count": 16,
     "metadata": {},
     "output_type": "execute_result"
    }
   ],
   "source": [
    "square_lambda = lambda x : x*x\n",
    "\n",
    "square_lambda(4)"
   ]
  },
  {
   "cell_type": "code",
   "execution_count": 17,
   "id": "bac07ec0",
   "metadata": {},
   "outputs": [
    {
     "data": {
      "text/plain": [
       "6"
      ]
     },
     "execution_count": 17,
     "metadata": {},
     "output_type": "execute_result"
    }
   ],
   "source": [
    "add_all_lamba = lambda x, y, z : x + y + z\n",
    "\n",
    "add_all_lamba(1, 2, 3)"
   ]
  },
  {
   "cell_type": "markdown",
   "id": "818396fd",
   "metadata": {},
   "source": [
    "Sort"
   ]
  },
  {
   "cell_type": "code",
   "execution_count": 18,
   "id": "c8f1adbf",
   "metadata": {},
   "outputs": [],
   "source": [
    "a = [0, 5, -1, -2, 4, 19, 2]"
   ]
  },
  {
   "cell_type": "code",
   "execution_count": 19,
   "id": "49bb2393",
   "metadata": {},
   "outputs": [],
   "source": [
    "a.sort()"
   ]
  },
  {
   "cell_type": "code",
   "execution_count": 20,
   "id": "dd1b953d",
   "metadata": {},
   "outputs": [
    {
     "data": {
      "text/plain": [
       "[-2, -1, 0, 2, 4, 5, 19]"
      ]
     },
     "execution_count": 20,
     "metadata": {},
     "output_type": "execute_result"
    }
   ],
   "source": [
    "a"
   ]
  },
  {
   "cell_type": "code",
   "execution_count": 21,
   "id": "b97e2c6e",
   "metadata": {},
   "outputs": [],
   "source": [
    "b= [0, 5, -1, -2, 4, 19, 2]"
   ]
  },
  {
   "cell_type": "code",
   "execution_count": 22,
   "id": "45446f23",
   "metadata": {},
   "outputs": [],
   "source": [
    "b.sort(reverse=True)"
   ]
  },
  {
   "cell_type": "code",
   "execution_count": 23,
   "id": "fd795de8",
   "metadata": {},
   "outputs": [
    {
     "data": {
      "text/plain": [
       "[19, 5, 4, 2, 0, -1, -2]"
      ]
     },
     "execution_count": 23,
     "metadata": {},
     "output_type": "execute_result"
    }
   ],
   "source": [
    "b"
   ]
  },
  {
   "cell_type": "markdown",
   "id": "70220f3d",
   "metadata": {},
   "source": [
    "Sorted"
   ]
  },
  {
   "cell_type": "code",
   "execution_count": 24,
   "id": "9de97719",
   "metadata": {},
   "outputs": [],
   "source": [
    "c = [0, 5, -1, -2, 4, 19, 2]"
   ]
  },
  {
   "cell_type": "code",
   "execution_count": 25,
   "id": "bf3cc05e",
   "metadata": {},
   "outputs": [],
   "source": [
    "sorted_c = sorted(c)"
   ]
  },
  {
   "cell_type": "code",
   "execution_count": 26,
   "id": "c498fc65",
   "metadata": {},
   "outputs": [
    {
     "data": {
      "text/plain": [
       "[0, 5, -1, -2, 4, 19, 2]"
      ]
     },
     "execution_count": 26,
     "metadata": {},
     "output_type": "execute_result"
    }
   ],
   "source": [
    "c"
   ]
  },
  {
   "cell_type": "code",
   "execution_count": 27,
   "id": "e99c8f3e",
   "metadata": {},
   "outputs": [
    {
     "data": {
      "text/plain": [
       "[-2, -1, 0, 2, 4, 5, 19]"
      ]
     },
     "execution_count": 27,
     "metadata": {},
     "output_type": "execute_result"
    }
   ],
   "source": [
    "sorted_c"
   ]
  },
  {
   "cell_type": "markdown",
   "id": "c69eb517",
   "metadata": {},
   "source": [
    "Sort using key"
   ]
  },
  {
   "cell_type": "code",
   "execution_count": 29,
   "id": "c5c917ff",
   "metadata": {},
   "outputs": [
    {
     "data": {
      "text/plain": [
       "['kiwi', 'apple', 'banana']"
      ]
     },
     "execution_count": 29,
     "metadata": {},
     "output_type": "execute_result"
    }
   ],
   "source": [
    "words = [\"apple\", \"kiwi\", \"banana\"]\n",
    "\n",
    "words_sorted_1 = sorted(words, key=len)\n",
    "\n",
    "words_sorted_1"
   ]
  },
  {
   "cell_type": "code",
   "execution_count": 30,
   "id": "642db112",
   "metadata": {},
   "outputs": [
    {
     "data": {
      "text/plain": [
       "['banana', 'apple', 'kiwi']"
      ]
     },
     "execution_count": 30,
     "metadata": {},
     "output_type": "execute_result"
    }
   ],
   "source": [
    "# banana -> apple -> kiwi\n",
    "\n",
    "def get_last_char(x):\n",
    "    return x[-1]\n",
    "\n",
    "words_sorted_2 = sorted(words, key=get_last_char)\n",
    "\n",
    "words_sorted_2"
   ]
  },
  {
   "cell_type": "code",
   "execution_count": 31,
   "id": "c99d94b5",
   "metadata": {},
   "outputs": [
    {
     "data": {
      "text/plain": [
       "'e'"
      ]
     },
     "execution_count": 31,
     "metadata": {},
     "output_type": "execute_result"
    }
   ],
   "source": [
    "\"apple\"[-1]"
   ]
  },
  {
   "cell_type": "code",
   "execution_count": 34,
   "id": "7cdb7c91",
   "metadata": {},
   "outputs": [
    {
     "data": {
      "text/plain": [
       "'l'"
      ]
     },
     "execution_count": 34,
     "metadata": {},
     "output_type": "execute_result"
    }
   ],
   "source": [
    "\"apple\"[-2]"
   ]
  },
  {
   "cell_type": "code",
   "execution_count": 32,
   "id": "f12ecbe8",
   "metadata": {},
   "outputs": [
    {
     "data": {
      "text/plain": [
       "'a'"
      ]
     },
     "execution_count": 32,
     "metadata": {},
     "output_type": "execute_result"
    }
   ],
   "source": [
    "\"apple\"[0]"
   ]
  },
  {
   "cell_type": "code",
   "execution_count": 33,
   "id": "3a6167a6",
   "metadata": {},
   "outputs": [
    {
     "data": {
      "text/plain": [
       "'p'"
      ]
     },
     "execution_count": 33,
     "metadata": {},
     "output_type": "execute_result"
    }
   ],
   "source": [
    "\"apple\"[1]"
   ]
  },
  {
   "cell_type": "code",
   "execution_count": 35,
   "id": "85bdf64e",
   "metadata": {},
   "outputs": [
    {
     "data": {
      "text/plain": [
       "['banana', 'apple', 'kiwi']"
      ]
     },
     "execution_count": 35,
     "metadata": {},
     "output_type": "execute_result"
    }
   ],
   "source": [
    "words_sorted_3 = sorted(words, key=lambda x : x[-1])\n",
    "\n",
    "words_sorted_3"
   ]
  },
  {
   "cell_type": "code",
   "execution_count": 36,
   "id": "3f0080cb",
   "metadata": {},
   "outputs": [],
   "source": [
    "a_dict = {\n",
    "    1 : \"hello\",\n",
    "    100 : \"bye\",\n",
    "    2 : \"How are you!\"\n",
    "}"
   ]
  },
  {
   "cell_type": "code",
   "execution_count": null,
   "id": "ed945f9b",
   "metadata": {},
   "outputs": [
    {
     "data": {
      "text/plain": [
       "[1, 2, 100]"
      ]
     },
     "execution_count": 37,
     "metadata": {},
     "output_type": "execute_result"
    }
   ],
   "source": [
    "sorted(a_dict) # Ascending order of keys"
   ]
  },
  {
   "cell_type": "code",
   "execution_count": null,
   "id": "8be9cd93",
   "metadata": {},
   "outputs": [
    {
     "data": {
      "text/plain": [
       "dict_items([(1, 'hello'), (100, 'bye'), (2, 'How are you!')])"
      ]
     },
     "execution_count": 38,
     "metadata": {},
     "output_type": "execute_result"
    }
   ],
   "source": [
    "a_dict.items() # Not Ascended but giving both key and value"
   ]
  },
  {
   "cell_type": "code",
   "execution_count": 40,
   "id": "18490dc1",
   "metadata": {},
   "outputs": [
    {
     "data": {
      "text/plain": [
       "[(1, 'hello'), (2, 'How are you!'), (100, 'bye')]"
      ]
     },
     "execution_count": 40,
     "metadata": {},
     "output_type": "execute_result"
    }
   ],
   "source": [
    "sorted(a_dict.items()) # Ascending and both key and value are present"
   ]
  },
  {
   "cell_type": "markdown",
   "id": "e26e0495",
   "metadata": {},
   "source": [
    "map"
   ]
  },
  {
   "cell_type": "code",
   "execution_count": 41,
   "id": "d2bdbfa3",
   "metadata": {},
   "outputs": [],
   "source": [
    "# [1, 2, 3, 4, 5] -> [1, 4, 9, 16, 25]\n",
    "\n",
    "# map(function, iterable)"
   ]
  },
  {
   "cell_type": "code",
   "execution_count": 42,
   "id": "f4c4824c",
   "metadata": {},
   "outputs": [],
   "source": [
    "square = lambda x : x*x"
   ]
  },
  {
   "cell_type": "code",
   "execution_count": 43,
   "id": "7ce3a585",
   "metadata": {},
   "outputs": [],
   "source": [
    "list1 = [1, 2, 3, 4, 5]"
   ]
  },
  {
   "cell_type": "code",
   "execution_count": 47,
   "id": "a3c20e49",
   "metadata": {},
   "outputs": [
    {
     "data": {
      "text/plain": [
       "[1, 4, 9, 16, 25]"
      ]
     },
     "execution_count": 47,
     "metadata": {},
     "output_type": "execute_result"
    }
   ],
   "source": [
    "result = list(map(square, list1))\n",
    "\n",
    "result"
   ]
  },
  {
   "cell_type": "code",
   "execution_count": null,
   "id": "fc09db54",
   "metadata": {},
   "outputs": [
    {
     "data": {
      "text/plain": [
       "[3, 7, 11, 15]"
      ]
     },
     "execution_count": 49,
     "metadata": {},
     "output_type": "execute_result"
    }
   ],
   "source": [
    "a = [(1,2),(3,4),(5,6),(7,8)] # List of Tuples -> [3, 7, 11, 15]\n",
    "\n",
    "add_two_numbers = lambda item : item[0] + item[1]\n",
    "\n",
    "list(map(add_two_numbers, a))"
   ]
  },
  {
   "cell_type": "markdown",
   "id": "fcdedfcb",
   "metadata": {},
   "source": [
    "zip"
   ]
  },
  {
   "cell_type": "code",
   "execution_count": 51,
   "id": "40105a1e",
   "metadata": {},
   "outputs": [
    {
     "data": {
      "text/plain": [
       "[('Nisha', 90), ('Sooriya', 50), ('Vel', 80)]"
      ]
     },
     "execution_count": 51,
     "metadata": {},
     "output_type": "execute_result"
    }
   ],
   "source": [
    "names = [\"Nisha\", \"Sooriya\", \"Vel\"]\n",
    "scores = [90, 50, 80]\n",
    "\n",
    "list(zip(names, scores))"
   ]
  },
  {
   "cell_type": "code",
   "execution_count": 52,
   "id": "cf7ebfea",
   "metadata": {},
   "outputs": [
    {
     "data": {
      "text/plain": [
       "{'Nisha': 90, 'Sooriya': 50, 'Vel': 80}"
      ]
     },
     "execution_count": 52,
     "metadata": {},
     "output_type": "execute_result"
    }
   ],
   "source": [
    "dict(zip(names, scores))"
   ]
  },
  {
   "cell_type": "markdown",
   "id": "0163b842",
   "metadata": {},
   "source": [
    "Unpacking"
   ]
  },
  {
   "cell_type": "code",
   "execution_count": 53,
   "id": "91c0db05",
   "metadata": {},
   "outputs": [],
   "source": [
    "nums = [1, 2, 3]"
   ]
  },
  {
   "cell_type": "code",
   "execution_count": 54,
   "id": "cea604bc",
   "metadata": {},
   "outputs": [
    {
     "name": "stdout",
     "output_type": "stream",
     "text": [
      "1 2 3\n"
     ]
    }
   ],
   "source": [
    "print (*nums)"
   ]
  },
  {
   "cell_type": "code",
   "execution_count": 58,
   "id": "dd62c0dc",
   "metadata": {},
   "outputs": [],
   "source": [
    "def add(a,b,c):\n",
    "    print(a+b+c)"
   ]
  },
  {
   "cell_type": "code",
   "execution_count": 60,
   "id": "51640d16",
   "metadata": {},
   "outputs": [
    {
     "name": "stdout",
     "output_type": "stream",
     "text": [
      "6\n"
     ]
    }
   ],
   "source": [
    "add(*nums)"
   ]
  },
  {
   "cell_type": "code",
   "execution_count": 61,
   "id": "a01139bf",
   "metadata": {},
   "outputs": [],
   "source": [
    "nums = [(1,\"monal\"),(2,\"hello\"),(3, 100)]"
   ]
  },
  {
   "cell_type": "code",
   "execution_count": 63,
   "id": "71ac2f00",
   "metadata": {},
   "outputs": [
    {
     "name": "stdout",
     "output_type": "stream",
     "text": [
      "(1, 'monal') (2, 'hello') (3, 100)\n"
     ]
    }
   ],
   "source": [
    "print (*nums)"
   ]
  },
  {
   "cell_type": "code",
   "execution_count": 64,
   "id": "492fa28a",
   "metadata": {},
   "outputs": [
    {
     "name": "stdout",
     "output_type": "stream",
     "text": [
      "(1, 2, 3)\n",
      "('monal', 'hello', 100)\n"
     ]
    }
   ],
   "source": [
    "# (1, 2, 3) | (\"monal\", \"hello\", 100)\n",
    "\n",
    "numbers, names = zip(*nums)\n",
    "\n",
    "print (numbers)\n",
    "print (names)"
   ]
  }
 ],
 "metadata": {
  "kernelspec": {
   "display_name": "base",
   "language": "python",
   "name": "python3"
  },
  "language_info": {
   "codemirror_mode": {
    "name": "ipython",
    "version": 3
   },
   "file_extension": ".py",
   "mimetype": "text/x-python",
   "name": "python",
   "nbconvert_exporter": "python",
   "pygments_lexer": "ipython3",
   "version": "3.12.3"
  }
 },
 "nbformat": 4,
 "nbformat_minor": 5
}
