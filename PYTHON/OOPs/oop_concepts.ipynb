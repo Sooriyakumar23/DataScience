{
 "cells": [
  {
   "cell_type": "markdown",
   "id": "eb918753",
   "metadata": {},
   "source": [
    "1. Inheritance\n",
    "2. Polymorphism\n",
    "3. Encapsulation\n",
    "4. Abstraction"
   ]
  },
  {
   "cell_type": "markdown",
   "id": "671e206b",
   "metadata": {},
   "source": []
  }
 ],
 "metadata": {
  "language_info": {
   "name": "python"
  }
 },
 "nbformat": 4,
 "nbformat_minor": 5
}
