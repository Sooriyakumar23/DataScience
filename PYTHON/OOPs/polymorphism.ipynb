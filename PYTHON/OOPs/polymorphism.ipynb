{
 "cells": [
  {
   "cell_type": "code",
   "execution_count": 1,
   "id": "7f208669",
   "metadata": {},
   "outputs": [],
   "source": [
    "class TV:\n",
    "    def turn_on(self):\n",
    "        print (\"TV is going to ON\")"
   ]
  },
  {
   "cell_type": "code",
   "execution_count": 2,
   "id": "74e758db",
   "metadata": {},
   "outputs": [],
   "source": [
    "class Car:\n",
    "    def turn_on(self):\n",
    "        print (\"Car is started\")"
   ]
  },
  {
   "cell_type": "code",
   "execution_count": 3,
   "id": "28e201b0",
   "metadata": {},
   "outputs": [],
   "source": [
    "tv = TV()\n",
    "car = Car()"
   ]
  },
  {
   "cell_type": "code",
   "execution_count": 4,
   "id": "8b9fa7fc",
   "metadata": {},
   "outputs": [
    {
     "name": "stdout",
     "output_type": "stream",
     "text": [
      "TV is going to ON\n"
     ]
    }
   ],
   "source": [
    "tv.turn_on()"
   ]
  },
  {
   "cell_type": "code",
   "execution_count": 5,
   "id": "b3f56d85",
   "metadata": {},
   "outputs": [
    {
     "name": "stdout",
     "output_type": "stream",
     "text": [
      "Car is started\n"
     ]
    }
   ],
   "source": [
    "car.turn_on()"
   ]
  },
  {
   "cell_type": "code",
   "execution_count": null,
   "id": "98d6f1e5",
   "metadata": {},
   "outputs": [],
   "source": [
    "class AC(TV):\n",
    "    def turn_on(self): # override\n",
    "        print (\"AC is on now\")"
   ]
  },
  {
   "cell_type": "code",
   "execution_count": 7,
   "id": "d61e87d7",
   "metadata": {},
   "outputs": [],
   "source": [
    "ac = AC()"
   ]
  },
  {
   "cell_type": "code",
   "execution_count": 8,
   "id": "6e1a1243",
   "metadata": {},
   "outputs": [
    {
     "name": "stdout",
     "output_type": "stream",
     "text": [
      "AC is on now\n"
     ]
    }
   ],
   "source": [
    "ac.turn_on()"
   ]
  }
 ],
 "metadata": {
  "kernelspec": {
   "display_name": "base",
   "language": "python",
   "name": "python3"
  },
  "language_info": {
   "codemirror_mode": {
    "name": "ipython",
    "version": 3
   },
   "file_extension": ".py",
   "mimetype": "text/x-python",
   "name": "python",
   "nbconvert_exporter": "python",
   "pygments_lexer": "ipython3",
   "version": "3.12.3"
  }
 },
 "nbformat": 4,
 "nbformat_minor": 5
}
