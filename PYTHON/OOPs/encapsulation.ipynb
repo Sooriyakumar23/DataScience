{
 "cells": [
  {
   "cell_type": "code",
   "execution_count": 30,
   "id": "e48f0797",
   "metadata": {},
   "outputs": [],
   "source": [
    "class Facebook:\n",
    "    def __init__(self, user_name, password):\n",
    "        self.user_name = user_name\n",
    "        self.__password = password # private\n",
    "\n",
    "    def give_that_pwd(self):\n",
    "        return self.__password\n",
    "\n",
    "    def __secret_give_that_pwd(self): # private\n",
    "        return \"Private variable\""
   ]
  },
  {
   "cell_type": "code",
   "execution_count": 31,
   "id": "6c15bcbd",
   "metadata": {},
   "outputs": [],
   "source": [
    "facebook1 = Facebook(\"Alice\", \"12345\")"
   ]
  },
  {
   "cell_type": "code",
   "execution_count": 32,
   "id": "f73083ed",
   "metadata": {},
   "outputs": [
    {
     "data": {
      "text/plain": [
       "'Alice'"
      ]
     },
     "execution_count": 32,
     "metadata": {},
     "output_type": "execute_result"
    }
   ],
   "source": [
    "facebook1.user_name"
   ]
  },
  {
   "cell_type": "code",
   "execution_count": 33,
   "id": "e859baa3",
   "metadata": {},
   "outputs": [
    {
     "ename": "AttributeError",
     "evalue": "'Facebook' object has no attribute 'password'",
     "output_type": "error",
     "traceback": [
      "\u001b[31m---------------------------------------------------------------------------\u001b[39m",
      "\u001b[31mAttributeError\u001b[39m                            Traceback (most recent call last)",
      "\u001b[36mCell\u001b[39m\u001b[36m \u001b[39m\u001b[32mIn[33]\u001b[39m\u001b[32m, line 1\u001b[39m\n\u001b[32m----> \u001b[39m\u001b[32m1\u001b[39m \u001b[43mfacebook1\u001b[49m\u001b[43m.\u001b[49m\u001b[43mpassword\u001b[49m\n",
      "\u001b[31mAttributeError\u001b[39m: 'Facebook' object has no attribute 'password'"
     ]
    }
   ],
   "source": [
    "facebook1.password"
   ]
  },
  {
   "cell_type": "code",
   "execution_count": 34,
   "id": "64a896bf",
   "metadata": {},
   "outputs": [
    {
     "ename": "AttributeError",
     "evalue": "'Facebook' object has no attribute '__password'",
     "output_type": "error",
     "traceback": [
      "\u001b[31m---------------------------------------------------------------------------\u001b[39m",
      "\u001b[31mAttributeError\u001b[39m                            Traceback (most recent call last)",
      "\u001b[36mCell\u001b[39m\u001b[36m \u001b[39m\u001b[32mIn[34]\u001b[39m\u001b[32m, line 1\u001b[39m\n\u001b[32m----> \u001b[39m\u001b[32m1\u001b[39m \u001b[43mfacebook1\u001b[49m\u001b[43m.\u001b[49m\u001b[43m__password\u001b[49m\n",
      "\u001b[31mAttributeError\u001b[39m: 'Facebook' object has no attribute '__password'"
     ]
    }
   ],
   "source": [
    "facebook1.__password"
   ]
  },
  {
   "cell_type": "code",
   "execution_count": 35,
   "id": "ea2dc6f7",
   "metadata": {},
   "outputs": [
    {
     "data": {
      "text/plain": [
       "'12345'"
      ]
     },
     "execution_count": 35,
     "metadata": {},
     "output_type": "execute_result"
    }
   ],
   "source": [
    "facebook1.give_that_pwd()"
   ]
  },
  {
   "cell_type": "code",
   "execution_count": 36,
   "id": "3f009a3f",
   "metadata": {},
   "outputs": [
    {
     "ename": "AttributeError",
     "evalue": "'Facebook' object has no attribute '__secret_give_that_pwd'",
     "output_type": "error",
     "traceback": [
      "\u001b[31m---------------------------------------------------------------------------\u001b[39m",
      "\u001b[31mAttributeError\u001b[39m                            Traceback (most recent call last)",
      "\u001b[36mCell\u001b[39m\u001b[36m \u001b[39m\u001b[32mIn[36]\u001b[39m\u001b[32m, line 1\u001b[39m\n\u001b[32m----> \u001b[39m\u001b[32m1\u001b[39m \u001b[43mfacebook1\u001b[49m\u001b[43m.\u001b[49m\u001b[43m__secret_give_that_pwd\u001b[49m()\n",
      "\u001b[31mAttributeError\u001b[39m: 'Facebook' object has no attribute '__secret_give_that_pwd'"
     ]
    }
   ],
   "source": [
    "facebook1.__secret_give_that_pwd()"
   ]
  },
  {
   "cell_type": "code",
   "execution_count": 37,
   "id": "8cc149b1",
   "metadata": {},
   "outputs": [
    {
     "ename": "AttributeError",
     "evalue": "'Facebook' object has no attribute 'secret_give_that_pwd'",
     "output_type": "error",
     "traceback": [
      "\u001b[31m---------------------------------------------------------------------------\u001b[39m",
      "\u001b[31mAttributeError\u001b[39m                            Traceback (most recent call last)",
      "\u001b[36mCell\u001b[39m\u001b[36m \u001b[39m\u001b[32mIn[37]\u001b[39m\u001b[32m, line 1\u001b[39m\n\u001b[32m----> \u001b[39m\u001b[32m1\u001b[39m \u001b[43mfacebook1\u001b[49m\u001b[43m.\u001b[49m\u001b[43msecret_give_that_pwd\u001b[49m()\n",
      "\u001b[31mAttributeError\u001b[39m: 'Facebook' object has no attribute 'secret_give_that_pwd'"
     ]
    }
   ],
   "source": [
    "facebook1.secret_give_that_pwd()"
   ]
  }
 ],
 "metadata": {
  "kernelspec": {
   "display_name": "base",
   "language": "python",
   "name": "python3"
  },
  "language_info": {
   "codemirror_mode": {
    "name": "ipython",
    "version": 3
   },
   "file_extension": ".py",
   "mimetype": "text/x-python",
   "name": "python",
   "nbconvert_exporter": "python",
   "pygments_lexer": "ipython3",
   "version": "3.12.3"
  }
 },
 "nbformat": 4,
 "nbformat_minor": 5
}
