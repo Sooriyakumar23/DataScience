{
 "cells": [
  {
   "cell_type": "code",
   "execution_count": null,
   "id": "fbd84e84",
   "metadata": {},
   "outputs": [],
   "source": [
    "class A:\n",
    "    def greet(self):\n",
    "        print (\"Hi, I am A\")\n",
    "\n",
    "class B(A):\n",
    "    def greet(self):\n",
    "        super().greet()\n",
    "        print (\"Hi, I am B\")"
   ]
  },
  {
   "cell_type": "code",
   "execution_count": 8,
   "id": "07617d31",
   "metadata": {},
   "outputs": [
    {
     "name": "stdout",
     "output_type": "stream",
     "text": [
      "Hi, I am A\n",
      "Hi, I am B\n"
     ]
    }
   ],
   "source": [
    "b = B()\n",
    "b.greet()"
   ]
  },
  {
   "cell_type": "markdown",
   "id": "e6d656c1",
   "metadata": {},
   "source": [
    "# Inheritance : What if multiple parents have same method name, how to invoke the selected"
   ]
  },
  {
   "cell_type": "code",
   "execution_count": null,
   "id": "ef1fad53",
   "metadata": {},
   "outputs": [],
   "source": [
    "class Z:\n",
    "    def greet(self):\n",
    "        print (\"Hi, I am Z\")\n",
    "\n",
    "class A:\n",
    "    def greet(self):\n",
    "        print (\"Hi, I am A\")\n",
    "\n",
    "class B(Z, A):\n",
    "    def greet(self):\n",
    "        super().greet() # Z -> A\n",
    "        print (\"Hi, I am B\")"
   ]
  },
  {
   "cell_type": "code",
   "execution_count": 11,
   "id": "7a81558d",
   "metadata": {},
   "outputs": [
    {
     "name": "stdout",
     "output_type": "stream",
     "text": [
      "Hi, I am Z\n",
      "Hi, I am B\n"
     ]
    }
   ],
   "source": [
    "b = B()\n",
    "b.greet()"
   ]
  },
  {
   "cell_type": "code",
   "execution_count": 12,
   "id": "e6d9dc4a",
   "metadata": {},
   "outputs": [
    {
     "name": "stdout",
     "output_type": "stream",
     "text": [
      "[<class '__main__.B'>, <class '__main__.Z'>, <class '__main__.A'>, <class 'object'>]\n"
     ]
    }
   ],
   "source": [
    "print (B.mro()) # mro -> method resolution order"
   ]
  },
  {
   "cell_type": "code",
   "execution_count": 13,
   "id": "f25ada77",
   "metadata": {},
   "outputs": [],
   "source": [
    "class Z:\n",
    "    def greet(self):\n",
    "        print (\"Hi, I am Z\")\n",
    "\n",
    "class A:\n",
    "    def greet(self):\n",
    "        print (\"Hi, I am A\")\n",
    "\n",
    "class B(A, Z):\n",
    "    def greet(self):\n",
    "        super().greet()\n",
    "        print (\"Hi, I am B\")"
   ]
  },
  {
   "cell_type": "code",
   "execution_count": 14,
   "id": "877b1f09",
   "metadata": {},
   "outputs": [
    {
     "name": "stdout",
     "output_type": "stream",
     "text": [
      "Hi, I am A\n",
      "Hi, I am B\n"
     ]
    }
   ],
   "source": [
    "b = B()\n",
    "b.greet()"
   ]
  },
  {
   "cell_type": "code",
   "execution_count": 15,
   "id": "547cdde1",
   "metadata": {},
   "outputs": [
    {
     "name": "stdout",
     "output_type": "stream",
     "text": [
      "[<class '__main__.B'>, <class '__main__.A'>, <class '__main__.Z'>, <class 'object'>]\n"
     ]
    }
   ],
   "source": [
    "print (B.mro())"
   ]
  },
  {
   "cell_type": "markdown",
   "id": "d0a5b5d7",
   "metadata": {},
   "source": [
    "Before: \n",
    "* A, B ---> C\n",
    "\n",
    "Now:\n",
    "* A ---> B\n",
    "* A ---> C\n",
    "* B, C ---> D\n",
    "* \n",
    "\n",
    "        A\n",
    "    B       C\n",
    "        D"
   ]
  },
  {
   "cell_type": "code",
   "execution_count": 17,
   "id": "841bd208",
   "metadata": {},
   "outputs": [],
   "source": [
    "class A:\n",
    "    def greet(self):\n",
    "        print (\"I am A\")\n",
    "\n",
    "class B(A):\n",
    "    def greet(self):\n",
    "        print (\"I am B\")\n",
    "\n",
    "class C(A):\n",
    "    def greet(self):\n",
    "        print (\"I am C\")\n",
    "\n",
    "class D(B, C):\n",
    "    def greet(self):\n",
    "        super().greet()\n",
    "        print(\"I am D\")"
   ]
  },
  {
   "cell_type": "code",
   "execution_count": 21,
   "id": "43582fda",
   "metadata": {},
   "outputs": [
    {
     "name": "stdout",
     "output_type": "stream",
     "text": [
      "[<class '__main__.D'>, <class '__main__.B'>, <class '__main__.C'>, <class '__main__.A'>, <class 'object'>]\n"
     ]
    }
   ],
   "source": [
    "print(D.mro())"
   ]
  },
  {
   "cell_type": "code",
   "execution_count": 22,
   "id": "de806787",
   "metadata": {},
   "outputs": [],
   "source": [
    "d = D()"
   ]
  },
  {
   "cell_type": "code",
   "execution_count": 23,
   "id": "2e7d2575",
   "metadata": {},
   "outputs": [
    {
     "name": "stdout",
     "output_type": "stream",
     "text": [
      "I am B\n",
      "I am D\n"
     ]
    }
   ],
   "source": [
    "d.greet()"
   ]
  },
  {
   "cell_type": "code",
   "execution_count": 28,
   "id": "42e51b73",
   "metadata": {},
   "outputs": [],
   "source": [
    "class A:\n",
    "    def greet(self): # 5\n",
    "        print (\"I am A\") # 6\n",
    "\n",
    "class B(A):\n",
    "    def greet(self): # 3\n",
    "        super().greet() # 4\n",
    "        print (\"I am B\") # 7\n",
    "\n",
    "class C(A):\n",
    "    def greet(self):\n",
    "        super().greet()\n",
    "        print (\"I am C\")\n",
    "\n",
    "class D(C, B):\n",
    "    def greet(self): # 1\n",
    "        super().greet() # 2\n",
    "        print(\"I am D\") # 8"
   ]
  },
  {
   "cell_type": "code",
   "execution_count": 29,
   "id": "5dd97666",
   "metadata": {},
   "outputs": [],
   "source": [
    "d = D()"
   ]
  },
  {
   "cell_type": "code",
   "execution_count": 30,
   "id": "a76c9910",
   "metadata": {},
   "outputs": [
    {
     "name": "stdout",
     "output_type": "stream",
     "text": [
      "[<class '__main__.D'>, <class '__main__.C'>, <class '__main__.B'>, <class '__main__.A'>, <class 'object'>]\n"
     ]
    }
   ],
   "source": [
    "print (D.mro())"
   ]
  },
  {
   "cell_type": "code",
   "execution_count": 31,
   "id": "8721d667",
   "metadata": {},
   "outputs": [
    {
     "name": "stdout",
     "output_type": "stream",
     "text": [
      "I am A\n",
      "I am B\n",
      "I am C\n",
      "I am D\n"
     ]
    }
   ],
   "source": [
    "d.greet()"
   ]
  }
 ],
 "metadata": {
  "kernelspec": {
   "display_name": "base",
   "language": "python",
   "name": "python3"
  },
  "language_info": {
   "codemirror_mode": {
    "name": "ipython",
    "version": 3
   },
   "file_extension": ".py",
   "mimetype": "text/x-python",
   "name": "python",
   "nbconvert_exporter": "python",
   "pygments_lexer": "ipython3",
   "version": "3.12.3"
  }
 },
 "nbformat": 4,
 "nbformat_minor": 5
}
