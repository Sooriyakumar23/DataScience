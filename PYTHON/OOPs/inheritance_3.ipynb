{
 "cells": [
  {
   "cell_type": "markdown",
   "id": "337ad32a",
   "metadata": {},
   "source": [
    "Super Keyword"
   ]
  },
  {
   "cell_type": "code",
   "execution_count": 1,
   "id": "9d9037bf",
   "metadata": {},
   "outputs": [],
   "source": [
    "class Vehicle:\n",
    "    def __init__(self, name, no_of_wheels):\n",
    "        self.name = name\n",
    "        self.no_of_wheels = no_of_wheels\n",
    "        print(\"My name is \" + name + \" and I have \" + no_of_wheels + \" wheels.\")"
   ]
  },
  {
   "cell_type": "code",
   "execution_count": 3,
   "id": "161ba807",
   "metadata": {},
   "outputs": [
    {
     "name": "stdout",
     "output_type": "stream",
     "text": [
      "My name is bike and I have 2 wheels.\n"
     ]
    }
   ],
   "source": [
    "vehicle = Vehicle(\"bike\", \"2\")"
   ]
  },
  {
   "cell_type": "code",
   "execution_count": 4,
   "id": "dba3fa28",
   "metadata": {},
   "outputs": [
    {
     "data": {
      "text/plain": [
       "'bike'"
      ]
     },
     "execution_count": 4,
     "metadata": {},
     "output_type": "execute_result"
    }
   ],
   "source": [
    "vehicle.name"
   ]
  },
  {
   "cell_type": "code",
   "execution_count": 5,
   "id": "9c8e5b7d",
   "metadata": {},
   "outputs": [
    {
     "data": {
      "text/plain": [
       "'2'"
      ]
     },
     "execution_count": 5,
     "metadata": {},
     "output_type": "execute_result"
    }
   ],
   "source": [
    "vehicle.no_of_wheels"
   ]
  },
  {
   "cell_type": "code",
   "execution_count": 6,
   "id": "4fc964d2",
   "metadata": {},
   "outputs": [],
   "source": [
    "class RoadVehicle(Vehicle):\n",
    "    def __init__(self, name, no_of_wheels, no_of_persons_can_travel):\n",
    "        super().__init__(name, no_of_wheels)\n",
    "        # self.name = name\n",
    "        # self.no_of_wheels = no_of_wheels\n",
    "        self.no_of_persons_can_travel = no_of_persons_can_travel\n",
    "\n",
    "    def tell_about_me(self):\n",
    "        print (\"My name = \" + self.name)\n",
    "        print (\"My no_of_wheels = \" + self.no_of_wheels)\n",
    "        print (\"My no_of_persons_can_travel = \" + self.no_of_persons_can_travel)\n"
   ]
  },
  {
   "cell_type": "code",
   "execution_count": 11,
   "id": "97164c72",
   "metadata": {},
   "outputs": [
    {
     "name": "stdout",
     "output_type": "stream",
     "text": [
      "My name is car and I have 4 wheels.\n"
     ]
    }
   ],
   "source": [
    "road_vehicle = RoadVehicle(\"car\", \"4\", \"4\")"
   ]
  },
  {
   "cell_type": "code",
   "execution_count": 12,
   "id": "25a691c3",
   "metadata": {},
   "outputs": [
    {
     "name": "stdout",
     "output_type": "stream",
     "text": [
      "My name = car\n",
      "My no_of_wheels = 4\n",
      "My no_of_persons_can_travel = 4\n"
     ]
    }
   ],
   "source": [
    "road_vehicle.tell_about_me()"
   ]
  }
 ],
 "metadata": {
  "kernelspec": {
   "display_name": "base",
   "language": "python",
   "name": "python3"
  },
  "language_info": {
   "codemirror_mode": {
    "name": "ipython",
    "version": 3
   },
   "file_extension": ".py",
   "mimetype": "text/x-python",
   "name": "python",
   "nbconvert_exporter": "python",
   "pygments_lexer": "ipython3",
   "version": "3.12.3"
  }
 },
 "nbformat": 4,
 "nbformat_minor": 5
}
