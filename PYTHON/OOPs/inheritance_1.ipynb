{
 "cells": [
  {
   "cell_type": "markdown",
   "id": "9aa98738",
   "metadata": {},
   "source": [
    "Once class gets attributes/variables or methods/functions from another class (Parent Class / Super Class)"
   ]
  },
  {
   "cell_type": "code",
   "execution_count": 11,
   "id": "15f3be29",
   "metadata": {},
   "outputs": [],
   "source": [
    "class Student:\n",
    "    def study(self):\n",
    "        print (\"I am studying\")"
   ]
  },
  {
   "cell_type": "code",
   "execution_count": 12,
   "id": "2cbdcb2d",
   "metadata": {},
   "outputs": [],
   "source": [
    "class Human:\n",
    "    def breath(self):\n",
    "        print (\"I am breathing.....\")\n",
    "    def walk(self):\n",
    "        print (\"I can walk\")"
   ]
  },
  {
   "cell_type": "code",
   "execution_count": 13,
   "id": "f0a7e396",
   "metadata": {},
   "outputs": [],
   "source": [
    "student = Student()"
   ]
  },
  {
   "cell_type": "code",
   "execution_count": 14,
   "id": "3cac9c7e",
   "metadata": {},
   "outputs": [
    {
     "name": "stdout",
     "output_type": "stream",
     "text": [
      "I am studying\n"
     ]
    }
   ],
   "source": [
    "student.study()"
   ]
  },
  {
   "cell_type": "code",
   "execution_count": 15,
   "id": "560451e5",
   "metadata": {},
   "outputs": [],
   "source": [
    "human = Human()"
   ]
  },
  {
   "cell_type": "code",
   "execution_count": 16,
   "id": "e5fdd04b",
   "metadata": {},
   "outputs": [
    {
     "name": "stdout",
     "output_type": "stream",
     "text": [
      "I am breathing.....\n",
      "I can walk\n"
     ]
    }
   ],
   "source": [
    "human.breath()\n",
    "human.walk()"
   ]
  },
  {
   "cell_type": "code",
   "execution_count": 17,
   "id": "95193d79",
   "metadata": {},
   "outputs": [
    {
     "ename": "AttributeError",
     "evalue": "'Student' object has no attribute 'breath'",
     "output_type": "error",
     "traceback": [
      "\u001b[31m---------------------------------------------------------------------------\u001b[39m",
      "\u001b[31mAttributeError\u001b[39m                            Traceback (most recent call last)",
      "\u001b[36mCell\u001b[39m\u001b[36m \u001b[39m\u001b[32mIn[17]\u001b[39m\u001b[32m, line 1\u001b[39m\n\u001b[32m----> \u001b[39m\u001b[32m1\u001b[39m \u001b[43mstudent\u001b[49m\u001b[43m.\u001b[49m\u001b[43mbreath\u001b[49m()\n",
      "\u001b[31mAttributeError\u001b[39m: 'Student' object has no attribute 'breath'"
     ]
    }
   ],
   "source": [
    "student.breath()"
   ]
  },
  {
   "cell_type": "code",
   "execution_count": 22,
   "id": "cd88a67b",
   "metadata": {},
   "outputs": [],
   "source": [
    "class Teacher(Human):\n",
    "    def teach(self):\n",
    "        print (\"I am teaching\")"
   ]
  },
  {
   "cell_type": "code",
   "execution_count": 23,
   "id": "aeaaabd4",
   "metadata": {},
   "outputs": [],
   "source": [
    "teacher = Teacher()"
   ]
  },
  {
   "cell_type": "code",
   "execution_count": 24,
   "id": "53cf8928",
   "metadata": {},
   "outputs": [
    {
     "name": "stdout",
     "output_type": "stream",
     "text": [
      "I am teaching\n"
     ]
    }
   ],
   "source": [
    "teacher.teach()"
   ]
  },
  {
   "cell_type": "code",
   "execution_count": 25,
   "id": "31ababad",
   "metadata": {},
   "outputs": [
    {
     "name": "stdout",
     "output_type": "stream",
     "text": [
      "I am breathing.....\n",
      "I can walk\n"
     ]
    }
   ],
   "source": [
    "teacher.breath()\n",
    "teacher.walk()"
   ]
  }
 ],
 "metadata": {
  "kernelspec": {
   "display_name": "base",
   "language": "python",
   "name": "python3"
  },
  "language_info": {
   "codemirror_mode": {
    "name": "ipython",
    "version": 3
   },
   "file_extension": ".py",
   "mimetype": "text/x-python",
   "name": "python",
   "nbconvert_exporter": "python",
   "pygments_lexer": "ipython3",
   "version": "3.12.3"
  }
 },
 "nbformat": 4,
 "nbformat_minor": 5
}
