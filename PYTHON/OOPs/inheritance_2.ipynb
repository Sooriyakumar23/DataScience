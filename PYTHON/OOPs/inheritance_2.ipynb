{
 "cells": [
  {
   "cell_type": "code",
   "execution_count": 3,
   "id": "47235431",
   "metadata": {},
   "outputs": [],
   "source": [
    "class A:\n",
    "    def print_a(self):\n",
    "        print (\"I am A\")\n",
    "\n",
    "class B:\n",
    "    def print_b(self):\n",
    "        print (\"I am B\")\n",
    "\n",
    "class C(A, B):\n",
    "    def print_c(self):\n",
    "        print (\"I am C\")"
   ]
  },
  {
   "cell_type": "code",
   "execution_count": 4,
   "id": "c3eb1ce1",
   "metadata": {},
   "outputs": [
    {
     "name": "stdout",
     "output_type": "stream",
     "text": [
      "I am A\n"
     ]
    }
   ],
   "source": [
    "a = A()\n",
    "a.print_a()"
   ]
  },
  {
   "cell_type": "code",
   "execution_count": 5,
   "id": "fcb09317",
   "metadata": {},
   "outputs": [
    {
     "name": "stdout",
     "output_type": "stream",
     "text": [
      "I am B\n"
     ]
    }
   ],
   "source": [
    "b = B()\n",
    "b.print_b()"
   ]
  },
  {
   "cell_type": "code",
   "execution_count": 6,
   "id": "078cbf25",
   "metadata": {},
   "outputs": [
    {
     "name": "stdout",
     "output_type": "stream",
     "text": [
      "I am C\n"
     ]
    }
   ],
   "source": [
    "c = C()\n",
    "c.print_c()"
   ]
  },
  {
   "cell_type": "code",
   "execution_count": 7,
   "id": "2732a8af",
   "metadata": {},
   "outputs": [
    {
     "name": "stdout",
     "output_type": "stream",
     "text": [
      "I am A\n"
     ]
    }
   ],
   "source": [
    "c.print_a()"
   ]
  },
  {
   "cell_type": "code",
   "execution_count": 8,
   "id": "609faaf4",
   "metadata": {},
   "outputs": [
    {
     "name": "stdout",
     "output_type": "stream",
     "text": [
      "I am B\n"
     ]
    }
   ],
   "source": [
    "c.print_b()"
   ]
  }
 ],
 "metadata": {
  "kernelspec": {
   "display_name": "base",
   "language": "python",
   "name": "python3"
  },
  "language_info": {
   "codemirror_mode": {
    "name": "ipython",
    "version": 3
   },
   "file_extension": ".py",
   "mimetype": "text/x-python",
   "name": "python",
   "nbconvert_exporter": "python",
   "pygments_lexer": "ipython3",
   "version": "3.12.3"
  }
 },
 "nbformat": 4,
 "nbformat_minor": 5
}
