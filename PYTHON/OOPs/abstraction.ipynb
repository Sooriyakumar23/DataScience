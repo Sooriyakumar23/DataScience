{
 "cells": [
  {
   "cell_type": "markdown",
   "id": "4ba74a2a",
   "metadata": {},
   "source": [
    "Define some rules for a class"
   ]
  },
  {
   "cell_type": "code",
   "execution_count": 18,
   "id": "3fee0325",
   "metadata": {},
   "outputs": [],
   "source": [
    "# Step-1\n",
    "\n",
    "from abc import ABC, abstractmethod"
   ]
  },
  {
   "cell_type": "code",
   "execution_count": 19,
   "id": "dfb79b70",
   "metadata": {},
   "outputs": [],
   "source": [
    "# Step-2\n",
    "\n",
    "class Engineer(ABC):\n",
    "\n",
    "    @abstractmethod\n",
    "    def work_10_hours():\n",
    "        pass\n",
    "\n",
    "    @abstractmethod\n",
    "    def critical_thinking():\n",
    "        pass\n",
    "\n",
    "    @abstractmethod\n",
    "    def hard_working():\n",
    "        pass\n",
    "    \n",
    "    @abstractmethod\n",
    "    def smart_approach():\n",
    "        pass"
   ]
  },
  {
   "cell_type": "code",
   "execution_count": 20,
   "id": "6680d0cb",
   "metadata": {},
   "outputs": [],
   "source": [
    "class SoftwareEngineer(Engineer):\n",
    "    pass"
   ]
  },
  {
   "cell_type": "code",
   "execution_count": 21,
   "id": "c4aeac9e",
   "metadata": {},
   "outputs": [
    {
     "ename": "TypeError",
     "evalue": "Can't instantiate abstract class SoftwareEngineer without an implementation for abstract methods 'critical_thinking', 'hard_working', 'smart_approach', 'work_10_hours'",
     "output_type": "error",
     "traceback": [
      "\u001b[31m---------------------------------------------------------------------------\u001b[39m",
      "\u001b[31mTypeError\u001b[39m                                 Traceback (most recent call last)",
      "\u001b[36mCell\u001b[39m\u001b[36m \u001b[39m\u001b[32mIn[21]\u001b[39m\u001b[32m, line 1\u001b[39m\n\u001b[32m----> \u001b[39m\u001b[32m1\u001b[39m software_engineer = \u001b[43mSoftwareEngineer\u001b[49m\u001b[43m(\u001b[49m\u001b[43m)\u001b[49m\n",
      "\u001b[31mTypeError\u001b[39m: Can't instantiate abstract class SoftwareEngineer without an implementation for abstract methods 'critical_thinking', 'hard_working', 'smart_approach', 'work_10_hours'"
     ]
    }
   ],
   "source": [
    "software_engineer = SoftwareEngineer()"
   ]
  },
  {
   "cell_type": "code",
   "execution_count": 26,
   "id": "d7e1ffbf",
   "metadata": {},
   "outputs": [],
   "source": [
    "class NetworkEngineer(Engineer):\n",
    "\n",
    "    def work_10_hours():\n",
    "        print(\"I work for 10 hours\")\n",
    "\n",
    "    def critical_thinking():\n",
    "        print(\"I have critical thinking ability\")\n",
    "\n",
    "    def hard_working():\n",
    "        print(\"I am a hard worker\")\n",
    "    \n",
    "    # def smart_approach():\n",
    "    #     print(\"I am a smart approaching person\")"
   ]
  },
  {
   "cell_type": "code",
   "execution_count": 27,
   "id": "1e163034",
   "metadata": {},
   "outputs": [
    {
     "ename": "TypeError",
     "evalue": "Can't instantiate abstract class NetworkEngineer without an implementation for abstract method 'smart_approach'",
     "output_type": "error",
     "traceback": [
      "\u001b[31m---------------------------------------------------------------------------\u001b[39m",
      "\u001b[31mTypeError\u001b[39m                                 Traceback (most recent call last)",
      "\u001b[36mCell\u001b[39m\u001b[36m \u001b[39m\u001b[32mIn[27]\u001b[39m\u001b[32m, line 1\u001b[39m\n\u001b[32m----> \u001b[39m\u001b[32m1\u001b[39m network_engineer = \u001b[43mNetworkEngineer\u001b[49m\u001b[43m(\u001b[49m\u001b[43m)\u001b[49m\n",
      "\u001b[31mTypeError\u001b[39m: Can't instantiate abstract class NetworkEngineer without an implementation for abstract method 'smart_approach'"
     ]
    }
   ],
   "source": [
    "network_engineer = NetworkEngineer()"
   ]
  }
 ],
 "metadata": {
  "kernelspec": {
   "display_name": "base",
   "language": "python",
   "name": "python3"
  },
  "language_info": {
   "codemirror_mode": {
    "name": "ipython",
    "version": 3
   },
   "file_extension": ".py",
   "mimetype": "text/x-python",
   "name": "python",
   "nbconvert_exporter": "python",
   "pygments_lexer": "ipython3",
   "version": "3.12.3"
  }
 },
 "nbformat": 4,
 "nbformat_minor": 5
}
