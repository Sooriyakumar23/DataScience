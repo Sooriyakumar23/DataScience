{
 "cells": [
  {
   "cell_type": "markdown",
   "id": "09a58068",
   "metadata": {},
   "source": [
    "Inheritance\n",
    "\n",
    "* Inheriting properties from parent"
   ]
  },
  {
   "cell_type": "code",
   "execution_count": 2,
   "id": "e56469c7",
   "metadata": {},
   "outputs": [],
   "source": [
    "class Speciality:\n",
    "    def surgeon(self):\n",
    "        print (\"Surgeon Doctor.\")\n",
    "    def neuro(self):\n",
    "        print (\"Neuro Doctor.\")\n",
    "\n",
    "class GeneralHospital:\n",
    "    def opd(self):\n",
    "        print (\"General Medicine Doctors\")"
   ]
  },
  {
   "cell_type": "code",
   "execution_count": 3,
   "id": "51ca8033",
   "metadata": {},
   "outputs": [],
   "source": [
    "general_hospital = GeneralHospital()"
   ]
  },
  {
   "cell_type": "code",
   "execution_count": 4,
   "id": "d553fff2",
   "metadata": {},
   "outputs": [
    {
     "name": "stdout",
     "output_type": "stream",
     "text": [
      "General Medicine Doctors\n"
     ]
    }
   ],
   "source": [
    "general_hospital.opd()"
   ]
  },
  {
   "cell_type": "code",
   "execution_count": 5,
   "id": "7ec3e39a",
   "metadata": {},
   "outputs": [
    {
     "ename": "AttributeError",
     "evalue": "'GeneralHospital' object has no attribute 'surgeon'",
     "output_type": "error",
     "traceback": [
      "\u001b[31m---------------------------------------------------------------------------\u001b[39m",
      "\u001b[31mAttributeError\u001b[39m                            Traceback (most recent call last)",
      "\u001b[36mCell\u001b[39m\u001b[36m \u001b[39m\u001b[32mIn[5]\u001b[39m\u001b[32m, line 1\u001b[39m\n\u001b[32m----> \u001b[39m\u001b[32m1\u001b[39m \u001b[43mgeneral_hospital\u001b[49m\u001b[43m.\u001b[49m\u001b[43msurgeon\u001b[49m()\n",
      "\u001b[31mAttributeError\u001b[39m: 'GeneralHospital' object has no attribute 'surgeon'"
     ]
    }
   ],
   "source": [
    "general_hospital.surgeon()"
   ]
  },
  {
   "cell_type": "code",
   "execution_count": 6,
   "id": "a3889067",
   "metadata": {},
   "outputs": [],
   "source": [
    "class Speciality:\n",
    "    def surgeon(self):\n",
    "        print (\"Surgeon Doctor.\")\n",
    "    def neuro(self):\n",
    "        print (\"Neuro Doctor.\")\n",
    "\n",
    "class GeneralHospital(Speciality):\n",
    "    def opd(self):\n",
    "        print (\"General Medicine Doctors\")"
   ]
  },
  {
   "cell_type": "code",
   "execution_count": 7,
   "id": "4ebc4e49",
   "metadata": {},
   "outputs": [],
   "source": [
    "general_hospital = GeneralHospital()"
   ]
  },
  {
   "cell_type": "code",
   "execution_count": 8,
   "id": "a7850763",
   "metadata": {},
   "outputs": [
    {
     "name": "stdout",
     "output_type": "stream",
     "text": [
      "General Medicine Doctors\n"
     ]
    }
   ],
   "source": [
    "general_hospital.opd()"
   ]
  },
  {
   "cell_type": "code",
   "execution_count": 9,
   "id": "4565d5f5",
   "metadata": {},
   "outputs": [
    {
     "name": "stdout",
     "output_type": "stream",
     "text": [
      "Surgeon Doctor.\n"
     ]
    }
   ],
   "source": [
    "general_hospital.surgeon()"
   ]
  }
 ],
 "metadata": {
  "kernelspec": {
   "display_name": "base",
   "language": "python",
   "name": "python3"
  },
  "language_info": {
   "codemirror_mode": {
    "name": "ipython",
    "version": 3
   },
   "file_extension": ".py",
   "mimetype": "text/x-python",
   "name": "python",
   "nbconvert_exporter": "python",
   "pygments_lexer": "ipython3",
   "version": "3.12.3"
  }
 },
 "nbformat": 4,
 "nbformat_minor": 5
}
