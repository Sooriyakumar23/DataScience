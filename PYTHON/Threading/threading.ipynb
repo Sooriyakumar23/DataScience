{
 "cells": [
  {
   "cell_type": "code",
   "execution_count": 8,
   "id": "e45fa8a0",
   "metadata": {},
   "outputs": [],
   "source": [
    "import time\n",
    "import requests"
   ]
  },
  {
   "cell_type": "code",
   "execution_count": 9,
   "id": "d2fbc728",
   "metadata": {},
   "outputs": [],
   "source": [
    "url1 = \"https://raw.githubusercontent.com/pytorch/pytorch/main/docs/source/_static/img/pytorch-logo-dark.png\"\n",
    "url2 = \"https://raw.githubusercontent.com/scikit-learn/scikit-learn/main/doc/logos/scikit-learn-logo.png\"\n",
    "url3 = \"https://raw.githubusercontent.com/pandas-dev/pandas/main/web/pandas/static/img/pandas_mark.svg\""
   ]
  },
  {
   "cell_type": "code",
   "execution_count": 10,
   "id": "d6704681",
   "metadata": {},
   "outputs": [],
   "source": [
    "def download_file(name, url, path):\n",
    "    try:\n",
    "        print (\"Download file started for name = \", name)\n",
    "        reponse = requests.get(url)\n",
    "        with open(path, \"wb\") as file:\n",
    "            for chunk in reponse.iter_content(chunk_size=8192):\n",
    "                if chunk:\n",
    "                    file.write(chunk)\n",
    "    except Exception as e:\n",
    "        print (\"Error in downloading file: \", e)\n",
    "    finally:\n",
    "        print (\"Process completed for name = \", name)"
   ]
  },
  {
   "cell_type": "markdown",
   "id": "9622a0a4",
   "metadata": {},
   "source": [
    "### Without Threading"
   ]
  },
  {
   "cell_type": "code",
   "execution_count": 12,
   "id": "db9533cb",
   "metadata": {},
   "outputs": [
    {
     "name": "stdout",
     "output_type": "stream",
     "text": [
      "Download file started for name =  Thread 1\n",
      "Process completed for name =  Thread 1\n",
      "Download file started for name =  Thread 2\n",
      "Process completed for name =  Thread 2\n",
      "Download file started for name =  Thread 3\n",
      "Process completed for name =  Thread 3\n",
      "Time Taken in seconds = 0.9216091632843018\n"
     ]
    }
   ],
   "source": [
    "start_time_1 = time.time()\n",
    "download_file(\"Thread 1\", url1, \"a_non_thread.png\")\n",
    "download_file(\"Thread 2\", url2, \"b_non_thread.png\")\n",
    "download_file(\"Thread 3\", url3, \"c_non_thread.svg\")\n",
    "end_time_1 = time.time()\n",
    "print (f\"Time Taken in seconds = {end_time_1-start_time_1}\")"
   ]
  },
  {
   "cell_type": "markdown",
   "id": "1b91c8a8",
   "metadata": {},
   "source": [
    "### With Threading"
   ]
  },
  {
   "cell_type": "code",
   "execution_count": 21,
   "id": "af1054ae",
   "metadata": {},
   "outputs": [],
   "source": [
    "import threading"
   ]
  },
  {
   "cell_type": "code",
   "execution_count": 28,
   "id": "d116c7bb",
   "metadata": {},
   "outputs": [],
   "source": [
    "t1 = threading.Thread(target=download_file, args=(\"Thread 1\", url1, \"a_non_thread.png\"))\n",
    "t2 = threading.Thread(target=download_file, args=(\"Thread 2\", url2, \"b_non_thread.png\"))\n",
    "t3 = threading.Thread(target=download_file, args=(\"Thread 3\", url3, \"c_non_thread.svg\"))"
   ]
  },
  {
   "cell_type": "markdown",
   "id": "a289b921",
   "metadata": {},
   "source": [
    "thread.start()"
   ]
  },
  {
   "cell_type": "code",
   "execution_count": 23,
   "id": "123e9b62",
   "metadata": {},
   "outputs": [
    {
     "name": "stdout",
     "output_type": "stream",
     "text": [
      "Download file started for name =  Thread 1\n",
      "Download file started for name =  Thread 2\n",
      "Download file started for name =  Thread 3\n",
      "Main Program Done !!!!!\n",
      "Time Taken in seconds = 0.004998683929443359\n"
     ]
    },
    {
     "name": "stdout",
     "output_type": "stream",
     "text": [
      "Process completed for name =  Thread 2\n",
      "Process completed for name =  Thread 1\n",
      "Process completed for name =  Thread 3\n"
     ]
    }
   ],
   "source": [
    "start_time_2 = time.time()\n",
    "t1.start()\n",
    "t2.start()\n",
    "t3.start()\n",
    "print (\"Main Program Done !!!!!\")\n",
    "end_time_2 = time.time()\n",
    "print (f\"Time Taken in seconds = {end_time_2-start_time_2}\")"
   ]
  },
  {
   "cell_type": "markdown",
   "id": "cbeb640c",
   "metadata": {},
   "source": [
    "thread.join()"
   ]
  },
  {
   "cell_type": "code",
   "execution_count": 29,
   "id": "50e38eca",
   "metadata": {},
   "outputs": [
    {
     "name": "stdout",
     "output_type": "stream",
     "text": [
      "Download file started for name =  Thread 1\n",
      "Download file started for name =  Thread 2\n",
      "Download file started for name =  Thread 3\n",
      "Process completed for name =  Thread 3\n",
      "Process completed for name =  Thread 2\n",
      "Process completed for name =  Thread 1\n",
      "Main Program Done !!!!!\n",
      "Time Taken in seconds = 0.37300872802734375\n"
     ]
    }
   ],
   "source": [
    "start_time_3 = time.time()\n",
    "\n",
    "t1.start()\n",
    "t2.start()\n",
    "t3.start()\n",
    "\n",
    "t1.join()\n",
    "t2.join()\n",
    "t3.join()\n",
    "\n",
    "print (\"Main Program Done !!!!!\")\n",
    "\n",
    "end_time_3 = time.time()\n",
    "\n",
    "print (f\"Time Taken in seconds = {end_time_3-start_time_3}\")"
   ]
  }
 ],
 "metadata": {
  "kernelspec": {
   "display_name": "cv_collection_review_rnd",
   "language": "python",
   "name": "python3"
  },
  "language_info": {
   "codemirror_mode": {
    "name": "ipython",
    "version": 3
   },
   "file_extension": ".py",
   "mimetype": "text/x-python",
   "name": "python",
   "nbconvert_exporter": "python",
   "pygments_lexer": "ipython3",
   "version": "3.10.16"
  }
 },
 "nbformat": 4,
 "nbformat_minor": 5
}
