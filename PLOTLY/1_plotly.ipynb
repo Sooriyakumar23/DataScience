{
 "cells": [
  {
   "cell_type": "code",
   "execution_count": 1,
   "id": "ef9c41e5",
   "metadata": {},
   "outputs": [
    {
     "name": "stdout",
     "output_type": "stream",
     "text": [
      "Requirement already satisfied: plotly in c:\\users\\hp\\miniconda3\\envs\\cv_collection_review_rnd\\lib\\site-packages (6.1.2)\n",
      "Requirement already satisfied: narwhals>=1.15.1 in c:\\users\\hp\\miniconda3\\envs\\cv_collection_review_rnd\\lib\\site-packages (from plotly) (1.41.0)\n",
      "Requirement already satisfied: packaging in c:\\users\\hp\\miniconda3\\envs\\cv_collection_review_rnd\\lib\\site-packages (from plotly) (24.2)\n",
      "Requirement already satisfied: nbformat in c:\\users\\hp\\miniconda3\\envs\\cv_collection_review_rnd\\lib\\site-packages (5.10.4)\n",
      "Requirement already satisfied: fastjsonschema>=2.15 in c:\\users\\hp\\miniconda3\\envs\\cv_collection_review_rnd\\lib\\site-packages (from nbformat) (2.21.1)\n",
      "Requirement already satisfied: jsonschema>=2.6 in c:\\users\\hp\\miniconda3\\envs\\cv_collection_review_rnd\\lib\\site-packages (from nbformat) (4.23.0)\n",
      "Requirement already satisfied: jupyter-core!=5.0.*,>=4.12 in c:\\users\\hp\\miniconda3\\envs\\cv_collection_review_rnd\\lib\\site-packages (from nbformat) (5.8.1)\n",
      "Requirement already satisfied: traitlets>=5.1 in c:\\users\\hp\\miniconda3\\envs\\cv_collection_review_rnd\\lib\\site-packages (from nbformat) (5.14.3)\n",
      "Requirement already satisfied: attrs>=22.2.0 in c:\\users\\hp\\miniconda3\\envs\\cv_collection_review_rnd\\lib\\site-packages (from jsonschema>=2.6->nbformat) (25.3.0)\n",
      "Requirement already satisfied: jsonschema-specifications>=2023.03.6 in c:\\users\\hp\\miniconda3\\envs\\cv_collection_review_rnd\\lib\\site-packages (from jsonschema>=2.6->nbformat) (2025.4.1)\n",
      "Requirement already satisfied: referencing>=0.28.4 in c:\\users\\hp\\miniconda3\\envs\\cv_collection_review_rnd\\lib\\site-packages (from jsonschema>=2.6->nbformat) (0.36.2)\n",
      "Requirement already satisfied: rpds-py>=0.7.1 in c:\\users\\hp\\miniconda3\\envs\\cv_collection_review_rnd\\lib\\site-packages (from jsonschema>=2.6->nbformat) (0.24.0)\n",
      "Requirement already satisfied: platformdirs>=2.5 in c:\\users\\hp\\miniconda3\\envs\\cv_collection_review_rnd\\lib\\site-packages (from jupyter-core!=5.0.*,>=4.12->nbformat) (4.3.8)\n",
      "Requirement already satisfied: pywin32>=300 in c:\\users\\hp\\miniconda3\\envs\\cv_collection_review_rnd\\lib\\site-packages (from jupyter-core!=5.0.*,>=4.12->nbformat) (307)\n",
      "Requirement already satisfied: typing-extensions>=4.4.0 in c:\\users\\hp\\miniconda3\\envs\\cv_collection_review_rnd\\lib\\site-packages (from referencing>=0.28.4->jsonschema>=2.6->nbformat) (4.13.2)\n"
     ]
    }
   ],
   "source": [
    "!pip install plotly\n",
    "!pip install -U nbformat"
   ]
  },
  {
   "cell_type": "code",
   "execution_count": 2,
   "id": "dab24301",
   "metadata": {},
   "outputs": [
    {
     "name": "stdout",
     "output_type": "stream",
     "text": [
      "5.10.4\n"
     ]
    }
   ],
   "source": [
    "import nbformat\n",
    "print(nbformat.__version__)"
   ]
  },
  {
   "cell_type": "code",
   "execution_count": 5,
   "id": "99b45f2e",
   "metadata": {},
   "outputs": [],
   "source": [
    "import pandas as pd\n",
    "import plotly.express as px"
   ]
  },
  {
   "cell_type": "code",
   "execution_count": 6,
   "id": "63985ddf",
   "metadata": {},
   "outputs": [],
   "source": [
    "df_1 = pd.read_excel('./online_retail_II.xlsx', sheet_name='Year 2009-2010')\n",
    "df_2 = pd.read_excel('./online_retail_II.xlsx', sheet_name='Year 2010-2011')"
   ]
  },
  {
   "cell_type": "code",
   "execution_count": 7,
   "id": "a14d371a",
   "metadata": {},
   "outputs": [],
   "source": [
    "df = pd.concat([df_1, df_2], ignore_index=True)"
   ]
  },
  {
   "cell_type": "code",
   "execution_count": 10,
   "id": "cf3e4a1a",
   "metadata": {},
   "outputs": [],
   "source": [
    "df = df.dropna(subset=['InvoiceDate', 'Customer ID'])"
   ]
  },
  {
   "cell_type": "code",
   "execution_count": 11,
   "id": "cd1bf4f2",
   "metadata": {},
   "outputs": [],
   "source": [
    "df = df[~df['Invoice'].astype(str).str.startswith('C')]"
   ]
  },
  {
   "cell_type": "code",
   "execution_count": 12,
   "id": "e177ea27",
   "metadata": {},
   "outputs": [],
   "source": [
    "df['Revenue'] = df['Quantity'] * df['Price']\n",
    "df['InvoiceDate'] = pd.to_datetime(df['InvoiceDate'])\n",
    "df['Month'] = df['InvoiceDate'].dt.to_period('M').astype(str)"
   ]
  },
  {
   "cell_type": "code",
   "execution_count": 13,
   "id": "78bc1a51",
   "metadata": {},
   "outputs": [],
   "source": [
    "df_sample = df[['Quantity', 'Price', 'Revenue', 'Country', 'Month']].copy()"
   ]
  },
  {
   "cell_type": "code",
   "execution_count": 17,
   "id": "aa3ab6a5",
   "metadata": {},
   "outputs": [
    {
     "data": {
      "text/html": [
       "<div>\n",
       "<style scoped>\n",
       "    .dataframe tbody tr th:only-of-type {\n",
       "        vertical-align: middle;\n",
       "    }\n",
       "\n",
       "    .dataframe tbody tr th {\n",
       "        vertical-align: top;\n",
       "    }\n",
       "\n",
       "    .dataframe thead th {\n",
       "        text-align: right;\n",
       "    }\n",
       "</style>\n",
       "<table border=\"1\" class=\"dataframe\">\n",
       "  <thead>\n",
       "    <tr style=\"text-align: right;\">\n",
       "      <th></th>\n",
       "      <th>Quantity</th>\n",
       "      <th>Price</th>\n",
       "      <th>Revenue</th>\n",
       "      <th>Country</th>\n",
       "      <th>Month</th>\n",
       "    </tr>\n",
       "  </thead>\n",
       "  <tbody>\n",
       "    <tr>\n",
       "      <th>0</th>\n",
       "      <td>12</td>\n",
       "      <td>6.95</td>\n",
       "      <td>83.40</td>\n",
       "      <td>United Kingdom</td>\n",
       "      <td>2009-12</td>\n",
       "    </tr>\n",
       "    <tr>\n",
       "      <th>1</th>\n",
       "      <td>12</td>\n",
       "      <td>6.75</td>\n",
       "      <td>81.00</td>\n",
       "      <td>United Kingdom</td>\n",
       "      <td>2009-12</td>\n",
       "    </tr>\n",
       "    <tr>\n",
       "      <th>2</th>\n",
       "      <td>12</td>\n",
       "      <td>6.75</td>\n",
       "      <td>81.00</td>\n",
       "      <td>United Kingdom</td>\n",
       "      <td>2009-12</td>\n",
       "    </tr>\n",
       "    <tr>\n",
       "      <th>3</th>\n",
       "      <td>48</td>\n",
       "      <td>2.10</td>\n",
       "      <td>100.80</td>\n",
       "      <td>United Kingdom</td>\n",
       "      <td>2009-12</td>\n",
       "    </tr>\n",
       "    <tr>\n",
       "      <th>4</th>\n",
       "      <td>24</td>\n",
       "      <td>1.25</td>\n",
       "      <td>30.00</td>\n",
       "      <td>United Kingdom</td>\n",
       "      <td>2009-12</td>\n",
       "    </tr>\n",
       "    <tr>\n",
       "      <th>...</th>\n",
       "      <td>...</td>\n",
       "      <td>...</td>\n",
       "      <td>...</td>\n",
       "      <td>...</td>\n",
       "      <td>...</td>\n",
       "    </tr>\n",
       "    <tr>\n",
       "      <th>1067366</th>\n",
       "      <td>6</td>\n",
       "      <td>2.10</td>\n",
       "      <td>12.60</td>\n",
       "      <td>France</td>\n",
       "      <td>2011-12</td>\n",
       "    </tr>\n",
       "    <tr>\n",
       "      <th>1067367</th>\n",
       "      <td>4</td>\n",
       "      <td>4.15</td>\n",
       "      <td>16.60</td>\n",
       "      <td>France</td>\n",
       "      <td>2011-12</td>\n",
       "    </tr>\n",
       "    <tr>\n",
       "      <th>1067368</th>\n",
       "      <td>4</td>\n",
       "      <td>4.15</td>\n",
       "      <td>16.60</td>\n",
       "      <td>France</td>\n",
       "      <td>2011-12</td>\n",
       "    </tr>\n",
       "    <tr>\n",
       "      <th>1067369</th>\n",
       "      <td>3</td>\n",
       "      <td>4.95</td>\n",
       "      <td>14.85</td>\n",
       "      <td>France</td>\n",
       "      <td>2011-12</td>\n",
       "    </tr>\n",
       "    <tr>\n",
       "      <th>1067370</th>\n",
       "      <td>1</td>\n",
       "      <td>18.00</td>\n",
       "      <td>18.00</td>\n",
       "      <td>France</td>\n",
       "      <td>2011-12</td>\n",
       "    </tr>\n",
       "  </tbody>\n",
       "</table>\n",
       "<p>805620 rows × 5 columns</p>\n",
       "</div>"
      ],
      "text/plain": [
       "         Quantity  Price  Revenue         Country    Month\n",
       "0              12   6.95    83.40  United Kingdom  2009-12\n",
       "1              12   6.75    81.00  United Kingdom  2009-12\n",
       "2              12   6.75    81.00  United Kingdom  2009-12\n",
       "3              48   2.10   100.80  United Kingdom  2009-12\n",
       "4              24   1.25    30.00  United Kingdom  2009-12\n",
       "...           ...    ...      ...             ...      ...\n",
       "1067366         6   2.10    12.60          France  2011-12\n",
       "1067367         4   4.15    16.60          France  2011-12\n",
       "1067368         4   4.15    16.60          France  2011-12\n",
       "1067369         3   4.95    14.85          France  2011-12\n",
       "1067370         1  18.00    18.00          France  2011-12\n",
       "\n",
       "[805620 rows x 5 columns]"
      ]
     },
     "execution_count": 17,
     "metadata": {},
     "output_type": "execute_result"
    }
   ],
   "source": [
    "df_sample"
   ]
  },
  {
   "cell_type": "code",
   "execution_count": 19,
   "id": "31694943",
   "metadata": {},
   "outputs": [
    {
     "data": {
      "text/html": [
       "<div>\n",
       "<style scoped>\n",
       "    .dataframe tbody tr th:only-of-type {\n",
       "        vertical-align: middle;\n",
       "    }\n",
       "\n",
       "    .dataframe tbody tr th {\n",
       "        vertical-align: top;\n",
       "    }\n",
       "\n",
       "    .dataframe thead th {\n",
       "        text-align: right;\n",
       "    }\n",
       "</style>\n",
       "<table border=\"1\" class=\"dataframe\">\n",
       "  <thead>\n",
       "    <tr style=\"text-align: right;\">\n",
       "      <th></th>\n",
       "      <th>Month</th>\n",
       "      <th>Revenue</th>\n",
       "    </tr>\n",
       "  </thead>\n",
       "  <tbody>\n",
       "    <tr>\n",
       "      <th>0</th>\n",
       "      <td>2009-12</td>\n",
       "      <td>686654.160</td>\n",
       "    </tr>\n",
       "    <tr>\n",
       "      <th>1</th>\n",
       "      <td>2010-01</td>\n",
       "      <td>557319.062</td>\n",
       "    </tr>\n",
       "    <tr>\n",
       "      <th>2</th>\n",
       "      <td>2010-02</td>\n",
       "      <td>506371.066</td>\n",
       "    </tr>\n",
       "    <tr>\n",
       "      <th>3</th>\n",
       "      <td>2010-03</td>\n",
       "      <td>699608.991</td>\n",
       "    </tr>\n",
       "    <tr>\n",
       "      <th>4</th>\n",
       "      <td>2010-04</td>\n",
       "      <td>594609.192</td>\n",
       "    </tr>\n",
       "  </tbody>\n",
       "</table>\n",
       "</div>"
      ],
      "text/plain": [
       "     Month     Revenue\n",
       "0  2009-12  686654.160\n",
       "1  2010-01  557319.062\n",
       "2  2010-02  506371.066\n",
       "3  2010-03  699608.991\n",
       "4  2010-04  594609.192"
      ]
     },
     "execution_count": 19,
     "metadata": {},
     "output_type": "execute_result"
    }
   ],
   "source": [
    "monthly_rev = df_sample.groupby('Month')['Revenue'].sum().reset_index()\n",
    "monthly_rev.head()"
   ]
  },
  {
   "cell_type": "code",
   "execution_count": 20,
   "id": "0029054d",
   "metadata": {},
   "outputs": [
    {
     "data": {
      "application/vnd.plotly.v1+json": {
       "config": {
        "plotlyServerURL": "https://plot.ly"
       },
       "data": [
        {
         "hovertemplate": "Month=%{x}<br>Revenue=%{y}<extra></extra>",
         "legendgroup": "",
         "line": {
          "color": "#636efa",
          "dash": "solid"
         },
         "marker": {
          "symbol": "circle"
         },
         "mode": "lines+markers",
         "name": "",
         "orientation": "v",
         "showlegend": false,
         "type": "scatter",
         "x": [
          "2009-12",
          "2010-01",
          "2010-02",
          "2010-03",
          "2010-04",
          "2010-05",
          "2010-06",
          "2010-07",
          "2010-08",
          "2010-09",
          "2010-10",
          "2010-11",
          "2010-12",
          "2011-01",
          "2011-02",
          "2011-03",
          "2011-04",
          "2011-05",
          "2011-06",
          "2011-07",
          "2011-08",
          "2011-09",
          "2011-10",
          "2011-11",
          "2011-12"
         ],
         "xaxis": "x",
         "y": {
          "bdata": "H4XrUXz0JEHJdr4fDgIhQQaBlUMM6B5BHVpk+7FZJUHy0k1iYiUiQUjhepRjTyJBj8L1KLWAI0GuR+F6KQ4iQc3MzEylcCJBbxKDAP5gKUEAAAAAEKMvQRKDwApw4zFBexSux9/+KkFI4XoUymAhQWZmZmaFShtBUrgehVksIkHn+6lxQaMcQexRuB6FtSRBFK5HYbstJEHByqEFNlAiQc3MzMy/sSNBBoGVwwwULUFI4XqUrbcvQRWuR2FZujFBj8L1KAuhH0E=",
          "dtype": "f8"
         },
         "yaxis": "y"
        }
       ],
       "layout": {
        "legend": {
         "tracegroupgap": 0
        },
        "margin": {
         "t": 60
        },
        "plot_bgcolor": "black",
        "template": {
         "data": {
          "bar": [
           {
            "error_x": {
             "color": "#2a3f5f"
            },
            "error_y": {
             "color": "#2a3f5f"
            },
            "marker": {
             "line": {
              "color": "#E5ECF6",
              "width": 0.5
             },
             "pattern": {
              "fillmode": "overlay",
              "size": 10,
              "solidity": 0.2
             }
            },
            "type": "bar"
           }
          ],
          "barpolar": [
           {
            "marker": {
             "line": {
              "color": "#E5ECF6",
              "width": 0.5
             },
             "pattern": {
              "fillmode": "overlay",
              "size": 10,
              "solidity": 0.2
             }
            },
            "type": "barpolar"
           }
          ],
          "carpet": [
           {
            "aaxis": {
             "endlinecolor": "#2a3f5f",
             "gridcolor": "white",
             "linecolor": "white",
             "minorgridcolor": "white",
             "startlinecolor": "#2a3f5f"
            },
            "baxis": {
             "endlinecolor": "#2a3f5f",
             "gridcolor": "white",
             "linecolor": "white",
             "minorgridcolor": "white",
             "startlinecolor": "#2a3f5f"
            },
            "type": "carpet"
           }
          ],
          "choropleth": [
           {
            "colorbar": {
             "outlinewidth": 0,
             "ticks": ""
            },
            "type": "choropleth"
           }
          ],
          "contour": [
           {
            "colorbar": {
             "outlinewidth": 0,
             "ticks": ""
            },
            "colorscale": [
             [
              0,
              "#0d0887"
             ],
             [
              0.1111111111111111,
              "#46039f"
             ],
             [
              0.2222222222222222,
              "#7201a8"
             ],
             [
              0.3333333333333333,
              "#9c179e"
             ],
             [
              0.4444444444444444,
              "#bd3786"
             ],
             [
              0.5555555555555556,
              "#d8576b"
             ],
             [
              0.6666666666666666,
              "#ed7953"
             ],
             [
              0.7777777777777778,
              "#fb9f3a"
             ],
             [
              0.8888888888888888,
              "#fdca26"
             ],
             [
              1,
              "#f0f921"
             ]
            ],
            "type": "contour"
           }
          ],
          "contourcarpet": [
           {
            "colorbar": {
             "outlinewidth": 0,
             "ticks": ""
            },
            "type": "contourcarpet"
           }
          ],
          "heatmap": [
           {
            "colorbar": {
             "outlinewidth": 0,
             "ticks": ""
            },
            "colorscale": [
             [
              0,
              "#0d0887"
             ],
             [
              0.1111111111111111,
              "#46039f"
             ],
             [
              0.2222222222222222,
              "#7201a8"
             ],
             [
              0.3333333333333333,
              "#9c179e"
             ],
             [
              0.4444444444444444,
              "#bd3786"
             ],
             [
              0.5555555555555556,
              "#d8576b"
             ],
             [
              0.6666666666666666,
              "#ed7953"
             ],
             [
              0.7777777777777778,
              "#fb9f3a"
             ],
             [
              0.8888888888888888,
              "#fdca26"
             ],
             [
              1,
              "#f0f921"
             ]
            ],
            "type": "heatmap"
           }
          ],
          "histogram": [
           {
            "marker": {
             "pattern": {
              "fillmode": "overlay",
              "size": 10,
              "solidity": 0.2
             }
            },
            "type": "histogram"
           }
          ],
          "histogram2d": [
           {
            "colorbar": {
             "outlinewidth": 0,
             "ticks": ""
            },
            "colorscale": [
             [
              0,
              "#0d0887"
             ],
             [
              0.1111111111111111,
              "#46039f"
             ],
             [
              0.2222222222222222,
              "#7201a8"
             ],
             [
              0.3333333333333333,
              "#9c179e"
             ],
             [
              0.4444444444444444,
              "#bd3786"
             ],
             [
              0.5555555555555556,
              "#d8576b"
             ],
             [
              0.6666666666666666,
              "#ed7953"
             ],
             [
              0.7777777777777778,
              "#fb9f3a"
             ],
             [
              0.8888888888888888,
              "#fdca26"
             ],
             [
              1,
              "#f0f921"
             ]
            ],
            "type": "histogram2d"
           }
          ],
          "histogram2dcontour": [
           {
            "colorbar": {
             "outlinewidth": 0,
             "ticks": ""
            },
            "colorscale": [
             [
              0,
              "#0d0887"
             ],
             [
              0.1111111111111111,
              "#46039f"
             ],
             [
              0.2222222222222222,
              "#7201a8"
             ],
             [
              0.3333333333333333,
              "#9c179e"
             ],
             [
              0.4444444444444444,
              "#bd3786"
             ],
             [
              0.5555555555555556,
              "#d8576b"
             ],
             [
              0.6666666666666666,
              "#ed7953"
             ],
             [
              0.7777777777777778,
              "#fb9f3a"
             ],
             [
              0.8888888888888888,
              "#fdca26"
             ],
             [
              1,
              "#f0f921"
             ]
            ],
            "type": "histogram2dcontour"
           }
          ],
          "mesh3d": [
           {
            "colorbar": {
             "outlinewidth": 0,
             "ticks": ""
            },
            "type": "mesh3d"
           }
          ],
          "parcoords": [
           {
            "line": {
             "colorbar": {
              "outlinewidth": 0,
              "ticks": ""
             }
            },
            "type": "parcoords"
           }
          ],
          "pie": [
           {
            "automargin": true,
            "type": "pie"
           }
          ],
          "scatter": [
           {
            "fillpattern": {
             "fillmode": "overlay",
             "size": 10,
             "solidity": 0.2
            },
            "type": "scatter"
           }
          ],
          "scatter3d": [
           {
            "line": {
             "colorbar": {
              "outlinewidth": 0,
              "ticks": ""
             }
            },
            "marker": {
             "colorbar": {
              "outlinewidth": 0,
              "ticks": ""
             }
            },
            "type": "scatter3d"
           }
          ],
          "scattercarpet": [
           {
            "marker": {
             "colorbar": {
              "outlinewidth": 0,
              "ticks": ""
             }
            },
            "type": "scattercarpet"
           }
          ],
          "scattergeo": [
           {
            "marker": {
             "colorbar": {
              "outlinewidth": 0,
              "ticks": ""
             }
            },
            "type": "scattergeo"
           }
          ],
          "scattergl": [
           {
            "marker": {
             "colorbar": {
              "outlinewidth": 0,
              "ticks": ""
             }
            },
            "type": "scattergl"
           }
          ],
          "scattermap": [
           {
            "marker": {
             "colorbar": {
              "outlinewidth": 0,
              "ticks": ""
             }
            },
            "type": "scattermap"
           }
          ],
          "scattermapbox": [
           {
            "marker": {
             "colorbar": {
              "outlinewidth": 0,
              "ticks": ""
             }
            },
            "type": "scattermapbox"
           }
          ],
          "scatterpolar": [
           {
            "marker": {
             "colorbar": {
              "outlinewidth": 0,
              "ticks": ""
             }
            },
            "type": "scatterpolar"
           }
          ],
          "scatterpolargl": [
           {
            "marker": {
             "colorbar": {
              "outlinewidth": 0,
              "ticks": ""
             }
            },
            "type": "scatterpolargl"
           }
          ],
          "scatterternary": [
           {
            "marker": {
             "colorbar": {
              "outlinewidth": 0,
              "ticks": ""
             }
            },
            "type": "scatterternary"
           }
          ],
          "surface": [
           {
            "colorbar": {
             "outlinewidth": 0,
             "ticks": ""
            },
            "colorscale": [
             [
              0,
              "#0d0887"
             ],
             [
              0.1111111111111111,
              "#46039f"
             ],
             [
              0.2222222222222222,
              "#7201a8"
             ],
             [
              0.3333333333333333,
              "#9c179e"
             ],
             [
              0.4444444444444444,
              "#bd3786"
             ],
             [
              0.5555555555555556,
              "#d8576b"
             ],
             [
              0.6666666666666666,
              "#ed7953"
             ],
             [
              0.7777777777777778,
              "#fb9f3a"
             ],
             [
              0.8888888888888888,
              "#fdca26"
             ],
             [
              1,
              "#f0f921"
             ]
            ],
            "type": "surface"
           }
          ],
          "table": [
           {
            "cells": {
             "fill": {
              "color": "#EBF0F8"
             },
             "line": {
              "color": "white"
             }
            },
            "header": {
             "fill": {
              "color": "#C8D4E3"
             },
             "line": {
              "color": "white"
             }
            },
            "type": "table"
           }
          ]
         },
         "layout": {
          "annotationdefaults": {
           "arrowcolor": "#2a3f5f",
           "arrowhead": 0,
           "arrowwidth": 1
          },
          "autotypenumbers": "strict",
          "coloraxis": {
           "colorbar": {
            "outlinewidth": 0,
            "ticks": ""
           }
          },
          "colorscale": {
           "diverging": [
            [
             0,
             "#8e0152"
            ],
            [
             0.1,
             "#c51b7d"
            ],
            [
             0.2,
             "#de77ae"
            ],
            [
             0.3,
             "#f1b6da"
            ],
            [
             0.4,
             "#fde0ef"
            ],
            [
             0.5,
             "#f7f7f7"
            ],
            [
             0.6,
             "#e6f5d0"
            ],
            [
             0.7,
             "#b8e186"
            ],
            [
             0.8,
             "#7fbc41"
            ],
            [
             0.9,
             "#4d9221"
            ],
            [
             1,
             "#276419"
            ]
           ],
           "sequential": [
            [
             0,
             "#0d0887"
            ],
            [
             0.1111111111111111,
             "#46039f"
            ],
            [
             0.2222222222222222,
             "#7201a8"
            ],
            [
             0.3333333333333333,
             "#9c179e"
            ],
            [
             0.4444444444444444,
             "#bd3786"
            ],
            [
             0.5555555555555556,
             "#d8576b"
            ],
            [
             0.6666666666666666,
             "#ed7953"
            ],
            [
             0.7777777777777778,
             "#fb9f3a"
            ],
            [
             0.8888888888888888,
             "#fdca26"
            ],
            [
             1,
             "#f0f921"
            ]
           ],
           "sequentialminus": [
            [
             0,
             "#0d0887"
            ],
            [
             0.1111111111111111,
             "#46039f"
            ],
            [
             0.2222222222222222,
             "#7201a8"
            ],
            [
             0.3333333333333333,
             "#9c179e"
            ],
            [
             0.4444444444444444,
             "#bd3786"
            ],
            [
             0.5555555555555556,
             "#d8576b"
            ],
            [
             0.6666666666666666,
             "#ed7953"
            ],
            [
             0.7777777777777778,
             "#fb9f3a"
            ],
            [
             0.8888888888888888,
             "#fdca26"
            ],
            [
             1,
             "#f0f921"
            ]
           ]
          },
          "colorway": [
           "#636efa",
           "#EF553B",
           "#00cc96",
           "#ab63fa",
           "#FFA15A",
           "#19d3f3",
           "#FF6692",
           "#B6E880",
           "#FF97FF",
           "#FECB52"
          ],
          "font": {
           "color": "#2a3f5f"
          },
          "geo": {
           "bgcolor": "white",
           "lakecolor": "white",
           "landcolor": "#E5ECF6",
           "showlakes": true,
           "showland": true,
           "subunitcolor": "white"
          },
          "hoverlabel": {
           "align": "left"
          },
          "hovermode": "closest",
          "mapbox": {
           "style": "light"
          },
          "paper_bgcolor": "white",
          "plot_bgcolor": "#E5ECF6",
          "polar": {
           "angularaxis": {
            "gridcolor": "white",
            "linecolor": "white",
            "ticks": ""
           },
           "bgcolor": "#E5ECF6",
           "radialaxis": {
            "gridcolor": "white",
            "linecolor": "white",
            "ticks": ""
           }
          },
          "scene": {
           "xaxis": {
            "backgroundcolor": "#E5ECF6",
            "gridcolor": "white",
            "gridwidth": 2,
            "linecolor": "white",
            "showbackground": true,
            "ticks": "",
            "zerolinecolor": "white"
           },
           "yaxis": {
            "backgroundcolor": "#E5ECF6",
            "gridcolor": "white",
            "gridwidth": 2,
            "linecolor": "white",
            "showbackground": true,
            "ticks": "",
            "zerolinecolor": "white"
           },
           "zaxis": {
            "backgroundcolor": "#E5ECF6",
            "gridcolor": "white",
            "gridwidth": 2,
            "linecolor": "white",
            "showbackground": true,
            "ticks": "",
            "zerolinecolor": "white"
           }
          },
          "shapedefaults": {
           "line": {
            "color": "#2a3f5f"
           }
          },
          "ternary": {
           "aaxis": {
            "gridcolor": "white",
            "linecolor": "white",
            "ticks": ""
           },
           "baxis": {
            "gridcolor": "white",
            "linecolor": "white",
            "ticks": ""
           },
           "bgcolor": "#E5ECF6",
           "caxis": {
            "gridcolor": "white",
            "linecolor": "white",
            "ticks": ""
           }
          },
          "title": {
           "x": 0.05
          },
          "xaxis": {
           "automargin": true,
           "gridcolor": "white",
           "linecolor": "white",
           "ticks": "",
           "title": {
            "standoff": 15
           },
           "zerolinecolor": "white",
           "zerolinewidth": 2
          },
          "yaxis": {
           "automargin": true,
           "gridcolor": "white",
           "linecolor": "white",
           "ticks": "",
           "title": {
            "standoff": 15
           },
           "zerolinecolor": "white",
           "zerolinewidth": 2
          }
         }
        },
        "title": {
         "text": "Monthly Revenue Trend"
        },
        "xaxis": {
         "anchor": "y",
         "domain": [
          0,
          1
         ],
         "tickangle": 45,
         "title": {
          "text": "Month"
         }
        },
        "yaxis": {
         "anchor": "x",
         "domain": [
          0,
          1
         ],
         "title": {
          "text": "Revenue"
         }
        }
       }
      }
     },
     "metadata": {},
     "output_type": "display_data"
    }
   ],
   "source": [
    "fig = px.line(monthly_rev,\n",
    "              x='Month', y='Revenue',\n",
    "              markers=True)\n",
    "\n",
    "fig.update_layout(xaxis_title=\"Month\", yaxis_title=\"Revenue\",\n",
    "                  xaxis_tickangle=45, title='Monthly Revenue Trend',\n",
    "                  plot_bgcolor='black')\n",
    "\n",
    "fig.show()"
   ]
  },
  {
   "cell_type": "code",
   "execution_count": 21,
   "id": "12e499b0",
   "metadata": {},
   "outputs": [],
   "source": [
    "top_countries = df_sample.groupby('Country')['Revenue'].sum().sort_values(ascending=False).head(10).reset_index()"
   ]
  },
  {
   "cell_type": "code",
   "execution_count": 22,
   "id": "7d1e15a1",
   "metadata": {},
   "outputs": [
    {
     "data": {
      "text/html": [
       "<div>\n",
       "<style scoped>\n",
       "    .dataframe tbody tr th:only-of-type {\n",
       "        vertical-align: middle;\n",
       "    }\n",
       "\n",
       "    .dataframe tbody tr th {\n",
       "        vertical-align: top;\n",
       "    }\n",
       "\n",
       "    .dataframe thead th {\n",
       "        text-align: right;\n",
       "    }\n",
       "</style>\n",
       "<table border=\"1\" class=\"dataframe\">\n",
       "  <thead>\n",
       "    <tr style=\"text-align: right;\">\n",
       "      <th></th>\n",
       "      <th>Country</th>\n",
       "      <th>Revenue</th>\n",
       "    </tr>\n",
       "  </thead>\n",
       "  <tbody>\n",
       "    <tr>\n",
       "      <th>0</th>\n",
       "      <td>United Kingdom</td>\n",
       "      <td>1.472315e+07</td>\n",
       "    </tr>\n",
       "    <tr>\n",
       "      <th>1</th>\n",
       "      <td>EIRE</td>\n",
       "      <td>6.216311e+05</td>\n",
       "    </tr>\n",
       "    <tr>\n",
       "      <th>2</th>\n",
       "      <td>Netherlands</td>\n",
       "      <td>5.542323e+05</td>\n",
       "    </tr>\n",
       "    <tr>\n",
       "      <th>3</th>\n",
       "      <td>Germany</td>\n",
       "      <td>4.312625e+05</td>\n",
       "    </tr>\n",
       "    <tr>\n",
       "      <th>4</th>\n",
       "      <td>France</td>\n",
       "      <td>3.552575e+05</td>\n",
       "    </tr>\n",
       "    <tr>\n",
       "      <th>5</th>\n",
       "      <td>Australia</td>\n",
       "      <td>1.699681e+05</td>\n",
       "    </tr>\n",
       "    <tr>\n",
       "      <th>6</th>\n",
       "      <td>Spain</td>\n",
       "      <td>1.091785e+05</td>\n",
       "    </tr>\n",
       "    <tr>\n",
       "      <th>7</th>\n",
       "      <td>Switzerland</td>\n",
       "      <td>1.003653e+05</td>\n",
       "    </tr>\n",
       "    <tr>\n",
       "      <th>8</th>\n",
       "      <td>Sweden</td>\n",
       "      <td>9.154972e+04</td>\n",
       "    </tr>\n",
       "    <tr>\n",
       "      <th>9</th>\n",
       "      <td>Denmark</td>\n",
       "      <td>6.986219e+04</td>\n",
       "    </tr>\n",
       "  </tbody>\n",
       "</table>\n",
       "</div>"
      ],
      "text/plain": [
       "          Country       Revenue\n",
       "0  United Kingdom  1.472315e+07\n",
       "1            EIRE  6.216311e+05\n",
       "2     Netherlands  5.542323e+05\n",
       "3         Germany  4.312625e+05\n",
       "4          France  3.552575e+05\n",
       "5       Australia  1.699681e+05\n",
       "6           Spain  1.091785e+05\n",
       "7     Switzerland  1.003653e+05\n",
       "8          Sweden  9.154972e+04\n",
       "9         Denmark  6.986219e+04"
      ]
     },
     "execution_count": 22,
     "metadata": {},
     "output_type": "execute_result"
    }
   ],
   "source": [
    "top_countries"
   ]
  },
  {
   "cell_type": "code",
   "execution_count": 23,
   "id": "acf35e7b",
   "metadata": {},
   "outputs": [
    {
     "data": {
      "application/vnd.plotly.v1+json": {
       "config": {
        "plotlyServerURL": "https://plot.ly"
       },
       "data": [
        {
         "hovertemplate": "Country=%{x}<br>Revenue=%{text}<extra></extra>",
         "legendgroup": "United Kingdom",
         "marker": {
          "color": "#636efa",
          "pattern": {
           "shape": ""
          }
         },
         "name": "United Kingdom",
         "orientation": "v",
         "showlegend": true,
         "text": {
          "bdata": "lkOLcAkVbEE=",
          "dtype": "f8"
         },
         "textposition": "outside",
         "texttemplate": "%{text:.3s}",
         "type": "bar",
         "x": [
          "United Kingdom"
         ],
         "xaxis": "x",
         "y": {
          "bdata": "lkOLcAkVbEE=",
          "dtype": "f8"
         },
         "yaxis": "y"
        },
        {
         "hovertemplate": "Country=%{x}<br>Revenue=%{text}<extra></extra>",
         "legendgroup": "EIRE",
         "marker": {
          "color": "#EF553B",
          "pattern": {
           "shape": ""
          }
         },
         "name": "EIRE",
         "orientation": "v",
         "showlegend": true,
         "text": {
          "bdata": "hetROH74IkE=",
          "dtype": "f8"
         },
         "textposition": "outside",
         "texttemplate": "%{text:.3s}",
         "type": "bar",
         "x": [
          "EIRE"
         ],
         "xaxis": "x",
         "y": {
          "bdata": "hetROH74IkE=",
          "dtype": "f8"
         },
         "yaxis": "y"
        },
        {
         "hovertemplate": "Country=%{x}<br>Revenue=%{text}<extra></extra>",
         "legendgroup": "Netherlands",
         "marker": {
          "color": "#00cc96",
          "pattern": {
           "shape": ""
          }
         },
         "name": "Netherlands",
         "orientation": "v",
         "showlegend": true,
         "text": {
          "bdata": "4XoUrvDpIEE=",
          "dtype": "f8"
         },
         "textposition": "outside",
         "texttemplate": "%{text:.3s}",
         "type": "bar",
         "x": [
          "Netherlands"
         ],
         "xaxis": "x",
         "y": {
          "bdata": "4XoUrvDpIEE=",
          "dtype": "f8"
         },
         "yaxis": "y"
        },
        {
         "hovertemplate": "Country=%{x}<br>Revenue=%{text}<extra></extra>",
         "legendgroup": "Germany",
         "marker": {
          "color": "#ab63fa",
          "pattern": {
           "shape": ""
          }
         },
         "name": "Germany",
         "orientation": "v",
         "showlegend": true,
         "text": {
          "bdata": "TmIQ2HlSGkE=",
          "dtype": "f8"
         },
         "textposition": "outside",
         "texttemplate": "%{text:.3s}",
         "type": "bar",
         "x": [
          "Germany"
         ],
         "xaxis": "x",
         "y": {
          "bdata": "TmIQ2HlSGkE=",
          "dtype": "f8"
         },
         "yaxis": "y"
        },
        {
         "hovertemplate": "Country=%{x}<br>Revenue=%{text}<extra></extra>",
         "legendgroup": "France",
         "marker": {
          "color": "#FFA15A",
          "pattern": {
           "shape": ""
          }
         },
         "name": "France",
         "orientation": "v",
         "showlegend": true,
         "text": {
          "bdata": "FK5H4eWuFUE=",
          "dtype": "f8"
         },
         "textposition": "outside",
         "texttemplate": "%{text:.3s}",
         "type": "bar",
         "x": [
          "France"
         ],
         "xaxis": "x",
         "y": {
          "bdata": "FK5H4eWuFUE=",
          "dtype": "f8"
         },
         "yaxis": "y"
        },
        {
         "hovertemplate": "Country=%{x}<br>Revenue=%{text}<extra></extra>",
         "legendgroup": "Australia",
         "marker": {
          "color": "#19d3f3",
          "pattern": {
           "shape": ""
          }
         },
         "name": "Australia",
         "orientation": "v",
         "showlegend": true,
         "text": {
          "bdata": "Fa5H4YC/BEE=",
          "dtype": "f8"
         },
         "textposition": "outside",
         "texttemplate": "%{text:.3s}",
         "type": "bar",
         "x": [
          "Australia"
         ],
         "xaxis": "x",
         "y": {
          "bdata": "Fa5H4YC/BEE=",
          "dtype": "f8"
         },
         "yaxis": "y"
        },
        {
         "hovertemplate": "Country=%{x}<br>Revenue=%{text}<extra></extra>",
         "legendgroup": "Spain",
         "marker": {
          "color": "#FF6692",
          "pattern": {
           "shape": ""
          }
         },
         "name": "Spain",
         "orientation": "v",
         "showlegend": true,
         "text": {
          "bdata": "rkfheqin+kA=",
          "dtype": "f8"
         },
         "textposition": "outside",
         "texttemplate": "%{text:.3s}",
         "type": "bar",
         "x": [
          "Spain"
         ],
         "xaxis": "x",
         "y": {
          "bdata": "rkfheqin+kA=",
          "dtype": "f8"
         },
         "yaxis": "y"
        },
        {
         "hovertemplate": "Country=%{x}<br>Revenue=%{text}<extra></extra>",
         "legendgroup": "Switzerland",
         "marker": {
          "color": "#B6E880",
          "pattern": {
           "shape": ""
          }
         },
         "name": "Switzerland",
         "orientation": "v",
         "showlegend": true,
         "text": {
          "bdata": "CtejcNWA+EA=",
          "dtype": "f8"
         },
         "textposition": "outside",
         "texttemplate": "%{text:.3s}",
         "type": "bar",
         "x": [
          "Switzerland"
         ],
         "xaxis": "x",
         "y": {
          "bdata": "CtejcNWA+EA=",
          "dtype": "f8"
         },
         "yaxis": "y"
        },
        {
         "hovertemplate": "Country=%{x}<br>Revenue=%{text}<extra></extra>",
         "legendgroup": "Sweden",
         "marker": {
          "color": "#FF97FF",
          "pattern": {
           "shape": ""
          }
         },
         "name": "Sweden",
         "orientation": "v",
         "showlegend": true,
         "text": {
          "bdata": "UrgehdtZ9kA=",
          "dtype": "f8"
         },
         "textposition": "outside",
         "texttemplate": "%{text:.3s}",
         "type": "bar",
         "x": [
          "Sweden"
         ],
         "xaxis": "x",
         "y": {
          "bdata": "UrgehdtZ9kA=",
          "dtype": "f8"
         },
         "yaxis": "y"
        },
        {
         "hovertemplate": "Country=%{x}<br>Revenue=%{text}<extra></extra>",
         "legendgroup": "Denmark",
         "marker": {
          "color": "#FECB52",
          "pattern": {
           "shape": ""
          }
         },
         "name": "Denmark",
         "orientation": "v",
         "showlegend": true,
         "text": {
          "bdata": "pHA9CmMO8UA=",
          "dtype": "f8"
         },
         "textposition": "outside",
         "texttemplate": "%{text:.3s}",
         "type": "bar",
         "x": [
          "Denmark"
         ],
         "xaxis": "x",
         "y": {
          "bdata": "pHA9CmMO8UA=",
          "dtype": "f8"
         },
         "yaxis": "y"
        }
       ],
       "layout": {
        "barmode": "relative",
        "legend": {
         "title": {
          "text": "Country"
         },
         "tracegroupgap": 0
        },
        "showlegend": false,
        "template": {
         "data": {
          "bar": [
           {
            "error_x": {
             "color": "#2a3f5f"
            },
            "error_y": {
             "color": "#2a3f5f"
            },
            "marker": {
             "line": {
              "color": "#E5ECF6",
              "width": 0.5
             },
             "pattern": {
              "fillmode": "overlay",
              "size": 10,
              "solidity": 0.2
             }
            },
            "type": "bar"
           }
          ],
          "barpolar": [
           {
            "marker": {
             "line": {
              "color": "#E5ECF6",
              "width": 0.5
             },
             "pattern": {
              "fillmode": "overlay",
              "size": 10,
              "solidity": 0.2
             }
            },
            "type": "barpolar"
           }
          ],
          "carpet": [
           {
            "aaxis": {
             "endlinecolor": "#2a3f5f",
             "gridcolor": "white",
             "linecolor": "white",
             "minorgridcolor": "white",
             "startlinecolor": "#2a3f5f"
            },
            "baxis": {
             "endlinecolor": "#2a3f5f",
             "gridcolor": "white",
             "linecolor": "white",
             "minorgridcolor": "white",
             "startlinecolor": "#2a3f5f"
            },
            "type": "carpet"
           }
          ],
          "choropleth": [
           {
            "colorbar": {
             "outlinewidth": 0,
             "ticks": ""
            },
            "type": "choropleth"
           }
          ],
          "contour": [
           {
            "colorbar": {
             "outlinewidth": 0,
             "ticks": ""
            },
            "colorscale": [
             [
              0,
              "#0d0887"
             ],
             [
              0.1111111111111111,
              "#46039f"
             ],
             [
              0.2222222222222222,
              "#7201a8"
             ],
             [
              0.3333333333333333,
              "#9c179e"
             ],
             [
              0.4444444444444444,
              "#bd3786"
             ],
             [
              0.5555555555555556,
              "#d8576b"
             ],
             [
              0.6666666666666666,
              "#ed7953"
             ],
             [
              0.7777777777777778,
              "#fb9f3a"
             ],
             [
              0.8888888888888888,
              "#fdca26"
             ],
             [
              1,
              "#f0f921"
             ]
            ],
            "type": "contour"
           }
          ],
          "contourcarpet": [
           {
            "colorbar": {
             "outlinewidth": 0,
             "ticks": ""
            },
            "type": "contourcarpet"
           }
          ],
          "heatmap": [
           {
            "colorbar": {
             "outlinewidth": 0,
             "ticks": ""
            },
            "colorscale": [
             [
              0,
              "#0d0887"
             ],
             [
              0.1111111111111111,
              "#46039f"
             ],
             [
              0.2222222222222222,
              "#7201a8"
             ],
             [
              0.3333333333333333,
              "#9c179e"
             ],
             [
              0.4444444444444444,
              "#bd3786"
             ],
             [
              0.5555555555555556,
              "#d8576b"
             ],
             [
              0.6666666666666666,
              "#ed7953"
             ],
             [
              0.7777777777777778,
              "#fb9f3a"
             ],
             [
              0.8888888888888888,
              "#fdca26"
             ],
             [
              1,
              "#f0f921"
             ]
            ],
            "type": "heatmap"
           }
          ],
          "histogram": [
           {
            "marker": {
             "pattern": {
              "fillmode": "overlay",
              "size": 10,
              "solidity": 0.2
             }
            },
            "type": "histogram"
           }
          ],
          "histogram2d": [
           {
            "colorbar": {
             "outlinewidth": 0,
             "ticks": ""
            },
            "colorscale": [
             [
              0,
              "#0d0887"
             ],
             [
              0.1111111111111111,
              "#46039f"
             ],
             [
              0.2222222222222222,
              "#7201a8"
             ],
             [
              0.3333333333333333,
              "#9c179e"
             ],
             [
              0.4444444444444444,
              "#bd3786"
             ],
             [
              0.5555555555555556,
              "#d8576b"
             ],
             [
              0.6666666666666666,
              "#ed7953"
             ],
             [
              0.7777777777777778,
              "#fb9f3a"
             ],
             [
              0.8888888888888888,
              "#fdca26"
             ],
             [
              1,
              "#f0f921"
             ]
            ],
            "type": "histogram2d"
           }
          ],
          "histogram2dcontour": [
           {
            "colorbar": {
             "outlinewidth": 0,
             "ticks": ""
            },
            "colorscale": [
             [
              0,
              "#0d0887"
             ],
             [
              0.1111111111111111,
              "#46039f"
             ],
             [
              0.2222222222222222,
              "#7201a8"
             ],
             [
              0.3333333333333333,
              "#9c179e"
             ],
             [
              0.4444444444444444,
              "#bd3786"
             ],
             [
              0.5555555555555556,
              "#d8576b"
             ],
             [
              0.6666666666666666,
              "#ed7953"
             ],
             [
              0.7777777777777778,
              "#fb9f3a"
             ],
             [
              0.8888888888888888,
              "#fdca26"
             ],
             [
              1,
              "#f0f921"
             ]
            ],
            "type": "histogram2dcontour"
           }
          ],
          "mesh3d": [
           {
            "colorbar": {
             "outlinewidth": 0,
             "ticks": ""
            },
            "type": "mesh3d"
           }
          ],
          "parcoords": [
           {
            "line": {
             "colorbar": {
              "outlinewidth": 0,
              "ticks": ""
             }
            },
            "type": "parcoords"
           }
          ],
          "pie": [
           {
            "automargin": true,
            "type": "pie"
           }
          ],
          "scatter": [
           {
            "fillpattern": {
             "fillmode": "overlay",
             "size": 10,
             "solidity": 0.2
            },
            "type": "scatter"
           }
          ],
          "scatter3d": [
           {
            "line": {
             "colorbar": {
              "outlinewidth": 0,
              "ticks": ""
             }
            },
            "marker": {
             "colorbar": {
              "outlinewidth": 0,
              "ticks": ""
             }
            },
            "type": "scatter3d"
           }
          ],
          "scattercarpet": [
           {
            "marker": {
             "colorbar": {
              "outlinewidth": 0,
              "ticks": ""
             }
            },
            "type": "scattercarpet"
           }
          ],
          "scattergeo": [
           {
            "marker": {
             "colorbar": {
              "outlinewidth": 0,
              "ticks": ""
             }
            },
            "type": "scattergeo"
           }
          ],
          "scattergl": [
           {
            "marker": {
             "colorbar": {
              "outlinewidth": 0,
              "ticks": ""
             }
            },
            "type": "scattergl"
           }
          ],
          "scattermap": [
           {
            "marker": {
             "colorbar": {
              "outlinewidth": 0,
              "ticks": ""
             }
            },
            "type": "scattermap"
           }
          ],
          "scattermapbox": [
           {
            "marker": {
             "colorbar": {
              "outlinewidth": 0,
              "ticks": ""
             }
            },
            "type": "scattermapbox"
           }
          ],
          "scatterpolar": [
           {
            "marker": {
             "colorbar": {
              "outlinewidth": 0,
              "ticks": ""
             }
            },
            "type": "scatterpolar"
           }
          ],
          "scatterpolargl": [
           {
            "marker": {
             "colorbar": {
              "outlinewidth": 0,
              "ticks": ""
             }
            },
            "type": "scatterpolargl"
           }
          ],
          "scatterternary": [
           {
            "marker": {
             "colorbar": {
              "outlinewidth": 0,
              "ticks": ""
             }
            },
            "type": "scatterternary"
           }
          ],
          "surface": [
           {
            "colorbar": {
             "outlinewidth": 0,
             "ticks": ""
            },
            "colorscale": [
             [
              0,
              "#0d0887"
             ],
             [
              0.1111111111111111,
              "#46039f"
             ],
             [
              0.2222222222222222,
              "#7201a8"
             ],
             [
              0.3333333333333333,
              "#9c179e"
             ],
             [
              0.4444444444444444,
              "#bd3786"
             ],
             [
              0.5555555555555556,
              "#d8576b"
             ],
             [
              0.6666666666666666,
              "#ed7953"
             ],
             [
              0.7777777777777778,
              "#fb9f3a"
             ],
             [
              0.8888888888888888,
              "#fdca26"
             ],
             [
              1,
              "#f0f921"
             ]
            ],
            "type": "surface"
           }
          ],
          "table": [
           {
            "cells": {
             "fill": {
              "color": "#EBF0F8"
             },
             "line": {
              "color": "white"
             }
            },
            "header": {
             "fill": {
              "color": "#C8D4E3"
             },
             "line": {
              "color": "white"
             }
            },
            "type": "table"
           }
          ]
         },
         "layout": {
          "annotationdefaults": {
           "arrowcolor": "#2a3f5f",
           "arrowhead": 0,
           "arrowwidth": 1
          },
          "autotypenumbers": "strict",
          "coloraxis": {
           "colorbar": {
            "outlinewidth": 0,
            "ticks": ""
           }
          },
          "colorscale": {
           "diverging": [
            [
             0,
             "#8e0152"
            ],
            [
             0.1,
             "#c51b7d"
            ],
            [
             0.2,
             "#de77ae"
            ],
            [
             0.3,
             "#f1b6da"
            ],
            [
             0.4,
             "#fde0ef"
            ],
            [
             0.5,
             "#f7f7f7"
            ],
            [
             0.6,
             "#e6f5d0"
            ],
            [
             0.7,
             "#b8e186"
            ],
            [
             0.8,
             "#7fbc41"
            ],
            [
             0.9,
             "#4d9221"
            ],
            [
             1,
             "#276419"
            ]
           ],
           "sequential": [
            [
             0,
             "#0d0887"
            ],
            [
             0.1111111111111111,
             "#46039f"
            ],
            [
             0.2222222222222222,
             "#7201a8"
            ],
            [
             0.3333333333333333,
             "#9c179e"
            ],
            [
             0.4444444444444444,
             "#bd3786"
            ],
            [
             0.5555555555555556,
             "#d8576b"
            ],
            [
             0.6666666666666666,
             "#ed7953"
            ],
            [
             0.7777777777777778,
             "#fb9f3a"
            ],
            [
             0.8888888888888888,
             "#fdca26"
            ],
            [
             1,
             "#f0f921"
            ]
           ],
           "sequentialminus": [
            [
             0,
             "#0d0887"
            ],
            [
             0.1111111111111111,
             "#46039f"
            ],
            [
             0.2222222222222222,
             "#7201a8"
            ],
            [
             0.3333333333333333,
             "#9c179e"
            ],
            [
             0.4444444444444444,
             "#bd3786"
            ],
            [
             0.5555555555555556,
             "#d8576b"
            ],
            [
             0.6666666666666666,
             "#ed7953"
            ],
            [
             0.7777777777777778,
             "#fb9f3a"
            ],
            [
             0.8888888888888888,
             "#fdca26"
            ],
            [
             1,
             "#f0f921"
            ]
           ]
          },
          "colorway": [
           "#636efa",
           "#EF553B",
           "#00cc96",
           "#ab63fa",
           "#FFA15A",
           "#19d3f3",
           "#FF6692",
           "#B6E880",
           "#FF97FF",
           "#FECB52"
          ],
          "font": {
           "color": "#2a3f5f"
          },
          "geo": {
           "bgcolor": "white",
           "lakecolor": "white",
           "landcolor": "#E5ECF6",
           "showlakes": true,
           "showland": true,
           "subunitcolor": "white"
          },
          "hoverlabel": {
           "align": "left"
          },
          "hovermode": "closest",
          "mapbox": {
           "style": "light"
          },
          "paper_bgcolor": "white",
          "plot_bgcolor": "#E5ECF6",
          "polar": {
           "angularaxis": {
            "gridcolor": "white",
            "linecolor": "white",
            "ticks": ""
           },
           "bgcolor": "#E5ECF6",
           "radialaxis": {
            "gridcolor": "white",
            "linecolor": "white",
            "ticks": ""
           }
          },
          "scene": {
           "xaxis": {
            "backgroundcolor": "#E5ECF6",
            "gridcolor": "white",
            "gridwidth": 2,
            "linecolor": "white",
            "showbackground": true,
            "ticks": "",
            "zerolinecolor": "white"
           },
           "yaxis": {
            "backgroundcolor": "#E5ECF6",
            "gridcolor": "white",
            "gridwidth": 2,
            "linecolor": "white",
            "showbackground": true,
            "ticks": "",
            "zerolinecolor": "white"
           },
           "zaxis": {
            "backgroundcolor": "#E5ECF6",
            "gridcolor": "white",
            "gridwidth": 2,
            "linecolor": "white",
            "showbackground": true,
            "ticks": "",
            "zerolinecolor": "white"
           }
          },
          "shapedefaults": {
           "line": {
            "color": "#2a3f5f"
           }
          },
          "ternary": {
           "aaxis": {
            "gridcolor": "white",
            "linecolor": "white",
            "ticks": ""
           },
           "baxis": {
            "gridcolor": "white",
            "linecolor": "white",
            "ticks": ""
           },
           "bgcolor": "#E5ECF6",
           "caxis": {
            "gridcolor": "white",
            "linecolor": "white",
            "ticks": ""
           }
          },
          "title": {
           "x": 0.05
          },
          "xaxis": {
           "automargin": true,
           "gridcolor": "white",
           "linecolor": "white",
           "ticks": "",
           "title": {
            "standoff": 15
           },
           "zerolinecolor": "white",
           "zerolinewidth": 2
          },
          "yaxis": {
           "automargin": true,
           "gridcolor": "white",
           "linecolor": "white",
           "ticks": "",
           "title": {
            "standoff": 15
           },
           "zerolinecolor": "white",
           "zerolinewidth": 2
          }
         }
        },
        "title": {
         "text": "Top 10 Countries by Revenue"
        },
        "xaxis": {
         "anchor": "y",
         "categoryarray": [
          "United Kingdom",
          "EIRE",
          "Netherlands",
          "Germany",
          "France",
          "Australia",
          "Spain",
          "Switzerland",
          "Sweden",
          "Denmark"
         ],
         "categoryorder": "array",
         "domain": [
          0,
          1
         ],
         "tickangle": 45,
         "title": {
          "text": "Country"
         }
        },
        "yaxis": {
         "anchor": "x",
         "domain": [
          0,
          1
         ],
         "title": {
          "text": "Revenue"
         }
        }
       }
      }
     },
     "metadata": {},
     "output_type": "display_data"
    }
   ],
   "source": [
    "fig = px.bar(top_countries,\n",
    "             x='Country', y='Revenue',\n",
    "             title='Top 10 Countries by Revenue',\n",
    "             text='Revenue', color='Country')\n",
    "\n",
    "# update_traces - properties of data like, line style, text label, hover info, marker size / color\n",
    "\n",
    "fig.update_traces(texttemplate='%{text:.3s}', textposition='outside')\n",
    "fig.update_layout(xaxis_tickangle=45, showlegend=False)\n",
    "\n",
    "fig.show()"
   ]
  },
  {
   "cell_type": "code",
   "execution_count": 24,
   "id": "a152192b",
   "metadata": {},
   "outputs": [
    {
     "data": {
      "application/vnd.plotly.v1+json": {
       "config": {
        "plotlyServerURL": "https://plot.ly"
       },
       "data": [
        {
         "customdata": [
          [
           2.1,
           "2010-11"
          ],
          [
           540,
           "2010-05"
          ],
          [
           15.299999999999999,
           "2010-08"
          ],
          [
           244.79999999999998,
           "2011-12"
          ],
          [
           4.949999999999999,
           "2010-01"
          ],
          [
           0.55,
           "2011-07"
          ],
          [
           20.85,
           "2010-08"
          ],
          [
           2.5,
           "2011-10"
          ],
          [
           10.08,
           "2010-12"
          ],
          [
           474.24,
           "2010-09"
          ],
          [
           100.8,
           "2010-10"
          ],
          [
           9.9,
           "2010-02"
          ],
          [
           65.4,
           "2010-10"
          ],
          [
           16.5,
           "2011-08"
          ],
          [
           39,
           "2010-09"
          ],
          [
           2.55,
           "2011-07"
          ],
          [
           2.1,
           "2010-05"
          ],
          [
           4.16,
           "2011-10"
          ],
          [
           5,
           "2011-06"
          ],
          [
           4.5600000000000005,
           "2010-07"
          ],
          [
           15,
           "2011-03"
          ],
          [
           4.25,
           "2010-10"
          ],
          [
           4.16,
           "2011-10"
          ],
          [
           2.08,
           "2011-12"
          ],
          [
           20.4,
           "2010-05"
          ],
          [
           8.25,
           "2011-10"
          ],
          [
           17.85,
           "2010-10"
          ],
          [
           71.4,
           "2011-10"
          ],
          [
           4.95,
           "2010-04"
          ],
          [
           1.95,
           "2011-12"
          ],
          [
           34,
           "2011-02"
          ],
          [
           8.5,
           "2011-01"
          ],
          [
           6.35,
           "2011-04"
          ],
          [
           8.5,
           "2011-02"
          ],
          [
           2.08,
           "2011-11"
          ],
          [
           8.25,
           "2011-09"
          ],
          [
           16.5,
           "2010-10"
          ],
          [
           0.85,
           "2011-11"
          ],
          [
           15.299999999999999,
           "2010-07"
          ],
          [
           2.5,
           "2011-12"
          ],
          [
           17.700000000000003,
           "2010-02"
          ],
          [
           12.75,
           "2011-12"
          ],
          [
           12.6,
           "2010-06"
          ],
          [
           12.600000000000001,
           "2010-02"
          ],
          [
           4.16,
           "2011-08"
          ],
          [
           5.9,
           "2010-07"
          ],
          [
           13.52,
           "2011-05"
          ],
          [
           13.200000000000001,
           "2010-05"
          ],
          [
           1.26,
           "2010-05"
          ],
          [
           2.55,
           "2011-03"
          ],
          [
           20.28,
           "2011-11"
          ],
          [
           3.75,
           "2011-02"
          ],
          [
           45,
           "2010-09"
          ],
          [
           19.919999999999998,
           "2011-09"
          ],
          [
           4.25,
           "2011-01"
          ],
          [
           30,
           "2010-06"
          ],
          [
           67.5,
           "2010-11"
          ],
          [
           7.95,
           "2011-01"
          ],
          [
           7.6499999999999995,
           "2009-12"
          ],
          [
           0.95,
           "2011-11"
          ],
          [
           4.16,
           "2011-11"
          ],
          [
           20.8,
           "2011-10"
          ],
          [
           14.98,
           "2010-07"
          ],
          [
           19.799999999999997,
           "2011-07"
          ],
          [
           19.5,
           "2010-11"
          ],
          [
           10.2,
           "2011-02"
          ],
          [
           15,
           "2011-04"
          ],
          [
           17.34,
           "2011-09"
          ],
          [
           1.65,
           "2010-03"
          ],
          [
           15.12,
           "2010-10"
          ],
          [
           2.55,
           "2009-12"
          ],
          [
           16.95,
           "2010-09"
          ],
          [
           12.75,
           "2010-10"
          ],
          [
           1.45,
           "2011-10"
          ],
          [
           5.85,
           "2010-09"
          ],
          [
           15.8,
           "2010-09"
          ],
          [
           3.75,
           "2009-12"
          ],
          [
           5.1,
           "2010-02"
          ],
          [
           17.4,
           "2010-06"
          ],
          [
           19.799999999999997,
           "2011-07"
          ],
          [
           19.799999999999997,
           "2011-10"
          ],
          [
           10.2,
           "2010-08"
          ],
          [
           522.9000000000001,
           "2011-12"
          ],
          [
           4.95,
           "2010-09"
          ],
          [
           1.26,
           "2010-07"
          ],
          [
           46.800000000000004,
           "2011-11"
          ],
          [
           16.95,
           "2010-11"
          ],
          [
           4.95,
           "2009-12"
          ],
          [
           16.5,
           "2010-03"
          ],
          [
           19.799999999999997,
           "2011-05"
          ],
          [
           10.14,
           "2009-12"
          ],
          [
           97.80000000000001,
           "2011-07"
          ],
          [
           19.5,
           "2010-05"
          ],
          [
           0.85,
           "2009-12"
          ],
          [
           25.200000000000003,
           "2011-10"
          ],
          [
           0.83,
           "2011-09"
          ],
          [
           8.5,
           "2009-12"
          ],
          [
           1.25,
           "2009-12"
          ],
          [
           16.6,
           "2011-05"
          ],
          [
           1.65,
           "2010-05"
          ],
          [
           17.700000000000003,
           "2011-06"
          ],
          [
           27.04,
           "2011-05"
          ],
          [
           41.7,
           "2010-09"
          ],
          [
           29.95,
           "2010-01"
          ],
          [
           0.84,
           "2010-10"
          ],
          [
           5.04,
           "2010-07"
          ],
          [
           3.75,
           "2010-02"
          ],
          [
           1.65,
           "2010-07"
          ],
          [
           10.2,
           "2010-06"
          ],
          [
           0.85,
           "2011-11"
          ],
          [
           3.4,
           "2011-03"
          ],
          [
           12.600000000000001,
           "2011-07"
          ],
          [
           23.4,
           "2011-03"
          ],
          [
           0.84,
           "2011-05"
          ],
          [
           12.600000000000001,
           "2010-03"
          ],
          [
           141.60000000000002,
           "2010-03"
          ],
          [
           35.400000000000006,
           "2009-12"
          ],
          [
           30.599999999999998,
           "2010-06"
          ],
          [
           3.38,
           "2011-08"
          ],
          [
           2.88,
           "2011-09"
          ],
          [
           27.04,
           "2010-07"
          ],
          [
           19.799999999999997,
           "2011-08"
          ],
          [
           35.400000000000006,
           "2009-12"
          ],
          [
           19.8,
           "2009-12"
          ],
          [
           2.1,
           "2011-11"
          ],
          [
           1.68,
           "2010-06"
          ],
          [
           37.5,
           "2010-06"
          ],
          [
           19.5,
           "2010-08"
          ],
          [
           2.52,
           "2010-07"
          ],
          [
           5.2,
           "2011-05"
          ],
          [
           10.2,
           "2010-12"
          ],
          [
           17,
           "2011-07"
          ],
          [
           208.79999999999998,
           "2010-04"
          ],
          [
           30,
           "2010-11"
          ],
          [
           15.12,
           "2010-09"
          ],
          [
           1.25,
           "2011-08"
          ],
          [
           125.43,
           "2010-10"
          ],
          [
           4.95,
           "2011-03"
          ],
          [
           139.2,
           "2011-05"
          ],
          [
           18.72,
           "2011-10"
          ],
          [
           3.9,
           "2010-09"
          ],
          [
           1.25,
           "2011-10"
          ],
          [
           2.55,
           "2010-10"
          ],
          [
           9.9,
           "2011-02"
          ],
          [
           8.95,
           "2011-03"
          ],
          [
           4.25,
           "2010-12"
          ],
          [
           5.04,
           "2011-01"
          ],
          [
           23.4,
           "2010-04"
          ],
          [
           15,
           "2010-08"
          ],
          [
           10.08,
           "2011-09"
          ],
          [
           1.25,
           "2010-09"
          ],
          [
           15,
           "2010-05"
          ],
          [
           1.65,
           "2010-08"
          ],
          [
           10.2,
           "2010-03"
          ],
          [
           2.5,
           "2011-06"
          ],
          [
           8.5,
           "2010-04"
          ],
          [
           25.5,
           "2010-12"
          ],
          [
           5.9,
           "2009-12"
          ],
          [
           31.6,
           "2010-04"
          ],
          [
           20.16,
           "2011-10"
          ],
          [
           81.6,
           "2011-12"
          ],
          [
           102,
           "2011-11"
          ],
          [
           2.9,
           "2010-08"
          ],
          [
           2.95,
           "2011-06"
          ],
          [
           10.08,
           "2011-09"
          ],
          [
           11.8,
           "2010-03"
          ],
          [
           9.899999999999999,
           "2011-02"
          ],
          [
           0.21,
           "2010-11"
          ],
          [
           17,
           "2011-10"
          ],
          [
           17.4,
           "2011-02"
          ],
          [
           76.32000000000001,
           "2011-09"
          ],
          [
           4.95,
           "2010-11"
          ],
          [
           19.5,
           "2010-03"
          ],
          [
           24.900000000000002,
           "2011-10"
          ],
          [
           3.75,
           "2010-01"
          ],
          [
           70.80000000000001,
           "2010-05"
          ],
          [
           11.9,
           "2010-12"
          ],
          [
           4.2,
           "2011-08"
          ],
          [
           0.42,
           "2011-12"
          ],
          [
           23.4,
           "2010-08"
          ],
          [
           6.6000000000000005,
           "2011-03"
          ],
          [
           4.25,
           "2010-05"
          ],
          [
           15.600000000000001,
           "2010-06"
          ],
          [
           2.5,
           "2010-01"
          ],
          [
           59.8,
           "2010-01"
          ],
          [
           3.32,
           "2011-12"
          ],
          [
           15.8,
           "2011-01"
          ],
          [
           50.4,
           "2011-01"
          ],
          [
           10.4,
           "2011-01"
          ],
          [
           60,
           "2011-08"
          ],
          [
           0.95,
           "2010-12"
          ],
          [
           45,
           "2010-09"
          ],
          [
           1.25,
           "2010-02"
          ],
          [
           14.850000000000001,
           "2010-06"
          ],
          [
           10.5,
           "2011-09"
          ],
          [
           2.36,
           "2011-06"
          ],
          [
           14.850000000000001,
           "2010-05"
          ],
          [
           1.65,
           "2010-08"
          ],
          [
           8.4,
           "2011-11"
          ],
          [
           4.949999999999999,
           "2011-10"
          ],
          [
           2.9,
           "2010-11"
          ],
          [
           7.9,
           "2011-11"
          ],
          [
           10.08,
           "2011-11"
          ],
          [
           5.1,
           "2011-05"
          ],
          [
           2.95,
           "2010-06"
          ],
          [
           47.6,
           "2010-03"
          ],
          [
           4.5600000000000005,
           "2011-06"
          ],
          [
           46.2,
           "2010-03"
          ],
          [
           2.1,
           "2010-10"
          ],
          [
           15,
           "2010-05"
          ],
          [
           5.95,
           "2010-01"
          ],
          [
           20.8,
           "2011-07"
          ],
          [
           4.95,
           "2010-05"
          ],
          [
           5.85,
           "2010-01"
          ],
          [
           5.95,
           "2011-11"
          ],
          [
           5.1,
           "2011-05"
          ],
          [
           10.2,
           "2010-11"
          ],
          [
           25.919999999999998,
           "2010-02"
          ],
          [
           59.5,
           "2009-12"
          ],
          [
           3.4799999999999995,
           "2011-01"
          ],
          [
           10.2,
           "2010-08"
          ],
          [
           35.400000000000006,
           "2010-08"
          ],
          [
           17.85,
           "2011-11"
          ],
          [
           17.700000000000003,
           "2010-09"
          ],
          [
           15.299999999999999,
           "2010-12"
          ],
          [
           0.95,
           "2009-12"
          ],
          [
           3.9,
           "2010-12"
          ],
          [
           7.5,
           "2011-10"
          ],
          [
           7.5,
           "2011-06"
          ],
          [
           12.75,
           "2010-05"
          ],
          [
           6.6,
           "2011-09"
          ],
          [
           2.55,
           "2010-06"
          ],
          [
           1.25,
           "2011-04"
          ],
          [
           8.25,
           "2011-03"
          ],
          [
           0.85,
           "2010-02"
          ],
          [
           0.55,
           "2010-05"
          ],
          [
           7.800000000000001,
           "2011-04"
          ],
          [
           20.28,
           "2010-03"
          ],
          [
           2.1,
           "2010-10"
          ],
          [
           17.700000000000003,
           "2010-05"
          ],
          [
           5.9,
           "2010-04"
          ],
          [
           3.3,
           "2009-12"
          ],
          [
           5.8,
           "2011-01"
          ],
          [
           8.25,
           "2009-12"
          ],
          [
           7.5,
           "2011-05"
          ],
          [
           20.8,
           "2011-04"
          ],
          [
           5.95,
           "2010-03"
          ],
          [
           2.5,
           "2011-04"
          ],
          [
           12.75,
           "2010-09"
          ],
          [
           120.39999999999999,
           "2009-12"
          ],
          [
           5.9,
           "2010-10"
          ],
          [
           13.200000000000001,
           "2010-10"
          ],
          [
           7.5,
           "2010-04"
          ],
          [
           3.75,
           "2010-03"
          ],
          [
           12.5,
           "2010-04"
          ],
          [
           10.2,
           "2010-05"
          ],
          [
           4.949999999999999,
           "2011-07"
          ],
          [
           81.36,
           "2011-01"
          ],
          [
           3.9,
           "2010-02"
          ],
          [
           72.5,
           "2011-03"
          ],
          [
           35.7,
           "2010-01"
          ],
          [
           175.2,
           "2011-12"
          ],
          [
           4.949999999999999,
           "2010-12"
          ],
          [
           5,
           "2010-10"
          ],
          [
           1.26,
           "2010-10"
          ],
          [
           34,
           "2011-01"
          ],
          [
           6.5,
           "2010-08"
          ],
          [
           1.65,
           "2011-11"
          ],
          [
           7.5,
           "2011-03"
          ],
          [
           19.9,
           "2011-03"
          ],
          [
           16.5,
           "2010-06"
          ],
          [
           54.08,
           "2011-06"
          ],
          [
           17.700000000000003,
           "2011-08"
          ],
          [
           20.4,
           "2010-06"
          ],
          [
           27,
           "2010-02"
          ],
          [
           28.049999999999997,
           "2010-03"
          ],
          [
           2.55,
           "2010-02"
          ],
          [
           8.25,
           "2011-10"
          ],
          [
           13.2,
           "2011-06"
          ],
          [
           2.1,
           "2011-10"
          ],
          [
           8.4,
           "2010-03"
          ],
          [
           24.900000000000002,
           "2011-07"
          ],
          [
           8.4,
           "2010-10"
          ],
          [
           12.5,
           "2010-03"
          ],
          [
           25.200000000000003,
           "2011-10"
          ],
          [
           2.95,
           "2010-02"
          ],
          [
           19.8,
           "2011-09"
          ],
          [
           25.200000000000003,
           "2011-07"
          ],
          [
           15,
           "2011-12"
          ],
          [
           20.8,
           "2011-06"
          ],
          [
           7.49,
           "2010-07"
          ],
          [
           14.75,
           "2010-09"
          ],
          [
           8.25,
           "2011-05"
          ],
          [
           10.2,
           "2010-04"
          ],
          [
           163.2,
           "2010-03"
          ],
          [
           5.04,
           "2010-06"
          ],
          [
           10.5,
           "2010-09"
          ],
          [
           15,
           "2010-12"
          ],
          [
           15.299999999999999,
           "2010-08"
          ],
          [
           0.85,
           "2011-03"
          ],
          [
           15,
           "2011-01"
          ],
          [
           41.6,
           "2011-09"
          ],
          [
           2.95,
           "2011-05"
          ],
          [
           165,
           "2010-07"
          ],
          [
           25.200000000000003,
           "2011-02"
          ],
          [
           0.85,
           "2010-11"
          ],
          [
           35.400000000000006,
           "2011-11"
          ],
          [
           2.95,
           "2011-10"
          ],
          [
           15,
           "2011-08"
          ],
          [
           1.95,
           "2010-11"
          ],
          [
           8.5,
           "2011-11"
          ],
          [
           17,
           "2011-05"
          ],
          [
           2.1,
           "2010-03"
          ],
          [
           2.95,
           "2010-12"
          ],
          [
           3.75,
           "2010-09"
          ],
          [
           7.5,
           "2010-10"
          ],
          [
           3.75,
           "2010-10"
          ],
          [
           16.5,
           "2010-10"
          ],
          [
           1.25,
           "2010-04"
          ],
          [
           0.42,
           "2010-07"
          ],
          [
           20.4,
           "2011-01"
          ],
          [
           6.959999999999999,
           "2011-11"
          ],
          [
           4.25,
           "2010-11"
          ],
          [
           3.75,
           "2010-12"
          ],
          [
           15,
           "2010-07"
          ],
          [
           8.5,
           "2011-08"
          ],
          [
           2.1,
           "2010-12"
          ],
          [
           17.700000000000003,
           "2011-10"
          ],
          [
           6.76,
           "2011-10"
          ],
          [
           19.8,
           "2011-08"
          ],
          [
           11.8,
           "2010-04"
          ],
          [
           13.200000000000001,
           "2011-09"
          ],
          [
           5.1,
           "2010-12"
          ],
          [
           3.3,
           "2010-09"
          ],
          [
           145,
           "2010-08"
          ],
          [
           3.9,
           "2011-09"
          ],
          [
           1.65,
           "2010-02"
          ],
          [
           10.05,
           "2010-12"
          ],
          [
           2.5,
           "2011-04"
          ],
          [
           16.8,
           "2010-09"
          ],
          [
           8.850000000000001,
           "2010-07"
          ],
          [
           1.68,
           "2011-09"
          ],
          [
           2.55,
           "2010-12"
          ],
          [
           3.75,
           "2010-03"
          ],
          [
           15.299999999999999,
           "2011-11"
          ],
          [
           3.75,
           "2010-11"
          ],
          [
           20.8,
           "2011-07"
          ],
          [
           20.8,
           "2011-05"
          ],
          [
           0.85,
           "2009-12"
          ],
          [
           7.800000000000001,
           "2009-12"
          ],
          [
           17.700000000000003,
           "2010-03"
          ],
          [
           17.85,
           "2010-06"
          ],
          [
           25.5,
           "2011-09"
          ],
          [
           1.55,
           "2011-06"
          ],
          [
           30,
           "2011-04"
          ],
          [
           2.95,
           "2010-04"
          ],
          [
           15.299999999999999,
           "2010-03"
          ],
          [
           10.2,
           "2010-12"
          ],
          [
           2.5,
           "2010-09"
          ],
          [
           90,
           "2011-09"
          ],
          [
           3.9,
           "2010-09"
          ],
          [
           10.2,
           "2010-12"
          ],
          [
           14.98,
           "2010-07"
          ],
          [
           10.5,
           "2010-08"
          ],
          [
           19.9,
           "2010-11"
          ],
          [
           15,
           "2011-11"
          ],
          [
           15,
           "2011-05"
          ],
          [
           20.16,
           "2010-06"
          ],
          [
           3.75,
           "2011-11"
          ],
          [
           7.5,
           "2010-06"
          ],
          [
           13.8,
           "2010-11"
          ],
          [
           4.95,
           "2010-06"
          ],
          [
           15,
           "2010-09"
          ],
          [
           17.700000000000003,
           "2010-09"
          ],
          [
           1.65,
           "2011-05"
          ],
          [
           7.5,
           "2010-07"
          ],
          [
           15,
           "2011-11"
          ],
          [
           12.600000000000001,
           "2010-11"
          ],
          [
           5.04,
           "2010-10"
          ],
          [
           2.95,
           "2011-11"
          ],
          [
           5.1,
           "2011-07"
          ],
          [
           8.2,
           "2011-09"
          ],
          [
           4.95,
           "2011-10"
          ],
          [
           7.95,
           "2010-11"
          ],
          [
           2.95,
           "2010-11"
          ],
          [
           30,
           "2010-01"
          ],
          [
           7.5,
           "2011-02"
          ],
          [
           27,
           "2009-12"
          ],
          [
           7.800000000000001,
           "2011-02"
          ],
          [
           207.50000000000003,
           "2011-05"
          ],
          [
           14.850000000000001,
           "2011-10"
          ],
          [
           30,
           "2009-12"
          ],
          [
           19.5,
           "2010-11"
          ],
          [
           16.5,
           "2011-07"
          ],
          [
           2.5,
           "2010-09"
          ],
          [
           2.1,
           "2011-08"
          ],
          [
           17.700000000000003,
           "2011-07"
          ],
          [
           25.5,
           "2010-10"
          ],
          [
           2.55,
           "2010-05"
          ],
          [
           15.9,
           "2011-02"
          ],
          [
           4.95,
           "2010-01"
          ],
          [
           17,
           "2010-11"
          ],
          [
           3.3,
           "2010-11"
          ],
          [
           15.299999999999999,
           "2010-07"
          ],
          [
           59.92,
           "2010-06"
          ],
          [
           2.5,
           "2011-04"
          ],
          [
           8.5,
           "2011-10"
          ],
          [
           6.25,
           "2009-12"
          ],
          [
           25.5,
           "2011-09"
          ],
          [
           30.599999999999998,
           "2010-05"
          ],
          [
           13.8,
           "2010-12"
          ],
          [
           5.04,
           "2011-10"
          ],
          [
           8.5,
           "2010-03"
          ],
          [
           162.72,
           "2011-10"
          ],
          [
           17,
           "2010-07"
          ],
          [
           6.95,
           "2010-11"
          ],
          [
           4.25,
           "2010-11"
          ],
          [
           11.8,
           "2010-06"
          ],
          [
           2.5,
           "2011-04"
          ],
          [
           30,
           "2010-07"
          ],
          [
           1.65,
           "2011-04"
          ],
          [
           4.95,
           "2011-06"
          ],
          [
           0.78,
           "2011-11"
          ],
          [
           9.95,
           "2010-01"
          ],
          [
           26.4,
           "2011-09"
          ],
          [
           1.25,
           "2010-11"
          ],
          [
           10.2,
           "2010-08"
          ],
          [
           34.68,
           "2011-10"
          ],
          [
           6.959999999999999,
           "2011-11"
          ],
          [
           2.5,
           "2009-12"
          ],
          [
           6.6,
           "2011-09"
          ],
          [
           17.700000000000003,
           "2011-06"
          ],
          [
           2.95,
           "2010-07"
          ],
          [
           15,
           "2011-11"
          ],
          [
           15.299999999999999,
           "2009-12"
          ],
          [
           1.65,
           "2011-04"
          ],
          [
           23.4,
           "2011-03"
          ],
          [
           17.700000000000003,
           "2011-02"
          ],
          [
           18.6,
           "2010-11"
          ],
          [
           1.7,
           "2010-09"
          ],
          [
           13.200000000000001,
           "2011-07"
          ],
          [
           9.899999999999999,
           "2010-07"
          ],
          [
           15,
           "2011-04"
          ],
          [
           25.5,
           "2009-12"
          ],
          [
           8.4,
           "2010-09"
          ],
          [
           7.49,
           "2010-03"
          ],
          [
           17.700000000000003,
           "2011-06"
          ],
          [
           2.52,
           "2011-03"
          ],
          [
           3.75,
           "2011-05"
          ],
          [
           3.25,
           "2009-12"
          ],
          [
           4.949999999999999,
           "2010-02"
          ],
          [
           10.5,
           "2011-10"
          ],
          [
           25.200000000000003,
           "2010-11"
          ],
          [
           11.9,
           "2010-05"
          ],
          [
           30,
           "2010-11"
          ],
          [
           17.4,
           "2011-08"
          ],
          [
           2.1,
           "2010-11"
          ],
          [
           19.799999999999997,
           "2011-10"
          ],
          [
           1.65,
           "2011-11"
          ],
          [
           15.600000000000001,
           "2010-06"
          ],
          [
           19.9,
           "2011-08"
          ],
          [
           0.39,
           "2011-07"
          ],
          [
           6.300000000000001,
           "2010-12"
          ],
          [
           15,
           "2011-03"
          ],
          [
           10.2,
           "2011-02"
          ],
          [
           30,
           "2011-07"
          ],
          [
           38.25,
           "2010-02"
          ],
          [
           5.85,
           "2010-09"
          ],
          [
           3.9000000000000004,
           "2011-02"
          ],
          [
           9.95,
           "2010-01"
          ],
          [
           25.5,
           "2011-03"
          ],
          [
           11.25,
           "2010-09"
          ],
          [
           20.28,
           "2011-10"
          ],
          [
           1.25,
           "2010-12"
          ],
          [
           10.08,
           "2011-02"
          ],
          [
           10.2,
           "2011-08"
          ],
          [
           2.95,
           "2010-07"
          ],
          [
           2.1,
           "2010-11"
          ],
          [
           4.5600000000000005,
           "2009-12"
          ],
          [
           5.95,
           "2010-06"
          ],
          [
           13.16,
           "2011-09"
          ],
          [
           3.35,
           "2010-03"
          ],
          [
           7.49,
           "2010-05"
          ],
          [
           2.9,
           "2011-08"
          ],
          [
           25.5,
           "2010-12"
          ],
          [
           9.9,
           "2011-11"
          ],
          [
           19.799999999999997,
           "2011-10"
          ],
          [
           3.9000000000000004,
           "2010-01"
          ],
          [
           19.8,
           "2011-08"
          ],
          [
           17,
           "2010-10"
          ],
          [
           10.2,
           "2011-07"
          ],
          [
           7.5,
           "2011-10"
          ],
          [
           27,
           "2009-12"
          ],
          [
           2.9,
           "2011-08"
          ],
          [
           17.700000000000003,
           "2009-12"
          ],
          [
           24.95,
           "2010-11"
          ],
          [
           30,
           "2010-07"
          ],
          [
           10.2,
           "2011-04"
          ],
          [
           17.4,
           "2011-01"
          ],
          [
           4.68,
           "2011-08"
          ],
          [
           7.6499999999999995,
           "2011-04"
          ],
          [
           4.95,
           "2011-01"
          ],
          [
           2.55,
           "2010-03"
          ],
          [
           6.45,
           "2010-08"
          ],
          [
           4.95,
           "2011-04"
          ],
          [
           10.2,
           "2011-11"
          ],
          [
           20.28,
           "2010-11"
          ],
          [
           10.2,
           "2011-06"
          ],
          [
           3.4,
           "2010-03"
          ],
          [
           16.5,
           "2011-07"
          ],
          [
           5.1,
           "2010-08"
          ],
          [
           3.75,
           "2010-12"
          ],
          [
           17,
           "2010-08"
          ],
          [
           92.16,
           "2010-07"
          ],
          [
           4.25,
           "2011-06"
          ],
          [
           17,
           "2010-01"
          ],
          [
           2.5,
           "2010-11"
          ],
          [
           17,
           "2010-01"
          ],
          [
           0.85,
           "2011-10"
          ],
          [
           1.65,
           "2011-10"
          ],
          [
           2.95,
           "2011-11"
          ],
          [
           2.75,
           "2010-04"
          ],
          [
           4.25,
           "2010-03"
          ],
          [
           15.299999999999999,
           "2010-05"
          ],
          [
           7.5,
           "2010-02"
          ],
          [
           2.5,
           "2011-12"
          ],
          [
           10.2,
           "2010-06"
          ],
          [
           2.1,
           "2011-02"
          ],
          [
           9.9,
           "2010-11"
          ],
          [
           1.7399999999999998,
           "2011-11"
          ],
          [
           6.64,
           "2011-10"
          ],
          [
           29.75,
           "2011-10"
          ],
          [
           175.2,
           "2010-06"
          ],
          [
           3.75,
           "2010-08"
          ],
          [
           3.12,
           "2011-08"
          ],
          [
           14.95,
           "2011-10"
          ],
          [
           12.600000000000001,
           "2010-02"
          ],
          [
           6.6,
           "2010-06"
          ],
          [
           10.5,
           "2011-07"
          ],
          [
           4,
           "2010-07"
          ],
          [
           45.9,
           "2010-04"
          ],
          [
           15,
           "2011-11"
          ],
          [
           2.95,
           "2011-04"
          ],
          [
           23.4,
           "2010-10"
          ],
          [
           15,
           "2011-09"
          ],
          [
           15.600000000000001,
           "2011-02"
          ],
          [
           1.95,
           "2010-12"
          ],
          [
           12.600000000000001,
           "2011-12"
          ],
          [
           0.55,
           "2010-04"
          ],
          [
           18.75,
           "2010-11"
          ],
          [
           5.1,
           "2010-02"
          ],
          [
           19.9,
           "2011-07"
          ],
          [
           8.5,
           "2011-12"
          ],
          [
           10.2,
           "2010-08"
          ],
          [
           3.4,
           "2010-05"
          ],
          [
           8.32,
           "2011-11"
          ],
          [
           8.5,
           "2011-09"
          ],
          [
           1.68,
           "2010-11"
          ],
          [
           9.899999999999999,
           "2010-02"
          ],
          [
           4.95,
           "2010-02"
          ],
          [
           3.3,
           "2010-12"
          ],
          [
           9.120000000000001,
           "2011-06"
          ],
          [
           9.899999999999999,
           "2011-02"
          ],
          [
           8.850000000000001,
           "2010-02"
          ],
          [
           16.6,
           "2011-06"
          ],
          [
           5.85,
           "2011-11"
          ],
          [
           17.34,
           "2011-10"
          ],
          [
           1.3,
           "2009-12"
          ],
          [
           24.96,
           "2011-12"
          ],
          [
           81.36,
           "2010-11"
          ],
          [
           5.04,
           "2010-06"
          ],
          [
           0.85,
           "2010-06"
          ],
          [
           8.850000000000001,
           "2011-06"
          ],
          [
           5.04,
           "2010-03"
          ],
          [
           5.75,
           "2011-11"
          ],
          [
           14.940000000000001,
           "2011-10"
          ],
          [
           4.2,
           "2010-06"
          ],
          [
           2.5,
           "2010-09"
          ],
          [
           30,
           "2011-03"
          ],
          [
           2.4899999999999998,
           "2011-11"
          ],
          [
           2.5,
           "2010-09"
          ],
          [
           8.5,
           "2011-05"
          ],
          [
           9.899999999999999,
           "2010-08"
          ],
          [
           2.55,
           "2011-09"
          ],
          [
           2.2800000000000002,
           "2011-08"
          ],
          [
           295,
           "2010-10"
          ],
          [
           39.9,
           "2011-11"
          ],
          [
           2.55,
           "2009-12"
          ],
          [
           20.28,
           "2011-01"
          ],
          [
           4.5600000000000005,
           "2011-09"
          ],
          [
           19.799999999999997,
           "2010-06"
          ],
          [
           3.38,
           "2011-07"
          ],
          [
           19.5,
           "2009-12"
          ],
          [
           10.08,
           "2010-08"
          ],
          [
           2.1,
           "2011-08"
          ],
          [
           3.95,
           "2010-01"
          ],
          [
           15,
           "2009-12"
          ],
          [
           26,
           "2011-06"
          ],
          [
           25.2,
           "2010-12"
          ],
          [
           15,
           "2011-08"
          ],
          [
           2.95,
           "2011-08"
          ],
          [
           1.45,
           "2011-11"
          ],
          [
           14.850000000000001,
           "2010-11"
          ],
          [
           8.25,
           "2010-10"
          ],
          [
           19.5,
           "2010-09"
          ],
          [
           31.8,
           "2011-03"
          ],
          [
           1.25,
           "2011-10"
          ],
          [
           4.25,
           "2011-04"
          ],
          [
           25,
           "2011-08"
          ],
          [
           15,
           "2010-12"
          ],
          [
           65.69999999999999,
           "2010-01"
          ],
          [
           7.5,
           "2011-10"
          ],
          [
           1.25,
           "2010-05"
          ],
          [
           20.4,
           "2010-10"
          ],
          [
           8.5,
           "2011-11"
          ],
          [
           47.7,
           "2011-07"
          ],
          [
           88.5,
           "2010-03"
          ],
          [
           5.9,
           "2010-10"
          ],
          [
           20.4,
           "2011-03"
          ],
          [
           1213.02,
           "2009-12"
          ],
          [
           4.949999999999999,
           "2011-11"
          ],
          [
           85,
           "2010-10"
          ],
          [
           3.75,
           "2010-02"
          ],
          [
           12.75,
           "2010-12"
          ],
          [
           7.6499999999999995,
           "2011-01"
          ],
          [
           30.599999999999998,
           "2010-05"
          ],
          [
           15,
           "2011-11"
          ],
          [
           1.25,
           "2010-12"
          ],
          [
           4.25,
           "2010-03"
          ],
          [
           102,
           "2010-06"
          ],
          [
           15,
           "2011-08"
          ],
          [
           15,
           "2010-08"
          ],
          [
           39,
           "2009-12"
          ],
          [
           10.2,
           "2010-02"
          ],
          [
           17.4,
           "2010-02"
          ],
          [
           7.5,
           "2011-02"
          ],
          [
           3.3,
           "2011-07"
          ],
          [
           2.88,
           "2011-05"
          ],
          [
           2.5,
           "2010-01"
          ],
          [
           15,
           "2011-01"
          ],
          [
           8.850000000000001,
           "2010-10"
          ],
          [
           174,
           "2011-01"
          ],
          [
           16.5,
           "2011-04"
          ],
          [
           1.65,
           "2011-09"
          ],
          [
           1.25,
           "2011-03"
          ],
          [
           5.04,
           "2010-05"
          ],
          [
           25.200000000000003,
           "2010-07"
          ],
          [
           3.36,
           "2011-09"
          ],
          [
           15,
           "2009-12"
          ],
          [
           97.5,
           "2011-01"
          ],
          [
           3.3,
           "2010-02"
          ],
          [
           33,
           "2011-10"
          ],
          [
           15,
           "2010-01"
          ],
          [
           70.80000000000001,
           "2011-09"
          ],
          [
           127.49999999999999,
           "2010-11"
          ],
          [
           19.9,
           "2009-12"
          ],
          [
           0.95,
           "2010-03"
          ],
          [
           0.95,
           "2010-10"
          ],
          [
           18.75,
           "2009-12"
          ],
          [
           30,
           "2011-11"
          ],
          [
           33.75,
           "2011-09"
          ],
          [
           15.600000000000001,
           "2011-05"
          ],
          [
           165.60000000000002,
           "2010-10"
          ],
          [
           6.6,
           "2010-05"
          ],
          [
           1.7,
           "2010-12"
          ],
          [
           15,
           "2011-11"
          ],
          [
           2.5,
           "2010-02"
          ],
          [
           4.25,
           "2011-06"
          ],
          [
           46.800000000000004,
           "2010-12"
          ],
          [
           8.5,
           "2010-08"
          ],
          [
           25,
           "2010-09"
          ],
          [
           3.3,
           "2011-11"
          ],
          [
           1.45,
           "2010-08"
          ],
          [
           0.84,
           "2011-07"
          ],
          [
           4.35,
           "2010-05"
          ],
          [
           30,
           "2010-12"
          ],
          [
           4.25,
           "2011-11"
          ],
          [
           15.9,
           "2010-03"
          ],
          [
           94.64,
           "2010-09"
          ],
          [
           40.8,
           "2010-12"
          ],
          [
           20.28,
           "2011-09"
          ],
          [
           444.5,
           "2010-05"
          ],
          [
           0.65,
           "2011-11"
          ],
          [
           12.48,
           "2011-10"
          ],
          [
           8.850000000000001,
           "2010-10"
          ],
          [
           8.5,
           "2011-12"
          ],
          [
           19.5,
           "2010-01"
          ],
          [
           19.799999999999997,
           "2011-10"
          ],
          [
           4.25,
           "2010-11"
          ],
          [
           17,
           "2011-10"
          ],
          [
           13.2,
           "2010-02"
          ],
          [
           12.5,
           "2011-07"
          ],
          [
           12.75,
           "2011-08"
          ],
          [
           10.2,
           "2011-11"
          ],
          [
           76.32000000000001,
           "2010-04"
          ],
          [
           13.5,
           "2010-01"
          ],
          [
           3.3000000000000003,
           "2010-10"
          ],
          [
           1.25,
           "2011-10"
          ],
          [
           1.25,
           "2009-12"
          ],
          [
           6.64,
           "2011-10"
          ],
          [
           15.299999999999999,
           "2010-10"
          ],
          [
           2.1,
           "2011-07"
          ],
          [
           3.75,
           "2010-10"
          ],
          [
           15,
           "2011-02"
          ],
          [
           9.899999999999999,
           "2011-05"
          ],
          [
           5.9,
           "2011-06"
          ],
          [
           19.8,
           "2010-10"
          ],
          [
           0.55,
           "2011-09"
          ],
          [
           39.599999999999994,
           "2010-08"
          ],
          [
           5.45,
           "2011-02"
          ],
          [
           4.2,
           "2010-01"
          ],
          [
           15.8,
           "2011-03"
          ],
          [
           17.700000000000003,
           "2010-09"
          ],
          [
           5.04,
           "2010-11"
          ],
          [
           47.7,
           "2010-11"
          ],
          [
           1.3,
           "2011-02"
          ],
          [
           39.480000000000004,
           "2011-06"
          ],
          [
           2.55,
           "2011-10"
          ],
          [
           26.400000000000002,
           "2010-07"
          ],
          [
           25.4,
           "2010-11"
          ],
          [
           19.5,
           "2010-07"
          ],
          [
           72,
           "2010-05"
          ],
          [
           13.52,
           "2010-12"
          ],
          [
           91.6,
           "2011-09"
          ],
          [
           12.600000000000001,
           "2010-10"
          ],
          [
           4.2,
           "2009-12"
          ],
          [
           4.95,
           "2011-01"
          ],
          [
           17,
           "2010-03"
          ],
          [
           5.04,
           "2011-03"
          ],
          [
           8.5,
           "2011-06"
          ],
          [
           10.2,
           "2010-10"
          ],
          [
           45,
           "2011-07"
          ],
          [
           15,
           "2010-01"
          ],
          [
           13.8,
           "2010-09"
          ],
          [
           24.900000000000002,
           "2011-10"
          ],
          [
           15.299999999999999,
           "2010-11"
          ],
          [
           2.5,
           "2011-11"
          ],
          [
           5.9,
           "2010-06"
          ],
          [
           6.8,
           "2010-07"
          ],
          [
           1.7399999999999998,
           "2011-09"
          ],
          [
           30.6,
           "2011-08"
          ],
          [
           20.16,
           "2009-12"
          ],
          [
           6.76,
           "2010-11"
          ],
          [
           19.5,
           "2010-01"
          ],
          [
           1.65,
           "2010-10"
          ],
          [
           15,
           "2010-02"
          ],
          [
           15,
           "2011-05"
          ],
          [
           177.60000000000002,
           "2010-04"
          ],
          [
           12.5,
           "2010-01"
          ],
          [
           7.95,
           "2010-06"
          ],
          [
           30,
           "2011-08"
          ],
          [
           17.85,
           "2010-04"
          ],
          [
           5.04,
           "2010-02"
          ],
          [
           5.1,
           "2010-11"
          ],
          [
           17.700000000000003,
           "2010-03"
          ],
          [
           8.5,
           "2011-07"
          ],
          [
           4.25,
           "2010-10"
          ],
          [
           7.5,
           "2011-08"
          ],
          [
           19.8,
           "2011-10"
          ],
          [
           102,
           "2011-02"
          ],
          [
           0.95,
           "2011-07"
          ],
          [
           2.5,
           "2010-10"
          ],
          [
           17.700000000000003,
           "2011-10"
          ],
          [
           21.5,
           "2011-08"
          ],
          [
           2.55,
           "2010-05"
          ],
          [
           2.55,
           "2010-08"
          ],
          [
           11.9,
           "2011-03"
          ],
          [
           16.5,
           "2011-06"
          ],
          [
           1.65,
           "2010-07"
          ],
          [
           13.2,
           "2010-11"
          ],
          [
           1.25,
           "2010-07"
          ],
          [
           20.28,
           "2010-05"
          ],
          [
           15,
           "2010-11"
          ],
          [
           15,
           "2010-04"
          ],
          [
           15.600000000000001,
           "2011-10"
          ],
          [
           3.4,
           "2011-09"
          ],
          [
           30.599999999999998,
           "2009-12"
          ],
          [
           2.1,
           "2011-01"
          ],
          [
           1.65,
           "2010-10"
          ],
          [
           15.9,
           "2009-12"
          ],
          [
           14.850000000000001,
           "2010-04"
          ],
          [
           59,
           "2011-06"
          ],
          [
           13.5,
           "2010-05"
          ],
          [
           1.25,
           "2010-11"
          ],
          [
           49.5,
           "2011-04"
          ],
          [
           20.75,
           "2011-05"
          ],
          [
           1.7,
           "2010-06"
          ],
          [
           1.1,
           "2011-04"
          ],
          [
           41.6,
           "2011-05"
          ],
          [
           31.200000000000003,
           "2011-08"
          ],
          [
           16.5,
           "2011-11"
          ],
          [
           7.5,
           "2011-03"
          ],
          [
           19.799999999999997,
           "2011-07"
          ],
          [
           23.85,
           "2010-11"
          ],
          [
           3.9,
           "2011-11"
          ],
          [
           2.52,
           "2011-12"
          ],
          [
           15,
           "2011-01"
          ],
          [
           10.2,
           "2011-04"
          ],
          [
           15.79,
           "2011-11"
          ],
          [
           19.799999999999997,
           "2011-08"
          ],
          [
           19.799999999999997,
           "2010-11"
          ],
          [
           4.949999999999999,
           "2011-11"
          ],
          [
           8.7,
           "2010-09"
          ],
          [
           15.9,
           "2011-02"
          ],
          [
           4.15,
           "2011-07"
          ],
          [
           20,
           "2010-07"
          ],
          [
           17.700000000000003,
           "2011-10"
          ],
          [
           15,
           "2011-11"
          ],
          [
           3.3,
           "2010-10"
          ],
          [
           15,
           "2010-05"
          ],
          [
           23.4,
           "2011-04"
          ],
          [
           19.92,
           "2011-11"
          ],
          [
           1.25,
           "2010-10"
          ],
          [
           30,
           "2010-07"
          ],
          [
           0.84,
           "2010-11"
          ],
          [
           2.25,
           "2010-12"
          ],
          [
           20.8,
           "2011-11"
          ],
          [
           13.919999999999998,
           "2011-05"
          ],
          [
           1.1,
           "2010-04"
          ],
          [
           9.3,
           "2010-05"
          ],
          [
           19.5,
           "2011-02"
          ],
          [
           2.55,
           "2009-12"
          ],
          [
           23.400000000000002,
           "2011-11"
          ],
          [
           10.2,
           "2011-10"
          ],
          [
           33,
           "2011-08"
          ],
          [
           7.6499999999999995,
           "2009-12"
          ],
          [
           1.26,
           "2010-12"
          ],
          [
           3.3,
           "2010-11"
          ],
          [
           122.39999999999999,
           "2010-12"
          ],
          [
           4.25,
           "2010-12"
          ],
          [
           11.9,
           "2011-04"
          ],
          [
           1.95,
           "2011-06"
          ],
          [
           17.4,
           "2010-07"
          ],
          [
           1.56,
           "2011-10"
          ],
          [
           5.04,
           "2009-12"
          ],
          [
           3.75,
           "2009-12"
          ],
          [
           23.9,
           "2011-06"
          ],
          [
           16.5,
           "2010-10"
          ],
          [
           15,
           "2011-07"
          ],
          [
           45,
           "2010-09"
          ],
          [
           1.25,
           "2011-05"
          ],
          [
           15,
           "2011-07"
          ],
          [
           8.5,
           "2011-06"
          ],
          [
           3.38,
           "2011-11"
          ],
          [
           25.200000000000003,
           "2011-08"
          ],
          [
           1.3,
           "2010-11"
          ],
          [
           13.200000000000001,
           "2011-10"
          ],
          [
           1.7,
           "2011-02"
          ],
          [
           7.5,
           "2010-01"
          ],
          [
           15,
           "2010-12"
          ],
          [
           2.5,
           "2011-11"
          ],
          [
           15,
           "2010-11"
          ],
          [
           0.42,
           "2010-04"
          ],
          [
           5.9,
           "2010-06"
          ],
          [
           46.8,
           "2010-10"
          ],
          [
           50.4,
           "2011-03"
          ],
          [
           15,
           "2010-08"
          ],
          [
           15.12,
           "2010-11"
          ],
          [
           85.32000000000001,
           "2011-12"
          ],
          [
           0.85,
           "2010-11"
          ],
          [
           1.25,
           "2010-12"
          ],
          [
           24.900000000000002,
           "2011-10"
          ],
          [
           2.1,
           "2010-12"
          ],
          [
           7.95,
           "2009-12"
          ],
          [
           12.75,
           "2009-12"
          ],
          [
           15,
           "2011-10"
          ],
          [
           2.34,
           "2011-11"
          ],
          [
           5.04,
           "2011-04"
          ],
          [
           50.4,
           "2011-06"
          ],
          [
           39,
           "2010-03"
          ],
          [
           1.45,
           "2011-10"
          ],
          [
           5,
           "2010-03"
          ],
          [
           8.25,
           "2011-08"
          ],
          [
           15,
           "2010-01"
          ],
          [
           15,
           "2010-10"
          ],
          [
           1.69,
           "2010-03"
          ],
          [
           8.25,
           "2010-11"
          ],
          [
           384,
           "2011-11"
          ],
          [
           8.75,
           "2009-12"
          ],
          [
           5.1,
           "2010-11"
          ],
          [
           17.4,
           "2011-02"
          ],
          [
           27.04,
           "2010-06"
          ],
          [
           5.04,
           "2010-11"
          ],
          [
           17.700000000000003,
           "2011-12"
          ],
          [
           25.200000000000003,
           "2010-09"
          ],
          [
           33.2,
           "2011-03"
          ],
          [
           2.95,
           "2010-08"
          ],
          [
           4.65,
           "2011-08"
          ],
          [
           19.5,
           "2011-02"
          ],
          [
           25,
           "2011-10"
          ],
          [
           2.6,
           "2011-10"
          ],
          [
           1.95,
           "2011-12"
          ],
          [
           4.2,
           "2010-12"
          ],
          [
           0.55,
           "2010-11"
          ],
          [
           0.84,
           "2011-07"
          ],
          [
           5.95,
           "2010-07"
          ]
         ],
         "hovertemplate": "Country=United Kingdom<br>Quantity=%{x}<br>Price=%{y}<br>Revenue=%{customdata[0]}<br>Month=%{customdata[1]}<extra></extra>",
         "legendgroup": "United Kingdom",
         "marker": {
          "color": "#636efa",
          "size": {
           "bdata": "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",
           "dtype": "f8"
          },
          "sizemode": "area",
          "sizeref": 3.03255,
          "symbol": "circle"
         },
         "mode": "markers",
         "name": "United Kingdom",
         "orientation": "v",
         "showlegend": true,
         "type": "scatter",
         "x": {
          "bdata": "AQCQAAYAYAADAAEAAwACADAAQA7wAAIADAAKABQAAQAFAAIABAAMAAwAAQACAAEAGAABAAMADAABAAEACAABAAEAAgABAAUACgABAAYAAgAGAAEAPAAGAAIAAgAIABgAAwADAAwAAwAkABgABQAYAAoAAQADAAEAAgAKAAIADAAKAAwABAAGAAEAJAABAAEAAQABAAMABAABAAIADAAMAAwADAB+AAEAAwB4AAEAAQAKAAwABgAMAAoAAQAMAAEAAQABAAQAAQAGABAABgABAAIADAABAAEADAABAAQABgAMAAIABgAwAAwADAACABgAEAAMAAwABAABAAQACgAKAAYACAAMAAIAkAAYACQAAQAlAAEAYAAwAAIAAQADAAIAAQABAAwADAAEABgAAQAMAAEADAACAAoAAgACAAgAMAAgACgAAgABABgABAAGAAEABAAMAEgAAQAKAAYAAQAYAAIACgABAAwADAAFABgAAgAEAAQABAB4ABAAMAABACQAAQADABkABAADAAEABAADAAIACgAYAAYAAQAIABgAVAABAAQAAQAKAAEAAwABAAIADABIAAoADAAEAAwAAwAGAAYAAQACAAEABgABAAQAAwABAAUAAQABAAwADAABAAYAAgACAAQABQACAAoAAQACAA8AOAACABgABgABAAoADAADABgAAgAyAAYAEAADAAQAAwAEAAIAAQAGAAIACgAgAAYACAAEAAsAAQAFAAgAAQAEAAYABAAKAAwAAQAEAAwAAgAKAAEABQABAAQAQAAMABkADAAGAAEABAAUAAEAZAAMAAEADAABAAwAAQACAAIAAQABAAEABgABAAoAAQABABgAGAAFAAMADAAKAAEABgAEAAQABAAYAAIAAgBkAAIAAQADAAIACAADAAQAAQABAAYAAwAKAAoAAQAMAAYAAwACAAEAGAABAAYADAACABgAAgAMAAIAGQACAAwADAAwAAEABgAEAAEADAAGAAEABgAMAAYADAABAAIACgABAAEAAQAYAAIABAAMADIAAwAIAAoACgACAAEABgACAAEAAgABAAIAAgAGAAgAAgAKAAUABgAMAAQADAABADAAAgABAAEABAACABgAAQABAAIAAQAQAAEADAAMABgAAgAEAAYAAQAMABIAAQAMAAYABAACABgABgAMAAoABAABAAYABgABAAEAAwAZAAwAAgAYAAwAAQAMAAEAGAACAAEAAwAMAAwAGAADAAMABgABAAIAAwAMAAEAGAAMAAEAAQAMAAEABAABAAEAAgAGAAIADAAGAAQAAgAMAAIABAACAAYAAQAYAAwADAAMAAkAAQADAAEAAQAMAAwADAAEAAoAAgABAAIAAAEBAAQAAgACAAEAAQABAAUABQAGAAYAAgAMAAEAAgAGAAgABQAQAAMACAABAAYABAAZAAEAEgAMAAEADAAMABgAAQAGAAEABQACAAIACgAMAAQABAAKAAQABgABAAIAMAAGAAMABAADAAYAAgAMABgADAABAAMADAABAAYAAgACABgAAwACAAIABgADAAYAAQATAAEADAAYAAwAAgAGADAABQABAAwACAA8AAwAAQABAAMABQAGAAQAAQABAAQABAAGAAIAAQAYAAoABgAeAAIAGAABAAMACgABAAEAAwAkAAwAAQABABgABAAEABQABAAMAAYAAgAYAAIADAADAHgAAgABAAEADAAMAAgADAAyAAIABAAMABgAMgACAAEAAQAFABgACQAYADAABAACAAwAAgAFAEgACgAUAAIAAQACAAMACAABAAIAOAAwAAwARgABAAYAAwAKAAoADAAFAAIACAAKAAMADABIAAIABgABAAEACAAGAAEAAQAMAAYAAgAEAAEAGAABAAIABAAGAAwABgACAAwAAQAwAAQABgBkAAgAFAAGAAIAAQAEAAwAAQAMAAwADAAEAAoABgACAAIACAAGAAQAMAAEAAoAAQAMAAwAYAAKAAEAGAADAAwABgAGAAoAAQACAAQADAABAAIABgACAAEAAQACAAoAAQAIAAEADAAMAAwAGAAEAAwAAQABAAIAAwAUAAIAAQAeAAUAAgACABQADwAKAAIADAADAAIABgAEAAwAAQAMAAwAAwAGAAIAAQAQAAYADAACAAwADAACAAEACAACAAEACgAwAAIAAgAKAAEAJAAEABQACQADAAIAMAABAAIAAQAMAAQADAABAAIACgAEAAwAAQAEAAoAAgAMAAIAGAACAAYADAACAAwAAQACABgAeAAMACQAbAABAAEABgABAAEAAQAMAAYADAB4ABQAAQAEAAUADAAEAAEABQAwAAcABgAMABAADAAGAAwACAABAAEACgACAAQAAQACAAEAAgABAA==",
          "dtype": "i2"
         },
         "xaxis": "x",
         "y": {
          "bdata": "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",
          "dtype": "f8"
         },
         "yaxis": "y"
        },
        {
         "customdata": [
          [
           12.600000000000001,
           "2011-04"
          ],
          [
           12.600000000000001,
           "2011-11"
          ],
          [
           0.42,
           "2011-03"
          ],
          [
           10.2,
           "2011-11"
          ],
          [
           20,
           "2011-03"
          ],
          [
           22.5,
           "2010-09"
          ],
          [
           23.12,
           "2011-06"
          ],
          [
           31.9,
           "2011-01"
          ],
          [
           19.799999999999997,
           "2010-05"
          ],
          [
           17.4,
           "2011-12"
          ],
          [
           39.599999999999994,
           "2011-03"
          ],
          [
           30,
           "2010-01"
          ],
          [
           26.4,
           "2011-11"
          ],
          [
           12.600000000000001,
           "2011-04"
          ],
          [
           26.4,
           "2011-06"
          ],
          [
           19.5,
           "2010-11"
          ],
          [
           44.75,
           "2011-01"
          ],
          [
           0.65,
           "2010-11"
          ],
          [
           3.75,
           "2011-11"
          ]
         ],
         "hovertemplate": "Country=France<br>Quantity=%{x}<br>Price=%{y}<br>Revenue=%{customdata[0]}<br>Month=%{customdata[1]}<extra></extra>",
         "legendgroup": "France",
         "marker": {
          "color": "#EF553B",
          "size": {
           "bdata": "NDMzMzMzKUA0MzMzMzMpQOF6FK5H4do/ZmZmZmZmJEAAAAAAAAA0QAAAAAAAgDZAH4XrUbgeN0BmZmZmZuY/QMzMzMzMzDNAZmZmZmZmMUDMzMzMzMxDQAAAAAAAAD5AZmZmZmZmOkA0MzMzMzMpQGZmZmZmZjpAAAAAAACAM0AAAAAAAGBGQM3MzMzMzOQ/AAAAAAAADkA=",
           "dtype": "f8"
          },
          "sizemode": "area",
          "sizeref": 3.03255,
          "symbol": "circle"
         },
         "mode": "markers",
         "name": "France",
         "orientation": "v",
         "showlegend": true,
         "type": "scatter",
         "x": {
          "bdata": "BgYBDBAGCAIMDBgIEAYQCgUBAw==",
          "dtype": "i1"
         },
         "xaxis": "x",
         "y": {
          "bdata": "zczMzMzMAEDNzMzMzMwAQOF6FK5H4do/MzMzMzMz6z8AAAAAAAD0PwAAAAAAAA5AH4XrUbgeB0BmZmZmZuYvQGZmZmZmZvo/MzMzMzMz9z9mZmZmZmb6PwAAAAAAAA5AZmZmZmZm+j/NzMzMzMwAQGZmZmZmZvo/MzMzMzMz/z9mZmZmZuYhQM3MzMzMzOQ/AAAAAAAA9D8=",
          "dtype": "f8"
         },
         "yaxis": "y"
        },
        {
         "customdata": [
          [
           88.80000000000001,
           "2010-04"
          ],
          [
           212.48,
           "2011-11"
          ],
          [
           76.32000000000001,
           "2010-04"
          ],
          [
           17,
           "2010-09"
          ]
         ],
         "hovertemplate": "Country=Sweden<br>Quantity=%{x}<br>Price=%{y}<br>Revenue=%{customdata[0]}<br>Month=%{customdata[1]}<extra></extra>",
         "legendgroup": "Sweden",
         "marker": {
          "color": "#00cc96",
          "size": {
           "bdata": "NDMzMzMzVkCPwvUoXI9qQBWuR+F6FFNAAAAAAAAAMUA=",
           "dtype": "f8"
          },
          "sizemode": "area",
          "sizeref": 3.03255,
          "symbol": "circle"
         },
         "mode": "markers",
         "name": "Sweden",
         "orientation": "v",
         "showlegend": true,
         "type": "scatter",
         "x": {
          "bdata": "MAAAAUgAFAA=",
          "dtype": "i2"
         },
         "xaxis": "x",
         "y": {
          "bdata": "mpmZmZmZ/T+PwvUoXI/qP/YoXI/C9fA/MzMzMzMz6z8=",
          "dtype": "f8"
         },
         "yaxis": "y"
        },
        {
         "customdata": [
          [
           15,
           "2010-12"
          ],
          [
           9.959999999999999,
           "2011-10"
          ],
          [
           15,
           "2011-09"
          ],
          [
           5.04,
           "2010-10"
          ],
          [
           17.700000000000003,
           "2010-10"
          ]
         ],
         "hovertemplate": "Country=Portugal<br>Quantity=%{x}<br>Price=%{y}<br>Revenue=%{customdata[0]}<br>Month=%{customdata[1]}<extra></extra>",
         "legendgroup": "Portugal",
         "marker": {
          "color": "#ab63fa",
          "size": {
           "bdata": "AAAAAAAALkDrUbgehesjQAAAAAAAAC5AKVyPwvUoFEA0MzMzM7MxQA==",
           "dtype": "f8"
          },
          "sizemode": "area",
          "sizeref": 3.03255,
          "symbol": "circle"
         },
         "mode": "markers",
         "name": "Portugal",
         "orientation": "v",
         "showlegend": true,
         "type": "scatter",
         "x": {
          "bdata": "DAwMDAY=",
          "dtype": "i1"
         },
         "xaxis": "x",
         "y": {
          "bdata": "AAAAAAAA9D+PwvUoXI/qPwAAAAAAAPQ/4XoUrkfh2j+amZmZmZkHQA==",
          "dtype": "f8"
         },
         "yaxis": "y"
        },
        {
         "customdata": [
          [
           15,
           "2010-06"
          ],
          [
           15.9,
           "2010-12"
          ],
          [
           17.85,
           "2010-01"
          ],
          [
           19.35,
           "2010-05"
          ],
          [
           13.200000000000001,
           "2011-10"
          ],
          [
           16.8,
           "2010-04"
          ],
          [
           45,
           "2010-10"
          ],
          [
           15.9,
           "2010-10"
          ],
          [
           290,
           "2011-01"
          ],
          [
           16.65,
           "2011-11"
          ],
          [
           14.98,
           "2010-05"
          ],
          [
           138.24,
           "2011-09"
          ],
          [
           34.5,
           "2010-10"
          ],
          [
           18,
           "2011-04"
          ],
          [
           20,
           "2011-08"
          ],
          [
           67.5,
           "2011-10"
          ],
          [
           25.200000000000003,
           "2010-11"
          ],
          [
           17.700000000000003,
           "2011-09"
          ],
          [
           50,
           "2011-09"
          ],
          [
           15,
           "2010-08"
          ],
          [
           92.5,
           "2010-09"
          ]
         ],
         "hovertemplate": "Country=EIRE<br>Quantity=%{x}<br>Price=%{y}<br>Revenue=%{customdata[0]}<br>Month=%{customdata[1]}<extra></extra>",
         "legendgroup": "EIRE",
         "marker": {
          "color": "#FFA15A",
          "size": {
           "bdata": "AAAAAAAALkDNzMzMzMwvQJqZmZmZ2TFAmpmZmZlZM0BnZmZmZmYqQM3MzMzMzDBAAAAAAACARkDNzMzMzMwvQAAAAAAAIHJAZmZmZmamMED2KFyPwvUtQEjhehSuR2FAAAAAAABAQUAAAAAAAAAyQAAAAAAAADRAAAAAAADgUEA0MzMzMzM5QDQzMzMzszFAAAAAAAAASUAAAAAAAAAuQAAAAAAAIFdA",
           "dtype": "f8"
          },
          "sizemode": "area",
          "sizeref": 3.03255,
          "symbol": "circle"
         },
         "mode": "markers",
         "name": "EIRE",
         "orientation": "v",
         "showlegend": true,
         "type": "scatter",
         "x": {
          "bdata": "DAACAAMAAwAYAAgADAACAMgAAQACAMAACgAIABAACgAMAAYAAQAMADIA",
          "dtype": "i2"
         },
         "xaxis": "x",
         "y": {
          "bdata": "AAAAAAAA9D/NzMzMzMwfQM3MzMzMzBdAzczMzMzMGUCamZmZmZnhP83MzMzMzABAAAAAAAAADkDNzMzMzMwfQDMzMzMzM/c/ZmZmZmamMED2KFyPwvUdQArXo3A9Cuc/mpmZmZmZC0AAAAAAAAACQAAAAAAAAPQ/AAAAAAAAG0DNzMzMzMwAQJqZmZmZmQdAAAAAAAAASUAAAAAAAAD0P5qZmZmZmf0/",
          "dtype": "f8"
         },
         "yaxis": "y"
        },
        {
         "customdata": [
          [
           4.95,
           "2009-12"
          ],
          [
           13.8,
           "2011-05"
          ],
          [
           305.28000000000003,
           "2011-10"
          ],
          [
           106,
           "2011-01"
          ],
          [
           1.25,
           "2010-09"
          ],
          [
           44.400000000000006,
           "2011-01"
          ],
          [
           3.3,
           "2010-07"
          ],
          [
           82.5,
           "2011-05"
          ],
          [
           20.1,
           "2010-05"
          ],
          [
           59.4,
           "2011-06"
          ]
         ],
         "hovertemplate": "Country=Netherlands<br>Quantity=%{x}<br>Price=%{y}<br>Revenue=%{customdata[0]}<br>Month=%{customdata[1]}<extra></extra>",
         "legendgroup": "Netherlands",
         "marker": {
          "color": "#19d3f3",
          "size": {
           "bdata": "zczMzMzME0CamZmZmZkrQBWuR+F6FHNAAAAAAACAWkAAAAAAAAD0PzQzMzMzM0ZAZmZmZmZmCkAAAAAAAKBUQJqZmZmZGTRAMzMzMzOzTUA=",
           "dtype": "f8"
          },
          "sizemode": "area",
          "sizeref": 3.03255,
          "symbol": "circle"
         },
         "mode": "markers",
         "name": "Netherlands",
         "orientation": "v",
         "showlegend": true,
         "type": "scatter",
         "x": {
          "bdata": "AQAEACABZAABABgAAgAyAAYAJAA=",
          "dtype": "i2"
         },
         "xaxis": "x",
         "y": {
          "bdata": "zczMzMzME0CamZmZmZkLQPYoXI/C9fA/9ihcj8L18D8AAAAAAAD0P5qZmZmZmf0/ZmZmZmZm+j9mZmZmZmb6P83MzMzMzApAZmZmZmZm+j8=",
          "dtype": "f8"
         },
         "yaxis": "y"
        },
        {
         "customdata": [
          [
           19.9,
           "2011-11"
          ],
          [
           7.800000000000001,
           "2011-02"
          ]
         ],
         "hovertemplate": "Country=Poland<br>Quantity=%{x}<br>Price=%{y}<br>Revenue=%{customdata[0]}<br>Month=%{customdata[1]}<extra></extra>",
         "legendgroup": "Poland",
         "marker": {
          "color": "#FF6692",
          "size": {
           "bdata": "ZmZmZmbmM0A0MzMzMzMfQA==",
           "dtype": "f8"
          },
          "sizemode": "area",
          "sizeref": 3.03255,
          "symbol": "circle"
         },
         "mode": "markers",
         "name": "Poland",
         "orientation": "v",
         "showlegend": true,
         "type": "scatter",
         "x": {
          "bdata": "Agw=",
          "dtype": "i1"
         },
         "xaxis": "x",
         "y": {
          "bdata": "ZmZmZmbmI0DNzMzMzMzkPw==",
          "dtype": "f8"
         },
         "yaxis": "y"
        },
        {
         "customdata": [
          [
           12.600000000000001,
           "2010-02"
          ],
          [
           17.4,
           "2011-08"
          ],
          [
           10,
           "2011-11"
          ],
          [
           15,
           "2011-06"
          ],
          [
           599.5,
           "2011-10"
          ],
          [
           15.299999999999999,
           "2009-12"
          ],
          [
           17.4,
           "2010-10"
          ],
          [
           10.2,
           "2011-09"
          ],
          [
           20.4,
           "2010-12"
          ],
          [
           13.200000000000001,
           "2011-01"
          ],
          [
           12.5,
           "2010-09"
          ],
          [
           30.599999999999998,
           "2010-03"
          ],
          [
           15,
           "2010-11"
          ],
          [
           17.700000000000003,
           "2011-01"
          ],
          [
           10.5,
           "2010-03"
          ],
          [
           12.48,
           "2011-10"
          ],
          [
           35.400000000000006,
           "2011-08"
          ]
         ],
         "hovertemplate": "Country=Germany<br>Quantity=%{x}<br>Price=%{y}<br>Revenue=%{customdata[0]}<br>Month=%{customdata[1]}<extra></extra>",
         "legendgroup": "Germany",
         "marker": {
          "color": "#B6E880",
          "size": {
           "bdata": "NDMzMzMzKUBmZmZmZmYxQAAAAAAAACRAAAAAAAAALkAAAAAAALyCQJmZmZmZmS5AZmZmZmZmMUBmZmZmZmYkQGZmZmZmZjRAZ2ZmZmZmKkAAAAAAAAApQJmZmZmZmT5AAAAAAAAALkA0MzMzM7MxQAAAAAAAACVA9ihcj8L1KEA0MzMzM7NBQA==",
           "dtype": "f8"
          },
          "sizemode": "area",
          "sizeref": 3.03255,
          "symbol": "circle"
         },
         "mode": "markers",
         "name": "Germany",
         "orientation": "v",
         "showlegend": true,
         "type": "scatter",
         "x": {
          "bdata": "BgwIDAEGDAwYGAokBAYZBgw=",
          "dtype": "i1"
         },
         "xaxis": "x",
         "y": {
          "bdata": "zczMzMzMAEAzMzMzMzP3PwAAAAAAAPQ/AAAAAAAA9D8AAAAAALyCQGZmZmZmZgRAMzMzMzMz9z8zMzMzMzPrPzMzMzMzM+s/mpmZmZmZ4T8AAAAAAAD0PzMzMzMzM+s/AAAAAAAADkCamZmZmZkHQOF6FK5H4do/pHA9CtejAECamZmZmZkHQA==",
          "dtype": "f8"
         },
         "yaxis": "y"
        },
        {
         "customdata": [
          [
           17.700000000000003,
           "2011-10"
          ],
          [
           15,
           "2011-08"
          ],
          [
           12.600000000000001,
           "2010-09"
          ],
          [
           13.200000000000001,
           "2011-04"
          ],
          [
           19.799999999999997,
           "2011-10"
          ]
         ],
         "hovertemplate": "Country=Switzerland<br>Quantity=%{x}<br>Price=%{y}<br>Revenue=%{customdata[0]}<br>Month=%{customdata[1]}<extra></extra>",
         "legendgroup": "Switzerland",
         "marker": {
          "color": "#FF97FF",
          "size": {
           "bdata": "NDMzMzOzMUAAAAAAAAAuQDQzMzMzMylAZ2ZmZmZmKkDMzMzMzMwzQA==",
           "dtype": "f8"
          },
          "sizemode": "area",
          "sizeref": 3.03255,
          "symbol": "circle"
         },
         "mode": "markers",
         "name": "Switzerland",
         "orientation": "v",
         "showlegend": true,
         "type": "scatter",
         "x": {
          "bdata": "BgQGGAw=",
          "dtype": "i1"
         },
         "xaxis": "x",
         "y": {
          "bdata": "mpmZmZmZB0AAAAAAAAAOQM3MzMzMzABAmpmZmZmZ4T9mZmZmZmb6Pw==",
          "dtype": "f8"
         },
         "yaxis": "y"
        },
        {
         "customdata": [
          [
           20.8,
           "2011-06"
          ],
          [
           10.5,
           "2010-03"
          ],
          [
           10.5,
           "2011-12"
          ],
          [
           45,
           "2011-11"
          ]
         ],
         "hovertemplate": "Country=Belgium<br>Quantity=%{x}<br>Price=%{y}<br>Revenue=%{customdata[0]}<br>Month=%{customdata[1]}<extra></extra>",
         "legendgroup": "Belgium",
         "marker": {
          "color": "#FECB52",
          "size": {
           "bdata": "zczMzMzMNEAAAAAAAAAlQAAAAAAAACVAAAAAAACARkA=",
           "dtype": "f8"
          },
          "sizemode": "area",
          "sizeref": 3.03255,
          "symbol": "circle"
         },
         "mode": "markers",
         "name": "Belgium",
         "orientation": "v",
         "showlegend": true,
         "type": "scatter",
         "x": {
          "bdata": "ChkZDA==",
          "dtype": "i1"
         },
         "xaxis": "x",
         "y": {
          "bdata": "pHA9CtejAEDhehSuR+HaP+F6FK5H4do/AAAAAAAADkA=",
          "dtype": "f8"
         },
         "yaxis": "y"
        },
        {
         "customdata": [
          [
           105,
           "2010-12"
          ],
          [
           39.95,
           "2011-11"
          ]
         ],
         "hovertemplate": "Country=Italy<br>Quantity=%{x}<br>Price=%{y}<br>Revenue=%{customdata[0]}<br>Month=%{customdata[1]}<extra></extra>",
         "legendgroup": "Italy",
         "marker": {
          "color": "#636efa",
          "size": {
           "bdata": "AAAAAABAWkCamZmZmflDQA==",
           "dtype": "f8"
          },
          "sizemode": "area",
          "sizeref": 3.03255,
          "symbol": "circle"
         },
         "mode": "markers",
         "name": "Italy",
         "orientation": "v",
         "showlegend": true,
         "type": "scatter",
         "x": {
          "bdata": "AwE=",
          "dtype": "i1"
         },
         "xaxis": "x",
         "y": {
          "bdata": "AAAAAACAQUCamZmZmflDQA==",
          "dtype": "f8"
         },
         "yaxis": "y"
        },
        {
         "customdata": [
          [
           1.65,
           "2010-09"
          ]
         ],
         "hovertemplate": "Country=Brazil<br>Quantity=%{x}<br>Price=%{y}<br>Revenue=%{customdata[0]}<br>Month=%{customdata[1]}<extra></extra>",
         "legendgroup": "Brazil",
         "marker": {
          "color": "#EF553B",
          "size": {
           "bdata": "ZmZmZmZm+j8=",
           "dtype": "f8"
          },
          "sizemode": "area",
          "sizeref": 3.03255,
          "symbol": "circle"
         },
         "mode": "markers",
         "name": "Brazil",
         "orientation": "v",
         "showlegend": true,
         "type": "scatter",
         "x": {
          "bdata": "AQ==",
          "dtype": "i1"
         },
         "xaxis": "x",
         "y": {
          "bdata": "ZmZmZmZm+j8=",
          "dtype": "f8"
         },
         "yaxis": "y"
        },
        {
         "customdata": [
          [
           31.8,
           "2010-01"
          ],
          [
           30,
           "2011-01"
          ],
          [
           17.700000000000003,
           "2010-03"
          ],
          [
           9.95,
           "2011-01"
          ]
         ],
         "hovertemplate": "Country=Spain<br>Quantity=%{x}<br>Price=%{y}<br>Revenue=%{customdata[0]}<br>Month=%{customdata[1]}<extra></extra>",
         "legendgroup": "Spain",
         "marker": {
          "color": "#00cc96",
          "size": {
           "bdata": "zczMzMzMP0AAAAAAAAA+QDQzMzMzszFAZmZmZmbmI0A=",
           "dtype": "f8"
          },
          "sizemode": "area",
          "sizeref": 3.03255,
          "symbol": "circle"
         },
         "mode": "markers",
         "name": "Spain",
         "orientation": "v",
         "showlegend": true,
         "type": "scatter",
         "x": {
          "bdata": "BBgGAQ==",
          "dtype": "i1"
         },
         "xaxis": "x",
         "y": {
          "bdata": "zczMzMzMH0AAAAAAAAD0P5qZmZmZmQdAZmZmZmbmI0A=",
          "dtype": "f8"
         },
         "yaxis": "y"
        },
        {
         "customdata": [
          [
           45,
           "2011-02"
          ]
         ],
         "hovertemplate": "Country=Israel<br>Quantity=%{x}<br>Price=%{y}<br>Revenue=%{customdata[0]}<br>Month=%{customdata[1]}<extra></extra>",
         "legendgroup": "Israel",
         "marker": {
          "color": "#ab63fa",
          "size": {
           "bdata": "AAAAAACARkA=",
           "dtype": "f8"
          },
          "sizemode": "area",
          "sizeref": 3.03255,
          "symbol": "circle"
         },
         "mode": "markers",
         "name": "Israel",
         "orientation": "v",
         "showlegend": true,
         "type": "scatter",
         "x": {
          "bdata": "JA==",
          "dtype": "i1"
         },
         "xaxis": "x",
         "y": {
          "bdata": "AAAAAAAA9D8=",
          "dtype": "f8"
         },
         "yaxis": "y"
        },
        {
         "customdata": [
          [
           10.08,
           "2010-06"
          ],
          [
           26.400000000000002,
           "2010-01"
          ],
          [
           11.6,
           "2010-07"
          ]
         ],
         "hovertemplate": "Country=USA<br>Quantity=%{x}<br>Price=%{y}<br>Revenue=%{customdata[0]}<br>Month=%{customdata[1]}<extra></extra>",
         "legendgroup": "USA",
         "marker": {
          "color": "#FFA15A",
          "size": {
           "bdata": "KVyPwvUoJEBnZmZmZmY6QDMzMzMzMydA",
           "dtype": "f8"
          },
          "sizemode": "area",
          "sizeref": 3.03255,
          "symbol": "circle"
         },
         "mode": "markers",
         "name": "USA",
         "orientation": "v",
         "showlegend": true,
         "type": "scatter",
         "x": {
          "bdata": "GDAI",
          "dtype": "i1"
         },
         "xaxis": "x",
         "y": {
          "bdata": "4XoUrkfh2j+amZmZmZnhPzMzMzMzM/c/",
          "dtype": "f8"
         },
         "yaxis": "y"
        },
        {
         "customdata": [
          [
           12.600000000000001,
           "2010-02"
          ],
          [
           17.700000000000003,
           "2010-11"
          ]
         ],
         "hovertemplate": "Country=United Arab Emirates<br>Quantity=%{x}<br>Price=%{y}<br>Revenue=%{customdata[0]}<br>Month=%{customdata[1]}<extra></extra>",
         "legendgroup": "United Arab Emirates",
         "marker": {
          "color": "#19d3f3",
          "size": {
           "bdata": "NDMzMzMzKUA0MzMzM7MxQA==",
           "dtype": "f8"
          },
          "sizemode": "area",
          "sizeref": 3.03255,
          "symbol": "circle"
         },
         "mode": "markers",
         "name": "United Arab Emirates",
         "orientation": "v",
         "showlegend": true,
         "type": "scatter",
         "x": {
          "bdata": "BgY=",
          "dtype": "i1"
         },
         "xaxis": "x",
         "y": {
          "bdata": "zczMzMzMAECamZmZmZkHQA==",
          "dtype": "f8"
         },
         "yaxis": "y"
        },
        {
         "customdata": [
          [
           5.04,
           "2010-10"
          ]
         ],
         "hovertemplate": "Country=Japan<br>Quantity=%{x}<br>Price=%{y}<br>Revenue=%{customdata[0]}<br>Month=%{customdata[1]}<extra></extra>",
         "legendgroup": "Japan",
         "marker": {
          "color": "#FF6692",
          "size": {
           "bdata": "KVyPwvUoFEA=",
           "dtype": "f8"
          },
          "sizemode": "area",
          "sizeref": 3.03255,
          "symbol": "circle"
         },
         "mode": "markers",
         "name": "Japan",
         "orientation": "v",
         "showlegend": true,
         "type": "scatter",
         "x": {
          "bdata": "DA==",
          "dtype": "i1"
         },
         "xaxis": "x",
         "y": {
          "bdata": "4XoUrkfh2j8=",
          "dtype": "f8"
         },
         "yaxis": "y"
        },
        {
         "customdata": [
          [
           17.700000000000003,
           "2011-01"
          ]
         ],
         "hovertemplate": "Country=Singapore<br>Quantity=%{x}<br>Price=%{y}<br>Revenue=%{customdata[0]}<br>Month=%{customdata[1]}<extra></extra>",
         "legendgroup": "Singapore",
         "marker": {
          "color": "#B6E880",
          "size": {
           "bdata": "NDMzMzOzMUA=",
           "dtype": "f8"
          },
          "sizemode": "area",
          "sizeref": 3.03255,
          "symbol": "circle"
         },
         "mode": "markers",
         "name": "Singapore",
         "orientation": "v",
         "showlegend": true,
         "type": "scatter",
         "x": {
          "bdata": "Bg==",
          "dtype": "i1"
         },
         "xaxis": "x",
         "y": {
          "bdata": "mpmZmZmZB0A=",
          "dtype": "f8"
         },
         "yaxis": "y"
        },
        {
         "customdata": [
          [
           13.52,
           "2010-02"
          ]
         ],
         "hovertemplate": "Country=RSA<br>Quantity=%{x}<br>Price=%{y}<br>Revenue=%{customdata[0]}<br>Month=%{customdata[1]}<extra></extra>",
         "legendgroup": "RSA",
         "marker": {
          "color": "#FF97FF",
          "size": {
           "bdata": "CtejcD0KK0A=",
           "dtype": "f8"
          },
          "sizemode": "area",
          "sizeref": 3.03255,
          "symbol": "circle"
         },
         "mode": "markers",
         "name": "RSA",
         "orientation": "v",
         "showlegend": true,
         "type": "scatter",
         "x": {
          "bdata": "CA==",
          "dtype": "i1"
         },
         "xaxis": "x",
         "y": {
          "bdata": "CtejcD0K+z8=",
          "dtype": "f8"
         },
         "yaxis": "y"
        },
        {
         "customdata": [
          [
           17.700000000000003,
           "2011-12"
          ]
         ],
         "hovertemplate": "Country=Channel Islands<br>Quantity=%{x}<br>Price=%{y}<br>Revenue=%{customdata[0]}<br>Month=%{customdata[1]}<extra></extra>",
         "legendgroup": "Channel Islands",
         "marker": {
          "color": "#FECB52",
          "size": {
           "bdata": "NDMzMzOzMUA=",
           "dtype": "f8"
          },
          "sizemode": "area",
          "sizeref": 3.03255,
          "symbol": "circle"
         },
         "mode": "markers",
         "name": "Channel Islands",
         "orientation": "v",
         "showlegend": true,
         "type": "scatter",
         "x": {
          "bdata": "Bg==",
          "dtype": "i1"
         },
         "xaxis": "x",
         "y": {
          "bdata": "mpmZmZmZB0A=",
          "dtype": "f8"
         },
         "yaxis": "y"
        }
       ],
       "layout": {
        "legend": {
         "itemsizing": "constant",
         "title": {
          "text": "Country"
         },
         "tracegroupgap": 0
        },
        "template": {
         "data": {
          "bar": [
           {
            "error_x": {
             "color": "#2a3f5f"
            },
            "error_y": {
             "color": "#2a3f5f"
            },
            "marker": {
             "line": {
              "color": "#E5ECF6",
              "width": 0.5
             },
             "pattern": {
              "fillmode": "overlay",
              "size": 10,
              "solidity": 0.2
             }
            },
            "type": "bar"
           }
          ],
          "barpolar": [
           {
            "marker": {
             "line": {
              "color": "#E5ECF6",
              "width": 0.5
             },
             "pattern": {
              "fillmode": "overlay",
              "size": 10,
              "solidity": 0.2
             }
            },
            "type": "barpolar"
           }
          ],
          "carpet": [
           {
            "aaxis": {
             "endlinecolor": "#2a3f5f",
             "gridcolor": "white",
             "linecolor": "white",
             "minorgridcolor": "white",
             "startlinecolor": "#2a3f5f"
            },
            "baxis": {
             "endlinecolor": "#2a3f5f",
             "gridcolor": "white",
             "linecolor": "white",
             "minorgridcolor": "white",
             "startlinecolor": "#2a3f5f"
            },
            "type": "carpet"
           }
          ],
          "choropleth": [
           {
            "colorbar": {
             "outlinewidth": 0,
             "ticks": ""
            },
            "type": "choropleth"
           }
          ],
          "contour": [
           {
            "colorbar": {
             "outlinewidth": 0,
             "ticks": ""
            },
            "colorscale": [
             [
              0,
              "#0d0887"
             ],
             [
              0.1111111111111111,
              "#46039f"
             ],
             [
              0.2222222222222222,
              "#7201a8"
             ],
             [
              0.3333333333333333,
              "#9c179e"
             ],
             [
              0.4444444444444444,
              "#bd3786"
             ],
             [
              0.5555555555555556,
              "#d8576b"
             ],
             [
              0.6666666666666666,
              "#ed7953"
             ],
             [
              0.7777777777777778,
              "#fb9f3a"
             ],
             [
              0.8888888888888888,
              "#fdca26"
             ],
             [
              1,
              "#f0f921"
             ]
            ],
            "type": "contour"
           }
          ],
          "contourcarpet": [
           {
            "colorbar": {
             "outlinewidth": 0,
             "ticks": ""
            },
            "type": "contourcarpet"
           }
          ],
          "heatmap": [
           {
            "colorbar": {
             "outlinewidth": 0,
             "ticks": ""
            },
            "colorscale": [
             [
              0,
              "#0d0887"
             ],
             [
              0.1111111111111111,
              "#46039f"
             ],
             [
              0.2222222222222222,
              "#7201a8"
             ],
             [
              0.3333333333333333,
              "#9c179e"
             ],
             [
              0.4444444444444444,
              "#bd3786"
             ],
             [
              0.5555555555555556,
              "#d8576b"
             ],
             [
              0.6666666666666666,
              "#ed7953"
             ],
             [
              0.7777777777777778,
              "#fb9f3a"
             ],
             [
              0.8888888888888888,
              "#fdca26"
             ],
             [
              1,
              "#f0f921"
             ]
            ],
            "type": "heatmap"
           }
          ],
          "histogram": [
           {
            "marker": {
             "pattern": {
              "fillmode": "overlay",
              "size": 10,
              "solidity": 0.2
             }
            },
            "type": "histogram"
           }
          ],
          "histogram2d": [
           {
            "colorbar": {
             "outlinewidth": 0,
             "ticks": ""
            },
            "colorscale": [
             [
              0,
              "#0d0887"
             ],
             [
              0.1111111111111111,
              "#46039f"
             ],
             [
              0.2222222222222222,
              "#7201a8"
             ],
             [
              0.3333333333333333,
              "#9c179e"
             ],
             [
              0.4444444444444444,
              "#bd3786"
             ],
             [
              0.5555555555555556,
              "#d8576b"
             ],
             [
              0.6666666666666666,
              "#ed7953"
             ],
             [
              0.7777777777777778,
              "#fb9f3a"
             ],
             [
              0.8888888888888888,
              "#fdca26"
             ],
             [
              1,
              "#f0f921"
             ]
            ],
            "type": "histogram2d"
           }
          ],
          "histogram2dcontour": [
           {
            "colorbar": {
             "outlinewidth": 0,
             "ticks": ""
            },
            "colorscale": [
             [
              0,
              "#0d0887"
             ],
             [
              0.1111111111111111,
              "#46039f"
             ],
             [
              0.2222222222222222,
              "#7201a8"
             ],
             [
              0.3333333333333333,
              "#9c179e"
             ],
             [
              0.4444444444444444,
              "#bd3786"
             ],
             [
              0.5555555555555556,
              "#d8576b"
             ],
             [
              0.6666666666666666,
              "#ed7953"
             ],
             [
              0.7777777777777778,
              "#fb9f3a"
             ],
             [
              0.8888888888888888,
              "#fdca26"
             ],
             [
              1,
              "#f0f921"
             ]
            ],
            "type": "histogram2dcontour"
           }
          ],
          "mesh3d": [
           {
            "colorbar": {
             "outlinewidth": 0,
             "ticks": ""
            },
            "type": "mesh3d"
           }
          ],
          "parcoords": [
           {
            "line": {
             "colorbar": {
              "outlinewidth": 0,
              "ticks": ""
             }
            },
            "type": "parcoords"
           }
          ],
          "pie": [
           {
            "automargin": true,
            "type": "pie"
           }
          ],
          "scatter": [
           {
            "fillpattern": {
             "fillmode": "overlay",
             "size": 10,
             "solidity": 0.2
            },
            "type": "scatter"
           }
          ],
          "scatter3d": [
           {
            "line": {
             "colorbar": {
              "outlinewidth": 0,
              "ticks": ""
             }
            },
            "marker": {
             "colorbar": {
              "outlinewidth": 0,
              "ticks": ""
             }
            },
            "type": "scatter3d"
           }
          ],
          "scattercarpet": [
           {
            "marker": {
             "colorbar": {
              "outlinewidth": 0,
              "ticks": ""
             }
            },
            "type": "scattercarpet"
           }
          ],
          "scattergeo": [
           {
            "marker": {
             "colorbar": {
              "outlinewidth": 0,
              "ticks": ""
             }
            },
            "type": "scattergeo"
           }
          ],
          "scattergl": [
           {
            "marker": {
             "colorbar": {
              "outlinewidth": 0,
              "ticks": ""
             }
            },
            "type": "scattergl"
           }
          ],
          "scattermap": [
           {
            "marker": {
             "colorbar": {
              "outlinewidth": 0,
              "ticks": ""
             }
            },
            "type": "scattermap"
           }
          ],
          "scattermapbox": [
           {
            "marker": {
             "colorbar": {
              "outlinewidth": 0,
              "ticks": ""
             }
            },
            "type": "scattermapbox"
           }
          ],
          "scatterpolar": [
           {
            "marker": {
             "colorbar": {
              "outlinewidth": 0,
              "ticks": ""
             }
            },
            "type": "scatterpolar"
           }
          ],
          "scatterpolargl": [
           {
            "marker": {
             "colorbar": {
              "outlinewidth": 0,
              "ticks": ""
             }
            },
            "type": "scatterpolargl"
           }
          ],
          "scatterternary": [
           {
            "marker": {
             "colorbar": {
              "outlinewidth": 0,
              "ticks": ""
             }
            },
            "type": "scatterternary"
           }
          ],
          "surface": [
           {
            "colorbar": {
             "outlinewidth": 0,
             "ticks": ""
            },
            "colorscale": [
             [
              0,
              "#0d0887"
             ],
             [
              0.1111111111111111,
              "#46039f"
             ],
             [
              0.2222222222222222,
              "#7201a8"
             ],
             [
              0.3333333333333333,
              "#9c179e"
             ],
             [
              0.4444444444444444,
              "#bd3786"
             ],
             [
              0.5555555555555556,
              "#d8576b"
             ],
             [
              0.6666666666666666,
              "#ed7953"
             ],
             [
              0.7777777777777778,
              "#fb9f3a"
             ],
             [
              0.8888888888888888,
              "#fdca26"
             ],
             [
              1,
              "#f0f921"
             ]
            ],
            "type": "surface"
           }
          ],
          "table": [
           {
            "cells": {
             "fill": {
              "color": "#EBF0F8"
             },
             "line": {
              "color": "white"
             }
            },
            "header": {
             "fill": {
              "color": "#C8D4E3"
             },
             "line": {
              "color": "white"
             }
            },
            "type": "table"
           }
          ]
         },
         "layout": {
          "annotationdefaults": {
           "arrowcolor": "#2a3f5f",
           "arrowhead": 0,
           "arrowwidth": 1
          },
          "autotypenumbers": "strict",
          "coloraxis": {
           "colorbar": {
            "outlinewidth": 0,
            "ticks": ""
           }
          },
          "colorscale": {
           "diverging": [
            [
             0,
             "#8e0152"
            ],
            [
             0.1,
             "#c51b7d"
            ],
            [
             0.2,
             "#de77ae"
            ],
            [
             0.3,
             "#f1b6da"
            ],
            [
             0.4,
             "#fde0ef"
            ],
            [
             0.5,
             "#f7f7f7"
            ],
            [
             0.6,
             "#e6f5d0"
            ],
            [
             0.7,
             "#b8e186"
            ],
            [
             0.8,
             "#7fbc41"
            ],
            [
             0.9,
             "#4d9221"
            ],
            [
             1,
             "#276419"
            ]
           ],
           "sequential": [
            [
             0,
             "#0d0887"
            ],
            [
             0.1111111111111111,
             "#46039f"
            ],
            [
             0.2222222222222222,
             "#7201a8"
            ],
            [
             0.3333333333333333,
             "#9c179e"
            ],
            [
             0.4444444444444444,
             "#bd3786"
            ],
            [
             0.5555555555555556,
             "#d8576b"
            ],
            [
             0.6666666666666666,
             "#ed7953"
            ],
            [
             0.7777777777777778,
             "#fb9f3a"
            ],
            [
             0.8888888888888888,
             "#fdca26"
            ],
            [
             1,
             "#f0f921"
            ]
           ],
           "sequentialminus": [
            [
             0,
             "#0d0887"
            ],
            [
             0.1111111111111111,
             "#46039f"
            ],
            [
             0.2222222222222222,
             "#7201a8"
            ],
            [
             0.3333333333333333,
             "#9c179e"
            ],
            [
             0.4444444444444444,
             "#bd3786"
            ],
            [
             0.5555555555555556,
             "#d8576b"
            ],
            [
             0.6666666666666666,
             "#ed7953"
            ],
            [
             0.7777777777777778,
             "#fb9f3a"
            ],
            [
             0.8888888888888888,
             "#fdca26"
            ],
            [
             1,
             "#f0f921"
            ]
           ]
          },
          "colorway": [
           "#636efa",
           "#EF553B",
           "#00cc96",
           "#ab63fa",
           "#FFA15A",
           "#19d3f3",
           "#FF6692",
           "#B6E880",
           "#FF97FF",
           "#FECB52"
          ],
          "font": {
           "color": "#2a3f5f"
          },
          "geo": {
           "bgcolor": "white",
           "lakecolor": "white",
           "landcolor": "#E5ECF6",
           "showlakes": true,
           "showland": true,
           "subunitcolor": "white"
          },
          "hoverlabel": {
           "align": "left"
          },
          "hovermode": "closest",
          "mapbox": {
           "style": "light"
          },
          "paper_bgcolor": "white",
          "plot_bgcolor": "#E5ECF6",
          "polar": {
           "angularaxis": {
            "gridcolor": "white",
            "linecolor": "white",
            "ticks": ""
           },
           "bgcolor": "#E5ECF6",
           "radialaxis": {
            "gridcolor": "white",
            "linecolor": "white",
            "ticks": ""
           }
          },
          "scene": {
           "xaxis": {
            "backgroundcolor": "#E5ECF6",
            "gridcolor": "white",
            "gridwidth": 2,
            "linecolor": "white",
            "showbackground": true,
            "ticks": "",
            "zerolinecolor": "white"
           },
           "yaxis": {
            "backgroundcolor": "#E5ECF6",
            "gridcolor": "white",
            "gridwidth": 2,
            "linecolor": "white",
            "showbackground": true,
            "ticks": "",
            "zerolinecolor": "white"
           },
           "zaxis": {
            "backgroundcolor": "#E5ECF6",
            "gridcolor": "white",
            "gridwidth": 2,
            "linecolor": "white",
            "showbackground": true,
            "ticks": "",
            "zerolinecolor": "white"
           }
          },
          "shapedefaults": {
           "line": {
            "color": "#2a3f5f"
           }
          },
          "ternary": {
           "aaxis": {
            "gridcolor": "white",
            "linecolor": "white",
            "ticks": ""
           },
           "baxis": {
            "gridcolor": "white",
            "linecolor": "white",
            "ticks": ""
           },
           "bgcolor": "#E5ECF6",
           "caxis": {
            "gridcolor": "white",
            "linecolor": "white",
            "ticks": ""
           }
          },
          "title": {
           "x": 0.05
          },
          "xaxis": {
           "automargin": true,
           "gridcolor": "white",
           "linecolor": "white",
           "ticks": "",
           "title": {
            "standoff": 15
           },
           "zerolinecolor": "white",
           "zerolinewidth": 2
          },
          "yaxis": {
           "automargin": true,
           "gridcolor": "white",
           "linecolor": "white",
           "ticks": "",
           "title": {
            "standoff": 15
           },
           "zerolinecolor": "white",
           "zerolinewidth": 2
          }
         }
        },
        "title": {
         "text": "Price vs Quantity (Bubble = Revenue)"
        },
        "xaxis": {
         "anchor": "y",
         "domain": [
          0,
          1
         ],
         "title": {
          "text": "Quantity"
         },
         "type": "log"
        },
        "yaxis": {
         "anchor": "x",
         "domain": [
          0,
          1
         ],
         "title": {
          "text": "Price"
         },
         "type": "log"
        }
       }
      }
     },
     "metadata": {},
     "output_type": "display_data"
    }
   ],
   "source": [
    "fig = px.scatter(df_sample.sample(1000),\n",
    "                 x='Quantity', y='Price',\n",
    "                 size='Revenue', color='Country',\n",
    "                 hover_data=['Revenue', 'Month'],\n",
    "                 title='Price vs Quantity (Bubble = Revenue)')\n",
    "\n",
    "fig.update_layout(xaxis_type='log', yaxis_type='log')\n",
    "\n",
    "fig.show()"
   ]
  },
  {
   "cell_type": "code",
   "execution_count": 26,
   "id": "b4db6336",
   "metadata": {},
   "outputs": [
    {
     "data": {
      "application/vnd.plotly.v1+json": {
       "config": {
        "plotlyServerURL": "https://plot.ly"
       },
       "data": [
        {
         "hovertemplate": "Country=%{x}<br>Revenue=%{text}<extra></extra>",
         "legendgroup": "United Kingdom",
         "marker": {
          "color": "#636efa",
          "pattern": {
           "shape": ""
          }
         },
         "name": "United Kingdom",
         "orientation": "v",
         "showlegend": true,
         "text": {
          "bdata": "lkOLcAkVbEE=",
          "dtype": "f8"
         },
         "textposition": "outside",
         "texttemplate": "%{text:.2s}",
         "type": "bar",
         "x": [
          "United Kingdom"
         ],
         "xaxis": "x",
         "y": {
          "bdata": "lkOLcAkVbEE=",
          "dtype": "f8"
         },
         "yaxis": "y"
        },
        {
         "hovertemplate": "Country=%{x}<br>Revenue=%{text}<extra></extra>",
         "legendgroup": "EIRE",
         "marker": {
          "color": "#EF553B",
          "pattern": {
           "shape": ""
          }
         },
         "name": "EIRE",
         "orientation": "v",
         "showlegend": true,
         "text": {
          "bdata": "hetROH74IkE=",
          "dtype": "f8"
         },
         "textposition": "outside",
         "texttemplate": "%{text:.2s}",
         "type": "bar",
         "x": [
          "EIRE"
         ],
         "xaxis": "x",
         "y": {
          "bdata": "hetROH74IkE=",
          "dtype": "f8"
         },
         "yaxis": "y"
        },
        {
         "hovertemplate": "Country=%{x}<br>Revenue=%{text}<extra></extra>",
         "legendgroup": "Netherlands",
         "marker": {
          "color": "#00cc96",
          "pattern": {
           "shape": ""
          }
         },
         "name": "Netherlands",
         "orientation": "v",
         "showlegend": true,
         "text": {
          "bdata": "4XoUrvDpIEE=",
          "dtype": "f8"
         },
         "textposition": "outside",
         "texttemplate": "%{text:.2s}",
         "type": "bar",
         "x": [
          "Netherlands"
         ],
         "xaxis": "x",
         "y": {
          "bdata": "4XoUrvDpIEE=",
          "dtype": "f8"
         },
         "yaxis": "y"
        },
        {
         "hovertemplate": "Country=%{x}<br>Revenue=%{text}<extra></extra>",
         "legendgroup": "Germany",
         "marker": {
          "color": "#ab63fa",
          "pattern": {
           "shape": ""
          }
         },
         "name": "Germany",
         "orientation": "v",
         "showlegend": true,
         "text": {
          "bdata": "TmIQ2HlSGkE=",
          "dtype": "f8"
         },
         "textposition": "outside",
         "texttemplate": "%{text:.2s}",
         "type": "bar",
         "x": [
          "Germany"
         ],
         "xaxis": "x",
         "y": {
          "bdata": "TmIQ2HlSGkE=",
          "dtype": "f8"
         },
         "yaxis": "y"
        },
        {
         "hovertemplate": "Country=%{x}<br>Revenue=%{text}<extra></extra>",
         "legendgroup": "France",
         "marker": {
          "color": "#FFA15A",
          "pattern": {
           "shape": ""
          }
         },
         "name": "France",
         "orientation": "v",
         "showlegend": true,
         "text": {
          "bdata": "FK5H4eWuFUE=",
          "dtype": "f8"
         },
         "textposition": "outside",
         "texttemplate": "%{text:.2s}",
         "type": "bar",
         "x": [
          "France"
         ],
         "xaxis": "x",
         "y": {
          "bdata": "FK5H4eWuFUE=",
          "dtype": "f8"
         },
         "yaxis": "y"
        }
       ],
       "layout": {
        "barmode": "relative",
        "legend": {
         "title": {
          "text": "Country"
         },
         "tracegroupgap": 0
        },
        "template": {
         "data": {
          "bar": [
           {
            "error_x": {
             "color": "#2a3f5f"
            },
            "error_y": {
             "color": "#2a3f5f"
            },
            "marker": {
             "line": {
              "color": "#E5ECF6",
              "width": 0.5
             },
             "pattern": {
              "fillmode": "overlay",
              "size": 10,
              "solidity": 0.2
             }
            },
            "type": "bar"
           }
          ],
          "barpolar": [
           {
            "marker": {
             "line": {
              "color": "#E5ECF6",
              "width": 0.5
             },
             "pattern": {
              "fillmode": "overlay",
              "size": 10,
              "solidity": 0.2
             }
            },
            "type": "barpolar"
           }
          ],
          "carpet": [
           {
            "aaxis": {
             "endlinecolor": "#2a3f5f",
             "gridcolor": "white",
             "linecolor": "white",
             "minorgridcolor": "white",
             "startlinecolor": "#2a3f5f"
            },
            "baxis": {
             "endlinecolor": "#2a3f5f",
             "gridcolor": "white",
             "linecolor": "white",
             "minorgridcolor": "white",
             "startlinecolor": "#2a3f5f"
            },
            "type": "carpet"
           }
          ],
          "choropleth": [
           {
            "colorbar": {
             "outlinewidth": 0,
             "ticks": ""
            },
            "type": "choropleth"
           }
          ],
          "contour": [
           {
            "colorbar": {
             "outlinewidth": 0,
             "ticks": ""
            },
            "colorscale": [
             [
              0,
              "#0d0887"
             ],
             [
              0.1111111111111111,
              "#46039f"
             ],
             [
              0.2222222222222222,
              "#7201a8"
             ],
             [
              0.3333333333333333,
              "#9c179e"
             ],
             [
              0.4444444444444444,
              "#bd3786"
             ],
             [
              0.5555555555555556,
              "#d8576b"
             ],
             [
              0.6666666666666666,
              "#ed7953"
             ],
             [
              0.7777777777777778,
              "#fb9f3a"
             ],
             [
              0.8888888888888888,
              "#fdca26"
             ],
             [
              1,
              "#f0f921"
             ]
            ],
            "type": "contour"
           }
          ],
          "contourcarpet": [
           {
            "colorbar": {
             "outlinewidth": 0,
             "ticks": ""
            },
            "type": "contourcarpet"
           }
          ],
          "heatmap": [
           {
            "colorbar": {
             "outlinewidth": 0,
             "ticks": ""
            },
            "colorscale": [
             [
              0,
              "#0d0887"
             ],
             [
              0.1111111111111111,
              "#46039f"
             ],
             [
              0.2222222222222222,
              "#7201a8"
             ],
             [
              0.3333333333333333,
              "#9c179e"
             ],
             [
              0.4444444444444444,
              "#bd3786"
             ],
             [
              0.5555555555555556,
              "#d8576b"
             ],
             [
              0.6666666666666666,
              "#ed7953"
             ],
             [
              0.7777777777777778,
              "#fb9f3a"
             ],
             [
              0.8888888888888888,
              "#fdca26"
             ],
             [
              1,
              "#f0f921"
             ]
            ],
            "type": "heatmap"
           }
          ],
          "histogram": [
           {
            "marker": {
             "pattern": {
              "fillmode": "overlay",
              "size": 10,
              "solidity": 0.2
             }
            },
            "type": "histogram"
           }
          ],
          "histogram2d": [
           {
            "colorbar": {
             "outlinewidth": 0,
             "ticks": ""
            },
            "colorscale": [
             [
              0,
              "#0d0887"
             ],
             [
              0.1111111111111111,
              "#46039f"
             ],
             [
              0.2222222222222222,
              "#7201a8"
             ],
             [
              0.3333333333333333,
              "#9c179e"
             ],
             [
              0.4444444444444444,
              "#bd3786"
             ],
             [
              0.5555555555555556,
              "#d8576b"
             ],
             [
              0.6666666666666666,
              "#ed7953"
             ],
             [
              0.7777777777777778,
              "#fb9f3a"
             ],
             [
              0.8888888888888888,
              "#fdca26"
             ],
             [
              1,
              "#f0f921"
             ]
            ],
            "type": "histogram2d"
           }
          ],
          "histogram2dcontour": [
           {
            "colorbar": {
             "outlinewidth": 0,
             "ticks": ""
            },
            "colorscale": [
             [
              0,
              "#0d0887"
             ],
             [
              0.1111111111111111,
              "#46039f"
             ],
             [
              0.2222222222222222,
              "#7201a8"
             ],
             [
              0.3333333333333333,
              "#9c179e"
             ],
             [
              0.4444444444444444,
              "#bd3786"
             ],
             [
              0.5555555555555556,
              "#d8576b"
             ],
             [
              0.6666666666666666,
              "#ed7953"
             ],
             [
              0.7777777777777778,
              "#fb9f3a"
             ],
             [
              0.8888888888888888,
              "#fdca26"
             ],
             [
              1,
              "#f0f921"
             ]
            ],
            "type": "histogram2dcontour"
           }
          ],
          "mesh3d": [
           {
            "colorbar": {
             "outlinewidth": 0,
             "ticks": ""
            },
            "type": "mesh3d"
           }
          ],
          "parcoords": [
           {
            "line": {
             "colorbar": {
              "outlinewidth": 0,
              "ticks": ""
             }
            },
            "type": "parcoords"
           }
          ],
          "pie": [
           {
            "automargin": true,
            "type": "pie"
           }
          ],
          "scatter": [
           {
            "fillpattern": {
             "fillmode": "overlay",
             "size": 10,
             "solidity": 0.2
            },
            "type": "scatter"
           }
          ],
          "scatter3d": [
           {
            "line": {
             "colorbar": {
              "outlinewidth": 0,
              "ticks": ""
             }
            },
            "marker": {
             "colorbar": {
              "outlinewidth": 0,
              "ticks": ""
             }
            },
            "type": "scatter3d"
           }
          ],
          "scattercarpet": [
           {
            "marker": {
             "colorbar": {
              "outlinewidth": 0,
              "ticks": ""
             }
            },
            "type": "scattercarpet"
           }
          ],
          "scattergeo": [
           {
            "marker": {
             "colorbar": {
              "outlinewidth": 0,
              "ticks": ""
             }
            },
            "type": "scattergeo"
           }
          ],
          "scattergl": [
           {
            "marker": {
             "colorbar": {
              "outlinewidth": 0,
              "ticks": ""
             }
            },
            "type": "scattergl"
           }
          ],
          "scattermap": [
           {
            "marker": {
             "colorbar": {
              "outlinewidth": 0,
              "ticks": ""
             }
            },
            "type": "scattermap"
           }
          ],
          "scattermapbox": [
           {
            "marker": {
             "colorbar": {
              "outlinewidth": 0,
              "ticks": ""
             }
            },
            "type": "scattermapbox"
           }
          ],
          "scatterpolar": [
           {
            "marker": {
             "colorbar": {
              "outlinewidth": 0,
              "ticks": ""
             }
            },
            "type": "scatterpolar"
           }
          ],
          "scatterpolargl": [
           {
            "marker": {
             "colorbar": {
              "outlinewidth": 0,
              "ticks": ""
             }
            },
            "type": "scatterpolargl"
           }
          ],
          "scatterternary": [
           {
            "marker": {
             "colorbar": {
              "outlinewidth": 0,
              "ticks": ""
             }
            },
            "type": "scatterternary"
           }
          ],
          "surface": [
           {
            "colorbar": {
             "outlinewidth": 0,
             "ticks": ""
            },
            "colorscale": [
             [
              0,
              "#0d0887"
             ],
             [
              0.1111111111111111,
              "#46039f"
             ],
             [
              0.2222222222222222,
              "#7201a8"
             ],
             [
              0.3333333333333333,
              "#9c179e"
             ],
             [
              0.4444444444444444,
              "#bd3786"
             ],
             [
              0.5555555555555556,
              "#d8576b"
             ],
             [
              0.6666666666666666,
              "#ed7953"
             ],
             [
              0.7777777777777778,
              "#fb9f3a"
             ],
             [
              0.8888888888888888,
              "#fdca26"
             ],
             [
              1,
              "#f0f921"
             ]
            ],
            "type": "surface"
           }
          ],
          "table": [
           {
            "cells": {
             "fill": {
              "color": "#EBF0F8"
             },
             "line": {
              "color": "white"
             }
            },
            "header": {
             "fill": {
              "color": "#C8D4E3"
             },
             "line": {
              "color": "white"
             }
            },
            "type": "table"
           }
          ]
         },
         "layout": {
          "annotationdefaults": {
           "arrowcolor": "#2a3f5f",
           "arrowhead": 0,
           "arrowwidth": 1
          },
          "autotypenumbers": "strict",
          "coloraxis": {
           "colorbar": {
            "outlinewidth": 0,
            "ticks": ""
           }
          },
          "colorscale": {
           "diverging": [
            [
             0,
             "#8e0152"
            ],
            [
             0.1,
             "#c51b7d"
            ],
            [
             0.2,
             "#de77ae"
            ],
            [
             0.3,
             "#f1b6da"
            ],
            [
             0.4,
             "#fde0ef"
            ],
            [
             0.5,
             "#f7f7f7"
            ],
            [
             0.6,
             "#e6f5d0"
            ],
            [
             0.7,
             "#b8e186"
            ],
            [
             0.8,
             "#7fbc41"
            ],
            [
             0.9,
             "#4d9221"
            ],
            [
             1,
             "#276419"
            ]
           ],
           "sequential": [
            [
             0,
             "#0d0887"
            ],
            [
             0.1111111111111111,
             "#46039f"
            ],
            [
             0.2222222222222222,
             "#7201a8"
            ],
            [
             0.3333333333333333,
             "#9c179e"
            ],
            [
             0.4444444444444444,
             "#bd3786"
            ],
            [
             0.5555555555555556,
             "#d8576b"
            ],
            [
             0.6666666666666666,
             "#ed7953"
            ],
            [
             0.7777777777777778,
             "#fb9f3a"
            ],
            [
             0.8888888888888888,
             "#fdca26"
            ],
            [
             1,
             "#f0f921"
            ]
           ],
           "sequentialminus": [
            [
             0,
             "#0d0887"
            ],
            [
             0.1111111111111111,
             "#46039f"
            ],
            [
             0.2222222222222222,
             "#7201a8"
            ],
            [
             0.3333333333333333,
             "#9c179e"
            ],
            [
             0.4444444444444444,
             "#bd3786"
            ],
            [
             0.5555555555555556,
             "#d8576b"
            ],
            [
             0.6666666666666666,
             "#ed7953"
            ],
            [
             0.7777777777777778,
             "#fb9f3a"
            ],
            [
             0.8888888888888888,
             "#fdca26"
            ],
            [
             1,
             "#f0f921"
            ]
           ]
          },
          "colorway": [
           "#636efa",
           "#EF553B",
           "#00cc96",
           "#ab63fa",
           "#FFA15A",
           "#19d3f3",
           "#FF6692",
           "#B6E880",
           "#FF97FF",
           "#FECB52"
          ],
          "font": {
           "color": "#2a3f5f"
          },
          "geo": {
           "bgcolor": "white",
           "lakecolor": "white",
           "landcolor": "#E5ECF6",
           "showlakes": true,
           "showland": true,
           "subunitcolor": "white"
          },
          "hoverlabel": {
           "align": "left"
          },
          "hovermode": "closest",
          "mapbox": {
           "style": "light"
          },
          "paper_bgcolor": "white",
          "plot_bgcolor": "#E5ECF6",
          "polar": {
           "angularaxis": {
            "gridcolor": "white",
            "linecolor": "white",
            "ticks": ""
           },
           "bgcolor": "#E5ECF6",
           "radialaxis": {
            "gridcolor": "white",
            "linecolor": "white",
            "ticks": ""
           }
          },
          "scene": {
           "xaxis": {
            "backgroundcolor": "#E5ECF6",
            "gridcolor": "white",
            "gridwidth": 2,
            "linecolor": "white",
            "showbackground": true,
            "ticks": "",
            "zerolinecolor": "white"
           },
           "yaxis": {
            "backgroundcolor": "#E5ECF6",
            "gridcolor": "white",
            "gridwidth": 2,
            "linecolor": "white",
            "showbackground": true,
            "ticks": "",
            "zerolinecolor": "white"
           },
           "zaxis": {
            "backgroundcolor": "#E5ECF6",
            "gridcolor": "white",
            "gridwidth": 2,
            "linecolor": "white",
            "showbackground": true,
            "ticks": "",
            "zerolinecolor": "white"
           }
          },
          "shapedefaults": {
           "line": {
            "color": "#2a3f5f"
           }
          },
          "ternary": {
           "aaxis": {
            "gridcolor": "white",
            "linecolor": "white",
            "ticks": ""
           },
           "baxis": {
            "gridcolor": "white",
            "linecolor": "white",
            "ticks": ""
           },
           "bgcolor": "#E5ECF6",
           "caxis": {
            "gridcolor": "white",
            "linecolor": "white",
            "ticks": ""
           }
          },
          "title": {
           "x": 0.05
          },
          "xaxis": {
           "automargin": true,
           "gridcolor": "white",
           "linecolor": "white",
           "ticks": "",
           "title": {
            "standoff": 15
           },
           "zerolinecolor": "white",
           "zerolinewidth": 2
          },
          "yaxis": {
           "automargin": true,
           "gridcolor": "white",
           "linecolor": "white",
           "ticks": "",
           "title": {
            "standoff": 15
           },
           "zerolinecolor": "white",
           "zerolinewidth": 2
          }
         }
        },
        "title": {
         "text": "Top 5 Countries by Revenue"
        },
        "xaxis": {
         "anchor": "y",
         "categoryarray": [
          "United Kingdom",
          "EIRE",
          "Netherlands",
          "Germany",
          "France"
         ],
         "categoryorder": "array",
         "domain": [
          0,
          1
         ],
         "tickangle": 45,
         "title": {
          "text": "Country (Top 5)"
         }
        },
        "yaxis": {
         "anchor": "x",
         "domain": [
          0,
          1
         ],
         "tickformat": ",",
         "title": {
          "text": "Revenue in USD"
         }
        }
       }
      }
     },
     "metadata": {},
     "output_type": "display_data"
    }
   ],
   "source": [
    "fig = px.bar(top_countries.head(5),\n",
    "             x='Country', y='Revenue',\n",
    "             text='Revenue',\n",
    "             color='Country',\n",
    "             title='Top 5 Countries by Revenue')\n",
    "\n",
    "fig.update_layout(\n",
    "    xaxis_title=\"Country (Top 5)\",\n",
    "    yaxis_title=\"Revenue in USD\",\n",
    "    xaxis_tickangle=45,\n",
    "    yaxis_tickformat=\",\",  # adds commas to big numbers\n",
    ")\n",
    "\n",
    "fig.update_traces(texttemplate='%{text:.2s}', textposition='outside')\n",
    "\n",
    "fig.show()"
   ]
  },
  {
   "cell_type": "code",
   "execution_count": 30,
   "id": "9212a2b4",
   "metadata": {},
   "outputs": [
    {
     "data": {
      "application/vnd.plotly.v1+json": {
       "config": {
        "plotlyServerURL": "https://plot.ly"
       },
       "data": [
        {
         "hovertemplate": "Country=%{x}<br>Revenue=%{text}<extra></extra>",
         "legendgroup": "United Kingdom",
         "marker": {
          "color": "#1f77b4",
          "pattern": {
           "shape": ""
          }
         },
         "name": "United Kingdom",
         "orientation": "v",
         "showlegend": true,
         "text": {
          "bdata": "lkOLcAkVbEE=",
          "dtype": "f8"
         },
         "textposition": "outside",
         "texttemplate": "%{text:.2s}",
         "type": "bar",
         "x": [
          "United Kingdom"
         ],
         "xaxis": "x",
         "y": {
          "bdata": "lkOLcAkVbEE=",
          "dtype": "f8"
         },
         "yaxis": "y"
        },
        {
         "hovertemplate": "Country=%{x}<br>Revenue=%{text}<extra></extra>",
         "legendgroup": "EIRE",
         "marker": {
          "color": "#d62728",
          "pattern": {
           "shape": ""
          }
         },
         "name": "EIRE",
         "orientation": "v",
         "showlegend": true,
         "text": {
          "bdata": "hetROH74IkE=",
          "dtype": "f8"
         },
         "textposition": "outside",
         "texttemplate": "%{text:.2s}",
         "type": "bar",
         "x": [
          "EIRE"
         ],
         "xaxis": "x",
         "y": {
          "bdata": "hetROH74IkE=",
          "dtype": "f8"
         },
         "yaxis": "y"
        },
        {
         "hovertemplate": "Country=%{x}<br>Revenue=%{text}<extra></extra>",
         "legendgroup": "Netherlands",
         "marker": {
          "color": "#9467bd",
          "pattern": {
           "shape": ""
          }
         },
         "name": "Netherlands",
         "orientation": "v",
         "showlegend": true,
         "text": {
          "bdata": "4XoUrvDpIEE=",
          "dtype": "f8"
         },
         "textposition": "outside",
         "texttemplate": "%{text:.2s}",
         "type": "bar",
         "x": [
          "Netherlands"
         ],
         "xaxis": "x",
         "y": {
          "bdata": "4XoUrvDpIEE=",
          "dtype": "f8"
         },
         "yaxis": "y"
        },
        {
         "hovertemplate": "Country=%{x}<br>Revenue=%{text}<extra></extra>",
         "legendgroup": "Germany",
         "marker": {
          "color": "#ff7f0e",
          "pattern": {
           "shape": ""
          }
         },
         "name": "Germany",
         "orientation": "v",
         "showlegend": true,
         "text": {
          "bdata": "TmIQ2HlSGkE=",
          "dtype": "f8"
         },
         "textposition": "outside",
         "texttemplate": "%{text:.2s}",
         "type": "bar",
         "x": [
          "Germany"
         ],
         "xaxis": "x",
         "y": {
          "bdata": "TmIQ2HlSGkE=",
          "dtype": "f8"
         },
         "yaxis": "y"
        },
        {
         "hovertemplate": "Country=%{x}<br>Revenue=%{text}<extra></extra>",
         "legendgroup": "France",
         "marker": {
          "color": "#2ca02c",
          "pattern": {
           "shape": ""
          }
         },
         "name": "France",
         "orientation": "v",
         "showlegend": true,
         "text": {
          "bdata": "FK5H4eWuFUE=",
          "dtype": "f8"
         },
         "textposition": "outside",
         "texttemplate": "%{text:.2s}",
         "type": "bar",
         "x": [
          "France"
         ],
         "xaxis": "x",
         "y": {
          "bdata": "FK5H4eWuFUE=",
          "dtype": "f8"
         },
         "yaxis": "y"
        }
       ],
       "layout": {
        "barmode": "relative",
        "legend": {
         "title": {
          "text": "Country"
         },
         "tracegroupgap": 0
        },
        "margin": {
         "t": 60
        },
        "template": {
         "data": {
          "bar": [
           {
            "error_x": {
             "color": "#2a3f5f"
            },
            "error_y": {
             "color": "#2a3f5f"
            },
            "marker": {
             "line": {
              "color": "#E5ECF6",
              "width": 0.5
             },
             "pattern": {
              "fillmode": "overlay",
              "size": 10,
              "solidity": 0.2
             }
            },
            "type": "bar"
           }
          ],
          "barpolar": [
           {
            "marker": {
             "line": {
              "color": "#E5ECF6",
              "width": 0.5
             },
             "pattern": {
              "fillmode": "overlay",
              "size": 10,
              "solidity": 0.2
             }
            },
            "type": "barpolar"
           }
          ],
          "carpet": [
           {
            "aaxis": {
             "endlinecolor": "#2a3f5f",
             "gridcolor": "white",
             "linecolor": "white",
             "minorgridcolor": "white",
             "startlinecolor": "#2a3f5f"
            },
            "baxis": {
             "endlinecolor": "#2a3f5f",
             "gridcolor": "white",
             "linecolor": "white",
             "minorgridcolor": "white",
             "startlinecolor": "#2a3f5f"
            },
            "type": "carpet"
           }
          ],
          "choropleth": [
           {
            "colorbar": {
             "outlinewidth": 0,
             "ticks": ""
            },
            "type": "choropleth"
           }
          ],
          "contour": [
           {
            "colorbar": {
             "outlinewidth": 0,
             "ticks": ""
            },
            "colorscale": [
             [
              0,
              "#0d0887"
             ],
             [
              0.1111111111111111,
              "#46039f"
             ],
             [
              0.2222222222222222,
              "#7201a8"
             ],
             [
              0.3333333333333333,
              "#9c179e"
             ],
             [
              0.4444444444444444,
              "#bd3786"
             ],
             [
              0.5555555555555556,
              "#d8576b"
             ],
             [
              0.6666666666666666,
              "#ed7953"
             ],
             [
              0.7777777777777778,
              "#fb9f3a"
             ],
             [
              0.8888888888888888,
              "#fdca26"
             ],
             [
              1,
              "#f0f921"
             ]
            ],
            "type": "contour"
           }
          ],
          "contourcarpet": [
           {
            "colorbar": {
             "outlinewidth": 0,
             "ticks": ""
            },
            "type": "contourcarpet"
           }
          ],
          "heatmap": [
           {
            "colorbar": {
             "outlinewidth": 0,
             "ticks": ""
            },
            "colorscale": [
             [
              0,
              "#0d0887"
             ],
             [
              0.1111111111111111,
              "#46039f"
             ],
             [
              0.2222222222222222,
              "#7201a8"
             ],
             [
              0.3333333333333333,
              "#9c179e"
             ],
             [
              0.4444444444444444,
              "#bd3786"
             ],
             [
              0.5555555555555556,
              "#d8576b"
             ],
             [
              0.6666666666666666,
              "#ed7953"
             ],
             [
              0.7777777777777778,
              "#fb9f3a"
             ],
             [
              0.8888888888888888,
              "#fdca26"
             ],
             [
              1,
              "#f0f921"
             ]
            ],
            "type": "heatmap"
           }
          ],
          "histogram": [
           {
            "marker": {
             "pattern": {
              "fillmode": "overlay",
              "size": 10,
              "solidity": 0.2
             }
            },
            "type": "histogram"
           }
          ],
          "histogram2d": [
           {
            "colorbar": {
             "outlinewidth": 0,
             "ticks": ""
            },
            "colorscale": [
             [
              0,
              "#0d0887"
             ],
             [
              0.1111111111111111,
              "#46039f"
             ],
             [
              0.2222222222222222,
              "#7201a8"
             ],
             [
              0.3333333333333333,
              "#9c179e"
             ],
             [
              0.4444444444444444,
              "#bd3786"
             ],
             [
              0.5555555555555556,
              "#d8576b"
             ],
             [
              0.6666666666666666,
              "#ed7953"
             ],
             [
              0.7777777777777778,
              "#fb9f3a"
             ],
             [
              0.8888888888888888,
              "#fdca26"
             ],
             [
              1,
              "#f0f921"
             ]
            ],
            "type": "histogram2d"
           }
          ],
          "histogram2dcontour": [
           {
            "colorbar": {
             "outlinewidth": 0,
             "ticks": ""
            },
            "colorscale": [
             [
              0,
              "#0d0887"
             ],
             [
              0.1111111111111111,
              "#46039f"
             ],
             [
              0.2222222222222222,
              "#7201a8"
             ],
             [
              0.3333333333333333,
              "#9c179e"
             ],
             [
              0.4444444444444444,
              "#bd3786"
             ],
             [
              0.5555555555555556,
              "#d8576b"
             ],
             [
              0.6666666666666666,
              "#ed7953"
             ],
             [
              0.7777777777777778,
              "#fb9f3a"
             ],
             [
              0.8888888888888888,
              "#fdca26"
             ],
             [
              1,
              "#f0f921"
             ]
            ],
            "type": "histogram2dcontour"
           }
          ],
          "mesh3d": [
           {
            "colorbar": {
             "outlinewidth": 0,
             "ticks": ""
            },
            "type": "mesh3d"
           }
          ],
          "parcoords": [
           {
            "line": {
             "colorbar": {
              "outlinewidth": 0,
              "ticks": ""
             }
            },
            "type": "parcoords"
           }
          ],
          "pie": [
           {
            "automargin": true,
            "type": "pie"
           }
          ],
          "scatter": [
           {
            "fillpattern": {
             "fillmode": "overlay",
             "size": 10,
             "solidity": 0.2
            },
            "type": "scatter"
           }
          ],
          "scatter3d": [
           {
            "line": {
             "colorbar": {
              "outlinewidth": 0,
              "ticks": ""
             }
            },
            "marker": {
             "colorbar": {
              "outlinewidth": 0,
              "ticks": ""
             }
            },
            "type": "scatter3d"
           }
          ],
          "scattercarpet": [
           {
            "marker": {
             "colorbar": {
              "outlinewidth": 0,
              "ticks": ""
             }
            },
            "type": "scattercarpet"
           }
          ],
          "scattergeo": [
           {
            "marker": {
             "colorbar": {
              "outlinewidth": 0,
              "ticks": ""
             }
            },
            "type": "scattergeo"
           }
          ],
          "scattergl": [
           {
            "marker": {
             "colorbar": {
              "outlinewidth": 0,
              "ticks": ""
             }
            },
            "type": "scattergl"
           }
          ],
          "scattermap": [
           {
            "marker": {
             "colorbar": {
              "outlinewidth": 0,
              "ticks": ""
             }
            },
            "type": "scattermap"
           }
          ],
          "scattermapbox": [
           {
            "marker": {
             "colorbar": {
              "outlinewidth": 0,
              "ticks": ""
             }
            },
            "type": "scattermapbox"
           }
          ],
          "scatterpolar": [
           {
            "marker": {
             "colorbar": {
              "outlinewidth": 0,
              "ticks": ""
             }
            },
            "type": "scatterpolar"
           }
          ],
          "scatterpolargl": [
           {
            "marker": {
             "colorbar": {
              "outlinewidth": 0,
              "ticks": ""
             }
            },
            "type": "scatterpolargl"
           }
          ],
          "scatterternary": [
           {
            "marker": {
             "colorbar": {
              "outlinewidth": 0,
              "ticks": ""
             }
            },
            "type": "scatterternary"
           }
          ],
          "surface": [
           {
            "colorbar": {
             "outlinewidth": 0,
             "ticks": ""
            },
            "colorscale": [
             [
              0,
              "#0d0887"
             ],
             [
              0.1111111111111111,
              "#46039f"
             ],
             [
              0.2222222222222222,
              "#7201a8"
             ],
             [
              0.3333333333333333,
              "#9c179e"
             ],
             [
              0.4444444444444444,
              "#bd3786"
             ],
             [
              0.5555555555555556,
              "#d8576b"
             ],
             [
              0.6666666666666666,
              "#ed7953"
             ],
             [
              0.7777777777777778,
              "#fb9f3a"
             ],
             [
              0.8888888888888888,
              "#fdca26"
             ],
             [
              1,
              "#f0f921"
             ]
            ],
            "type": "surface"
           }
          ],
          "table": [
           {
            "cells": {
             "fill": {
              "color": "#EBF0F8"
             },
             "line": {
              "color": "white"
             }
            },
            "header": {
             "fill": {
              "color": "#C8D4E3"
             },
             "line": {
              "color": "white"
             }
            },
            "type": "table"
           }
          ]
         },
         "layout": {
          "annotationdefaults": {
           "arrowcolor": "#2a3f5f",
           "arrowhead": 0,
           "arrowwidth": 1
          },
          "autotypenumbers": "strict",
          "coloraxis": {
           "colorbar": {
            "outlinewidth": 0,
            "ticks": ""
           }
          },
          "colorscale": {
           "diverging": [
            [
             0,
             "#8e0152"
            ],
            [
             0.1,
             "#c51b7d"
            ],
            [
             0.2,
             "#de77ae"
            ],
            [
             0.3,
             "#f1b6da"
            ],
            [
             0.4,
             "#fde0ef"
            ],
            [
             0.5,
             "#f7f7f7"
            ],
            [
             0.6,
             "#e6f5d0"
            ],
            [
             0.7,
             "#b8e186"
            ],
            [
             0.8,
             "#7fbc41"
            ],
            [
             0.9,
             "#4d9221"
            ],
            [
             1,
             "#276419"
            ]
           ],
           "sequential": [
            [
             0,
             "#0d0887"
            ],
            [
             0.1111111111111111,
             "#46039f"
            ],
            [
             0.2222222222222222,
             "#7201a8"
            ],
            [
             0.3333333333333333,
             "#9c179e"
            ],
            [
             0.4444444444444444,
             "#bd3786"
            ],
            [
             0.5555555555555556,
             "#d8576b"
            ],
            [
             0.6666666666666666,
             "#ed7953"
            ],
            [
             0.7777777777777778,
             "#fb9f3a"
            ],
            [
             0.8888888888888888,
             "#fdca26"
            ],
            [
             1,
             "#f0f921"
            ]
           ],
           "sequentialminus": [
            [
             0,
             "#0d0887"
            ],
            [
             0.1111111111111111,
             "#46039f"
            ],
            [
             0.2222222222222222,
             "#7201a8"
            ],
            [
             0.3333333333333333,
             "#9c179e"
            ],
            [
             0.4444444444444444,
             "#bd3786"
            ],
            [
             0.5555555555555556,
             "#d8576b"
            ],
            [
             0.6666666666666666,
             "#ed7953"
            ],
            [
             0.7777777777777778,
             "#fb9f3a"
            ],
            [
             0.8888888888888888,
             "#fdca26"
            ],
            [
             1,
             "#f0f921"
            ]
           ]
          },
          "colorway": [
           "#636efa",
           "#EF553B",
           "#00cc96",
           "#ab63fa",
           "#FFA15A",
           "#19d3f3",
           "#FF6692",
           "#B6E880",
           "#FF97FF",
           "#FECB52"
          ],
          "font": {
           "color": "#2a3f5f"
          },
          "geo": {
           "bgcolor": "white",
           "lakecolor": "white",
           "landcolor": "#E5ECF6",
           "showlakes": true,
           "showland": true,
           "subunitcolor": "white"
          },
          "hoverlabel": {
           "align": "left"
          },
          "hovermode": "closest",
          "mapbox": {
           "style": "light"
          },
          "paper_bgcolor": "white",
          "plot_bgcolor": "#E5ECF6",
          "polar": {
           "angularaxis": {
            "gridcolor": "white",
            "linecolor": "white",
            "ticks": ""
           },
           "bgcolor": "#E5ECF6",
           "radialaxis": {
            "gridcolor": "white",
            "linecolor": "white",
            "ticks": ""
           }
          },
          "scene": {
           "xaxis": {
            "backgroundcolor": "#E5ECF6",
            "gridcolor": "white",
            "gridwidth": 2,
            "linecolor": "white",
            "showbackground": true,
            "ticks": "",
            "zerolinecolor": "white"
           },
           "yaxis": {
            "backgroundcolor": "#E5ECF6",
            "gridcolor": "white",
            "gridwidth": 2,
            "linecolor": "white",
            "showbackground": true,
            "ticks": "",
            "zerolinecolor": "white"
           },
           "zaxis": {
            "backgroundcolor": "#E5ECF6",
            "gridcolor": "white",
            "gridwidth": 2,
            "linecolor": "white",
            "showbackground": true,
            "ticks": "",
            "zerolinecolor": "white"
           }
          },
          "shapedefaults": {
           "line": {
            "color": "#2a3f5f"
           }
          },
          "ternary": {
           "aaxis": {
            "gridcolor": "white",
            "linecolor": "white",
            "ticks": ""
           },
           "baxis": {
            "gridcolor": "white",
            "linecolor": "white",
            "ticks": ""
           },
           "bgcolor": "#E5ECF6",
           "caxis": {
            "gridcolor": "white",
            "linecolor": "white",
            "ticks": ""
           }
          },
          "title": {
           "x": 0.05
          },
          "xaxis": {
           "automargin": true,
           "gridcolor": "white",
           "linecolor": "white",
           "ticks": "",
           "title": {
            "standoff": 15
           },
           "zerolinecolor": "white",
           "zerolinewidth": 2
          },
          "yaxis": {
           "automargin": true,
           "gridcolor": "white",
           "linecolor": "white",
           "ticks": "",
           "title": {
            "standoff": 15
           },
           "zerolinecolor": "white",
           "zerolinewidth": 2
          }
         }
        },
        "xaxis": {
         "anchor": "y",
         "categoryarray": [
          "United Kingdom",
          "EIRE",
          "Netherlands",
          "Germany",
          "France"
         ],
         "categoryorder": "array",
         "domain": [
          0,
          1
         ],
         "title": {
          "text": "Country"
         }
        },
        "yaxis": {
         "anchor": "x",
         "domain": [
          0,
          1
         ],
         "title": {
          "text": "Revenue"
         }
        }
       }
      }
     },
     "metadata": {},
     "output_type": "display_data"
    }
   ],
   "source": [
    "# Custom Colors and Palettes\n",
    "\n",
    "color_map = {\n",
    "    'United Kingdom': '#1f77b4',\n",
    "    'Germany': '#ff7f0e',\n",
    "    'France': '#2ca02c',\n",
    "    'EIRE': '#d62728',\n",
    "    'Netherlands': '#9467bd'\n",
    "}\n",
    "\n",
    "fig = px.bar(top_countries.head(5),\n",
    "             x='Country', y='Revenue',\n",
    "             text='Revenue',\n",
    "             color='Country',\n",
    "             color_discrete_map=color_map)\n",
    "\n",
    "fig.update_traces(texttemplate='%{text:.2s}', textposition='outside')\n",
    "\n",
    "fig.show()"
   ]
  },
  {
   "cell_type": "code",
   "execution_count": 36,
   "id": "07a64c51",
   "metadata": {},
   "outputs": [
    {
     "data": {
      "application/vnd.plotly.v1+json": {
       "config": {
        "plotlyServerURL": "https://plot.ly"
       },
       "data": [
        {
         "hovertemplate": "Country=%{x}<br>Revenue=%{text}<extra></extra>",
         "legendgroup": "United Kingdom",
         "marker": {
          "color": "#1f77b4",
          "pattern": {
           "shape": ""
          }
         },
         "name": "United Kingdom",
         "orientation": "v",
         "showlegend": true,
         "text": {
          "bdata": "lkOLcAkVbEE=",
          "dtype": "f8"
         },
         "textposition": "outside",
         "texttemplate": "%{text:.2s}",
         "type": "bar",
         "x": [
          "United Kingdom"
         ],
         "xaxis": "x",
         "y": {
          "bdata": "lkOLcAkVbEE=",
          "dtype": "f8"
         },
         "yaxis": "y"
        },
        {
         "hovertemplate": "Country=%{x}<br>Revenue=%{text}<extra></extra>",
         "legendgroup": "EIRE",
         "marker": {
          "color": "#d62728",
          "pattern": {
           "shape": ""
          }
         },
         "name": "EIRE",
         "orientation": "v",
         "showlegend": true,
         "text": {
          "bdata": "hetROH74IkE=",
          "dtype": "f8"
         },
         "textposition": "outside",
         "texttemplate": "%{text:.2s}",
         "type": "bar",
         "x": [
          "EIRE"
         ],
         "xaxis": "x",
         "y": {
          "bdata": "hetROH74IkE=",
          "dtype": "f8"
         },
         "yaxis": "y"
        },
        {
         "hovertemplate": "Country=%{x}<br>Revenue=%{text}<extra></extra>",
         "legendgroup": "Netherlands",
         "marker": {
          "color": "#9467bd",
          "pattern": {
           "shape": ""
          }
         },
         "name": "Netherlands",
         "orientation": "v",
         "showlegend": true,
         "text": {
          "bdata": "4XoUrvDpIEE=",
          "dtype": "f8"
         },
         "textposition": "outside",
         "texttemplate": "%{text:.2s}",
         "type": "bar",
         "x": [
          "Netherlands"
         ],
         "xaxis": "x",
         "y": {
          "bdata": "4XoUrvDpIEE=",
          "dtype": "f8"
         },
         "yaxis": "y"
        },
        {
         "hovertemplate": "Country=%{x}<br>Revenue=%{text}<extra></extra>",
         "legendgroup": "Germany",
         "marker": {
          "color": "#ff7f0e",
          "pattern": {
           "shape": ""
          }
         },
         "name": "Germany",
         "orientation": "v",
         "showlegend": true,
         "text": {
          "bdata": "TmIQ2HlSGkE=",
          "dtype": "f8"
         },
         "textposition": "outside",
         "texttemplate": "%{text:.2s}",
         "type": "bar",
         "x": [
          "Germany"
         ],
         "xaxis": "x",
         "y": {
          "bdata": "TmIQ2HlSGkE=",
          "dtype": "f8"
         },
         "yaxis": "y"
        },
        {
         "hovertemplate": "Country=%{x}<br>Revenue=%{text}<extra></extra>",
         "legendgroup": "France",
         "marker": {
          "color": "#2ca02c",
          "pattern": {
           "shape": ""
          }
         },
         "name": "France",
         "orientation": "v",
         "showlegend": true,
         "text": {
          "bdata": "FK5H4eWuFUE=",
          "dtype": "f8"
         },
         "textposition": "outside",
         "texttemplate": "%{text:.2s}",
         "type": "bar",
         "x": [
          "France"
         ],
         "xaxis": "x",
         "y": {
          "bdata": "FK5H4eWuFUE=",
          "dtype": "f8"
         },
         "yaxis": "y"
        }
       ],
       "layout": {
        "barmode": "relative",
        "legend": {
         "title": {
          "text": "Country"
         },
         "tracegroupgap": 0
        },
        "margin": {
         "t": 60
        },
        "paper_bgcolor": "#f8f8f8",
        "plot_bgcolor": "black",
        "template": {
         "data": {
          "bar": [
           {
            "error_x": {
             "color": "#2a3f5f"
            },
            "error_y": {
             "color": "#2a3f5f"
            },
            "marker": {
             "line": {
              "color": "#E5ECF6",
              "width": 0.5
             },
             "pattern": {
              "fillmode": "overlay",
              "size": 10,
              "solidity": 0.2
             }
            },
            "type": "bar"
           }
          ],
          "barpolar": [
           {
            "marker": {
             "line": {
              "color": "#E5ECF6",
              "width": 0.5
             },
             "pattern": {
              "fillmode": "overlay",
              "size": 10,
              "solidity": 0.2
             }
            },
            "type": "barpolar"
           }
          ],
          "carpet": [
           {
            "aaxis": {
             "endlinecolor": "#2a3f5f",
             "gridcolor": "white",
             "linecolor": "white",
             "minorgridcolor": "white",
             "startlinecolor": "#2a3f5f"
            },
            "baxis": {
             "endlinecolor": "#2a3f5f",
             "gridcolor": "white",
             "linecolor": "white",
             "minorgridcolor": "white",
             "startlinecolor": "#2a3f5f"
            },
            "type": "carpet"
           }
          ],
          "choropleth": [
           {
            "colorbar": {
             "outlinewidth": 0,
             "ticks": ""
            },
            "type": "choropleth"
           }
          ],
          "contour": [
           {
            "colorbar": {
             "outlinewidth": 0,
             "ticks": ""
            },
            "colorscale": [
             [
              0,
              "#0d0887"
             ],
             [
              0.1111111111111111,
              "#46039f"
             ],
             [
              0.2222222222222222,
              "#7201a8"
             ],
             [
              0.3333333333333333,
              "#9c179e"
             ],
             [
              0.4444444444444444,
              "#bd3786"
             ],
             [
              0.5555555555555556,
              "#d8576b"
             ],
             [
              0.6666666666666666,
              "#ed7953"
             ],
             [
              0.7777777777777778,
              "#fb9f3a"
             ],
             [
              0.8888888888888888,
              "#fdca26"
             ],
             [
              1,
              "#f0f921"
             ]
            ],
            "type": "contour"
           }
          ],
          "contourcarpet": [
           {
            "colorbar": {
             "outlinewidth": 0,
             "ticks": ""
            },
            "type": "contourcarpet"
           }
          ],
          "heatmap": [
           {
            "colorbar": {
             "outlinewidth": 0,
             "ticks": ""
            },
            "colorscale": [
             [
              0,
              "#0d0887"
             ],
             [
              0.1111111111111111,
              "#46039f"
             ],
             [
              0.2222222222222222,
              "#7201a8"
             ],
             [
              0.3333333333333333,
              "#9c179e"
             ],
             [
              0.4444444444444444,
              "#bd3786"
             ],
             [
              0.5555555555555556,
              "#d8576b"
             ],
             [
              0.6666666666666666,
              "#ed7953"
             ],
             [
              0.7777777777777778,
              "#fb9f3a"
             ],
             [
              0.8888888888888888,
              "#fdca26"
             ],
             [
              1,
              "#f0f921"
             ]
            ],
            "type": "heatmap"
           }
          ],
          "histogram": [
           {
            "marker": {
             "pattern": {
              "fillmode": "overlay",
              "size": 10,
              "solidity": 0.2
             }
            },
            "type": "histogram"
           }
          ],
          "histogram2d": [
           {
            "colorbar": {
             "outlinewidth": 0,
             "ticks": ""
            },
            "colorscale": [
             [
              0,
              "#0d0887"
             ],
             [
              0.1111111111111111,
              "#46039f"
             ],
             [
              0.2222222222222222,
              "#7201a8"
             ],
             [
              0.3333333333333333,
              "#9c179e"
             ],
             [
              0.4444444444444444,
              "#bd3786"
             ],
             [
              0.5555555555555556,
              "#d8576b"
             ],
             [
              0.6666666666666666,
              "#ed7953"
             ],
             [
              0.7777777777777778,
              "#fb9f3a"
             ],
             [
              0.8888888888888888,
              "#fdca26"
             ],
             [
              1,
              "#f0f921"
             ]
            ],
            "type": "histogram2d"
           }
          ],
          "histogram2dcontour": [
           {
            "colorbar": {
             "outlinewidth": 0,
             "ticks": ""
            },
            "colorscale": [
             [
              0,
              "#0d0887"
             ],
             [
              0.1111111111111111,
              "#46039f"
             ],
             [
              0.2222222222222222,
              "#7201a8"
             ],
             [
              0.3333333333333333,
              "#9c179e"
             ],
             [
              0.4444444444444444,
              "#bd3786"
             ],
             [
              0.5555555555555556,
              "#d8576b"
             ],
             [
              0.6666666666666666,
              "#ed7953"
             ],
             [
              0.7777777777777778,
              "#fb9f3a"
             ],
             [
              0.8888888888888888,
              "#fdca26"
             ],
             [
              1,
              "#f0f921"
             ]
            ],
            "type": "histogram2dcontour"
           }
          ],
          "mesh3d": [
           {
            "colorbar": {
             "outlinewidth": 0,
             "ticks": ""
            },
            "type": "mesh3d"
           }
          ],
          "parcoords": [
           {
            "line": {
             "colorbar": {
              "outlinewidth": 0,
              "ticks": ""
             }
            },
            "type": "parcoords"
           }
          ],
          "pie": [
           {
            "automargin": true,
            "type": "pie"
           }
          ],
          "scatter": [
           {
            "fillpattern": {
             "fillmode": "overlay",
             "size": 10,
             "solidity": 0.2
            },
            "type": "scatter"
           }
          ],
          "scatter3d": [
           {
            "line": {
             "colorbar": {
              "outlinewidth": 0,
              "ticks": ""
             }
            },
            "marker": {
             "colorbar": {
              "outlinewidth": 0,
              "ticks": ""
             }
            },
            "type": "scatter3d"
           }
          ],
          "scattercarpet": [
           {
            "marker": {
             "colorbar": {
              "outlinewidth": 0,
              "ticks": ""
             }
            },
            "type": "scattercarpet"
           }
          ],
          "scattergeo": [
           {
            "marker": {
             "colorbar": {
              "outlinewidth": 0,
              "ticks": ""
             }
            },
            "type": "scattergeo"
           }
          ],
          "scattergl": [
           {
            "marker": {
             "colorbar": {
              "outlinewidth": 0,
              "ticks": ""
             }
            },
            "type": "scattergl"
           }
          ],
          "scattermap": [
           {
            "marker": {
             "colorbar": {
              "outlinewidth": 0,
              "ticks": ""
             }
            },
            "type": "scattermap"
           }
          ],
          "scattermapbox": [
           {
            "marker": {
             "colorbar": {
              "outlinewidth": 0,
              "ticks": ""
             }
            },
            "type": "scattermapbox"
           }
          ],
          "scatterpolar": [
           {
            "marker": {
             "colorbar": {
              "outlinewidth": 0,
              "ticks": ""
             }
            },
            "type": "scatterpolar"
           }
          ],
          "scatterpolargl": [
           {
            "marker": {
             "colorbar": {
              "outlinewidth": 0,
              "ticks": ""
             }
            },
            "type": "scatterpolargl"
           }
          ],
          "scatterternary": [
           {
            "marker": {
             "colorbar": {
              "outlinewidth": 0,
              "ticks": ""
             }
            },
            "type": "scatterternary"
           }
          ],
          "surface": [
           {
            "colorbar": {
             "outlinewidth": 0,
             "ticks": ""
            },
            "colorscale": [
             [
              0,
              "#0d0887"
             ],
             [
              0.1111111111111111,
              "#46039f"
             ],
             [
              0.2222222222222222,
              "#7201a8"
             ],
             [
              0.3333333333333333,
              "#9c179e"
             ],
             [
              0.4444444444444444,
              "#bd3786"
             ],
             [
              0.5555555555555556,
              "#d8576b"
             ],
             [
              0.6666666666666666,
              "#ed7953"
             ],
             [
              0.7777777777777778,
              "#fb9f3a"
             ],
             [
              0.8888888888888888,
              "#fdca26"
             ],
             [
              1,
              "#f0f921"
             ]
            ],
            "type": "surface"
           }
          ],
          "table": [
           {
            "cells": {
             "fill": {
              "color": "#EBF0F8"
             },
             "line": {
              "color": "white"
             }
            },
            "header": {
             "fill": {
              "color": "#C8D4E3"
             },
             "line": {
              "color": "white"
             }
            },
            "type": "table"
           }
          ]
         },
         "layout": {
          "annotationdefaults": {
           "arrowcolor": "#2a3f5f",
           "arrowhead": 0,
           "arrowwidth": 1
          },
          "autotypenumbers": "strict",
          "coloraxis": {
           "colorbar": {
            "outlinewidth": 0,
            "ticks": ""
           }
          },
          "colorscale": {
           "diverging": [
            [
             0,
             "#8e0152"
            ],
            [
             0.1,
             "#c51b7d"
            ],
            [
             0.2,
             "#de77ae"
            ],
            [
             0.3,
             "#f1b6da"
            ],
            [
             0.4,
             "#fde0ef"
            ],
            [
             0.5,
             "#f7f7f7"
            ],
            [
             0.6,
             "#e6f5d0"
            ],
            [
             0.7,
             "#b8e186"
            ],
            [
             0.8,
             "#7fbc41"
            ],
            [
             0.9,
             "#4d9221"
            ],
            [
             1,
             "#276419"
            ]
           ],
           "sequential": [
            [
             0,
             "#0d0887"
            ],
            [
             0.1111111111111111,
             "#46039f"
            ],
            [
             0.2222222222222222,
             "#7201a8"
            ],
            [
             0.3333333333333333,
             "#9c179e"
            ],
            [
             0.4444444444444444,
             "#bd3786"
            ],
            [
             0.5555555555555556,
             "#d8576b"
            ],
            [
             0.6666666666666666,
             "#ed7953"
            ],
            [
             0.7777777777777778,
             "#fb9f3a"
            ],
            [
             0.8888888888888888,
             "#fdca26"
            ],
            [
             1,
             "#f0f921"
            ]
           ],
           "sequentialminus": [
            [
             0,
             "#0d0887"
            ],
            [
             0.1111111111111111,
             "#46039f"
            ],
            [
             0.2222222222222222,
             "#7201a8"
            ],
            [
             0.3333333333333333,
             "#9c179e"
            ],
            [
             0.4444444444444444,
             "#bd3786"
            ],
            [
             0.5555555555555556,
             "#d8576b"
            ],
            [
             0.6666666666666666,
             "#ed7953"
            ],
            [
             0.7777777777777778,
             "#fb9f3a"
            ],
            [
             0.8888888888888888,
             "#fdca26"
            ],
            [
             1,
             "#f0f921"
            ]
           ]
          },
          "colorway": [
           "#636efa",
           "#EF553B",
           "#00cc96",
           "#ab63fa",
           "#FFA15A",
           "#19d3f3",
           "#FF6692",
           "#B6E880",
           "#FF97FF",
           "#FECB52"
          ],
          "font": {
           "color": "#2a3f5f"
          },
          "geo": {
           "bgcolor": "white",
           "lakecolor": "white",
           "landcolor": "#E5ECF6",
           "showlakes": true,
           "showland": true,
           "subunitcolor": "white"
          },
          "hoverlabel": {
           "align": "left"
          },
          "hovermode": "closest",
          "mapbox": {
           "style": "light"
          },
          "paper_bgcolor": "white",
          "plot_bgcolor": "#E5ECF6",
          "polar": {
           "angularaxis": {
            "gridcolor": "white",
            "linecolor": "white",
            "ticks": ""
           },
           "bgcolor": "#E5ECF6",
           "radialaxis": {
            "gridcolor": "white",
            "linecolor": "white",
            "ticks": ""
           }
          },
          "scene": {
           "xaxis": {
            "backgroundcolor": "#E5ECF6",
            "gridcolor": "white",
            "gridwidth": 2,
            "linecolor": "white",
            "showbackground": true,
            "ticks": "",
            "zerolinecolor": "white"
           },
           "yaxis": {
            "backgroundcolor": "#E5ECF6",
            "gridcolor": "white",
            "gridwidth": 2,
            "linecolor": "white",
            "showbackground": true,
            "ticks": "",
            "zerolinecolor": "white"
           },
           "zaxis": {
            "backgroundcolor": "#E5ECF6",
            "gridcolor": "white",
            "gridwidth": 2,
            "linecolor": "white",
            "showbackground": true,
            "ticks": "",
            "zerolinecolor": "white"
           }
          },
          "shapedefaults": {
           "line": {
            "color": "#2a3f5f"
           }
          },
          "ternary": {
           "aaxis": {
            "gridcolor": "white",
            "linecolor": "white",
            "ticks": ""
           },
           "baxis": {
            "gridcolor": "white",
            "linecolor": "white",
            "ticks": ""
           },
           "bgcolor": "#E5ECF6",
           "caxis": {
            "gridcolor": "white",
            "linecolor": "white",
            "ticks": ""
           }
          },
          "title": {
           "x": 0.05
          },
          "xaxis": {
           "automargin": true,
           "gridcolor": "white",
           "linecolor": "white",
           "ticks": "",
           "title": {
            "standoff": 15
           },
           "zerolinecolor": "white",
           "zerolinewidth": 2
          },
          "yaxis": {
           "automargin": true,
           "gridcolor": "white",
           "linecolor": "white",
           "ticks": "",
           "title": {
            "standoff": 15
           },
           "zerolinecolor": "white",
           "zerolinewidth": 2
          }
         }
        },
        "xaxis": {
         "anchor": "y",
         "categoryarray": [
          "United Kingdom",
          "EIRE",
          "Netherlands",
          "Germany",
          "France"
         ],
         "categoryorder": "array",
         "domain": [
          0,
          1
         ],
         "gridcolor": "green",
         "showgrid": true,
         "title": {
          "text": "Country"
         }
        },
        "yaxis": {
         "anchor": "x",
         "domain": [
          0,
          1
         ],
         "gridcolor": "yellow",
         "showgrid": true,
         "title": {
          "text": "Revenue"
         }
        }
       }
      }
     },
     "metadata": {},
     "output_type": "display_data"
    }
   ],
   "source": [
    "# Background and Grid Styling\n",
    "\n",
    "color_map = {\n",
    "    'United Kingdom': '#1f77b4',\n",
    "    'Germany': '#ff7f0e',\n",
    "    'France': '#2ca02c',\n",
    "    'EIRE': '#d62728',\n",
    "    'Netherlands': '#9467bd'\n",
    "}\n",
    "\n",
    "fig = px.bar(top_countries.head(5),\n",
    "             x='Country', y='Revenue',\n",
    "             text='Revenue',\n",
    "             color='Country',\n",
    "             color_discrete_map=color_map)\n",
    "\n",
    "fig.update_traces(texttemplate='%{text:.2s}', textposition='outside')\n",
    "\n",
    "# New stuff\n",
    "fig.update_layout(\n",
    "    plot_bgcolor='black',\n",
    "    paper_bgcolor='#f8f8f8',\n",
    "    xaxis=dict(showgrid=True, gridcolor='green'),\n",
    "    yaxis=dict(showgrid=True, gridcolor='yellow'),\n",
    ")\n",
    "\n",
    "fig.show()"
   ]
  },
  {
   "cell_type": "code",
   "execution_count": 43,
   "id": "ae7a4782",
   "metadata": {},
   "outputs": [
    {
     "data": {
      "application/vnd.plotly.v1+json": {
       "config": {
        "plotlyServerURL": "https://plot.ly"
       },
       "data": [
        {
         "hovertemplate": "Country=%{x}<br>Revenue=%{text}<extra></extra>",
         "legendgroup": "United Kingdom",
         "marker": {
          "color": "#1f77b4",
          "pattern": {
           "shape": ""
          }
         },
         "name": "United Kingdom",
         "orientation": "v",
         "showlegend": true,
         "text": {
          "bdata": "lkOLcAkVbEE=",
          "dtype": "f8"
         },
         "textposition": "outside",
         "texttemplate": "%{text:.2s}",
         "type": "bar",
         "x": [
          "United Kingdom"
         ],
         "xaxis": "x",
         "y": {
          "bdata": "lkOLcAkVbEE=",
          "dtype": "f8"
         },
         "yaxis": "y"
        },
        {
         "hovertemplate": "Country=%{x}<br>Revenue=%{text}<extra></extra>",
         "legendgroup": "EIRE",
         "marker": {
          "color": "#d62728",
          "pattern": {
           "shape": ""
          }
         },
         "name": "EIRE",
         "orientation": "v",
         "showlegend": true,
         "text": {
          "bdata": "hetROH74IkE=",
          "dtype": "f8"
         },
         "textposition": "outside",
         "texttemplate": "%{text:.2s}",
         "type": "bar",
         "x": [
          "EIRE"
         ],
         "xaxis": "x",
         "y": {
          "bdata": "hetROH74IkE=",
          "dtype": "f8"
         },
         "yaxis": "y"
        },
        {
         "hovertemplate": "Country=%{x}<br>Revenue=%{text}<extra></extra>",
         "legendgroup": "Netherlands",
         "marker": {
          "color": "#9467bd",
          "pattern": {
           "shape": ""
          }
         },
         "name": "Netherlands",
         "orientation": "v",
         "showlegend": true,
         "text": {
          "bdata": "4XoUrvDpIEE=",
          "dtype": "f8"
         },
         "textposition": "outside",
         "texttemplate": "%{text:.2s}",
         "type": "bar",
         "x": [
          "Netherlands"
         ],
         "xaxis": "x",
         "y": {
          "bdata": "4XoUrvDpIEE=",
          "dtype": "f8"
         },
         "yaxis": "y"
        },
        {
         "hovertemplate": "Country=%{x}<br>Revenue=%{text}<extra></extra>",
         "legendgroup": "Germany",
         "marker": {
          "color": "#ff7f0e",
          "pattern": {
           "shape": ""
          }
         },
         "name": "Germany",
         "orientation": "v",
         "showlegend": true,
         "text": {
          "bdata": "TmIQ2HlSGkE=",
          "dtype": "f8"
         },
         "textposition": "outside",
         "texttemplate": "%{text:.2s}",
         "type": "bar",
         "x": [
          "Germany"
         ],
         "xaxis": "x",
         "y": {
          "bdata": "TmIQ2HlSGkE=",
          "dtype": "f8"
         },
         "yaxis": "y"
        },
        {
         "hovertemplate": "Country=%{x}<br>Revenue=%{text}<extra></extra>",
         "legendgroup": "France",
         "marker": {
          "color": "#2ca02c",
          "pattern": {
           "shape": ""
          }
         },
         "name": "France",
         "orientation": "v",
         "showlegend": true,
         "text": {
          "bdata": "FK5H4eWuFUE=",
          "dtype": "f8"
         },
         "textposition": "outside",
         "texttemplate": "%{text:.2s}",
         "type": "bar",
         "x": [
          "France"
         ],
         "xaxis": "x",
         "y": {
          "bdata": "FK5H4eWuFUE=",
          "dtype": "f8"
         },
         "yaxis": "y"
        }
       ],
       "layout": {
        "barmode": "relative",
        "legend": {
         "orientation": "h",
         "title": {
          "text": "Top 5 Countries"
         },
         "tracegroupgap": 0,
         "x": 1,
         "xanchor": "right",
         "y": 1.02,
         "yanchor": "bottom"
        },
        "margin": {
         "t": 60
        },
        "showlegend": true,
        "template": {
         "data": {
          "bar": [
           {
            "error_x": {
             "color": "#2a3f5f"
            },
            "error_y": {
             "color": "#2a3f5f"
            },
            "marker": {
             "line": {
              "color": "#E5ECF6",
              "width": 0.5
             },
             "pattern": {
              "fillmode": "overlay",
              "size": 10,
              "solidity": 0.2
             }
            },
            "type": "bar"
           }
          ],
          "barpolar": [
           {
            "marker": {
             "line": {
              "color": "#E5ECF6",
              "width": 0.5
             },
             "pattern": {
              "fillmode": "overlay",
              "size": 10,
              "solidity": 0.2
             }
            },
            "type": "barpolar"
           }
          ],
          "carpet": [
           {
            "aaxis": {
             "endlinecolor": "#2a3f5f",
             "gridcolor": "white",
             "linecolor": "white",
             "minorgridcolor": "white",
             "startlinecolor": "#2a3f5f"
            },
            "baxis": {
             "endlinecolor": "#2a3f5f",
             "gridcolor": "white",
             "linecolor": "white",
             "minorgridcolor": "white",
             "startlinecolor": "#2a3f5f"
            },
            "type": "carpet"
           }
          ],
          "choropleth": [
           {
            "colorbar": {
             "outlinewidth": 0,
             "ticks": ""
            },
            "type": "choropleth"
           }
          ],
          "contour": [
           {
            "colorbar": {
             "outlinewidth": 0,
             "ticks": ""
            },
            "colorscale": [
             [
              0,
              "#0d0887"
             ],
             [
              0.1111111111111111,
              "#46039f"
             ],
             [
              0.2222222222222222,
              "#7201a8"
             ],
             [
              0.3333333333333333,
              "#9c179e"
             ],
             [
              0.4444444444444444,
              "#bd3786"
             ],
             [
              0.5555555555555556,
              "#d8576b"
             ],
             [
              0.6666666666666666,
              "#ed7953"
             ],
             [
              0.7777777777777778,
              "#fb9f3a"
             ],
             [
              0.8888888888888888,
              "#fdca26"
             ],
             [
              1,
              "#f0f921"
             ]
            ],
            "type": "contour"
           }
          ],
          "contourcarpet": [
           {
            "colorbar": {
             "outlinewidth": 0,
             "ticks": ""
            },
            "type": "contourcarpet"
           }
          ],
          "heatmap": [
           {
            "colorbar": {
             "outlinewidth": 0,
             "ticks": ""
            },
            "colorscale": [
             [
              0,
              "#0d0887"
             ],
             [
              0.1111111111111111,
              "#46039f"
             ],
             [
              0.2222222222222222,
              "#7201a8"
             ],
             [
              0.3333333333333333,
              "#9c179e"
             ],
             [
              0.4444444444444444,
              "#bd3786"
             ],
             [
              0.5555555555555556,
              "#d8576b"
             ],
             [
              0.6666666666666666,
              "#ed7953"
             ],
             [
              0.7777777777777778,
              "#fb9f3a"
             ],
             [
              0.8888888888888888,
              "#fdca26"
             ],
             [
              1,
              "#f0f921"
             ]
            ],
            "type": "heatmap"
           }
          ],
          "histogram": [
           {
            "marker": {
             "pattern": {
              "fillmode": "overlay",
              "size": 10,
              "solidity": 0.2
             }
            },
            "type": "histogram"
           }
          ],
          "histogram2d": [
           {
            "colorbar": {
             "outlinewidth": 0,
             "ticks": ""
            },
            "colorscale": [
             [
              0,
              "#0d0887"
             ],
             [
              0.1111111111111111,
              "#46039f"
             ],
             [
              0.2222222222222222,
              "#7201a8"
             ],
             [
              0.3333333333333333,
              "#9c179e"
             ],
             [
              0.4444444444444444,
              "#bd3786"
             ],
             [
              0.5555555555555556,
              "#d8576b"
             ],
             [
              0.6666666666666666,
              "#ed7953"
             ],
             [
              0.7777777777777778,
              "#fb9f3a"
             ],
             [
              0.8888888888888888,
              "#fdca26"
             ],
             [
              1,
              "#f0f921"
             ]
            ],
            "type": "histogram2d"
           }
          ],
          "histogram2dcontour": [
           {
            "colorbar": {
             "outlinewidth": 0,
             "ticks": ""
            },
            "colorscale": [
             [
              0,
              "#0d0887"
             ],
             [
              0.1111111111111111,
              "#46039f"
             ],
             [
              0.2222222222222222,
              "#7201a8"
             ],
             [
              0.3333333333333333,
              "#9c179e"
             ],
             [
              0.4444444444444444,
              "#bd3786"
             ],
             [
              0.5555555555555556,
              "#d8576b"
             ],
             [
              0.6666666666666666,
              "#ed7953"
             ],
             [
              0.7777777777777778,
              "#fb9f3a"
             ],
             [
              0.8888888888888888,
              "#fdca26"
             ],
             [
              1,
              "#f0f921"
             ]
            ],
            "type": "histogram2dcontour"
           }
          ],
          "mesh3d": [
           {
            "colorbar": {
             "outlinewidth": 0,
             "ticks": ""
            },
            "type": "mesh3d"
           }
          ],
          "parcoords": [
           {
            "line": {
             "colorbar": {
              "outlinewidth": 0,
              "ticks": ""
             }
            },
            "type": "parcoords"
           }
          ],
          "pie": [
           {
            "automargin": true,
            "type": "pie"
           }
          ],
          "scatter": [
           {
            "fillpattern": {
             "fillmode": "overlay",
             "size": 10,
             "solidity": 0.2
            },
            "type": "scatter"
           }
          ],
          "scatter3d": [
           {
            "line": {
             "colorbar": {
              "outlinewidth": 0,
              "ticks": ""
             }
            },
            "marker": {
             "colorbar": {
              "outlinewidth": 0,
              "ticks": ""
             }
            },
            "type": "scatter3d"
           }
          ],
          "scattercarpet": [
           {
            "marker": {
             "colorbar": {
              "outlinewidth": 0,
              "ticks": ""
             }
            },
            "type": "scattercarpet"
           }
          ],
          "scattergeo": [
           {
            "marker": {
             "colorbar": {
              "outlinewidth": 0,
              "ticks": ""
             }
            },
            "type": "scattergeo"
           }
          ],
          "scattergl": [
           {
            "marker": {
             "colorbar": {
              "outlinewidth": 0,
              "ticks": ""
             }
            },
            "type": "scattergl"
           }
          ],
          "scattermap": [
           {
            "marker": {
             "colorbar": {
              "outlinewidth": 0,
              "ticks": ""
             }
            },
            "type": "scattermap"
           }
          ],
          "scattermapbox": [
           {
            "marker": {
             "colorbar": {
              "outlinewidth": 0,
              "ticks": ""
             }
            },
            "type": "scattermapbox"
           }
          ],
          "scatterpolar": [
           {
            "marker": {
             "colorbar": {
              "outlinewidth": 0,
              "ticks": ""
             }
            },
            "type": "scatterpolar"
           }
          ],
          "scatterpolargl": [
           {
            "marker": {
             "colorbar": {
              "outlinewidth": 0,
              "ticks": ""
             }
            },
            "type": "scatterpolargl"
           }
          ],
          "scatterternary": [
           {
            "marker": {
             "colorbar": {
              "outlinewidth": 0,
              "ticks": ""
             }
            },
            "type": "scatterternary"
           }
          ],
          "surface": [
           {
            "colorbar": {
             "outlinewidth": 0,
             "ticks": ""
            },
            "colorscale": [
             [
              0,
              "#0d0887"
             ],
             [
              0.1111111111111111,
              "#46039f"
             ],
             [
              0.2222222222222222,
              "#7201a8"
             ],
             [
              0.3333333333333333,
              "#9c179e"
             ],
             [
              0.4444444444444444,
              "#bd3786"
             ],
             [
              0.5555555555555556,
              "#d8576b"
             ],
             [
              0.6666666666666666,
              "#ed7953"
             ],
             [
              0.7777777777777778,
              "#fb9f3a"
             ],
             [
              0.8888888888888888,
              "#fdca26"
             ],
             [
              1,
              "#f0f921"
             ]
            ],
            "type": "surface"
           }
          ],
          "table": [
           {
            "cells": {
             "fill": {
              "color": "#EBF0F8"
             },
             "line": {
              "color": "white"
             }
            },
            "header": {
             "fill": {
              "color": "#C8D4E3"
             },
             "line": {
              "color": "white"
             }
            },
            "type": "table"
           }
          ]
         },
         "layout": {
          "annotationdefaults": {
           "arrowcolor": "#2a3f5f",
           "arrowhead": 0,
           "arrowwidth": 1
          },
          "autotypenumbers": "strict",
          "coloraxis": {
           "colorbar": {
            "outlinewidth": 0,
            "ticks": ""
           }
          },
          "colorscale": {
           "diverging": [
            [
             0,
             "#8e0152"
            ],
            [
             0.1,
             "#c51b7d"
            ],
            [
             0.2,
             "#de77ae"
            ],
            [
             0.3,
             "#f1b6da"
            ],
            [
             0.4,
             "#fde0ef"
            ],
            [
             0.5,
             "#f7f7f7"
            ],
            [
             0.6,
             "#e6f5d0"
            ],
            [
             0.7,
             "#b8e186"
            ],
            [
             0.8,
             "#7fbc41"
            ],
            [
             0.9,
             "#4d9221"
            ],
            [
             1,
             "#276419"
            ]
           ],
           "sequential": [
            [
             0,
             "#0d0887"
            ],
            [
             0.1111111111111111,
             "#46039f"
            ],
            [
             0.2222222222222222,
             "#7201a8"
            ],
            [
             0.3333333333333333,
             "#9c179e"
            ],
            [
             0.4444444444444444,
             "#bd3786"
            ],
            [
             0.5555555555555556,
             "#d8576b"
            ],
            [
             0.6666666666666666,
             "#ed7953"
            ],
            [
             0.7777777777777778,
             "#fb9f3a"
            ],
            [
             0.8888888888888888,
             "#fdca26"
            ],
            [
             1,
             "#f0f921"
            ]
           ],
           "sequentialminus": [
            [
             0,
             "#0d0887"
            ],
            [
             0.1111111111111111,
             "#46039f"
            ],
            [
             0.2222222222222222,
             "#7201a8"
            ],
            [
             0.3333333333333333,
             "#9c179e"
            ],
            [
             0.4444444444444444,
             "#bd3786"
            ],
            [
             0.5555555555555556,
             "#d8576b"
            ],
            [
             0.6666666666666666,
             "#ed7953"
            ],
            [
             0.7777777777777778,
             "#fb9f3a"
            ],
            [
             0.8888888888888888,
             "#fdca26"
            ],
            [
             1,
             "#f0f921"
            ]
           ]
          },
          "colorway": [
           "#636efa",
           "#EF553B",
           "#00cc96",
           "#ab63fa",
           "#FFA15A",
           "#19d3f3",
           "#FF6692",
           "#B6E880",
           "#FF97FF",
           "#FECB52"
          ],
          "font": {
           "color": "#2a3f5f"
          },
          "geo": {
           "bgcolor": "white",
           "lakecolor": "white",
           "landcolor": "#E5ECF6",
           "showlakes": true,
           "showland": true,
           "subunitcolor": "white"
          },
          "hoverlabel": {
           "align": "left"
          },
          "hovermode": "closest",
          "mapbox": {
           "style": "light"
          },
          "paper_bgcolor": "white",
          "plot_bgcolor": "#E5ECF6",
          "polar": {
           "angularaxis": {
            "gridcolor": "white",
            "linecolor": "white",
            "ticks": ""
           },
           "bgcolor": "#E5ECF6",
           "radialaxis": {
            "gridcolor": "white",
            "linecolor": "white",
            "ticks": ""
           }
          },
          "scene": {
           "xaxis": {
            "backgroundcolor": "#E5ECF6",
            "gridcolor": "white",
            "gridwidth": 2,
            "linecolor": "white",
            "showbackground": true,
            "ticks": "",
            "zerolinecolor": "white"
           },
           "yaxis": {
            "backgroundcolor": "#E5ECF6",
            "gridcolor": "white",
            "gridwidth": 2,
            "linecolor": "white",
            "showbackground": true,
            "ticks": "",
            "zerolinecolor": "white"
           },
           "zaxis": {
            "backgroundcolor": "#E5ECF6",
            "gridcolor": "white",
            "gridwidth": 2,
            "linecolor": "white",
            "showbackground": true,
            "ticks": "",
            "zerolinecolor": "white"
           }
          },
          "shapedefaults": {
           "line": {
            "color": "#2a3f5f"
           }
          },
          "ternary": {
           "aaxis": {
            "gridcolor": "white",
            "linecolor": "white",
            "ticks": ""
           },
           "baxis": {
            "gridcolor": "white",
            "linecolor": "white",
            "ticks": ""
           },
           "bgcolor": "#E5ECF6",
           "caxis": {
            "gridcolor": "white",
            "linecolor": "white",
            "ticks": ""
           }
          },
          "title": {
           "x": 0.05
          },
          "xaxis": {
           "automargin": true,
           "gridcolor": "white",
           "linecolor": "white",
           "ticks": "",
           "title": {
            "standoff": 15
           },
           "zerolinecolor": "white",
           "zerolinewidth": 2
          },
          "yaxis": {
           "automargin": true,
           "gridcolor": "white",
           "linecolor": "white",
           "ticks": "",
           "title": {
            "standoff": 15
           },
           "zerolinecolor": "white",
           "zerolinewidth": 2
          }
         }
        },
        "xaxis": {
         "anchor": "y",
         "categoryarray": [
          "United Kingdom",
          "EIRE",
          "Netherlands",
          "Germany",
          "France"
         ],
         "categoryorder": "array",
         "domain": [
          0,
          1
         ],
         "title": {
          "text": "Country"
         }
        },
        "yaxis": {
         "anchor": "x",
         "domain": [
          0,
          1
         ],
         "title": {
          "text": "Revenue"
         }
        }
       }
      }
     },
     "metadata": {},
     "output_type": "display_data"
    }
   ],
   "source": [
    "# Legend Customization\n",
    "\n",
    "color_map = {\n",
    "    'United Kingdom': '#1f77b4',\n",
    "    'Germany': '#ff7f0e',\n",
    "    'France': '#2ca02c',\n",
    "    'EIRE': '#d62728',\n",
    "    'Netherlands': '#9467bd'\n",
    "}\n",
    "\n",
    "fig = px.bar(top_countries.head(5),\n",
    "             x='Country', y='Revenue',\n",
    "             text='Revenue',\n",
    "             color='Country',\n",
    "             color_discrete_map=color_map)\n",
    "\n",
    "fig.update_traces(texttemplate='%{text:.2s}', textposition='outside')\n",
    "\n",
    "fig.update_layout(\n",
    "    showlegend=True,\n",
    "    legend_title=\"Top 5 Countries\",\n",
    "    legend=dict(\n",
    "        orientation='h',  # horizontal\n",
    "        yanchor='bottom', y=1.02,\n",
    "        xanchor='right', x=1\n",
    "    )\n",
    ")\n",
    "\n",
    "fig.show()"
   ]
  },
  {
   "cell_type": "code",
   "execution_count": 44,
   "id": "57fc6408",
   "metadata": {},
   "outputs": [
    {
     "data": {
      "application/vnd.plotly.v1+json": {
       "config": {
        "plotlyServerURL": "https://plot.ly"
       },
       "data": [
        {
         "customdata": [
          [
           0.95,
           "2010-02"
          ],
          [
           19.799999999999997,
           "2010-01"
          ],
          [
           44.550000000000004,
           "2010-12"
          ],
          [
           3.75,
           "2011-10"
          ],
          [
           2.89,
           "2011-08"
          ],
          [
           7.6499999999999995,
           "2010-01"
          ],
          [
           0.84,
           "2010-10"
          ],
          [
           15.299999999999999,
           "2010-01"
          ],
          [
           23.8,
           "2010-06"
          ],
          [
           1.45,
           "2010-06"
          ],
          [
           20.16,
           "2011-11"
          ],
          [
           22.5,
           "2011-06"
          ],
          [
           67.5,
           "2010-12"
          ],
          [
           1.65,
           "2010-06"
          ],
          [
           15.8,
           "2010-11"
          ],
          [
           14.98,
           "2010-08"
          ],
          [
           19.5,
           "2011-04"
          ],
          [
           10.2,
           "2010-02"
          ],
          [
           5.9,
           "2011-11"
          ],
          [
           11.8,
           "2010-11"
          ],
          [
           4.2,
           "2011-09"
          ],
          [
           2.5,
           "2010-11"
          ],
          [
           2.1,
           "2010-10"
          ],
          [
           10.5,
           "2011-09"
          ],
          [
           46.8,
           "2011-08"
          ],
          [
           23.4,
           "2010-03"
          ],
          [
           8.5,
           "2009-12"
          ],
          [
           15.299999999999999,
           "2010-03"
          ],
          [
           4.949999999999999,
           "2010-04"
          ],
          [
           7.5,
           "2011-01"
          ],
          [
           16.5,
           "2010-08"
          ],
          [
           1.65,
           "2010-03"
          ],
          [
           5.9,
           "2011-04"
          ],
          [
           0.65,
           "2010-10"
          ],
          [
           10.5,
           "2011-05"
          ],
          [
           4.16,
           "2011-04"
          ],
          [
           61.199999999999996,
           "2011-06"
          ],
          [
           15.8,
           "2011-10"
          ],
          [
           17.4,
           "2011-08"
          ],
          [
           17.700000000000003,
           "2010-12"
          ],
          [
           5.9,
           "2011-06"
          ],
          [
           0.42,
           "2010-12"
          ],
          [
           9.899999999999999,
           "2010-02"
          ],
          [
           5.95,
           "2011-06"
          ],
          [
           30,
           "2011-06"
          ],
          [
           52.5,
           "2010-06"
          ],
          [
           8.850000000000001,
           "2009-12"
          ],
          [
           3.75,
           "2010-09"
          ],
          [
           25.200000000000003,
           "2010-11"
          ],
          [
           6.35,
           "2010-08"
          ],
          [
           1.25,
           "2011-12"
          ],
          [
           22.5,
           "2010-04"
          ],
          [
           4.95,
           "2011-11"
          ],
          [
           46.800000000000004,
           "2010-11"
          ],
          [
           2.98,
           "2010-07"
          ],
          [
           7.95,
           "2010-11"
          ],
          [
           17.700000000000003,
           "2010-10"
          ],
          [
           12.75,
           "2009-12"
          ],
          [
           30,
           "2011-10"
          ],
          [
           1.65,
           "2010-09"
          ],
          [
           6.25,
           "2010-06"
          ],
          [
           12.75,
           "2011-08"
          ],
          [
           7.95,
           "2011-05"
          ],
          [
           10,
           "2010-02"
          ],
          [
           2.08,
           "2011-10"
          ],
          [
           25.200000000000003,
           "2010-02"
          ],
          [
           18.72,
           "2011-12"
          ],
          [
           10.5,
           "2010-10"
          ],
          [
           39.95,
           "2010-09"
          ],
          [
           17.700000000000003,
           "2010-06"
          ],
          [
           4.2,
           "2010-03"
          ],
          [
           34,
           "2011-12"
          ],
          [
           9.95,
           "2010-07"
          ],
          [
           1.25,
           "2010-02"
          ],
          [
           2.1,
           "2011-10"
          ],
          [
           11.9,
           "2010-07"
          ],
          [
           15,
           "2010-06"
          ],
          [
           4.95,
           "2011-06"
          ],
          [
           11.9,
           "2010-03"
          ],
          [
           15,
           "2011-05"
          ],
          [
           2.52,
           "2011-04"
          ],
          [
           2.34,
           "2011-05"
          ],
          [
           367.2,
           "2010-02"
          ],
          [
           3.3,
           "2010-09"
          ],
          [
           1.95,
           "2011-05"
          ],
          [
           2.55,
           "2010-11"
          ],
          [
           9.9,
           "2010-09"
          ],
          [
           0.65,
           "2010-12"
          ],
          [
           15,
           "2011-11"
          ],
          [
           10.5,
           "2010-07"
          ],
          [
           33,
           "2010-03"
          ],
          [
           88.80000000000001,
           "2010-08"
          ],
          [
           10.2,
           "2011-10"
          ],
          [
           9,
           "2010-12"
          ],
          [
           17.4,
           "2010-07"
          ],
          [
           2.5,
           "2010-10"
          ],
          [
           61.199999999999996,
           "2010-09"
          ],
          [
           25.5,
           "2011-01"
          ],
          [
           116,
           "2011-09"
          ],
          [
           19.9,
           "2011-07"
          ],
          [
           17.700000000000003,
           "2010-10"
          ],
          [
           15.9,
           "2011-09"
          ],
          [
           15.12,
           "2011-11"
          ],
          [
           40.5,
           "2010-01"
          ],
          [
           15.12,
           "2010-12"
          ],
          [
           3.75,
           "2010-05"
          ],
          [
           3.75,
           "2011-06"
          ],
          [
           3.75,
           "2010-10"
          ],
          [
           1.65,
           "2010-10"
          ],
          [
           5,
           "2011-04"
          ],
          [
           6.24,
           "2011-05"
          ],
          [
           10.5,
           "2010-03"
          ],
          [
           10.2,
           "2010-06"
          ],
          [
           2.5,
           "2010-05"
          ],
          [
           3.75,
           "2010-05"
          ],
          [
           4.1499999999999995,
           "2011-11"
          ],
          [
           7.5,
           "2010-10"
          ],
          [
           13.5,
           "2010-03"
          ],
          [
           0.83,
           "2011-11"
          ],
          [
           9.9,
           "2010-08"
          ],
          [
           1.25,
           "2011-03"
          ],
          [
           1.25,
           "2010-06"
          ],
          [
           15.9,
           "2010-06"
          ],
          [
           17.700000000000003,
           "2011-07"
          ],
          [
           5.1,
           "2009-12"
          ],
          [
           0.85,
           "2010-05"
          ],
          [
           10.2,
           "2010-01"
          ],
          [
           1.7,
           "2011-11"
          ],
          [
           4.949999999999999,
           "2011-11"
          ],
          [
           16.5,
           "2011-05"
          ],
          [
           2.5,
           "2010-09"
          ],
          [
           7.5,
           "2010-03"
          ],
          [
           25.5,
           "2010-08"
          ],
          [
           0.39,
           "2011-10"
          ],
          [
           1.65,
           "2010-11"
          ],
          [
           1.7,
           "2010-11"
          ],
          [
           2.1,
           "2010-06"
          ],
          [
           7.95,
           "2010-05"
          ],
          [
           12.5,
           "2011-05"
          ],
          [
           73.75,
           "2009-12"
          ],
          [
           14.850000000000001,
           "2011-11"
          ],
          [
           11.8,
           "2011-07"
          ],
          [
           1.25,
           "2010-10"
          ],
          [
           25.200000000000003,
           "2010-10"
          ],
          [
           15,
           "2010-11"
          ],
          [
           15.9,
           "2010-03"
          ],
          [
           9.959999999999999,
           "2011-06"
          ],
          [
           5.9,
           "2011-08"
          ],
          [
           1.7,
           "2010-10"
          ],
          [
           30,
           "2010-01"
          ],
          [
           25.200000000000003,
           "2011-08"
          ],
          [
           15.299999999999999,
           "2011-08"
          ],
          [
           5.1,
           "2011-04"
          ],
          [
           1.7399999999999998,
           "2011-11"
          ],
          [
           1.7,
           "2011-11"
          ],
          [
           17.700000000000003,
           "2010-10"
          ],
          [
           10.2,
           "2009-12"
          ],
          [
           10.5,
           "2011-01"
          ],
          [
           1.25,
           "2011-05"
          ],
          [
           5.9,
           "2010-04"
          ],
          [
           21,
           "2011-09"
          ],
          [
           33,
           "2010-01"
          ],
          [
           14.75,
           "2010-06"
          ],
          [
           3.9,
           "2010-12"
          ],
          [
           15,
           "2010-10"
          ],
          [
           135,
           "2011-11"
          ],
          [
           14.850000000000001,
           "2010-09"
          ],
          [
           17.700000000000003,
           "2009-12"
          ],
          [
           2.89,
           "2011-11"
          ],
          [
           15,
           "2011-08"
          ],
          [
           24.96,
           "2011-06"
          ],
          [
           13.049999999999999,
           "2010-12"
          ],
          [
           6.76,
           "2010-05"
          ],
          [
           41.6,
           "2011-08"
          ],
          [
           12.75,
           "2011-09"
          ],
          [
           3.3,
           "2010-11"
          ],
          [
           13.200000000000001,
           "2011-07"
          ],
          [
           5.9,
           "2010-07"
          ],
          [
           6.300000000000001,
           "2009-12"
          ],
          [
           1.45,
           "2010-12"
          ],
          [
           15,
           "2011-11"
          ],
          [
           23.4,
           "2011-11"
          ],
          [
           7.800000000000001,
           "2010-06"
          ],
          [
           20.8,
           "2011-08"
          ],
          [
           19.9,
           "2010-08"
          ],
          [
           45,
           "2011-01"
          ],
          [
           7.5,
           "2011-09"
          ],
          [
           2.5,
           "2011-11"
          ],
          [
           0.39,
           "2011-10"
          ],
          [
           22.95,
           "2010-11"
          ],
          [
           2.5,
           "2010-06"
          ],
          [
           7.5,
           "2011-10"
          ],
          [
           17,
           "2011-06"
          ],
          [
           11.9,
           "2011-11"
          ],
          [
           49.5,
           "2010-10"
          ],
          [
           8.25,
           "2011-09"
          ],
          [
           5.75,
           "2011-10"
          ],
          [
           15.6,
           "2011-12"
          ],
          [
           10,
           "2011-06"
          ],
          [
           19.9,
           "2010-07"
          ],
          [
           130.8,
           "2010-03"
          ],
          [
           3.3,
           "2011-10"
          ],
          [
           7.6499999999999995,
           "2010-02"
          ],
          [
           34.8,
           "2010-01"
          ],
          [
           35.400000000000006,
           "2011-11"
          ],
          [
           1.25,
           "2011-02"
          ],
          [
           14.940000000000001,
           "2011-05"
          ],
          [
           15.299999999999999,
           "2010-03"
          ],
          [
           15.600000000000001,
           "2010-09"
          ],
          [
           208.79999999999998,
           "2010-12"
          ],
          [
           91.8,
           "2011-09"
          ],
          [
           6.64,
           "2011-10"
          ],
          [
           2.95,
           "2010-11"
          ],
          [
           1.95,
           "2010-09"
          ],
          [
           7.5,
           "2010-05"
          ],
          [
           29.849999999999998,
           "2010-04"
          ],
          [
           3.4,
           "2010-09"
          ],
          [
           4.2,
           "2010-09"
          ],
          [
           1.7,
           "2011-06"
          ],
          [
           44.550000000000004,
           "2009-12"
          ],
          [
           12.600000000000001,
           "2010-01"
          ],
          [
           1.69,
           "2010-11"
          ],
          [
           1.25,
           "2011-11"
          ],
          [
           8.5,
           "2010-05"
          ],
          [
           2.08,
           "2011-08"
          ],
          [
           17.700000000000003,
           "2011-03"
          ],
          [
           5,
           "2010-11"
          ],
          [
           2.1,
           "2010-11"
          ],
          [
           14.95,
           "2010-02"
          ],
          [
           12.5,
           "2010-11"
          ],
          [
           4.949999999999999,
           "2010-11"
          ],
          [
           4.2,
           "2011-01"
          ],
          [
           20.4,
           "2011-02"
          ],
          [
           5.04,
           "2010-11"
          ],
          [
           5.04,
           "2011-12"
          ],
          [
           15.299999999999999,
           "2010-12"
          ],
          [
           20.28,
           "2011-03"
          ],
          [
           10.2,
           "2011-08"
          ],
          [
           2.9,
           "2011-03"
          ],
          [
           1.25,
           "2011-10"
          ],
          [
           10.2,
           "2010-03"
          ],
          [
           35.7,
           "2010-05"
          ],
          [
           19.9,
           "2010-06"
          ],
          [
           7.5,
           "2011-09"
          ],
          [
           30,
           "2011-04"
          ],
          [
           1.25,
           "2011-03"
          ],
          [
           7.5,
           "2010-10"
          ],
          [
           11.8,
           "2011-12"
          ],
          [
           14.95,
           "2011-08"
          ],
          [
           0.84,
           "2010-12"
          ],
          [
           79.95,
           "2010-11"
          ],
          [
           16.5,
           "2011-02"
          ],
          [
           3.75,
           "2011-09"
          ],
          [
           17.9,
           "2010-10"
          ],
          [
           11.9,
           "2011-04"
          ],
          [
           9.95,
           "2010-12"
          ],
          [
           10.08,
           "2010-03"
          ],
          [
           9.9,
           "2011-11"
          ],
          [
           89.64000000000001,
           "2011-10"
          ],
          [
           12.75,
           "2010-09"
          ],
          [
           8.5,
           "2010-12"
          ],
          [
           15.299999999999999,
           "2010-03"
          ],
          [
           5,
           "2011-06"
          ],
          [
           3.75,
           "2010-10"
          ],
          [
           17.4,
           "2011-03"
          ],
          [
           19.9,
           "2010-01"
          ],
          [
           29.5,
           "2011-09"
          ],
          [
           20,
           "2010-03"
          ],
          [
           10.5,
           "2011-04"
          ],
          [
           1.7,
           "2011-07"
          ],
          [
           46.8,
           "2010-07"
          ],
          [
           3.3,
           "2011-10"
          ],
          [
           10.2,
           "2011-04"
          ],
          [
           1.25,
           "2010-11"
          ],
          [
           7.5,
           "2010-05"
          ],
          [
           10.08,
           "2011-09"
          ],
          [
           3.4,
           "2011-10"
          ],
          [
           51,
           "2011-01"
          ],
          [
           130.8,
           "2009-12"
          ],
          [
           9.75,
           "2010-11"
          ],
          [
           3.75,
           "2010-09"
          ],
          [
           23.6,
           "2011-04"
          ],
          [
           9.9,
           "2010-06"
          ],
          [
           20.4,
           "2011-03"
          ],
          [
           4.2,
           "2011-12"
          ],
          [
           7.8,
           "2010-05"
          ],
          [
           2.6,
           "2011-10"
          ],
          [
           23.4,
           "2011-10"
          ],
          [
           0.55,
           "2011-10"
          ],
          [
           15,
           "2011-04"
          ],
          [
           3.9,
           "2010-07"
          ],
          [
           10.5,
           "2010-11"
          ],
          [
           16.5,
           "2010-05"
          ],
          [
           7.56,
           "2010-05"
          ],
          [
           1.95,
           "2009-12"
          ],
          [
           11.9,
           "2011-06"
          ],
          [
           25.5,
           "2010-03"
          ],
          [
           17.700000000000003,
           "2011-03"
          ],
          [
           0.39,
           "2011-08"
          ],
          [
           3.3,
           "2010-04"
          ],
          [
           62.400000000000006,
           "2011-08"
          ],
          [
           1.65,
           "2011-10"
          ],
          [
           57.599999999999994,
           "2010-07"
          ],
          [
           4.949999999999999,
           "2011-10"
          ],
          [
           19.5,
           "2011-06"
          ],
          [
           10.08,
           "2010-02"
          ],
          [
           2.95,
           "2011-10"
          ],
          [
           39.6,
           "2011-01"
          ],
          [
           10.2,
           "2010-08"
          ],
          [
           9.95,
           "2010-06"
          ],
          [
           47.400000000000006,
           "2009-12"
          ],
          [
           1.65,
           "2010-10"
          ],
          [
           4.35,
           "2010-03"
          ],
          [
           2.55,
           "2010-05"
          ],
          [
           10.5,
           "2011-12"
          ],
          [
           29.5,
           "2010-01"
          ],
          [
           23.4,
           "2010-10"
          ],
          [
           24.75,
           "2011-09"
          ],
          [
           30,
           "2010-12"
          ],
          [
           15.8,
           "2011-10"
          ],
          [
           2.95,
           "2010-10"
          ],
          [
           1.95,
           "2010-02"
          ],
          [
           22.5,
           "2011-10"
          ],
          [
           0.65,
           "2011-05"
          ],
          [
           16.5,
           "2011-06"
          ],
          [
           10.5,
           "2010-03"
          ],
          [
           8.5,
           "2010-06"
          ],
          [
           15,
           "2011-11"
          ],
          [
           175.2,
           "2011-05"
          ],
          [
           4.949999999999999,
           "2011-08"
          ],
          [
           8.64,
           "2010-11"
          ],
          [
           106,
           "2011-07"
          ],
          [
           4.949999999999999,
           "2011-12"
          ],
          [
           11.56,
           "2011-09"
          ],
          [
           10.5,
           "2010-06"
          ],
          [
           9.899999999999999,
           "2010-06"
          ],
          [
           2.9,
           "2010-07"
          ],
          [
           12.5,
           "2011-10"
          ],
          [
           12.600000000000001,
           "2010-12"
          ],
          [
           11.049999999999999,
           "2009-12"
          ],
          [
           12.5,
           "2011-03"
          ],
          [
           17.700000000000003,
           "2010-01"
          ],
          [
           2.1,
           "2010-08"
          ],
          [
           6.6000000000000005,
           "2010-09"
          ],
          [
           1.45,
           "2010-10"
          ],
          [
           10.5,
           "2010-01"
          ],
          [
           25.200000000000003,
           "2009-12"
          ],
          [
           5.04,
           "2011-07"
          ],
          [
           3.75,
           "2011-08"
          ],
          [
           13.200000000000001,
           "2011-10"
          ],
          [
           6539.400000000001,
           "2011-04"
          ],
          [
           8.5,
           "2010-11"
          ],
          [
           1.25,
           "2011-02"
          ],
          [
           4.95,
           "2011-10"
          ],
          [
           15,
           "2010-01"
          ],
          [
           8.850000000000001,
           "2010-06"
          ],
          [
           1.9500000000000002,
           "2011-11"
          ],
          [
           4.25,
           "2011-02"
          ],
          [
           83.2,
           "2011-10"
          ],
          [
           6.95,
           "2010-05"
          ],
          [
           17,
           "2011-11"
          ],
          [
           6.25,
           "2010-08"
          ],
          [
           9.9,
           "2011-09"
          ],
          [
           15,
           "2010-08"
          ],
          [
           5.1,
           "2011-02"
          ],
          [
           2.1,
           "2011-07"
          ],
          [
           3.75,
           "2009-12"
          ],
          [
           119.39999999999999,
           "2010-05"
          ],
          [
           22.5,
           "2009-12"
          ],
          [
           10.2,
           "2010-05"
          ],
          [
           1.25,
           "2010-08"
          ],
          [
           1.65,
           "2010-05"
          ],
          [
           2.5,
           "2010-10"
          ],
          [
           4.95,
           "2010-05"
          ],
          [
           13.200000000000001,
           "2010-05"
          ],
          [
           7.5,
           "2011-02"
          ],
          [
           7.5,
           "2009-12"
          ],
          [
           7.95,
           "2010-09"
          ],
          [
           3.75,
           "2010-07"
          ],
          [
           34.8,
           "2011-02"
          ],
          [
           32.37,
           "2011-11"
          ],
          [
           15.6,
           "2011-12"
          ],
          [
           47.7,
           "2010-11"
          ],
          [
           17.4,
           "2011-04"
          ],
          [
           5.1,
           "2010-10"
          ],
          [
           18.75,
           "2011-05"
          ],
          [
           25.200000000000003,
           "2010-02"
          ],
          [
           6.64,
           "2011-08"
          ],
          [
           4.25,
           "2011-07"
          ],
          [
           20.28,
           "2011-11"
          ],
          [
           10.2,
           "2010-12"
          ],
          [
           2.55,
           "2010-12"
          ],
          [
           15,
           "2010-08"
          ],
          [
           70.80000000000001,
           "2010-07"
          ],
          [
           20.8,
           "2011-08"
          ],
          [
           3.9,
           "2011-09"
          ],
          [
           1.7,
           "2010-11"
          ],
          [
           4.68,
           "2011-12"
          ],
          [
           10.2,
           "2011-06"
          ],
          [
           23.6,
           "2010-11"
          ],
          [
           3.25,
           "2010-08"
          ],
          [
           12.75,
           "2010-06"
          ],
          [
           4.2,
           "2011-11"
          ],
          [
           10.5,
           "2010-05"
          ],
          [
           19.5,
           "2011-05"
          ],
          [
           15,
           "2011-06"
          ],
          [
           8.4,
           "2010-12"
          ],
          [
           10.2,
           "2010-06"
          ],
          [
           3.3,
           "2011-09"
          ],
          [
           17.700000000000003,
           "2011-10"
          ],
          [
           15.299999999999999,
           "2010-09"
          ],
          [
           39.839999999999996,
           "2011-10"
          ],
          [
           15,
           "2011-12"
          ],
          [
           46.8,
           "2010-04"
          ],
          [
           30,
           "2011-05"
          ],
          [
           1.7,
           "2010-09"
          ],
          [
           5,
           "2010-06"
          ],
          [
           9.9,
           "2010-08"
          ],
          [
           2.5,
           "2010-07"
          ],
          [
           29.700000000000003,
           "2010-11"
          ],
          [
           20.4,
           "2011-05"
          ],
          [
           15,
           "2010-09"
          ],
          [
           82.5,
           "2011-04"
          ],
          [
           8.25,
           "2010-10"
          ],
          [
           14.850000000000001,
           "2010-09"
          ],
          [
           2.5,
           "2010-07"
          ],
          [
           5.95,
           "2010-04"
          ],
          [
           0.84,
           "2010-05"
          ],
          [
           7.5,
           "2009-12"
          ],
          [
           23.4,
           "2011-09"
          ],
          [
           306,
           "2010-05"
          ],
          [
           60.48,
           "2011-06"
          ],
          [
           20.8,
           "2011-08"
          ],
          [
           2.5,
           "2011-11"
          ],
          [
           12.600000000000001,
           "2011-05"
          ],
          [
           5.95,
           "2011-12"
          ],
          [
           6.6,
           "2010-03"
          ],
          [
           2.95,
           "2011-08"
          ],
          [
           2.08,
           "2011-12"
          ],
          [
           39.599999999999994,
           "2011-11"
          ],
          [
           4.25,
           "2010-05"
          ],
          [
           17.85,
           "2011-02"
          ],
          [
           1.25,
           "2010-02"
          ],
          [
           50,
           "2011-10"
          ],
          [
           19.8,
           "2010-09"
          ],
          [
           3.3,
           "2010-11"
          ],
          [
           102,
           "2010-03"
          ],
          [
           0.42,
           "2011-02"
          ],
          [
           10.4,
           "2011-07"
          ],
          [
           30,
           "2010-03"
          ],
          [
           4.95,
           "2011-11"
          ],
          [
           11.9,
           "2011-02"
          ],
          [
           25.5,
           "2010-02"
          ],
          [
           1.95,
           "2010-10"
          ],
          [
           10.2,
           "2011-06"
          ],
          [
           2.1,
           "2011-04"
          ],
          [
           23.4,
           "2010-05"
          ],
          [
           11.9,
           "2010-11"
          ],
          [
           10.2,
           "2010-12"
          ],
          [
           19.8,
           "2010-02"
          ],
          [
           8.4,
           "2010-12"
          ],
          [
           15.6,
           "2010-04"
          ],
          [
           10.2,
           "2010-09"
          ],
          [
           35.7,
           "2010-03"
          ],
          [
           7.5,
           "2010-11"
          ],
          [
           30,
           "2010-12"
          ],
          [
           17,
           "2011-06"
          ],
          [
           0.85,
           "2011-10"
          ],
          [
           0.42,
           "2010-11"
          ],
          [
           15,
           "2011-11"
          ],
          [
           5.1,
           "2011-03"
          ],
          [
           10.5,
           "2011-11"
          ],
          [
           1.25,
           "2010-06"
          ],
          [
           8.4,
           "2011-05"
          ],
          [
           2.5,
           "2010-06"
          ],
          [
           0.42,
           "2010-04"
          ],
          [
           17.700000000000003,
           "2010-08"
          ],
          [
           4.74,
           "2011-11"
          ],
          [
           14.040000000000001,
           "2011-12"
          ],
          [
           13.5,
           "2011-04"
          ],
          [
           6.8,
           "2011-05"
          ],
          [
           11.8,
           "2011-03"
          ],
          [
           30.599999999999998,
           "2010-12"
          ],
          [
           1.6500000000000001,
           "2010-11"
          ],
          [
           3.3,
           "2010-04"
          ],
          [
           35.7,
           "2011-01"
          ],
          [
           5.04,
           "2011-03"
          ],
          [
           1.95,
           "2010-12"
          ],
          [
           39.8,
           "2010-10"
          ],
          [
           0.42,
           "2011-06"
          ],
          [
           30,
           "2011-04"
          ],
          [
           39.599999999999994,
           "2011-06"
          ],
          [
           1.65,
           "2010-08"
          ],
          [
           3.36,
           "2011-09"
          ],
          [
           7.5,
           "2011-11"
          ],
          [
           15,
           "2010-10"
          ],
          [
           20.28,
           "2010-10"
          ],
          [
           5.1,
           "2010-07"
          ],
          [
           5.04,
           "2010-10"
          ],
          [
           4.25,
           "2010-11"
          ],
          [
           9.95,
           "2009-12"
          ],
          [
           23.4,
           "2010-10"
          ],
          [
           15,
           "2010-11"
          ],
          [
           15,
           "2010-07"
          ],
          [
           15.6,
           "2010-06"
          ],
          [
           24.900000000000002,
           "2011-05"
          ],
          [
           10.2,
           "2011-02"
          ],
          [
           3.3,
           "2011-07"
          ],
          [
           3.3,
           "2011-03"
          ],
          [
           17.700000000000003,
           "2010-04"
          ],
          [
           23.4,
           "2010-11"
          ],
          [
           11.7,
           "2011-05"
          ],
          [
           15,
           "2010-07"
          ],
          [
           100.80000000000001,
           "2010-04"
          ],
          [
           4.2,
           "2011-05"
          ],
          [
           17,
           "2011-10"
          ],
          [
           15,
           "2011-09"
          ],
          [
           5.95,
           "2011-08"
          ],
          [
           5.8,
           "2010-11"
          ],
          [
           10.2,
           "2010-10"
          ],
          [
           3.25,
           "2010-12"
          ],
          [
           3.75,
           "2011-07"
          ],
          [
           17.700000000000003,
           "2010-07"
          ],
          [
           12.5,
           "2010-11"
          ],
          [
           16.35,
           "2010-12"
          ],
          [
           15.9,
           "2011-09"
          ],
          [
           3.9,
           "2011-10"
          ],
          [
           15,
           "2010-09"
          ],
          [
           1.25,
           "2010-05"
          ],
          [
           3.38,
           "2011-01"
          ],
          [
           1.25,
           "2011-01"
          ],
          [
           7.8,
           "2011-11"
          ],
          [
           45,
           "2010-06"
          ],
          [
           32.849999999999994,
           "2011-02"
          ],
          [
           1.1,
           "2010-10"
          ],
          [
           5.04,
           "2010-11"
          ],
          [
           3.75,
           "2010-10"
          ],
          [
           4.25,
           "2011-01"
          ],
          [
           20.1,
           "2010-03"
          ],
          [
           17.700000000000003,
           "2009-12"
          ],
          [
           9.95,
           "2010-12"
          ],
          [
           15.9,
           "2011-02"
          ],
          [
           35.400000000000006,
           "2011-09"
          ],
          [
           19.799999999999997,
           "2011-07"
          ],
          [
           15,
           "2011-07"
          ],
          [
           17.4,
           "2010-03"
          ],
          [
           1.25,
           "2010-06"
          ],
          [
           2.95,
           "2011-01"
          ],
          [
           11.9,
           "2011-10"
          ],
          [
           12.600000000000001,
           "2010-12"
          ],
          [
           15,
           "2010-06"
          ],
          [
           26.4,
           "2011-03"
          ],
          [
           10.5,
           "2010-02"
          ],
          [
           20.16,
           "2010-03"
          ],
          [
           63.5,
           "2010-07"
          ],
          [
           13,
           "2010-06"
          ],
          [
           4.95,
           "2011-11"
          ],
          [
           17.700000000000003,
           "2011-03"
          ],
          [
           5.04,
           "2010-11"
          ],
          [
           3.75,
           "2010-07"
          ],
          [
           30,
           "2010-12"
          ],
          [
           31.8,
           "2011-06"
          ],
          [
           11.25,
           "2010-11"
          ],
          [
           70.8,
           "2011-11"
          ],
          [
           19.8,
           "2011-06"
          ],
          [
           4.2,
           "2010-09"
          ],
          [
           26.25,
           "2009-12"
          ],
          [
           2.95,
           "2010-03"
          ],
          [
           16.95,
           "2010-02"
          ],
          [
           2.5,
           "2010-07"
          ],
          [
           6.5,
           "2010-11"
          ],
          [
           10.2,
           "2011-11"
          ],
          [
           17.700000000000003,
           "2011-10"
          ],
          [
           15,
           "2010-10"
          ],
          [
           30,
           "2011-08"
          ],
          [
           20.25,
           "2009-12"
          ],
          [
           3.75,
           "2010-11"
          ],
          [
           14.040000000000001,
           "2011-12"
          ],
          [
           8.5,
           "2011-11"
          ],
          [
           6.300000000000001,
           "2010-11"
          ],
          [
           31.200000000000003,
           "2010-06"
          ],
          [
           2.5,
           "2010-06"
          ],
          [
           5.85,
           "2010-12"
          ],
          [
           10.2,
           "2010-09"
          ],
          [
           15,
           "2010-10"
          ],
          [
           91.80000000000001,
           "2010-04"
          ],
          [
           15,
           "2010-10"
          ],
          [
           5.04,
           "2011-12"
          ],
          [
           1.25,
           "2010-06"
          ],
          [
           27.04,
           "2011-04"
          ],
          [
           17.700000000000003,
           "2011-05"
          ],
          [
           10.4,
           "2011-10"
          ],
          [
           17.37,
           "2011-11"
          ],
          [
           12.600000000000001,
           "2010-04"
          ],
          [
           20.8,
           "2011-11"
          ],
          [
           5,
           "2011-10"
          ],
          [
           5.85,
           "2010-09"
          ],
          [
           33,
           "2010-08"
          ],
          [
           4.2,
           "2009-12"
          ],
          [
           6.6,
           "2010-04"
          ],
          [
           17.4,
           "2011-02"
          ],
          [
           62.400000000000006,
           "2011-11"
          ],
          [
           6.6,
           "2010-03"
          ],
          [
           10.5,
           "2010-10"
          ],
          [
           10.95,
           "2010-11"
          ],
          [
           28.080000000000002,
           "2011-09"
          ],
          [
           3.3000000000000003,
           "2010-02"
          ],
          [
           4.5600000000000005,
           "2010-01"
          ],
          [
           17.700000000000003,
           "2011-01"
          ],
          [
           17.85,
           "2011-05"
          ],
          [
           51,
           "2010-12"
          ],
          [
           17.700000000000003,
           "2011-12"
          ],
          [
           17.700000000000003,
           "2011-01"
          ],
          [
           15,
           "2010-12"
          ],
          [
           15.9,
           "2010-12"
          ],
          [
           7.5,
           "2011-07"
          ],
          [
           13.52,
           "2011-05"
          ],
          [
           14.5,
           "2010-02"
          ],
          [
           4.68,
           "2011-04"
          ],
          [
           30.599999999999998,
           "2010-11"
          ],
          [
           126,
           "2011-11"
          ],
          [
           2.95,
           "2010-04"
          ],
          [
           3.75,
           "2010-10"
          ],
          [
           17.4,
           "2011-01"
          ],
          [
           6.6,
           "2010-11"
          ],
          [
           15,
           "2010-06"
          ],
          [
           0.55,
           "2011-05"
          ],
          [
           4.95,
           "2010-09"
          ],
          [
           15.9,
           "2010-11"
          ],
          [
           76.5,
           "2010-06"
          ],
          [
           8.25,
           "2011-09"
          ],
          [
           15,
           "2010-12"
          ],
          [
           25.200000000000003,
           "2010-04"
          ],
          [
           4.25,
           "2010-07"
          ],
          [
           17,
           "2011-01"
          ],
          [
           5.9,
           "2010-03"
          ],
          [
           3.9000000000000004,
           "2011-10"
          ],
          [
           50.400000000000006,
           "2010-09"
          ],
          [
           10.08,
           "2011-06"
          ],
          [
           23.4,
           "2010-12"
          ],
          [
           20.8,
           "2011-08"
          ],
          [
           3.75,
           "2010-04"
          ],
          [
           12.7,
           "2010-07"
          ],
          [
           5.95,
           "2010-08"
          ],
          [
           11.9,
           "2010-09"
          ],
          [
           25.200000000000003,
           "2011-10"
          ],
          [
           10.5,
           "2011-03"
          ],
          [
           30.599999999999998,
           "2010-11"
          ],
          [
           35.7,
           "2010-02"
          ],
          [
           15.600000000000001,
           "2010-09"
          ],
          [
           16.5,
           "2011-09"
          ],
          [
           15,
           "2011-10"
          ],
          [
           5.95,
           "2010-03"
          ],
          [
           4.25,
           "2011-08"
          ],
          [
           12.75,
           "2010-01"
          ],
          [
           18.240000000000002,
           "2010-09"
          ],
          [
           7.6499999999999995,
           "2010-06"
          ],
          [
           10.5,
           "2009-12"
          ],
          [
           3.3,
           "2011-06"
          ],
          [
           17.4,
           "2011-01"
          ],
          [
           10.2,
           "2010-06"
          ],
          [
           81.6,
           "2010-12"
          ],
          [
           1.6500000000000001,
           "2010-11"
          ],
          [
           17.700000000000003,
           "2010-10"
          ],
          [
           2.95,
           "2010-12"
          ],
          [
           1.25,
           "2010-03"
          ],
          [
           33,
           "2011-09"
          ],
          [
           12.5,
           "2011-06"
          ],
          [
           1.7,
           "2010-08"
          ],
          [
           1.25,
           "2010-05"
          ],
          [
           15,
           "2011-06"
          ],
          [
           3.25,
           "2011-09"
          ],
          [
           11.7,
           "2010-07"
          ],
          [
           1.45,
           "2010-08"
          ],
          [
           3.4,
           "2010-08"
          ],
          [
           12.75,
           "2010-08"
          ],
          [
           1.6500000000000001,
           "2010-12"
          ],
          [
           19.5,
           "2010-05"
          ],
          [
           0.85,
           "2011-08"
          ],
          [
           19.92,
           "2011-07"
          ],
          [
           6.72,
           "2011-07"
          ],
          [
           0.55,
           "2010-01"
          ],
          [
           7.95,
           "2010-10"
          ],
          [
           20.16,
           "2010-12"
          ],
          [
           15,
           "2010-11"
          ],
          [
           3.3,
           "2011-06"
          ],
          [
           8.7,
           "2011-03"
          ],
          [
           0.58,
           "2010-10"
          ],
          [
           9.75,
           "2010-04"
          ],
          [
           0.42,
           "2011-08"
          ],
          [
           3.75,
           "2011-03"
          ],
          [
           3.3,
           "2011-04"
          ],
          [
           14.98,
           "2010-08"
          ],
          [
           2.9,
           "2011-09"
          ],
          [
           6.25,
           "2011-10"
          ],
          [
           30,
           "2010-12"
          ],
          [
           12.600000000000001,
           "2010-09"
          ],
          [
           6.95,
           "2009-12"
          ],
          [
           9.899999999999999,
           "2011-09"
          ],
          [
           7.5,
           "2011-01"
          ],
          [
           244.79999999999998,
           "2011-03"
          ],
          [
           1.25,
           "2010-11"
          ],
          [
           3.75,
           "2011-11"
          ],
          [
           4.2,
           "2011-08"
          ],
          [
           23.4,
           "2010-04"
          ],
          [
           4.95,
           "2010-07"
          ],
          [
           23.4,
           "2011-05"
          ],
          [
           1.25,
           "2011-03"
          ],
          [
           15.299999999999999,
           "2011-03"
          ],
          [
           17.85,
           "2011-11"
          ],
          [
           139.2,
           "2010-03"
          ],
          [
           2.08,
           "2011-09"
          ],
          [
           10.08,
           "2010-02"
          ],
          [
           228.96,
           "2010-12"
          ],
          [
           2.95,
           "2011-09"
          ],
          [
           5.85,
           "2010-07"
          ],
          [
           19.5,
           "2010-03"
          ],
          [
           0.29,
           "2011-07"
          ],
          [
           10.2,
           "2011-05"
          ],
          [
           6.64,
           "2011-09"
          ],
          [
           19.799999999999997,
           "2010-04"
          ],
          [
           19.8,
           "2011-04"
          ],
          [
           10.5,
           "2010-06"
          ],
          [
           19.919999999999998,
           "2011-09"
          ],
          [
           14.850000000000001,
           "2011-02"
          ],
          [
           165,
           "2010-09"
          ],
          [
           7.5,
           "2011-11"
          ],
          [
           3.75,
           "2011-05"
          ],
          [
           6.72,
           "2011-10"
          ],
          [
           182.88,
           "2010-09"
          ],
          [
           1.65,
           "2010-05"
          ],
          [
           2.55,
           "2010-06"
          ],
          [
           20.4,
           "2010-11"
          ],
          [
           15,
           "2010-10"
          ],
          [
           15,
           "2011-12"
          ],
          [
           59.400000000000006,
           "2011-07"
          ],
          [
           15,
           "2011-04"
          ],
          [
           16.5,
           "2010-01"
          ],
          [
           15.299999999999999,
           "2011-10"
          ],
          [
           201.60000000000002,
           "2011-05"
          ],
          [
           10.9,
           "2010-04"
          ],
          [
           15.8,
           "2010-12"
          ],
          [
           13.200000000000001,
           "2011-12"
          ],
          [
           1.25,
           "2010-11"
          ],
          [
           5.1,
           "2011-11"
          ],
          [
           17.85,
           "2011-08"
          ],
          [
           5.9,
           "2010-08"
          ],
          [
           92.16,
           "2011-08"
          ],
          [
           7.95,
           "2010-09"
          ],
          [
           22.5,
           "2010-06"
          ],
          [
           15,
           "2011-11"
          ],
          [
           17.700000000000003,
           "2010-02"
          ],
          [
           15,
           "2011-07"
          ],
          [
           2.55,
           "2010-07"
          ],
          [
           3.29,
           "2011-10"
          ],
          [
           14.5,
           "2010-08"
          ],
          [
           33,
           "2011-12"
          ],
          [
           34.8,
           "2010-03"
          ],
          [
           30,
           "2011-11"
          ],
          [
           3.75,
           "2010-12"
          ],
          [
           5.95,
           "2011-11"
          ],
          [
           2.1,
           "2010-10"
          ],
          [
           15.9,
           "2010-10"
          ],
          [
           5.04,
           "2011-08"
          ],
          [
           1.65,
           "2010-11"
          ],
          [
           30,
           "2010-10"
          ],
          [
           3.8,
           "2011-07"
          ],
          [
           14.850000000000001,
           "2010-08"
          ],
          [
           15.600000000000001,
           "2011-05"
          ],
          [
           19.799999999999997,
           "2010-06"
          ],
          [
           30.599999999999998,
           "2009-12"
          ],
          [
           19.8,
           "2010-04"
          ],
          [
           12.75,
           "2011-04"
          ],
          [
           4.2,
           "2009-12"
          ],
          [
           15.600000000000001,
           "2010-06"
          ],
          [
           5,
           "2011-01"
          ],
          [
           14.850000000000001,
           "2010-12"
          ],
          [
           10.5,
           "2010-11"
          ],
          [
           17.700000000000003,
           "2011-11"
          ],
          [
           50.400000000000006,
           "2011-11"
          ],
          [
           3.3,
           "2009-12"
          ],
          [
           15.6,
           "2010-09"
          ],
          [
           26.56,
           "2011-10"
          ],
          [
           10.5,
           "2011-11"
          ],
          [
           19.8,
           "2010-10"
          ],
          [
           3.9,
           "2010-02"
          ],
          [
           3.3,
           "2010-05"
          ],
          [
           46.8,
           "2011-11"
          ],
          [
           11.9,
           "2011-06"
          ],
          [
           0.84,
           "2011-08"
          ],
          [
           15,
           "2010-04"
          ],
          [
           3.3,
           "2010-08"
          ],
          [
           12.75,
           "2011-02"
          ],
          [
           19.8,
           "2011-09"
          ],
          [
           19.799999999999997,
           "2011-07"
          ],
          [
           5.699999999999999,
           "2010-03"
          ],
          [
           11.8,
           "2010-09"
          ],
          [
           2.1,
           "2010-10"
          ],
          [
           6.6,
           "2011-08"
          ],
          [
           6.75,
           "2011-12"
          ],
          [
           7.95,
           "2010-08"
          ],
          [
           5.2,
           "2010-06"
          ],
          [
           12.600000000000001,
           "2009-12"
          ],
          [
           3.35,
           "2010-12"
          ],
          [
           59.4,
           "2011-12"
          ],
          [
           1.65,
           "2010-11"
          ],
          [
           14.98,
           "2010-06"
          ],
          [
           7.95,
           "2010-11"
          ],
          [
           7.5,
           "2010-07"
          ],
          [
           4.2,
           "2011-10"
          ],
          [
           13.200000000000001,
           "2010-10"
          ],
          [
           50.400000000000006,
           "2010-10"
          ],
          [
           15,
           "2011-09"
          ],
          [
           12.75,
           "2010-06"
          ],
          [
           9.3,
           "2010-11"
          ],
          [
           7.5,
           "2010-03"
          ],
          [
           3.75,
           "2011-09"
          ],
          [
           0.29,
           "2011-07"
          ],
          [
           5.85,
           "2011-01"
          ],
          [
           3.75,
           "2010-07"
          ],
          [
           15,
           "2010-08"
          ],
          [
           10.5,
           "2011-06"
          ],
          [
           10.5,
           "2010-08"
          ],
          [
           5.95,
           "2010-07"
          ],
          [
           25.200000000000003,
           "2011-11"
          ],
          [
           15.9,
           "2010-11"
          ],
          [
           48.65,
           "2010-08"
          ],
          [
           3.4,
           "2010-07"
          ],
          [
           15,
           "2011-03"
          ],
          [
           0.65,
           "2009-12"
          ],
          [
           15.299999999999999,
           "2010-05"
          ],
          [
           1.65,
           "2010-08"
          ],
          [
           10,
           "2011-01"
          ],
          [
           5.9,
           "2010-03"
          ],
          [
           4.65,
           "2010-11"
          ],
          [
           75.60000000000001,
           "2010-10"
          ],
          [
           25.919999999999998,
           "2010-06"
          ],
          [
           17,
           "2010-08"
          ],
          [
           10.2,
           "2010-03"
          ],
          [
           17.4,
           "2010-12"
          ],
          [
           5.8,
           "2011-09"
          ],
          [
           2.2,
           "2011-12"
          ],
          [
           4.55,
           "2011-02"
          ],
          [
           1.25,
           "2010-10"
          ],
          [
           3.4,
           "2010-12"
          ],
          [
           8.75,
           "2011-03"
          ],
          [
           81,
           "2011-02"
          ],
          [
           1.65,
           "2010-11"
          ],
          [
           3.3,
           "2010-02"
          ],
          [
           18.6,
           "2010-11"
          ],
          [
           5.9,
           "2010-02"
          ],
          [
           7.6499999999999995,
           "2011-10"
          ],
          [
           5.9,
           "2010-04"
          ],
          [
           6.75,
           "2009-12"
          ],
          [
           10.2,
           "2011-03"
          ],
          [
           1.25,
           "2010-10"
          ],
          [
           19.5,
           "2010-04"
          ],
          [
           33.2,
           "2011-10"
          ],
          [
           0.42,
           "2011-07"
          ],
          [
           14.95,
           "2011-10"
          ],
          [
           3.75,
           "2011-07"
          ],
          [
           102,
           "2010-08"
          ],
          [
           17.85,
           "2011-08"
          ],
          [
           0.29,
           "2011-07"
          ],
          [
           7.800000000000001,
           "2011-04"
          ],
          [
           19.799999999999997,
           "2010-03"
          ],
          [
           4.25,
           "2009-12"
          ],
          [
           29.5,
           "2010-12"
          ],
          [
           3.3,
           "2011-05"
          ],
          [
           9.9,
           "2011-03"
          ],
          [
           2.55,
           "2010-11"
          ],
          [
           3.9,
           "2011-08"
          ],
          [
           18.96,
           "2011-09"
          ],
          [
           17,
           "2011-05"
          ],
          [
           10.08,
           "2011-08"
          ],
          [
           10.2,
           "2010-01"
          ],
          [
           11.9,
           "2010-11"
          ],
          [
           72,
           "2010-07"
          ],
          [
           2.95,
           "2011-01"
          ],
          [
           25.5,
           "2011-02"
          ],
          [
           0.85,
           "2011-11"
          ],
          [
           1.3,
           "2010-11"
          ],
          [
           59.400000000000006,
           "2011-04"
          ],
          [
           16.5,
           "2011-06"
          ],
          [
           71.4,
           "2010-12"
          ],
          [
           10.08,
           "2011-03"
          ],
          [
           2.1,
           "2010-11"
          ],
          [
           2.5,
           "2011-11"
          ],
          [
           2.1,
           "2010-03"
          ],
          [
           8.5,
           "2011-08"
          ],
          [
           12.600000000000001,
           "2010-03"
          ],
          [
           19.8,
           "2010-05"
          ],
          [
           7.5,
           "2010-10"
          ],
          [
           17,
           "2009-12"
          ],
          [
           25.2,
           "2010-08"
          ],
          [
           8.25,
           "2011-11"
          ],
          [
           6.24,
           "2011-10"
          ],
          [
           19.799999999999997,
           "2011-07"
          ],
          [
           11.56,
           "2011-06"
          ],
          [
           19.9,
           "2010-05"
          ],
          [
           1.65,
           "2011-05"
          ],
          [
           132.5,
           "2011-06"
          ],
          [
           2.5,
           "2011-10"
          ],
          [
           1.25,
           "2010-10"
          ],
          [
           8.25,
           "2011-10"
          ],
          [
           14.850000000000001,
           "2010-03"
          ]
         ],
         "hovertemplate": "Country=United Kingdom<br>Quantity=%{x}<br>Price=%{y}<br>Revenue=%{customdata[0]}<br>Month=%{customdata[1]}<extra></extra>",
         "legendgroup": "United Kingdom",
         "marker": {
          "color": "#636efa",
          "size": {
           "bdata": "ZmZmZmZm7j/MzMzMzMwzQGdmZmZmRkZAAAAAAAAADkAfhetRuB4HQJmZmZmZmR5A4XoUrkfh6j+ZmZmZmZkuQM3MzMzMzDdAMzMzMzMz9z8pXI/C9Sg0QAAAAAAAgDZAAAAAAADgUEBmZmZmZmb6P5qZmZmZmS9A9ihcj8L1LUAAAAAAAIAzQGZmZmZmZiRAmpmZmZmZF0CamZmZmZknQM3MzMzMzBBAAAAAAAAABEDNzMzMzMwAQAAAAAAAACVAZmZmZmZmR0BmZmZmZmY3QAAAAAAAACFAmZmZmZmZLkDMzMzMzMwTQAAAAAAAAB5AAAAAAACAMEBmZmZmZmb6P5qZmZmZmRdAzczMzMzM5D8AAAAAAAAlQKRwPQrXoxBAmZmZmZmZTkCamZmZmZkvQGZmZmZmZjFANDMzMzOzMUCamZmZmZkXQOF6FK5H4do/zMzMzMzMI0DNzMzMzMwXQAAAAAAAAD5AAAAAAABASkA0MzMzM7MhQAAAAAAAAA5ANDMzMzMzOUBmZmZmZmYZQAAAAAAAAPQ/AAAAAACANkDNzMzMzMwTQGdmZmZmZkdA16NwPQrXB0DNzMzMzMwfQDQzMzMzszFAAAAAAACAKUAAAAAAAAA+QGZmZmZmZvo/AAAAAAAAGUAAAAAAAIApQM3MzMzMzB9AAAAAAAAAJECkcD0K16MAQDQzMzMzMzlAuB6F61G4MkAAAAAAAAAlQJqZmZmZ+UNANDMzMzOzMUDNzMzMzMwQQAAAAAAAAEFAZmZmZmbmI0AAAAAAAAD0P83MzMzMzABAzczMzMzMJ0AAAAAAAAAuQM3MzMzMzBNAzczMzMzMJ0AAAAAAAAAuQClcj8L1KARAuB6F61G4AkAzMzMzM/N2QGZmZmZmZgpAMzMzMzMz/z9mZmZmZmYEQM3MzMzMzCNAzczMzMzM5D8AAAAAAAAuQAAAAAAAACVAAAAAAACAQEA0MzMzMzNWQGZmZmZmZiRAAAAAAAAAIkBmZmZmZmYxQAAAAAAAAARAmZmZmZmZTkAAAAAAAIA5QAAAAAAAAF1AZmZmZmbmM0A0MzMzM7MxQM3MzMzMzC9APQrXo3A9LkAAAAAAAEBEQD0K16NwPS5AAAAAAAAADkAAAAAAAAAOQAAAAAAAAA5AZmZmZmZm+j8AAAAAAAAUQPYoXI/C9RhAAAAAAAAAJUBmZmZmZmYkQAAAAAAAAARAAAAAAAAADkCZmZmZmZkQQAAAAAAAAB5AAAAAAAAAK0CPwvUoXI/qP83MzMzMzCNAAAAAAAAA9D8AAAAAAAD0P83MzMzMzC9ANDMzMzOzMUBmZmZmZmYUQDMzMzMzM+s/ZmZmZmZmJEAzMzMzMzP7P8zMzMzMzBNAAAAAAACAMEAAAAAAAAAEQAAAAAAAAB5AAAAAAACAOUD2KFyPwvXYP2ZmZmZmZvo/MzMzMzMz+z/NzMzMzMwAQM3MzMzMzB9AAAAAAAAAKUAAAAAAAHBSQDQzMzMzsy1AmpmZmZmZJ0AAAAAAAAD0PzQzMzMzMzlAAAAAAAAALkDNzMzMzMwvQOtRuB6F6yNAmpmZmZmZF0AzMzMzMzP7PwAAAAAAAD5ANDMzMzMzOUCZmZmZmZkuQGZmZmZmZhRA1qNwPQrX+z8zMzMzMzP7PzQzMzMzszFAZmZmZmZmJEAAAAAAAAAlQAAAAAAAAPQ/mpmZmZmZF0AAAAAAAAA1QAAAAAAAgEBAAAAAAACALUAzMzMzMzMPQAAAAAAAAC5AAAAAAADgYEA0MzMzM7MtQDQzMzMzszFAH4XrUbgeB0AAAAAAAAAuQPYoXI/C9ThAmZmZmZkZKkAK16NwPQobQM3MzMzMzERAAAAAAACAKUBmZmZmZmYKQGdmZmZmZipAmpmZmZmZF0A0MzMzMzMZQDMzMzMzM/c/AAAAAAAALkBmZmZmZmY3QDQzMzMzMx9AzczMzMzMNEBmZmZmZuYzQAAAAAAAgEZAAAAAAAAAHkAAAAAAAAAEQPYoXI/C9dg/MzMzMzPzNkAAAAAAAAAEQAAAAAAAAB5AAAAAAAAAMUDNzMzMzMwnQAAAAAAAwEhAAAAAAACAIEAAAAAAAAAXQDMzMzMzMy9AAAAAAAAAJEBmZmZmZuYzQJqZmZmZWWBAZmZmZmZmCkCZmZmZmZkeQGZmZmZmZkFANDMzMzOzQUAAAAAAAAD0P+J6FK5H4S1AmZmZmZmZLkA0MzMzMzMvQJmZmZmZGWpAMzMzMzPzVkCPwvUoXI8aQJqZmZmZmQdAMzMzMzMz/z8AAAAAAAAeQJmZmZmZ2T1AMzMzMzMzC0DNzMzMzMwQQDMzMzMzM/s/Z2ZmZmZGRkA0MzMzMzMpQArXo3A9Cvs/AAAAAAAA9D8AAAAAAAAhQKRwPQrXowBANDMzMzOzMUAAAAAAAAAUQM3MzMzMzABAZmZmZmbmLUAAAAAAAAApQMzMzMzMzBNAzczMzMzMEEBmZmZmZmY0QClcj8L1KBRAKVyPwvUoFECZmZmZmZkuQEjhehSuRzRAZmZmZmZmJEAzMzMzMzMHQAAAAAAAAPQ/ZmZmZmZmJECamZmZmdlBQGZmZmZm5jNAAAAAAAAAHkAAAAAAAAA+QAAAAAAAAPQ/AAAAAAAAHkCamZmZmZknQGZmZmZm5i1A4XoUrkfh6j/NzMzMzPxTQAAAAAAAgDBAAAAAAAAADkBmZmZmZuYxQM3MzMzMzCdAZmZmZmbmI0ApXI/C9SgkQM3MzMzMzCNAKlyPwvVoVkAAAAAAAIApQAAAAAAAACFAmZmZmZmZLkAAAAAAAAAUQAAAAAAAAA5AZmZmZmZmMUBmZmZmZuYzQAAAAAAAgD1AAAAAAAAANEAAAAAAAAAlQDMzMzMzM/s/ZmZmZmZmR0BmZmZmZmYKQGZmZmZmZiRAAAAAAAAA9D8AAAAAAAAeQClcj8L1KCRAMzMzMzMzC0AAAAAAAIBJQJqZmZmZWWBAAAAAAACAI0AAAAAAAAAOQJqZmZmZmTdAzczMzMzMI0BmZmZmZmY0QM3MzMzMzBBAMzMzMzMzH0DNzMzMzMwEQGZmZmZmZjdAmpmZmZmZ4T8AAAAAAAAuQDMzMzMzMw9AAAAAAAAAJUAAAAAAAIAwQD0K16NwPR5AMzMzMzMz/z/NzMzMzMwnQAAAAAAAgDlANDMzMzOzMUD2KFyPwvXYP2ZmZmZmZgpANDMzMzMzT0BmZmZmZmb6P8zMzMzMzExAzMzMzMzME0AAAAAAAIAzQClcj8L1KCRAmpmZmZmZB0DNzMzMzMxDQGZmZmZmZiRAZmZmZmbmI0A0MzMzM7NHQGZmZmZmZvo/ZmZmZmZmEUBmZmZmZmYEQAAAAAAAACVAAAAAAACAPUBmZmZmZmY3QAAAAAAAwDhAAAAAAAAAPkCamZmZmZkvQJqZmZmZmQdAMzMzMzMz/z8AAAAAAIA2QM3MzMzMzOQ/AAAAAACAMEAAAAAAAAAlQAAAAAAAACFAAAAAAAAALkBmZmZmZuZlQMzMzMzMzBNASOF6FK5HIUAAAAAAAIBaQMzMzMzMzBNAH4XrUbgeJ0AAAAAAAAAlQMzMzMzMzCNAMzMzMzMzB0AAAAAAAAApQDQzMzMzMylAmZmZmZkZJkAAAAAAAAApQDQzMzMzszFAzczMzMzMAEBnZmZmZmYaQDMzMzMzM/c/AAAAAAAAJUA0MzMzMzM5QClcj8L1KBRAAAAAAAAADkBnZmZmZmYqQGdmZmZmi7lAAAAAAAAAIUAAAAAAAAD0P83MzMzMzBNAAAAAAAAALkA0MzMzM7MhQDQzMzMzM/8/AAAAAAAAEUDNzMzMzMxUQM3MzMzMzBtAAAAAAAAAMUAAAAAAAAAZQM3MzMzMzCNAAAAAAAAALkBmZmZmZmYUQM3MzMzMzABAAAAAAAAADkCZmZmZmdldQAAAAAAAgDZAZmZmZmZmJEAAAAAAAAD0P2ZmZmZmZvo/AAAAAAAABEDNzMzMzMwTQGdmZmZmZipAAAAAAAAAHkAAAAAAAAAeQM3MzMzMzB9AAAAAAAAADkBmZmZmZmZBQI/C9ShcL0BAMzMzMzMzL0CamZmZmdlHQGZmZmZmZjFAZmZmZmZmFEAAAAAAAMAyQDQzMzMzMzlAj8L1KFyPGkAAAAAAAAARQEjhehSuRzRAZmZmZmZmJEBmZmZmZmYEQAAAAAAAAC5ANDMzMzOzUUDNzMzMzMw0QDMzMzMzMw9AMzMzMzMz+z+4HoXrUbgSQGZmZmZmZiRAmpmZmZmZN0AAAAAAAAAKQAAAAAAAgClAzczMzMzMEEAAAAAAAAAlQAAAAAAAgDNAAAAAAAAALkDNzMzMzMwgQGZmZmZmZiRAZmZmZmZmCkA0MzMzM7MxQJmZmZmZmS5A61G4HoXrQ0AAAAAAAAAuQGZmZmZmZkdAAAAAAAAAPkAzMzMzMzP7PwAAAAAAABRAzczMzMzMI0AAAAAAAAAEQDQzMzMzsz1AZmZmZmZmNEAAAAAAAAAuQAAAAAAAoFRAAAAAAACAIEA0MzMzM7MtQAAAAAAAAARAzczMzMzMF0DhehSuR+HqPwAAAAAAAB5AZmZmZmZmN0AAAAAAACBzQD0K16NwPU5AzczMzMzMNEAAAAAAAAAEQDQzMzMzMylAzczMzMzMF0BmZmZmZmYaQJqZmZmZmQdApHA9CtejAEDMzMzMzMxDQAAAAAAAABFAmpmZmZnZMUAAAAAAAAD0PwAAAAAAAElAzczMzMzMM0BmZmZmZmYKQAAAAAAAgFlA4XoUrkfh2j/NzMzMzMwkQAAAAAAAAD5AzczMzMzME0DNzMzMzMwnQAAAAAAAgDlAMzMzMzMz/z9mZmZmZmYkQM3MzMzMzABAZmZmZmZmN0DNzMzMzMwnQGZmZmZmZiRAzczMzMzMM0DNzMzMzMwgQDMzMzMzMy9AZmZmZmZmJECamZmZmdlBQAAAAAAAAB5AAAAAAAAAPkAAAAAAAAAxQDMzMzMzM+s/4XoUrkfh2j8AAAAAAAAuQGZmZmZmZhRAAAAAAAAAJUAAAAAAAAD0P83MzMzMzCBAAAAAAAAABEDhehSuR+HaPzQzMzMzszFA9ihcj8L1EkAVrkfhehQsQAAAAAAAACtAMzMzMzMzG0CamZmZmZknQJmZmZmZmT5AZ2ZmZmZm+j9mZmZmZmYKQJqZmZmZ2UFAKVyPwvUoFEAzMzMzMzP/P2ZmZmZm5kNA4XoUrkfh2j8AAAAAAAA+QMzMzMzMzENAZmZmZmZm+j/hehSuR+EKQAAAAAAAAB5AAAAAAAAALkBI4XoUrkc0QGZmZmZmZhRAKVyPwvUoFEAAAAAAAAARQGZmZmZm5iNAZmZmZmZmN0AAAAAAAAAuQAAAAAAAAC5AMzMzMzMzL0BnZmZmZuY4QGZmZmZmZiRAZmZmZmZmCkBmZmZmZmYKQDQzMzMzszFAZmZmZmZmN0BmZmZmZmYnQAAAAAAAAC5ANDMzMzMzWUDNzMzMzMwQQAAAAAAAADFAAAAAAAAALkDNzMzMzMwXQDMzMzMzMxdAZmZmZmZmJEAAAAAAAAAKQAAAAAAAAA5ANDMzMzOzMUAAAAAAAAApQJqZmZmZWTBAzczMzMzML0AzMzMzMzMPQAAAAAAAAC5AAAAAAAAA9D8K16NwPQoLQAAAAAAAAPQ/MzMzMzMzH0AAAAAAAIBGQMzMzMzMbEBAmpmZmZmZ8T8pXI/C9SgUQAAAAAAAAA5AAAAAAAAAEUCamZmZmRk0QDQzMzMzszFAZmZmZmbmI0DNzMzMzMwvQDQzMzMzs0FAzMzMzMzMM0AAAAAAAAAuQGZmZmZmZjFAAAAAAAAA9D+amZmZmZkHQM3MzMzMzCdANDMzMzMzKUAAAAAAAAAuQGZmZmZmZjpAAAAAAAAAJUApXI/C9Sg0QAAAAAAAwE9AAAAAAAAAKkDNzMzMzMwTQDQzMzMzszFAKVyPwvUoFEAAAAAAAAAOQAAAAAAAAD5AzczMzMzMP0AAAAAAAIAmQDMzMzMzs1FAzczMzMzMM0DNzMzMzMwQQAAAAAAAQDpAmpmZmZmZB0AzMzMzM/MwQAAAAAAAAARAAAAAAAAAGkBmZmZmZmYkQDQzMzMzszFAAAAAAAAALkAAAAAAAAA+QAAAAAAAQDRAAAAAAAAADkAVrkfhehQsQAAAAAAAACFANDMzMzMzGUA0MzMzMzM/QAAAAAAAAARAZmZmZmZmF0BmZmZmZmYkQAAAAAAAAC5ANDMzMzPzVkAAAAAAAAAuQClcj8L1KBRAAAAAAAAA9D8K16NwPQo7QDQzMzMzszFAzczMzMzMJEAfhetRuF4xQDQzMzMzMylAzczMzMzMNEAAAAAAAAAUQGZmZmZmZhdAAAAAAACAQEDNzMzMzMwQQGZmZmZmZhpAZmZmZmZmMUA0MzMzMzNPQGZmZmZmZhpAAAAAAAAAJUBmZmZmZuYlQBWuR+F6FDxAZ2ZmZmZmCkA+CtejcD0SQDQzMzMzszFAmpmZmZnZMUAAAAAAAIBJQDQzMzMzszFANDMzMzOzMUAAAAAAAAAuQM3MzMzMzC9AAAAAAAAAHkAK16NwPQorQAAAAAAAAC1AuB6F61G4EkCZmZmZmZk+QAAAAAAAgF9AmpmZmZmZB0AAAAAAAAAOQGZmZmZmZjFAZmZmZmZmGkAAAAAAAAAuQJqZmZmZmeE/zczMzMzME0DNzMzMzMwvQAAAAAAAIFNAAAAAAACAIEAAAAAAAAAuQDQzMzMzMzlAAAAAAAAAEUAAAAAAAAAxQJqZmZmZmRdANDMzMzMzD0A0MzMzMzNJQClcj8L1KCRAZmZmZmZmN0DNzMzMzMw0QAAAAAAAAA5AZmZmZmZmKUDNzMzMzMwXQM3MzMzMzCdANDMzMzMzOUAAAAAAAAAlQJmZmZmZmT5AmpmZmZnZQUA0MzMzMzMvQAAAAAAAgDBAAAAAAAAALkDNzMzMzMwXQAAAAAAAABFAAAAAAACAKUA+CtejcD0yQJmZmZmZmR5AAAAAAAAAJUBmZmZmZmYKQGZmZmZmZjFAZmZmZmZmJEBmZmZmZmZUQGdmZmZmZvo/NDMzMzOzMUCamZmZmZkHQAAAAAAAAPQ/AAAAAACAQEAAAAAAAAApQDMzMzMzM/s/AAAAAAAA9D8AAAAAAAAuQAAAAAAAAApAZmZmZmZmJ0AzMzMzMzP3PzMzMzMzMwtAAAAAAACAKUBnZmZmZmb6PwAAAAAAgDNAMzMzMzMz6z/sUbgeheszQOF6FK5H4RpAmpmZmZmZ4T/NzMzMzMwfQClcj8L1KDRAAAAAAAAALkBmZmZmZmYKQGZmZmZmZiFAj8L1KFyP4j8AAAAAAIAjQOF6FK5H4do/AAAAAAAADkBmZmZmZmYKQPYoXI/C9S1AMzMzMzMzB0AAAAAAAAAZQAAAAAAAAD5ANDMzMzMzKUDNzMzMzMwbQMzMzMzMzCNAAAAAAAAAHkCZmZmZmZluQAAAAAAAAPQ/AAAAAAAADkDNzMzMzMwQQGZmZmZmZjdAzczMzMzME0BmZmZmZmY3QAAAAAAAAPQ/mZmZmZmZLkCamZmZmdkxQGZmZmZmZmFApHA9CtejAEApXI/C9SgkQB+F61G4nmxAmpmZmZmZB0BmZmZmZmYXQAAAAAAAgDNAj8L1KFyP0j9mZmZmZmYkQI/C9ShcjxpAzMzMzMzMM0DNzMzMzMwzQAAAAAAAACVA61G4HoXrM0A0MzMzM7MtQAAAAAAAoGRAAAAAAAAAHkAAAAAAAAAOQOF6FK5H4RpAXI/C9SjcZkBmZmZmZmb6P2ZmZmZmZgRAZmZmZmZmNEAAAAAAAAAuQAAAAAAAAC5ANDMzMzOzTUAAAAAAAAAuQAAAAAAAgDBAmZmZmZmZLkA0MzMzMzNpQM3MzMzMzCVAmpmZmZmZL0BnZmZmZmYqQAAAAAAAAPQ/ZmZmZmZmFECamZmZmdkxQJqZmZmZmRdACtejcD0KV0DNzMzMzMwfQAAAAAAAgDZAAAAAAAAALkA0MzMzM7MxQAAAAAAAAC5AZmZmZmZmBEBSuB6F61EKQAAAAAAAAC1AAAAAAACAQEBmZmZmZmZBQAAAAAAAAD5AAAAAAAAADkDNzMzMzMwXQM3MzMzMzABAzczMzMzML0ApXI/C9SgUQGZmZmZmZvo/AAAAAAAAPkBmZmZmZmYOQDQzMzMzsy1ANDMzMzMzL0DMzMzMzMwzQJmZmZmZmT5AzczMzMzMM0AAAAAAAIApQM3MzMzMzBBANDMzMzMzL0AAAAAAAAAUQDQzMzMzsy1AAAAAAAAAJUA0MzMzM7MxQDQzMzMzM0lAZmZmZmZmCkAzMzMzMzMvQI/C9ShcjzpAAAAAAAAAJUDNzMzMzMwzQDMzMzMzMw9AZmZmZmZmCkBmZmZmZmZHQM3MzMzMzCdA4XoUrkfh6j8AAAAAAAAuQGZmZmZmZgpAAAAAAACAKUDNzMzMzMwzQMzMzMzMzDNAzMzMzMzMFkCamZmZmZknQM3MzMzMzABAZmZmZmZmGkAAAAAAAAAbQM3MzMzMzB9AzczMzMzMFEA0MzMzMzMpQM3MzMzMzApAMzMzMzOzTUBmZmZmZmb6P/YoXI/C9S1AzczMzMzMH0AAAAAAAAAeQM3MzMzMzBBAZ2ZmZmZmKkA0MzMzMzNJQAAAAAAAAC5AAAAAAACAKUCamZmZmZkiQAAAAAAAAB5AAAAAAAAADkCPwvUoXI/SP2ZmZmZmZhdAAAAAAAAADkAAAAAAAAAuQAAAAAAAACVAAAAAAAAAJUDNzMzMzMwXQDQzMzMzMzlAzczMzMzML0AzMzMzM1NIQDMzMzMzMwtAAAAAAAAALkDNzMzMzMzkP5mZmZmZmS5AZmZmZmZm+j8AAAAAAAAkQJqZmZmZmRdAmpmZmZmZEkBnZmZmZuZSQOtRuB6F6zlAAAAAAAAAMUBmZmZmZmYkQGZmZmZmZjFAMzMzMzMzF0CamZmZmZkBQDMzMzMzMxJAAAAAAAAA9D8zMzMzMzMLQAAAAAAAgCFAAAAAAABAVEBmZmZmZmb6P2ZmZmZmZgpAmpmZmZmZMkCamZmZmZkXQJmZmZmZmR5AmpmZmZmZF0AAAAAAAAAbQGZmZmZmZiRAAAAAAAAA9D8AAAAAAIAzQJqZmZmZmUBA4XoUrkfh2j9mZmZmZuYtQAAAAAAAAA5AAAAAAACAWUCamZmZmdkxQI/C9Shcj9I/NDMzMzMzH0DMzMzMzMwzQAAAAAAAABFAAAAAAACAPUBmZmZmZmYKQM3MzMzMzCNAZmZmZmZmBEAzMzMzMzMPQPYoXI/C9TJAAAAAAAAAMUApXI/C9SgkQGZmZmZmZiRAzczMzMzMJ0AAAAAAAABSQJqZmZmZmQdAAAAAAACAOUAzMzMzMzPrP83MzMzMzPQ/NDMzMzOzTUAAAAAAAIAwQJqZmZmZ2VFAKVyPwvUoJEDNzMzMzMwAQAAAAAAAAARAzczMzMzMAEAAAAAAAAAhQDQzMzMzMylAzczMzMzMM0AAAAAAAAAeQAAAAAAAADFAMzMzMzMzOUAAAAAAAIAgQPYoXI/C9RhAzMzMzMzMM0AfhetRuB4nQGZmZmZm5jNAZmZmZmZm+j8AAAAAAJBgQAAAAAAAAARAAAAAAAAA9D8AAAAAAIAgQDQzMzMzsy1A",
           "dtype": "f8"
          },
          "sizemode": "area",
          "sizeref": 16.3485,
          "symbol": "circle"
         },
         "mode": "markers",
         "name": "United Kingdom",
         "orientation": "v",
         "showlegend": true,
         "type": "scatter",
         "x": {
          "bdata": "AQAMAAkAAQABAAkAAgAGAAQAAQAwAAYACgABAAQAAgAGAAwAAgAEAAIAAgABABkAGAAMAAIABgADAAYACgABAAIAAQAFAAIAGAAEAAwABgACAAEABgABAAgAGQADAAEADAABAAEABgABAEgAAgABAAYAAQAYAAEABQADAAEACAABAAwAMAAZAAEABgACAAgAAQABAAEAAgAMAAEAAgAMAAYABgCQAAIAAQADAAIAAQAMABkAFAAwAAwADAAMAAIAGAAGAFAAAgAGAAIAJAAGACQAAwABAAEAAQAEAAMAGQAMAAIAAQAFAAYAAgABAAIAAQABAAIABgACAAEADAACAAMACgACAAIAAgABAAEAAgABAAEACgAZAAMABAABAAwADAACAAwAAgACABgADAAGAAIABgACAAYADAAZAAEAAgAyABQABQACAAwAJAADAAYAAQAEAAwACQAEABQADwACABgAAgADAAEADAAMAAwACgACACQAAgACAAEACQACAAIAAgACAAoAAQABAAgACAACABgAAgAJABgADAABAAYABgAYAJAAJAAIAAEAAQACAAMABAACAAIACQAGAAEAAQAKAAEABgAEAAEAAQAKAAMAAgAYAAwADAAGAAwADAACAAEADAAGAAIAAgAYAAEAAgAEAAEAAgABAAoAAQACAAIAAQAYAAIAJAADAAIABgAEAAMADAACAAoAEAAZAAIAGAACAAwAAQAGABgABAAMABgABQADAAgAAgAYAAIABAAEAAwAAQAMAAIABQAKACQAAQACAAYABgABAAIAHgABAFAAAwAGABgAAQAIAAwAAQAMAAEAAwADABkACgAMAAUACAAEAAEAAQAGAAEACgAZAAEADAAQAAMADABkAAMABAAZAAYAAgACAAYADQAKAAYAAQAMAAEAGQAMAAwAAwAYACoMAQABAAEADAADAAUAAQAoAAEAAgAFAAIADAACAAEAAQAMAAYADAABAAEAAgABABgABgACAAEAAwAYAAMACAAGAAwABgAFAAwACAABAAwADAABAAwAGAAKAAIAAgAMAAwACAAFAAEAAgAZAAoAAgAUAAwAAgAGAAYAMAAEABgAGAACAAQAAgACAAYAGAAMADIABQADAAIAAQAEAAYADABIACABCgACAAYAAQAEAAEAAQAYAAUAAwABACgABAACAAgAAQAFABgAAQACAAIAAQAMAAEADAACAAwABAAEAAgADAAGAAIAGAACAAEAAQAEAAYAGQABAAQAAgABAAYABgAkAAYACAAEAAwAAwACAAYADAABAAQAAQAYABgAAQAIAAIADAAMAAIADAAFAAEADAAEAAwACAAGAAwAAgACAAYADAAGAAwAMAACAAIADAAHAAQADAABAAMABgAKAAMAAgACAAwAAQACAAEABAAMAAMAAgAMAAMAAQAGAAYAAQACAAwADAAMAAwAAQABAAIABgAMABAAGQAwAAoABAABAAYADAABABgABAADAAoABAACAAcAAQABAAIAAgAMAAYADAAYAAMAAQAkAAoAAwAwAAIAAwAMAAwADAAMAAwAAQAQAAYAEAADAAYACgAEAAMAFAACAAQADAAeAAQAGQABAEgABgAMAAYAAwAEAAYABgAMAAIAAQAIAAoADAAMADwAAQABAAwABAAMAAEAAQACAAYABQAEAAwAAQACAAIABgAYABgADAAKAAMAAgABAAIADAAZAAwABgAYAAoADAABAAEAAwBgAAMAGQACAAwADAAgAAMABgABAAEAFAAKAAIAAQACAAEABgABAAQAAwADAAoAAQAIABAAAQABADAADAACAAYAAgADAAEAAwACAAIAAgABABgABgABAAYABgBgAAEAAwACAAwAAQAMAAEABgADAGAAAQAwANgAAQADAAoAAQAMAAgADAAEABkAGAADAGQAAgADABAAMAABAAMAGAAMAAQADAAMAAoABgBgAAIABAAYAAEAAgADAAIAgAABAAYABAAGAAQAAwABAAoABAAYABgAAQABAAIAAgAMAAEAGAAUAAMAGAAMAAwABAAFAAIAGAAEAAMAGQAGABgAAgAIACAAGQAEAAIAAgAYAAIAAgAMAAIAAwAEAAwABgAEAAEABAABAAEACAAGAAEAJAABAAIAAQACAAIAGAAYAAQAAwACAAIAAwABAAMAAwAMABkAGQABAAwAAgAHAAQAAgABAAYAAQAIAAIAAQAkAEgAAgAMAAwABAAEAAcAAQAEAAcADAABAAIABAACAAMAAgABAAwAAQAKAAgAAQABAAEADAADAAEADAAMAAEACgACAAIAAQACABgAAgAYAAwAAgBkAAEAAwABAAIADAAKAAwAGAABAAIAAQABAAYABAAGAAQAPAABAAMADAAEAAIAAQD6AAIAAQAFAAMA",
          "dtype": "i2"
         },
         "xaxis": "x",
         "y": {
          "bdata": "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",
          "dtype": "f8"
         },
         "yaxis": "y"
        },
        {
         "customdata": [
          [
           19.8,
           "2011-08"
          ]
         ],
         "hovertemplate": "Country=Italy<br>Quantity=%{x}<br>Price=%{y}<br>Revenue=%{customdata[0]}<br>Month=%{customdata[1]}<extra></extra>",
         "legendgroup": "Italy",
         "marker": {
          "color": "#EF553B",
          "size": {
           "bdata": "zczMzMzMM0A=",
           "dtype": "f8"
          },
          "sizemode": "area",
          "sizeref": 16.3485,
          "symbol": "circle"
         },
         "mode": "markers",
         "name": "Italy",
         "orientation": "v",
         "showlegend": true,
         "type": "scatter",
         "x": {
          "bdata": "BA==",
          "dtype": "i1"
         },
         "xaxis": "x",
         "y": {
          "bdata": "zczMzMzME0A=",
          "dtype": "f8"
         },
         "yaxis": "y"
        },
        {
         "customdata": [
          [
           6.959999999999999,
           "2011-10"
          ],
          [
           59.9,
           "2010-06"
          ],
          [
           30,
           "2010-10"
          ],
          [
           19.5,
           "2010-09"
          ],
          [
           10.08,
           "2011-05"
          ],
          [
           19.9,
           "2011-12"
          ],
          [
           10,
           "2010-10"
          ],
          [
           9.36,
           "2011-09"
          ],
          [
           15,
           "2011-10"
          ],
          [
           15,
           "2010-08"
          ],
          [
           19.5,
           "2011-01"
          ],
          [
           20.4,
           "2010-11"
          ],
          [
           19.799999999999997,
           "2010-11"
          ],
          [
           33.199999999999996,
           "2011-12"
          ],
          [
           15.299999999999999,
           "2011-11"
          ],
          [
           33,
           "2011-11"
          ],
          [
           5.04,
           "2009-12"
          ],
          [
           3.12,
           "2011-09"
          ],
          [
           19.8,
           "2010-10"
          ],
          [
           25.200000000000003,
           "2010-04"
          ],
          [
           12.75,
           "2010-04"
          ],
          [
           18.75,
           "2011-09"
          ],
          [
           17.700000000000003,
           "2011-05"
          ]
         ],
         "hovertemplate": "Country=Germany<br>Quantity=%{x}<br>Price=%{y}<br>Revenue=%{customdata[0]}<br>Month=%{customdata[1]}<extra></extra>",
         "legendgroup": "Germany",
         "marker": {
          "color": "#00cc96",
          "size": {
           "bdata": "1qNwPQrXG0AzMzMzM/NNQAAAAAAAAD5AAAAAAACAM0ApXI/C9SgkQGZmZmZm5jNAAAAAAAAAJEC4HoXrUbgiQAAAAAAAAC5AAAAAAAAALkAAAAAAAIAzQGZmZmZmZjRAzMzMzMzMM0CZmZmZmZlAQJmZmZmZmS5AAAAAAACAQEApXI/C9SgUQPYoXI/C9QhAzczMzMzMM0A0MzMzMzM5QAAAAAAAgClAAAAAAADAMkA0MzMzM7MxQA==",
           "dtype": "f8"
          },
          "sizemode": "area",
          "sizeref": 16.3485,
          "symbol": "circle"
         },
         "mode": "markers",
         "name": "Germany",
         "orientation": "v",
         "showlegend": true,
         "type": "scatter",
         "x": {
          "bdata": "GAIYChgCCBgMDAoYDCgGFAwIBAwBAwY=",
          "dtype": "i1"
         },
         "xaxis": "x",
         "y": {
          "bdata": "j8L1KFyP0j8zMzMzM/M9QAAAAAAAAPQ/MzMzMzMz/z/hehSuR+HaP2ZmZmZm5iNAAAAAAAAA9D/2KFyPwvXYPwAAAAAAAPQ/AAAAAAAA9D8zMzMzMzP/PzMzMzMzM+s/ZmZmZmZm+j+PwvUoXI/qP2ZmZmZmZgRAZmZmZmZm+j/hehSuR+HaP/YoXI/C9dg/zczMzMzME0DNzMzMzMwAQAAAAAAAgClAAAAAAAAAGUCamZmZmZkHQA==",
          "dtype": "f8"
         },
         "yaxis": "y"
        },
        {
         "customdata": [
          [
           23.4,
           "2010-03"
          ],
          [
           27.36,
           "2011-12"
          ],
          [
           12.600000000000001,
           "2010-07"
          ],
          [
           330,
           "2011-01"
          ],
          [
           528,
           "2010-11"
          ],
          [
           30.24,
           "2011-03"
          ]
         ],
         "hovertemplate": "Country=Netherlands<br>Quantity=%{x}<br>Price=%{y}<br>Revenue=%{customdata[0]}<br>Month=%{customdata[1]}<extra></extra>",
         "legendgroup": "Netherlands",
         "marker": {
          "color": "#ab63fa",
          "size": {
           "bdata": "ZmZmZmZmN0Bcj8L1KFw7QDQzMzMzMylAAAAAAACgdEAAAAAAAICAQD0K16NwPT5A",
           "dtype": "f8"
          },
          "sizemode": "area",
          "sizeref": 16.3485,
          "symbol": "circle"
         },
         "mode": "markers",
         "name": "Netherlands",
         "orientation": "v",
         "showlegend": true,
         "type": "scatter",
         "x": {
          "bdata": "DACQAAYAyABAAUgA",
          "dtype": "i2"
         },
         "xaxis": "x",
         "y": {
          "bdata": "MzMzMzMz/z9SuB6F61HIP83MzMzMzABAZmZmZmZm+j9mZmZmZmb6P+F6FK5H4do/",
          "dtype": "f8"
         },
         "yaxis": "y"
        },
        {
         "customdata": [
          [
           72,
           "2010-10"
          ],
          [
           17,
           "2010-11"
          ],
          [
           29.9,
           "2011-11"
          ],
          [
           54,
           "2011-11"
          ],
          [
           35.400000000000006,
           "2011-01"
          ],
          [
           39.599999999999994,
           "2010-12"
          ],
          [
           15,
           "2010-11"
          ],
          [
           15,
           "2011-09"
          ],
          [
           1632.48,
           "2011-10"
          ],
          [
           5.04,
           "2010-01"
          ],
          [
           14.850000000000001,
           "2011-11"
          ],
          [
           19.799999999999997,
           "2010-10"
          ],
          [
           15,
           "2011-11"
          ]
         ],
         "hovertemplate": "Country=France<br>Quantity=%{x}<br>Price=%{y}<br>Revenue=%{customdata[0]}<br>Month=%{customdata[1]}<extra></extra>",
         "legendgroup": "France",
         "marker": {
          "color": "#FFA15A",
          "size": {
           "bdata": "AAAAAAAAUkAAAAAAAAAxQGZmZmZm5j1AAAAAAAAAS0A0MzMzM7NBQMzMzMzMzENAAAAAAAAALkAAAAAAAAAuQFK4HoXrgZlAKVyPwvUoFEA0MzMzM7MtQMzMzMzMzDNAAAAAAAAALkA=",
           "dtype": "f8"
          },
          "sizemode": "area",
          "sizeref": 16.3485,
          "symbol": "circle"
         },
         "mode": "markers",
         "name": "France",
         "orientation": "v",
         "showlegend": true,
         "type": "scatter",
         "x": {
          "bdata": "BAAUAAIAAwAMABgADAAMAJADDAADAAwABAA=",
          "dtype": "i2"
         },
         "xaxis": "x",
         "y": {
          "bdata": "AAAAAAAAMkAzMzMzMzPrP2ZmZmZm5i1AAAAAAAAAMkCamZmZmZkHQGZmZmZmZvo/AAAAAAAA9D8AAAAAAAD0P6RwPQrXo/w/4XoUrkfh2j/NzMzMzMwTQGZmZmZmZvo/AAAAAAAADkA=",
          "dtype": "f8"
         },
         "yaxis": "y"
        },
        {
         "customdata": [
          [
           49.5,
           "2011-04"
          ]
         ],
         "hovertemplate": "Country=Brazil<br>Quantity=%{x}<br>Price=%{y}<br>Revenue=%{customdata[0]}<br>Month=%{customdata[1]}<extra></extra>",
         "legendgroup": "Brazil",
         "marker": {
          "color": "#19d3f3",
          "size": {
           "bdata": "AAAAAADASEA=",
           "dtype": "f8"
          },
          "sizemode": "area",
          "sizeref": 16.3485,
          "symbol": "circle"
         },
         "mode": "markers",
         "name": "Brazil",
         "orientation": "v",
         "showlegend": true,
         "type": "scatter",
         "x": {
          "bdata": "Cg==",
          "dtype": "i1"
         },
         "xaxis": "x",
         "y": {
          "bdata": "zczMzMzME0A=",
          "dtype": "f8"
         },
         "yaxis": "y"
        },
        {
         "customdata": [
          [
           10.2,
           "2010-08"
          ],
          [
           11.7,
           "2010-08"
          ]
         ],
         "hovertemplate": "Country=Malta<br>Quantity=%{x}<br>Price=%{y}<br>Revenue=%{customdata[0]}<br>Month=%{customdata[1]}<extra></extra>",
         "legendgroup": "Malta",
         "marker": {
          "color": "#FF6692",
          "size": {
           "bdata": "ZmZmZmZmJEBmZmZmZmYnQA==",
           "dtype": "f8"
          },
          "sizemode": "area",
          "sizeref": 16.3485,
          "symbol": "circle"
         },
         "mode": "markers",
         "name": "Malta",
         "orientation": "v",
         "showlegend": true,
         "type": "scatter",
         "x": {
          "bdata": "DAY=",
          "dtype": "i1"
         },
         "xaxis": "x",
         "y": {
          "bdata": "MzMzMzMz6z8zMzMzMzP/Pw==",
          "dtype": "f8"
         },
         "yaxis": "y"
        },
        {
         "customdata": [
          [
           15.299999999999999,
           "2010-09"
          ]
         ],
         "hovertemplate": "Country=Austria<br>Quantity=%{x}<br>Price=%{y}<br>Revenue=%{customdata[0]}<br>Month=%{customdata[1]}<extra></extra>",
         "legendgroup": "Austria",
         "marker": {
          "color": "#B6E880",
          "size": {
           "bdata": "mZmZmZmZLkA=",
           "dtype": "f8"
          },
          "sizemode": "area",
          "sizeref": 16.3485,
          "symbol": "circle"
         },
         "mode": "markers",
         "name": "Austria",
         "orientation": "v",
         "showlegend": true,
         "type": "scatter",
         "x": {
          "bdata": "Bg==",
          "dtype": "i1"
         },
         "xaxis": "x",
         "y": {
          "bdata": "ZmZmZmZmBEA=",
          "dtype": "f8"
         },
         "yaxis": "y"
        },
        {
         "customdata": [
          [
           15,
           "2011-03"
          ],
          [
           3.3,
           "2010-12"
          ]
         ],
         "hovertemplate": "Country=Cyprus<br>Quantity=%{x}<br>Price=%{y}<br>Revenue=%{customdata[0]}<br>Month=%{customdata[1]}<extra></extra>",
         "legendgroup": "Cyprus",
         "marker": {
          "color": "#FF97FF",
          "size": {
           "bdata": "AAAAAAAALkBmZmZmZmYKQA==",
           "dtype": "f8"
          },
          "sizemode": "area",
          "sizeref": 16.3485,
          "symbol": "circle"
         },
         "mode": "markers",
         "name": "Cyprus",
         "orientation": "v",
         "showlegend": true,
         "type": "scatter",
         "x": {
          "bdata": "BAI=",
          "dtype": "i1"
         },
         "xaxis": "x",
         "y": {
          "bdata": "AAAAAAAADkBmZmZmZmb6Pw==",
          "dtype": "f8"
         },
         "yaxis": "y"
        },
        {
         "customdata": [
          [
           15,
           "2011-03"
          ],
          [
           25.5,
           "2011-01"
          ],
          [
           12.600000000000001,
           "2010-10"
          ],
          [
           44.550000000000004,
           "2010-06"
          ],
          [
           19.5,
           "2010-07"
          ],
          [
           15,
           "2011-03"
          ]
         ],
         "hovertemplate": "Country=Belgium<br>Quantity=%{x}<br>Price=%{y}<br>Revenue=%{customdata[0]}<br>Month=%{customdata[1]}<extra></extra>",
         "legendgroup": "Belgium",
         "marker": {
          "color": "#FECB52",
          "size": {
           "bdata": "AAAAAAAALkAAAAAAAIA5QDQzMzMzMylAZ2ZmZmZGRkAAAAAAAIAzQAAAAAAAAC5A",
           "dtype": "f8"
          },
          "sizemode": "area",
          "sizeref": 16.3485,
          "symbol": "circle"
         },
         "mode": "markers",
         "name": "Belgium",
         "orientation": "v",
         "showlegend": true,
         "type": "scatter",
         "x": {
          "bdata": "DAYGCQoE",
          "dtype": "i1"
         },
         "xaxis": "x",
         "y": {
          "bdata": "AAAAAAAA9D8AAAAAAAARQM3MzMzMzABAzczMzMzME0AzMzMzMzP/PwAAAAAAAA5A",
          "dtype": "f8"
         },
         "yaxis": "y"
        },
        {
         "customdata": [
          [
           15,
           "2010-01"
          ],
          [
           12.5,
           "2010-05"
          ],
          [
           15,
           "2010-06"
          ],
          [
           17.700000000000003,
           "2009-12"
          ],
          [
           10.2,
           "2009-12"
          ],
          [
           29.700000000000003,
           "2010-06"
          ],
          [
           15,
           "2010-05"
          ],
          [
           10.2,
           "2010-07"
          ],
          [
           17.700000000000003,
           "2011-04"
          ],
          [
           19.5,
           "2011-06"
          ],
          [
           10.2,
           "2011-11"
          ],
          [
           138.24,
           "2011-09"
          ],
          [
           19.9,
           "2010-12"
          ],
          [
           19.9,
           "2011-12"
          ],
          [
           17.4,
           "2011-11"
          ],
          [
           20.4,
           "2010-05"
          ],
          [
           19.9,
           "2010-08"
          ],
          [
           30.599999999999998,
           "2010-04"
          ],
          [
           6.959999999999999,
           "2011-11"
          ]
         ],
         "hovertemplate": "Country=EIRE<br>Quantity=%{x}<br>Price=%{y}<br>Revenue=%{customdata[0]}<br>Month=%{customdata[1]}<extra></extra>",
         "legendgroup": "EIRE",
         "marker": {
          "color": "#636efa",
          "size": {
           "bdata": "AAAAAAAALkAAAAAAAAApQAAAAAAAAC5ANDMzMzOzMUBmZmZmZmYkQDQzMzMzsz1AAAAAAAAALkBmZmZmZmYkQDQzMzMzszFAAAAAAACAM0BmZmZmZmYkQEjhehSuR2FAZmZmZmbmM0BmZmZmZuYzQGZmZmZmZjFAZmZmZmZmNEBmZmZmZuYzQJmZmZmZmT5A1qNwPQrXG0A=",
           "dtype": "f8"
          },
          "sizemode": "area",
          "sizeref": 16.3485,
          "symbol": "circle"
         },
         "mode": "markers",
         "name": "EIRE",
         "orientation": "v",
         "showlegend": true,
         "type": "scatter",
         "x": {
          "bdata": "BAAKAAQABgAMAAYADAAMAAYABgAMAMAAAgACAAwAGAACAAwAGAA=",
          "dtype": "i2"
         },
         "xaxis": "x",
         "y": {
          "bdata": "AAAAAAAADkAAAAAAAAD0PwAAAAAAAA5AmpmZmZmZB0AzMzMzMzPrP83MzMzMzBNAAAAAAAAA9D8zMzMzMzPrP5qZmZmZmQdAAAAAAAAACkAzMzMzMzPrPwrXo3A9Cuc/ZmZmZmbmI0BmZmZmZuYjQDMzMzMzM/c/MzMzMzMz6z9mZmZmZuYjQGZmZmZmZgRAj8L1KFyP0j8=",
          "dtype": "f8"
         },
         "yaxis": "y"
        },
        {
         "customdata": [
          [
           17.700000000000003,
           "2010-09"
          ],
          [
           19.5,
           "2010-06"
          ],
          [
           13.5,
           "2010-03"
          ]
         ],
         "hovertemplate": "Country=Portugal<br>Quantity=%{x}<br>Price=%{y}<br>Revenue=%{customdata[0]}<br>Month=%{customdata[1]}<extra></extra>",
         "legendgroup": "Portugal",
         "marker": {
          "color": "#EF553B",
          "size": {
           "bdata": "NDMzMzOzMUAAAAAAAIAzQAAAAAAAACtA",
           "dtype": "f8"
          },
          "sizemode": "area",
          "sizeref": 16.3485,
          "symbol": "circle"
         },
         "mode": "markers",
         "name": "Portugal",
         "orientation": "v",
         "showlegend": true,
         "type": "scatter",
         "x": {
          "bdata": "BgoG",
          "dtype": "i1"
         },
         "xaxis": "x",
         "y": {
          "bdata": "mpmZmZmZB0AzMzMzMzP/PwAAAAAAAAJA",
          "dtype": "f8"
         },
         "yaxis": "y"
        },
        {
         "customdata": [
          [
           10.2,
           "2011-05"
          ],
          [
           10.2,
           "2011-03"
          ],
          [
           22.5,
           "2011-11"
          ]
         ],
         "hovertemplate": "Country=Switzerland<br>Quantity=%{x}<br>Price=%{y}<br>Revenue=%{customdata[0]}<br>Month=%{customdata[1]}<extra></extra>",
         "legendgroup": "Switzerland",
         "marker": {
          "color": "#00cc96",
          "size": {
           "bdata": "ZmZmZmZmJEBmZmZmZmYkQAAAAAAAgDZA",
           "dtype": "f8"
          },
          "sizemode": "area",
          "sizeref": 16.3485,
          "symbol": "circle"
         },
         "mode": "markers",
         "name": "Switzerland",
         "orientation": "v",
         "showlegend": true,
         "type": "scatter",
         "x": {
          "bdata": "DAwG",
          "dtype": "i1"
         },
         "xaxis": "x",
         "y": {
          "bdata": "MzMzMzMz6z8zMzMzMzPrPwAAAAAAAA5A",
          "dtype": "f8"
         },
         "yaxis": "y"
        },
        {
         "customdata": [
          [
           22.5,
           "2010-09"
          ]
         ],
         "hovertemplate": "Country=Singapore<br>Quantity=%{x}<br>Price=%{y}<br>Revenue=%{customdata[0]}<br>Month=%{customdata[1]}<extra></extra>",
         "legendgroup": "Singapore",
         "marker": {
          "color": "#ab63fa",
          "size": {
           "bdata": "AAAAAACANkA=",
           "dtype": "f8"
          },
          "sizemode": "area",
          "sizeref": 16.3485,
          "symbol": "circle"
         },
         "mode": "markers",
         "name": "Singapore",
         "orientation": "v",
         "showlegend": true,
         "type": "scatter",
         "x": {
          "bdata": "Bg==",
          "dtype": "i1"
         },
         "xaxis": "x",
         "y": {
          "bdata": "AAAAAAAADkA=",
          "dtype": "f8"
         },
         "yaxis": "y"
        },
        {
         "customdata": [
          [
           122.39999999999999,
           "2010-03"
          ]
         ],
         "hovertemplate": "Country=Channel Islands<br>Quantity=%{x}<br>Price=%{y}<br>Revenue=%{customdata[0]}<br>Month=%{customdata[1]}<extra></extra>",
         "legendgroup": "Channel Islands",
         "marker": {
          "color": "#FFA15A",
          "size": {
           "bdata": "mZmZmZmZXkA=",
           "dtype": "f8"
          },
          "sizemode": "area",
          "sizeref": 16.3485,
          "symbol": "circle"
         },
         "mode": "markers",
         "name": "Channel Islands",
         "orientation": "v",
         "showlegend": true,
         "type": "scatter",
         "x": {
          "bdata": "MA==",
          "dtype": "i1"
         },
         "xaxis": "x",
         "y": {
          "bdata": "ZmZmZmZmBEA=",
          "dtype": "f8"
         },
         "yaxis": "y"
        },
        {
         "customdata": [
          [
           20.88,
           "2011-10"
          ]
         ],
         "hovertemplate": "Country=Czech Republic<br>Quantity=%{x}<br>Price=%{y}<br>Revenue=%{customdata[0]}<br>Month=%{customdata[1]}<extra></extra>",
         "legendgroup": "Czech Republic",
         "marker": {
          "color": "#19d3f3",
          "size": {
           "bdata": "4XoUrkfhNEA=",
           "dtype": "f8"
          },
          "sizemode": "area",
          "sizeref": 16.3485,
          "symbol": "circle"
         },
         "mode": "markers",
         "name": "Czech Republic",
         "orientation": "v",
         "showlegend": true,
         "type": "scatter",
         "x": {
          "bdata": "SA==",
          "dtype": "i1"
         },
         "xaxis": "x",
         "y": {
          "bdata": "j8L1KFyP0j8=",
          "dtype": "f8"
         },
         "yaxis": "y"
        },
        {
         "customdata": [
          [
           10.2,
           "2011-10"
          ]
         ],
         "hovertemplate": "Country=Norway<br>Quantity=%{x}<br>Price=%{y}<br>Revenue=%{customdata[0]}<br>Month=%{customdata[1]}<extra></extra>",
         "legendgroup": "Norway",
         "marker": {
          "color": "#FF6692",
          "size": {
           "bdata": "ZmZmZmZmJEA=",
           "dtype": "f8"
          },
          "sizemode": "area",
          "sizeref": 16.3485,
          "symbol": "circle"
         },
         "mode": "markers",
         "name": "Norway",
         "orientation": "v",
         "showlegend": true,
         "type": "scatter",
         "x": {
          "bdata": "DA==",
          "dtype": "i1"
         },
         "xaxis": "x",
         "y": {
          "bdata": "MzMzMzMz6z8=",
          "dtype": "f8"
         },
         "yaxis": "y"
        },
        {
         "customdata": [
          [
           254.99999999999997,
           "2010-04"
          ],
          [
           120,
           "2010-07"
          ],
          [
           158.39999999999998,
           "2011-10"
          ]
         ],
         "hovertemplate": "Country=Sweden<br>Quantity=%{x}<br>Price=%{y}<br>Revenue=%{customdata[0]}<br>Month=%{customdata[1]}<extra></extra>",
         "legendgroup": "Sweden",
         "marker": {
          "color": "#B6E880",
          "size": {
           "bdata": "///////fb0AAAAAAAABeQMzMzMzMzGNA",
           "dtype": "f8"
          },
          "sizemode": "area",
          "sizeref": 16.3485,
          "symbol": "circle"
         },
         "mode": "markers",
         "name": "Sweden",
         "orientation": "v",
         "showlegend": true,
         "type": "scatter",
         "x": {
          "bdata": "ZGBg",
          "dtype": "i1"
         },
         "xaxis": "x",
         "y": {
          "bdata": "ZmZmZmZmBEAAAAAAAAD0P2ZmZmZmZvo/",
          "dtype": "f8"
         },
         "yaxis": "y"
        },
        {
         "customdata": [
          [
           13.52,
           "2011-08"
          ],
          [
           15,
           "2010-09"
          ]
         ],
         "hovertemplate": "Country=Spain<br>Quantity=%{x}<br>Price=%{y}<br>Revenue=%{customdata[0]}<br>Month=%{customdata[1]}<extra></extra>",
         "legendgroup": "Spain",
         "marker": {
          "color": "#FF97FF",
          "size": {
           "bdata": "CtejcD0KK0AAAAAAAAAuQA==",
           "dtype": "f8"
          },
          "sizemode": "area",
          "sizeref": 16.3485,
          "symbol": "circle"
         },
         "mode": "markers",
         "name": "Spain",
         "orientation": "v",
         "showlegend": true,
         "type": "scatter",
         "x": {
          "bdata": "CAw=",
          "dtype": "i1"
         },
         "xaxis": "x",
         "y": {
          "bdata": "CtejcD0K+z8AAAAAAAD0Pw==",
          "dtype": "f8"
         },
         "yaxis": "y"
        },
        {
         "customdata": [
          [
           15,
           "2010-07"
          ],
          [
           17.700000000000003,
           "2011-03"
          ]
         ],
         "hovertemplate": "Country=Finland<br>Quantity=%{x}<br>Price=%{y}<br>Revenue=%{customdata[0]}<br>Month=%{customdata[1]}<extra></extra>",
         "legendgroup": "Finland",
         "marker": {
          "color": "#FECB52",
          "size": {
           "bdata": "AAAAAAAALkA0MzMzM7MxQA==",
           "dtype": "f8"
          },
          "sizemode": "area",
          "sizeref": 16.3485,
          "symbol": "circle"
         },
         "mode": "markers",
         "name": "Finland",
         "orientation": "v",
         "showlegend": true,
         "type": "scatter",
         "x": {
          "bdata": "DAY=",
          "dtype": "i1"
         },
         "xaxis": "x",
         "y": {
          "bdata": "AAAAAAAA9D+amZmZmZkHQA==",
          "dtype": "f8"
         },
         "yaxis": "y"
        },
        {
         "customdata": [
          [
           20.4,
           "2010-10"
          ]
         ],
         "hovertemplate": "Country=Australia<br>Quantity=%{x}<br>Price=%{y}<br>Revenue=%{customdata[0]}<br>Month=%{customdata[1]}<extra></extra>",
         "legendgroup": "Australia",
         "marker": {
          "color": "#636efa",
          "size": {
           "bdata": "ZmZmZmZmNEA=",
           "dtype": "f8"
          },
          "sizemode": "area",
          "sizeref": 16.3485,
          "symbol": "circle"
         },
         "mode": "markers",
         "name": "Australia",
         "orientation": "v",
         "showlegend": true,
         "type": "scatter",
         "x": {
          "bdata": "GA==",
          "dtype": "i1"
         },
         "xaxis": "x",
         "y": {
          "bdata": "MzMzMzMz6z8=",
          "dtype": "f8"
         },
         "yaxis": "y"
        },
        {
         "customdata": [
          [
           25.200000000000003,
           "2010-08"
          ]
         ],
         "hovertemplate": "Country=United Arab Emirates<br>Quantity=%{x}<br>Price=%{y}<br>Revenue=%{customdata[0]}<br>Month=%{customdata[1]}<extra></extra>",
         "legendgroup": "United Arab Emirates",
         "marker": {
          "color": "#EF553B",
          "size": {
           "bdata": "NDMzMzMzOUA=",
           "dtype": "f8"
          },
          "sizemode": "area",
          "sizeref": 16.3485,
          "symbol": "circle"
         },
         "mode": "markers",
         "name": "United Arab Emirates",
         "orientation": "v",
         "showlegend": true,
         "type": "scatter",
         "x": {
          "bdata": "DA==",
          "dtype": "i1"
         },
         "xaxis": "x",
         "y": {
          "bdata": "zczMzMzMAEA=",
          "dtype": "f8"
         },
         "yaxis": "y"
        },
        {
         "customdata": [
          [
           19.799999999999997,
           "2010-11"
          ]
         ],
         "hovertemplate": "Country=Lithuania<br>Quantity=%{x}<br>Price=%{y}<br>Revenue=%{customdata[0]}<br>Month=%{customdata[1]}<extra></extra>",
         "legendgroup": "Lithuania",
         "marker": {
          "color": "#00cc96",
          "size": {
           "bdata": "zMzMzMzMM0A=",
           "dtype": "f8"
          },
          "sizemode": "area",
          "sizeref": 16.3485,
          "symbol": "circle"
         },
         "mode": "markers",
         "name": "Lithuania",
         "orientation": "v",
         "showlegend": true,
         "type": "scatter",
         "x": {
          "bdata": "DA==",
          "dtype": "i1"
         },
         "xaxis": "x",
         "y": {
          "bdata": "ZmZmZmZm+j8=",
          "dtype": "f8"
         },
         "yaxis": "y"
        }
       ],
       "layout": {
        "font": {
         "color": "black",
         "family": "Verdana",
         "size": 14
        },
        "legend": {
         "itemsizing": "constant",
         "title": {
          "text": "Country"
         },
         "tracegroupgap": 0
        },
        "margin": {
         "t": 60
        },
        "template": {
         "data": {
          "bar": [
           {
            "error_x": {
             "color": "#2a3f5f"
            },
            "error_y": {
             "color": "#2a3f5f"
            },
            "marker": {
             "line": {
              "color": "#E5ECF6",
              "width": 0.5
             },
             "pattern": {
              "fillmode": "overlay",
              "size": 10,
              "solidity": 0.2
             }
            },
            "type": "bar"
           }
          ],
          "barpolar": [
           {
            "marker": {
             "line": {
              "color": "#E5ECF6",
              "width": 0.5
             },
             "pattern": {
              "fillmode": "overlay",
              "size": 10,
              "solidity": 0.2
             }
            },
            "type": "barpolar"
           }
          ],
          "carpet": [
           {
            "aaxis": {
             "endlinecolor": "#2a3f5f",
             "gridcolor": "white",
             "linecolor": "white",
             "minorgridcolor": "white",
             "startlinecolor": "#2a3f5f"
            },
            "baxis": {
             "endlinecolor": "#2a3f5f",
             "gridcolor": "white",
             "linecolor": "white",
             "minorgridcolor": "white",
             "startlinecolor": "#2a3f5f"
            },
            "type": "carpet"
           }
          ],
          "choropleth": [
           {
            "colorbar": {
             "outlinewidth": 0,
             "ticks": ""
            },
            "type": "choropleth"
           }
          ],
          "contour": [
           {
            "colorbar": {
             "outlinewidth": 0,
             "ticks": ""
            },
            "colorscale": [
             [
              0,
              "#0d0887"
             ],
             [
              0.1111111111111111,
              "#46039f"
             ],
             [
              0.2222222222222222,
              "#7201a8"
             ],
             [
              0.3333333333333333,
              "#9c179e"
             ],
             [
              0.4444444444444444,
              "#bd3786"
             ],
             [
              0.5555555555555556,
              "#d8576b"
             ],
             [
              0.6666666666666666,
              "#ed7953"
             ],
             [
              0.7777777777777778,
              "#fb9f3a"
             ],
             [
              0.8888888888888888,
              "#fdca26"
             ],
             [
              1,
              "#f0f921"
             ]
            ],
            "type": "contour"
           }
          ],
          "contourcarpet": [
           {
            "colorbar": {
             "outlinewidth": 0,
             "ticks": ""
            },
            "type": "contourcarpet"
           }
          ],
          "heatmap": [
           {
            "colorbar": {
             "outlinewidth": 0,
             "ticks": ""
            },
            "colorscale": [
             [
              0,
              "#0d0887"
             ],
             [
              0.1111111111111111,
              "#46039f"
             ],
             [
              0.2222222222222222,
              "#7201a8"
             ],
             [
              0.3333333333333333,
              "#9c179e"
             ],
             [
              0.4444444444444444,
              "#bd3786"
             ],
             [
              0.5555555555555556,
              "#d8576b"
             ],
             [
              0.6666666666666666,
              "#ed7953"
             ],
             [
              0.7777777777777778,
              "#fb9f3a"
             ],
             [
              0.8888888888888888,
              "#fdca26"
             ],
             [
              1,
              "#f0f921"
             ]
            ],
            "type": "heatmap"
           }
          ],
          "histogram": [
           {
            "marker": {
             "pattern": {
              "fillmode": "overlay",
              "size": 10,
              "solidity": 0.2
             }
            },
            "type": "histogram"
           }
          ],
          "histogram2d": [
           {
            "colorbar": {
             "outlinewidth": 0,
             "ticks": ""
            },
            "colorscale": [
             [
              0,
              "#0d0887"
             ],
             [
              0.1111111111111111,
              "#46039f"
             ],
             [
              0.2222222222222222,
              "#7201a8"
             ],
             [
              0.3333333333333333,
              "#9c179e"
             ],
             [
              0.4444444444444444,
              "#bd3786"
             ],
             [
              0.5555555555555556,
              "#d8576b"
             ],
             [
              0.6666666666666666,
              "#ed7953"
             ],
             [
              0.7777777777777778,
              "#fb9f3a"
             ],
             [
              0.8888888888888888,
              "#fdca26"
             ],
             [
              1,
              "#f0f921"
             ]
            ],
            "type": "histogram2d"
           }
          ],
          "histogram2dcontour": [
           {
            "colorbar": {
             "outlinewidth": 0,
             "ticks": ""
            },
            "colorscale": [
             [
              0,
              "#0d0887"
             ],
             [
              0.1111111111111111,
              "#46039f"
             ],
             [
              0.2222222222222222,
              "#7201a8"
             ],
             [
              0.3333333333333333,
              "#9c179e"
             ],
             [
              0.4444444444444444,
              "#bd3786"
             ],
             [
              0.5555555555555556,
              "#d8576b"
             ],
             [
              0.6666666666666666,
              "#ed7953"
             ],
             [
              0.7777777777777778,
              "#fb9f3a"
             ],
             [
              0.8888888888888888,
              "#fdca26"
             ],
             [
              1,
              "#f0f921"
             ]
            ],
            "type": "histogram2dcontour"
           }
          ],
          "mesh3d": [
           {
            "colorbar": {
             "outlinewidth": 0,
             "ticks": ""
            },
            "type": "mesh3d"
           }
          ],
          "parcoords": [
           {
            "line": {
             "colorbar": {
              "outlinewidth": 0,
              "ticks": ""
             }
            },
            "type": "parcoords"
           }
          ],
          "pie": [
           {
            "automargin": true,
            "type": "pie"
           }
          ],
          "scatter": [
           {
            "fillpattern": {
             "fillmode": "overlay",
             "size": 10,
             "solidity": 0.2
            },
            "type": "scatter"
           }
          ],
          "scatter3d": [
           {
            "line": {
             "colorbar": {
              "outlinewidth": 0,
              "ticks": ""
             }
            },
            "marker": {
             "colorbar": {
              "outlinewidth": 0,
              "ticks": ""
             }
            },
            "type": "scatter3d"
           }
          ],
          "scattercarpet": [
           {
            "marker": {
             "colorbar": {
              "outlinewidth": 0,
              "ticks": ""
             }
            },
            "type": "scattercarpet"
           }
          ],
          "scattergeo": [
           {
            "marker": {
             "colorbar": {
              "outlinewidth": 0,
              "ticks": ""
             }
            },
            "type": "scattergeo"
           }
          ],
          "scattergl": [
           {
            "marker": {
             "colorbar": {
              "outlinewidth": 0,
              "ticks": ""
             }
            },
            "type": "scattergl"
           }
          ],
          "scattermap": [
           {
            "marker": {
             "colorbar": {
              "outlinewidth": 0,
              "ticks": ""
             }
            },
            "type": "scattermap"
           }
          ],
          "scattermapbox": [
           {
            "marker": {
             "colorbar": {
              "outlinewidth": 0,
              "ticks": ""
             }
            },
            "type": "scattermapbox"
           }
          ],
          "scatterpolar": [
           {
            "marker": {
             "colorbar": {
              "outlinewidth": 0,
              "ticks": ""
             }
            },
            "type": "scatterpolar"
           }
          ],
          "scatterpolargl": [
           {
            "marker": {
             "colorbar": {
              "outlinewidth": 0,
              "ticks": ""
             }
            },
            "type": "scatterpolargl"
           }
          ],
          "scatterternary": [
           {
            "marker": {
             "colorbar": {
              "outlinewidth": 0,
              "ticks": ""
             }
            },
            "type": "scatterternary"
           }
          ],
          "surface": [
           {
            "colorbar": {
             "outlinewidth": 0,
             "ticks": ""
            },
            "colorscale": [
             [
              0,
              "#0d0887"
             ],
             [
              0.1111111111111111,
              "#46039f"
             ],
             [
              0.2222222222222222,
              "#7201a8"
             ],
             [
              0.3333333333333333,
              "#9c179e"
             ],
             [
              0.4444444444444444,
              "#bd3786"
             ],
             [
              0.5555555555555556,
              "#d8576b"
             ],
             [
              0.6666666666666666,
              "#ed7953"
             ],
             [
              0.7777777777777778,
              "#fb9f3a"
             ],
             [
              0.8888888888888888,
              "#fdca26"
             ],
             [
              1,
              "#f0f921"
             ]
            ],
            "type": "surface"
           }
          ],
          "table": [
           {
            "cells": {
             "fill": {
              "color": "#EBF0F8"
             },
             "line": {
              "color": "white"
             }
            },
            "header": {
             "fill": {
              "color": "#C8D4E3"
             },
             "line": {
              "color": "white"
             }
            },
            "type": "table"
           }
          ]
         },
         "layout": {
          "annotationdefaults": {
           "arrowcolor": "#2a3f5f",
           "arrowhead": 0,
           "arrowwidth": 1
          },
          "autotypenumbers": "strict",
          "coloraxis": {
           "colorbar": {
            "outlinewidth": 0,
            "ticks": ""
           }
          },
          "colorscale": {
           "diverging": [
            [
             0,
             "#8e0152"
            ],
            [
             0.1,
             "#c51b7d"
            ],
            [
             0.2,
             "#de77ae"
            ],
            [
             0.3,
             "#f1b6da"
            ],
            [
             0.4,
             "#fde0ef"
            ],
            [
             0.5,
             "#f7f7f7"
            ],
            [
             0.6,
             "#e6f5d0"
            ],
            [
             0.7,
             "#b8e186"
            ],
            [
             0.8,
             "#7fbc41"
            ],
            [
             0.9,
             "#4d9221"
            ],
            [
             1,
             "#276419"
            ]
           ],
           "sequential": [
            [
             0,
             "#0d0887"
            ],
            [
             0.1111111111111111,
             "#46039f"
            ],
            [
             0.2222222222222222,
             "#7201a8"
            ],
            [
             0.3333333333333333,
             "#9c179e"
            ],
            [
             0.4444444444444444,
             "#bd3786"
            ],
            [
             0.5555555555555556,
             "#d8576b"
            ],
            [
             0.6666666666666666,
             "#ed7953"
            ],
            [
             0.7777777777777778,
             "#fb9f3a"
            ],
            [
             0.8888888888888888,
             "#fdca26"
            ],
            [
             1,
             "#f0f921"
            ]
           ],
           "sequentialminus": [
            [
             0,
             "#0d0887"
            ],
            [
             0.1111111111111111,
             "#46039f"
            ],
            [
             0.2222222222222222,
             "#7201a8"
            ],
            [
             0.3333333333333333,
             "#9c179e"
            ],
            [
             0.4444444444444444,
             "#bd3786"
            ],
            [
             0.5555555555555556,
             "#d8576b"
            ],
            [
             0.6666666666666666,
             "#ed7953"
            ],
            [
             0.7777777777777778,
             "#fb9f3a"
            ],
            [
             0.8888888888888888,
             "#fdca26"
            ],
            [
             1,
             "#f0f921"
            ]
           ]
          },
          "colorway": [
           "#636efa",
           "#EF553B",
           "#00cc96",
           "#ab63fa",
           "#FFA15A",
           "#19d3f3",
           "#FF6692",
           "#B6E880",
           "#FF97FF",
           "#FECB52"
          ],
          "font": {
           "color": "#2a3f5f"
          },
          "geo": {
           "bgcolor": "white",
           "lakecolor": "white",
           "landcolor": "#E5ECF6",
           "showlakes": true,
           "showland": true,
           "subunitcolor": "white"
          },
          "hoverlabel": {
           "align": "left"
          },
          "hovermode": "closest",
          "mapbox": {
           "style": "light"
          },
          "paper_bgcolor": "white",
          "plot_bgcolor": "#E5ECF6",
          "polar": {
           "angularaxis": {
            "gridcolor": "white",
            "linecolor": "white",
            "ticks": ""
           },
           "bgcolor": "#E5ECF6",
           "radialaxis": {
            "gridcolor": "white",
            "linecolor": "white",
            "ticks": ""
           }
          },
          "scene": {
           "xaxis": {
            "backgroundcolor": "#E5ECF6",
            "gridcolor": "white",
            "gridwidth": 2,
            "linecolor": "white",
            "showbackground": true,
            "ticks": "",
            "zerolinecolor": "white"
           },
           "yaxis": {
            "backgroundcolor": "#E5ECF6",
            "gridcolor": "white",
            "gridwidth": 2,
            "linecolor": "white",
            "showbackground": true,
            "ticks": "",
            "zerolinecolor": "white"
           },
           "zaxis": {
            "backgroundcolor": "#E5ECF6",
            "gridcolor": "white",
            "gridwidth": 2,
            "linecolor": "white",
            "showbackground": true,
            "ticks": "",
            "zerolinecolor": "white"
           }
          },
          "shapedefaults": {
           "line": {
            "color": "#2a3f5f"
           }
          },
          "ternary": {
           "aaxis": {
            "gridcolor": "white",
            "linecolor": "white",
            "ticks": ""
           },
           "baxis": {
            "gridcolor": "white",
            "linecolor": "white",
            "ticks": ""
           },
           "bgcolor": "#E5ECF6",
           "caxis": {
            "gridcolor": "white",
            "linecolor": "white",
            "ticks": ""
           }
          },
          "title": {
           "x": 0.05
          },
          "xaxis": {
           "automargin": true,
           "gridcolor": "white",
           "linecolor": "white",
           "ticks": "",
           "title": {
            "standoff": 15
           },
           "zerolinecolor": "white",
           "zerolinewidth": 2
          },
          "yaxis": {
           "automargin": true,
           "gridcolor": "white",
           "linecolor": "white",
           "ticks": "",
           "title": {
            "standoff": 15
           },
           "zerolinecolor": "white",
           "zerolinewidth": 2
          }
         }
        },
        "title": {
         "font": {
          "color": "darkblue",
          "family": "Arial",
          "size": 20
         },
         "text": "Styled Top Countries by Revenue",
         "x": 0.5
        },
        "xaxis": {
         "anchor": "y",
         "domain": [
          0,
          1
         ],
         "title": {
          "text": "Quantity"
         }
        },
        "yaxis": {
         "anchor": "x",
         "domain": [
          0,
          1
         ],
         "title": {
          "text": "Price"
         }
        }
       }
      }
     },
     "metadata": {},
     "output_type": "display_data"
    }
   ],
   "source": [
    "# Fonts, Titles, and Global Style\n",
    "\n",
    "fig = px.scatter(df_sample.sample(1000),\n",
    "                 x='Quantity', y='Price',\n",
    "                 color='Country',\n",
    "                 size='Revenue',\n",
    "                 hover_data=['Revenue', 'Month'])\n",
    "\n",
    "fig.update_layout(\n",
    "    title=dict(\n",
    "        text=\"Styled Top Countries by Revenue\",\n",
    "        font=dict(size=20, color='darkblue', family='Arial'),\n",
    "        x=0.5  # center the title\n",
    "    ),\n",
    "    font=dict(family=\"Verdana\", size=14, color=\"black\"),\n",
    ")\n",
    "\n",
    "fig.show()"
   ]
  },
  {
   "cell_type": "markdown",
   "id": "9c36d53d",
   "metadata": {},
   "source": [
    "### Dashboard"
   ]
  },
  {
   "cell_type": "code",
   "execution_count": 45,
   "id": "893dd6c3",
   "metadata": {},
   "outputs": [
    {
     "name": "stdout",
     "output_type": "stream",
     "text": [
      "Collecting dash\n",
      "  Downloading dash-3.1.0-py3-none-any.whl.metadata (10 kB)\n",
      "Collecting Flask<3.2,>=1.0.4 (from dash)\n",
      "  Downloading flask-3.1.1-py3-none-any.whl.metadata (3.0 kB)\n",
      "Collecting Werkzeug<3.2 (from dash)\n",
      "  Downloading werkzeug-3.1.3-py3-none-any.whl.metadata (3.7 kB)\n",
      "Requirement already satisfied: plotly>=5.0.0 in c:\\users\\hp\\miniconda3\\envs\\cv_collection_review_rnd\\lib\\site-packages (from dash) (6.1.2)\n",
      "Requirement already satisfied: importlib-metadata in c:\\users\\hp\\miniconda3\\envs\\cv_collection_review_rnd\\lib\\site-packages (from dash) (8.6.1)\n",
      "Requirement already satisfied: typing-extensions>=4.1.1 in c:\\users\\hp\\miniconda3\\envs\\cv_collection_review_rnd\\lib\\site-packages (from dash) (4.13.2)\n",
      "Requirement already satisfied: requests in c:\\users\\hp\\miniconda3\\envs\\cv_collection_review_rnd\\lib\\site-packages (from dash) (2.32.3)\n",
      "Collecting retrying (from dash)\n",
      "  Downloading retrying-1.4.0-py3-none-any.whl.metadata (7.5 kB)\n",
      "Requirement already satisfied: nest-asyncio in c:\\users\\hp\\miniconda3\\envs\\cv_collection_review_rnd\\lib\\site-packages (from dash) (1.6.0)\n",
      "Requirement already satisfied: setuptools in c:\\users\\hp\\miniconda3\\envs\\cv_collection_review_rnd\\lib\\site-packages (from dash) (78.1.1)\n",
      "Requirement already satisfied: blinker>=1.9.0 in c:\\users\\hp\\miniconda3\\envs\\cv_collection_review_rnd\\lib\\site-packages (from Flask<3.2,>=1.0.4->dash) (1.9.0)\n",
      "Requirement already satisfied: click>=8.1.3 in c:\\users\\hp\\miniconda3\\envs\\cv_collection_review_rnd\\lib\\site-packages (from Flask<3.2,>=1.0.4->dash) (8.1.8)\n",
      "Collecting itsdangerous>=2.2.0 (from Flask<3.2,>=1.0.4->dash)\n",
      "  Downloading itsdangerous-2.2.0-py3-none-any.whl.metadata (1.9 kB)\n",
      "Requirement already satisfied: jinja2>=3.1.2 in c:\\users\\hp\\miniconda3\\envs\\cv_collection_review_rnd\\lib\\site-packages (from Flask<3.2,>=1.0.4->dash) (3.1.6)\n",
      "Requirement already satisfied: markupsafe>=2.1.1 in c:\\users\\hp\\miniconda3\\envs\\cv_collection_review_rnd\\lib\\site-packages (from Flask<3.2,>=1.0.4->dash) (3.0.2)\n",
      "Requirement already satisfied: colorama in c:\\users\\hp\\miniconda3\\envs\\cv_collection_review_rnd\\lib\\site-packages (from click>=8.1.3->Flask<3.2,>=1.0.4->dash) (0.4.6)\n",
      "Requirement already satisfied: narwhals>=1.15.1 in c:\\users\\hp\\miniconda3\\envs\\cv_collection_review_rnd\\lib\\site-packages (from plotly>=5.0.0->dash) (1.41.0)\n",
      "Requirement already satisfied: packaging in c:\\users\\hp\\miniconda3\\envs\\cv_collection_review_rnd\\lib\\site-packages (from plotly>=5.0.0->dash) (24.2)\n",
      "Requirement already satisfied: zipp>=3.20 in c:\\users\\hp\\miniconda3\\envs\\cv_collection_review_rnd\\lib\\site-packages (from importlib-metadata->dash) (3.21.0)\n",
      "Requirement already satisfied: charset-normalizer<4,>=2 in c:\\users\\hp\\miniconda3\\envs\\cv_collection_review_rnd\\lib\\site-packages (from requests->dash) (3.4.2)\n",
      "Requirement already satisfied: idna<4,>=2.5 in c:\\users\\hp\\miniconda3\\envs\\cv_collection_review_rnd\\lib\\site-packages (from requests->dash) (3.10)\n",
      "Requirement already satisfied: urllib3<3,>=1.21.1 in c:\\users\\hp\\miniconda3\\envs\\cv_collection_review_rnd\\lib\\site-packages (from requests->dash) (2.4.0)\n",
      "Requirement already satisfied: certifi>=2017.4.17 in c:\\users\\hp\\miniconda3\\envs\\cv_collection_review_rnd\\lib\\site-packages (from requests->dash) (2025.4.26)\n",
      "Downloading dash-3.1.0-py3-none-any.whl (7.9 MB)\n",
      "   ---------------------------------------- 0.0/7.9 MB ? eta -:--:--\n",
      "   ---------------------------------------- 0.0/7.9 MB ? eta -:--:--\n",
      "   - -------------------------------------- 0.3/7.9 MB ? eta -:--:--\n",
      "   -- ------------------------------------- 0.5/7.9 MB 1.3 MB/s eta 0:00:06\n",
      "   --- ------------------------------------ 0.8/7.9 MB 1.3 MB/s eta 0:00:06\n",
      "   ------ --------------------------------- 1.3/7.9 MB 1.4 MB/s eta 0:00:05\n",
      "   ------- -------------------------------- 1.6/7.9 MB 1.4 MB/s eta 0:00:05\n",
      "   --------- ------------------------------ 1.8/7.9 MB 1.4 MB/s eta 0:00:05\n",
      "   ---------- ----------------------------- 2.1/7.9 MB 1.4 MB/s eta 0:00:05\n",
      "   ----------- ---------------------------- 2.4/7.9 MB 1.3 MB/s eta 0:00:05\n",
      "   ------------- -------------------------- 2.6/7.9 MB 1.3 MB/s eta 0:00:04\n",
      "   -------------- ------------------------- 2.9/7.9 MB 1.3 MB/s eta 0:00:04\n",
      "   --------------- ------------------------ 3.1/7.9 MB 1.3 MB/s eta 0:00:04\n",
      "   ----------------- ---------------------- 3.4/7.9 MB 1.3 MB/s eta 0:00:04\n",
      "   ------------------ --------------------- 3.7/7.9 MB 1.3 MB/s eta 0:00:04\n",
      "   ------------------- -------------------- 3.9/7.9 MB 1.3 MB/s eta 0:00:04\n",
      "   --------------------- ------------------ 4.2/7.9 MB 1.3 MB/s eta 0:00:03\n",
      "   ---------------------- ----------------- 4.5/7.9 MB 1.3 MB/s eta 0:00:03\n",
      "   ------------------------- -------------- 5.0/7.9 MB 1.3 MB/s eta 0:00:03\n",
      "   -------------------------- ------------- 5.2/7.9 MB 1.3 MB/s eta 0:00:02\n",
      "   --------------------------- ------------ 5.5/7.9 MB 1.4 MB/s eta 0:00:02\n",
      "   ----------------------------- ---------- 5.8/7.9 MB 1.3 MB/s eta 0:00:02\n",
      "   ------------------------------ --------- 6.0/7.9 MB 1.4 MB/s eta 0:00:02\n",
      "   ------------------------------- -------- 6.3/7.9 MB 1.4 MB/s eta 0:00:02\n",
      "   ---------------------------------- ----- 6.8/7.9 MB 1.4 MB/s eta 0:00:01\n",
      "   ----------------------------------- ---- 7.1/7.9 MB 1.4 MB/s eta 0:00:01\n",
      "   ------------------------------------- -- 7.3/7.9 MB 1.4 MB/s eta 0:00:01\n",
      "   -------------------------------------- - 7.6/7.9 MB 1.3 MB/s eta 0:00:01\n",
      "   -------------------------------------- - 7.6/7.9 MB 1.3 MB/s eta 0:00:01\n",
      "   ---------------------------------------- 7.9/7.9 MB 1.3 MB/s eta 0:00:00\n",
      "Downloading flask-3.1.1-py3-none-any.whl (103 kB)\n",
      "Downloading werkzeug-3.1.3-py3-none-any.whl (224 kB)\n",
      "Downloading itsdangerous-2.2.0-py3-none-any.whl (16 kB)\n",
      "Downloading retrying-1.4.0-py3-none-any.whl (11 kB)\n",
      "Installing collected packages: Werkzeug, retrying, itsdangerous, Flask, dash\n",
      "\n",
      "   ---------------------------------------- 0/5 [Werkzeug]\n",
      "   ---------------------------------------- 0/5 [Werkzeug]\n",
      "   ------------------------ --------------- 3/5 [Flask]\n",
      "   -------------------------------- ------- 4/5 [dash]\n",
      "   -------------------------------- ------- 4/5 [dash]\n",
      "   -------------------------------- ------- 4/5 [dash]\n",
      "   -------------------------------- ------- 4/5 [dash]\n",
      "   -------------------------------- ------- 4/5 [dash]\n",
      "   -------------------------------- ------- 4/5 [dash]\n",
      "   -------------------------------- ------- 4/5 [dash]\n",
      "   -------------------------------- ------- 4/5 [dash]\n",
      "   -------------------------------- ------- 4/5 [dash]\n",
      "   -------------------------------- ------- 4/5 [dash]\n",
      "   -------------------------------- ------- 4/5 [dash]\n",
      "   -------------------------------- ------- 4/5 [dash]\n",
      "   -------------------------------- ------- 4/5 [dash]\n",
      "   -------------------------------- ------- 4/5 [dash]\n",
      "   -------------------------------- ------- 4/5 [dash]\n",
      "   -------------------------------- ------- 4/5 [dash]\n",
      "   -------------------------------- ------- 4/5 [dash]\n",
      "   -------------------------------- ------- 4/5 [dash]\n",
      "   -------------------------------- ------- 4/5 [dash]\n",
      "   -------------------------------- ------- 4/5 [dash]\n",
      "   -------------------------------- ------- 4/5 [dash]\n",
      "   -------------------------------- ------- 4/5 [dash]\n",
      "   -------------------------------- ------- 4/5 [dash]\n",
      "   -------------------------------- ------- 4/5 [dash]\n",
      "   -------------------------------- ------- 4/5 [dash]\n",
      "   -------------------------------- ------- 4/5 [dash]\n",
      "   -------------------------------- ------- 4/5 [dash]\n",
      "   -------------------------------- ------- 4/5 [dash]\n",
      "   -------------------------------- ------- 4/5 [dash]\n",
      "   -------------------------------- ------- 4/5 [dash]\n",
      "   -------------------------------- ------- 4/5 [dash]\n",
      "   -------------------------------- ------- 4/5 [dash]\n",
      "   -------------------------------- ------- 4/5 [dash]\n",
      "   -------------------------------- ------- 4/5 [dash]\n",
      "   -------------------------------- ------- 4/5 [dash]\n",
      "   -------------------------------- ------- 4/5 [dash]\n",
      "   -------------------------------- ------- 4/5 [dash]\n",
      "   -------------------------------- ------- 4/5 [dash]\n",
      "   -------------------------------- ------- 4/5 [dash]\n",
      "   -------------------------------- ------- 4/5 [dash]\n",
      "   -------------------------------- ------- 4/5 [dash]\n",
      "   -------------------------------- ------- 4/5 [dash]\n",
      "   -------------------------------- ------- 4/5 [dash]\n",
      "   -------------------------------- ------- 4/5 [dash]\n",
      "   -------------------------------- ------- 4/5 [dash]\n",
      "   -------------------------------- ------- 4/5 [dash]\n",
      "   -------------------------------- ------- 4/5 [dash]\n",
      "   -------------------------------- ------- 4/5 [dash]\n",
      "   -------------------------------- ------- 4/5 [dash]\n",
      "   -------------------------------- ------- 4/5 [dash]\n",
      "   -------------------------------- ------- 4/5 [dash]\n",
      "   -------------------------------- ------- 4/5 [dash]\n",
      "   -------------------------------- ------- 4/5 [dash]\n",
      "   -------------------------------- ------- 4/5 [dash]\n",
      "   -------------------------------- ------- 4/5 [dash]\n",
      "   -------------------------------- ------- 4/5 [dash]\n",
      "   -------------------------------- ------- 4/5 [dash]\n",
      "   -------------------------------- ------- 4/5 [dash]\n",
      "   -------------------------------- ------- 4/5 [dash]\n",
      "   -------------------------------- ------- 4/5 [dash]\n",
      "   -------------------------------- ------- 4/5 [dash]\n",
      "   -------------------------------- ------- 4/5 [dash]\n",
      "   -------------------------------- ------- 4/5 [dash]\n",
      "   -------------------------------- ------- 4/5 [dash]\n",
      "   -------------------------------- ------- 4/5 [dash]\n",
      "   -------------------------------- ------- 4/5 [dash]\n",
      "   -------------------------------- ------- 4/5 [dash]\n",
      "   -------------------------------- ------- 4/5 [dash]\n",
      "   -------------------------------- ------- 4/5 [dash]\n",
      "   -------------------------------- ------- 4/5 [dash]\n",
      "   -------------------------------- ------- 4/5 [dash]\n",
      "   -------------------------------- ------- 4/5 [dash]\n",
      "   -------------------------------- ------- 4/5 [dash]\n",
      "   -------------------------------- ------- 4/5 [dash]\n",
      "   -------------------------------- ------- 4/5 [dash]\n",
      "   -------------------------------- ------- 4/5 [dash]\n",
      "   -------------------------------- ------- 4/5 [dash]\n",
      "   -------------------------------- ------- 4/5 [dash]\n",
      "   -------------------------------- ------- 4/5 [dash]\n",
      "   -------------------------------- ------- 4/5 [dash]\n",
      "   -------------------------------- ------- 4/5 [dash]\n",
      "   -------------------------------- ------- 4/5 [dash]\n",
      "   -------------------------------- ------- 4/5 [dash]\n",
      "   -------------------------------- ------- 4/5 [dash]\n",
      "   -------------------------------- ------- 4/5 [dash]\n",
      "   -------------------------------- ------- 4/5 [dash]\n",
      "   -------------------------------- ------- 4/5 [dash]\n",
      "   -------------------------------- ------- 4/5 [dash]\n",
      "   -------------------------------- ------- 4/5 [dash]\n",
      "   -------------------------------- ------- 4/5 [dash]\n",
      "   ---------------------------------------- 5/5 [dash]\n",
      "\n",
      "Successfully installed Flask-3.1.1 Werkzeug-3.1.3 dash-3.1.0 itsdangerous-2.2.0 retrying-1.4.0\n"
     ]
    }
   ],
   "source": [
    "!pip install dash"
   ]
  },
  {
   "cell_type": "code",
   "execution_count": 46,
   "id": "858db8b8",
   "metadata": {},
   "outputs": [],
   "source": [
    "filtered_df = df_sample[(df_sample['Revenue'] < 1000) & (df_sample['Revenue'] > 0)]"
   ]
  },
  {
   "cell_type": "code",
   "execution_count": 47,
   "id": "9900aad7",
   "metadata": {},
   "outputs": [
    {
     "data": {
      "text/html": [
       "<div>\n",
       "<style scoped>\n",
       "    .dataframe tbody tr th:only-of-type {\n",
       "        vertical-align: middle;\n",
       "    }\n",
       "\n",
       "    .dataframe tbody tr th {\n",
       "        vertical-align: top;\n",
       "    }\n",
       "\n",
       "    .dataframe thead th {\n",
       "        text-align: right;\n",
       "    }\n",
       "</style>\n",
       "<table border=\"1\" class=\"dataframe\">\n",
       "  <thead>\n",
       "    <tr style=\"text-align: right;\">\n",
       "      <th></th>\n",
       "      <th>Quantity</th>\n",
       "      <th>Price</th>\n",
       "      <th>Revenue</th>\n",
       "      <th>Country</th>\n",
       "      <th>Month</th>\n",
       "    </tr>\n",
       "  </thead>\n",
       "  <tbody>\n",
       "    <tr>\n",
       "      <th>0</th>\n",
       "      <td>12</td>\n",
       "      <td>6.95</td>\n",
       "      <td>83.40</td>\n",
       "      <td>United Kingdom</td>\n",
       "      <td>2009-12</td>\n",
       "    </tr>\n",
       "    <tr>\n",
       "      <th>1</th>\n",
       "      <td>12</td>\n",
       "      <td>6.75</td>\n",
       "      <td>81.00</td>\n",
       "      <td>United Kingdom</td>\n",
       "      <td>2009-12</td>\n",
       "    </tr>\n",
       "    <tr>\n",
       "      <th>2</th>\n",
       "      <td>12</td>\n",
       "      <td>6.75</td>\n",
       "      <td>81.00</td>\n",
       "      <td>United Kingdom</td>\n",
       "      <td>2009-12</td>\n",
       "    </tr>\n",
       "    <tr>\n",
       "      <th>3</th>\n",
       "      <td>48</td>\n",
       "      <td>2.10</td>\n",
       "      <td>100.80</td>\n",
       "      <td>United Kingdom</td>\n",
       "      <td>2009-12</td>\n",
       "    </tr>\n",
       "    <tr>\n",
       "      <th>4</th>\n",
       "      <td>24</td>\n",
       "      <td>1.25</td>\n",
       "      <td>30.00</td>\n",
       "      <td>United Kingdom</td>\n",
       "      <td>2009-12</td>\n",
       "    </tr>\n",
       "    <tr>\n",
       "      <th>...</th>\n",
       "      <td>...</td>\n",
       "      <td>...</td>\n",
       "      <td>...</td>\n",
       "      <td>...</td>\n",
       "      <td>...</td>\n",
       "    </tr>\n",
       "    <tr>\n",
       "      <th>1067366</th>\n",
       "      <td>6</td>\n",
       "      <td>2.10</td>\n",
       "      <td>12.60</td>\n",
       "      <td>France</td>\n",
       "      <td>2011-12</td>\n",
       "    </tr>\n",
       "    <tr>\n",
       "      <th>1067367</th>\n",
       "      <td>4</td>\n",
       "      <td>4.15</td>\n",
       "      <td>16.60</td>\n",
       "      <td>France</td>\n",
       "      <td>2011-12</td>\n",
       "    </tr>\n",
       "    <tr>\n",
       "      <th>1067368</th>\n",
       "      <td>4</td>\n",
       "      <td>4.15</td>\n",
       "      <td>16.60</td>\n",
       "      <td>France</td>\n",
       "      <td>2011-12</td>\n",
       "    </tr>\n",
       "    <tr>\n",
       "      <th>1067369</th>\n",
       "      <td>3</td>\n",
       "      <td>4.95</td>\n",
       "      <td>14.85</td>\n",
       "      <td>France</td>\n",
       "      <td>2011-12</td>\n",
       "    </tr>\n",
       "    <tr>\n",
       "      <th>1067370</th>\n",
       "      <td>1</td>\n",
       "      <td>18.00</td>\n",
       "      <td>18.00</td>\n",
       "      <td>France</td>\n",
       "      <td>2011-12</td>\n",
       "    </tr>\n",
       "  </tbody>\n",
       "</table>\n",
       "<p>804918 rows × 5 columns</p>\n",
       "</div>"
      ],
      "text/plain": [
       "         Quantity  Price  Revenue         Country    Month\n",
       "0              12   6.95    83.40  United Kingdom  2009-12\n",
       "1              12   6.75    81.00  United Kingdom  2009-12\n",
       "2              12   6.75    81.00  United Kingdom  2009-12\n",
       "3              48   2.10   100.80  United Kingdom  2009-12\n",
       "4              24   1.25    30.00  United Kingdom  2009-12\n",
       "...           ...    ...      ...             ...      ...\n",
       "1067366         6   2.10    12.60          France  2011-12\n",
       "1067367         4   4.15    16.60          France  2011-12\n",
       "1067368         4   4.15    16.60          France  2011-12\n",
       "1067369         3   4.95    14.85          France  2011-12\n",
       "1067370         1  18.00    18.00          France  2011-12\n",
       "\n",
       "[804918 rows x 5 columns]"
      ]
     },
     "execution_count": 47,
     "metadata": {},
     "output_type": "execute_result"
    }
   ],
   "source": [
    "filtered_df"
   ]
  },
  {
   "cell_type": "code",
   "execution_count": 48,
   "id": "14c5b889",
   "metadata": {},
   "outputs": [],
   "source": [
    "monthly_revenue = (\n",
    "    filtered_df.groupby(['Country', 'Month'])['Revenue']\n",
    "    .sum()\n",
    "    .reset_index()\n",
    ")"
   ]
  },
  {
   "cell_type": "code",
   "execution_count": 49,
   "id": "ab789045",
   "metadata": {},
   "outputs": [
    {
     "data": {
      "text/html": [
       "<div>\n",
       "<style scoped>\n",
       "    .dataframe tbody tr th:only-of-type {\n",
       "        vertical-align: middle;\n",
       "    }\n",
       "\n",
       "    .dataframe tbody tr th {\n",
       "        vertical-align: top;\n",
       "    }\n",
       "\n",
       "    .dataframe thead th {\n",
       "        text-align: right;\n",
       "    }\n",
       "</style>\n",
       "<table border=\"1\" class=\"dataframe\">\n",
       "  <thead>\n",
       "    <tr style=\"text-align: right;\">\n",
       "      <th></th>\n",
       "      <th>Country</th>\n",
       "      <th>Month</th>\n",
       "      <th>Revenue</th>\n",
       "    </tr>\n",
       "  </thead>\n",
       "  <tbody>\n",
       "    <tr>\n",
       "      <th>0</th>\n",
       "      <td>Australia</td>\n",
       "      <td>2009-12</td>\n",
       "      <td>271.10</td>\n",
       "    </tr>\n",
       "    <tr>\n",
       "      <th>1</th>\n",
       "      <td>Australia</td>\n",
       "      <td>2010-02</td>\n",
       "      <td>1029.66</td>\n",
       "    </tr>\n",
       "    <tr>\n",
       "      <th>2</th>\n",
       "      <td>Australia</td>\n",
       "      <td>2010-03</td>\n",
       "      <td>429.39</td>\n",
       "    </tr>\n",
       "    <tr>\n",
       "      <th>3</th>\n",
       "      <td>Australia</td>\n",
       "      <td>2010-04</td>\n",
       "      <td>630.95</td>\n",
       "    </tr>\n",
       "    <tr>\n",
       "      <th>4</th>\n",
       "      <td>Australia</td>\n",
       "      <td>2010-05</td>\n",
       "      <td>2371.15</td>\n",
       "    </tr>\n",
       "    <tr>\n",
       "      <th>...</th>\n",
       "      <td>...</td>\n",
       "      <td>...</td>\n",
       "      <td>...</td>\n",
       "    </tr>\n",
       "    <tr>\n",
       "      <th>540</th>\n",
       "      <td>Unspecified</td>\n",
       "      <td>2011-05</td>\n",
       "      <td>852.68</td>\n",
       "    </tr>\n",
       "    <tr>\n",
       "      <th>541</th>\n",
       "      <td>Unspecified</td>\n",
       "      <td>2011-06</td>\n",
       "      <td>185.78</td>\n",
       "    </tr>\n",
       "    <tr>\n",
       "      <th>542</th>\n",
       "      <td>Unspecified</td>\n",
       "      <td>2011-07</td>\n",
       "      <td>798.48</td>\n",
       "    </tr>\n",
       "    <tr>\n",
       "      <th>543</th>\n",
       "      <td>Unspecified</td>\n",
       "      <td>2011-08</td>\n",
       "      <td>531.03</td>\n",
       "    </tr>\n",
       "    <tr>\n",
       "      <th>544</th>\n",
       "      <td>West Indies</td>\n",
       "      <td>2010-08</td>\n",
       "      <td>536.41</td>\n",
       "    </tr>\n",
       "  </tbody>\n",
       "</table>\n",
       "<p>545 rows × 3 columns</p>\n",
       "</div>"
      ],
      "text/plain": [
       "         Country    Month  Revenue\n",
       "0      Australia  2009-12   271.10\n",
       "1      Australia  2010-02  1029.66\n",
       "2      Australia  2010-03   429.39\n",
       "3      Australia  2010-04   630.95\n",
       "4      Australia  2010-05  2371.15\n",
       "..           ...      ...      ...\n",
       "540  Unspecified  2011-05   852.68\n",
       "541  Unspecified  2011-06   185.78\n",
       "542  Unspecified  2011-07   798.48\n",
       "543  Unspecified  2011-08   531.03\n",
       "544  West Indies  2010-08   536.41\n",
       "\n",
       "[545 rows x 3 columns]"
      ]
     },
     "execution_count": 49,
     "metadata": {},
     "output_type": "execute_result"
    }
   ],
   "source": [
    "monthly_revenue"
   ]
  },
  {
   "cell_type": "code",
   "execution_count": 50,
   "id": "64f94c24",
   "metadata": {},
   "outputs": [],
   "source": [
    "# Focus on top 5 countries only\n",
    "top_countries = monthly_revenue.groupby('Country')['Revenue'].sum().nlargest(5).index\n",
    "monthly_revenue_top5 = monthly_revenue[monthly_revenue['Country'].isin(top_countries)]"
   ]
  },
  {
   "cell_type": "code",
   "execution_count": 51,
   "id": "de8ba9f5",
   "metadata": {},
   "outputs": [
    {
     "data": {
      "text/html": [
       "<div>\n",
       "<style scoped>\n",
       "    .dataframe tbody tr th:only-of-type {\n",
       "        vertical-align: middle;\n",
       "    }\n",
       "\n",
       "    .dataframe tbody tr th {\n",
       "        vertical-align: top;\n",
       "    }\n",
       "\n",
       "    .dataframe thead th {\n",
       "        text-align: right;\n",
       "    }\n",
       "</style>\n",
       "<table border=\"1\" class=\"dataframe\">\n",
       "  <thead>\n",
       "    <tr style=\"text-align: right;\">\n",
       "      <th></th>\n",
       "      <th>Country</th>\n",
       "      <th>Month</th>\n",
       "      <th>Revenue</th>\n",
       "    </tr>\n",
       "  </thead>\n",
       "  <tbody>\n",
       "    <tr>\n",
       "      <th>144</th>\n",
       "      <td>EIRE</td>\n",
       "      <td>2009-12</td>\n",
       "      <td>18170.460</td>\n",
       "    </tr>\n",
       "    <tr>\n",
       "      <th>145</th>\n",
       "      <td>EIRE</td>\n",
       "      <td>2010-01</td>\n",
       "      <td>54975.420</td>\n",
       "    </tr>\n",
       "    <tr>\n",
       "      <th>146</th>\n",
       "      <td>EIRE</td>\n",
       "      <td>2010-02</td>\n",
       "      <td>20206.460</td>\n",
       "    </tr>\n",
       "    <tr>\n",
       "      <th>147</th>\n",
       "      <td>EIRE</td>\n",
       "      <td>2010-03</td>\n",
       "      <td>22989.460</td>\n",
       "    </tr>\n",
       "    <tr>\n",
       "      <th>148</th>\n",
       "      <td>EIRE</td>\n",
       "      <td>2010-04</td>\n",
       "      <td>20668.080</td>\n",
       "    </tr>\n",
       "    <tr>\n",
       "      <th>...</th>\n",
       "      <td>...</td>\n",
       "      <td>...</td>\n",
       "      <td>...</td>\n",
       "    </tr>\n",
       "    <tr>\n",
       "      <th>529</th>\n",
       "      <td>United Kingdom</td>\n",
       "      <td>2011-08</td>\n",
       "      <td>470305.280</td>\n",
       "    </tr>\n",
       "    <tr>\n",
       "      <th>530</th>\n",
       "      <td>United Kingdom</td>\n",
       "      <td>2011-09</td>\n",
       "      <td>704892.892</td>\n",
       "    </tr>\n",
       "    <tr>\n",
       "      <th>531</th>\n",
       "      <td>United Kingdom</td>\n",
       "      <td>2011-10</td>\n",
       "      <td>760843.310</td>\n",
       "    </tr>\n",
       "    <tr>\n",
       "      <th>532</th>\n",
       "      <td>United Kingdom</td>\n",
       "      <td>2011-11</td>\n",
       "      <td>943765.550</td>\n",
       "    </tr>\n",
       "    <tr>\n",
       "      <th>533</th>\n",
       "      <td>United Kingdom</td>\n",
       "      <td>2011-12</td>\n",
       "      <td>272540.150</td>\n",
       "    </tr>\n",
       "  </tbody>\n",
       "</table>\n",
       "<p>125 rows × 3 columns</p>\n",
       "</div>"
      ],
      "text/plain": [
       "            Country    Month     Revenue\n",
       "144            EIRE  2009-12   18170.460\n",
       "145            EIRE  2010-01   54975.420\n",
       "146            EIRE  2010-02   20206.460\n",
       "147            EIRE  2010-03   22989.460\n",
       "148            EIRE  2010-04   20668.080\n",
       "..              ...      ...         ...\n",
       "529  United Kingdom  2011-08  470305.280\n",
       "530  United Kingdom  2011-09  704892.892\n",
       "531  United Kingdom  2011-10  760843.310\n",
       "532  United Kingdom  2011-11  943765.550\n",
       "533  United Kingdom  2011-12  272540.150\n",
       "\n",
       "[125 rows x 3 columns]"
      ]
     },
     "execution_count": 51,
     "metadata": {},
     "output_type": "execute_result"
    }
   ],
   "source": [
    "monthly_revenue_top5"
   ]
  },
  {
   "cell_type": "code",
   "execution_count": 52,
   "id": "4544182b",
   "metadata": {},
   "outputs": [
    {
     "data": {
      "application/vnd.plotly.v1+json": {
       "config": {
        "plotlyServerURL": "https://plot.ly"
       },
       "data": [
        {
         "alignmentgroup": "True",
         "hovertemplate": "Country=EIRE<br>Month=%{x}<br>Revenue=%{y}<extra></extra>",
         "legendgroup": "EIRE",
         "marker": {
          "color": "#636efa",
          "pattern": {
           "shape": ""
          }
         },
         "name": "EIRE",
         "offsetgroup": "EIRE",
         "orientation": "v",
         "showlegend": true,
         "textposition": "auto",
         "type": "bar",
         "x": [
          "2009-12",
          "2010-01",
          "2010-02",
          "2010-03",
          "2010-04",
          "2010-05",
          "2010-06",
          "2010-07",
          "2010-08",
          "2010-09",
          "2010-10",
          "2010-11",
          "2010-12",
          "2011-01",
          "2011-02",
          "2011-03",
          "2011-04",
          "2011-05",
          "2011-06",
          "2011-07",
          "2011-08",
          "2011-09",
          "2011-10",
          "2011-11",
          "2011-12"
         ],
         "xaxis": "x",
         "y": {
          "bdata": "CtejcJ2+0UAK16Nw7dfqQArXo3Cdu9NACtejcF1z1kDsUbgeBS/UQNejcD36A9JAKVyPwpVl1kC4HoXrQT7YQKRwPQrXYdZAj8L1KOQQ4UAAAAAAiE7iQIXrUbhuEdtArkfhetR1ykBcj8L12IHRQPYoXI9Cx8NAexSuRwGt0EAAAAAAgJK9QB+F61EYN89Aw/UoXP9e00BmZmZm/rjhQB+F61HYkdBA4XoUrm8E5EAVrkfhembWQNejcD1ayNxAUrgehetCu0A=",
          "dtype": "f8"
         },
         "yaxis": "y"
        },
        {
         "alignmentgroup": "True",
         "hovertemplate": "Country=France<br>Month=%{x}<br>Revenue=%{y}<extra></extra>",
         "legendgroup": "France",
         "marker": {
          "color": "#EF553B",
          "pattern": {
           "shape": ""
          }
         },
         "name": "France",
         "offsetgroup": "France",
         "orientation": "v",
         "showlegend": true,
         "textposition": "auto",
         "type": "bar",
         "x": [
          "2009-12",
          "2010-01",
          "2010-02",
          "2010-03",
          "2010-04",
          "2010-05",
          "2010-06",
          "2010-07",
          "2010-08",
          "2010-09",
          "2010-10",
          "2010-11",
          "2010-12",
          "2011-01",
          "2011-02",
          "2011-03",
          "2011-04",
          "2011-05",
          "2011-06",
          "2011-07",
          "2011-08",
          "2011-09",
          "2011-10",
          "2011-11",
          "2011-12"
         ],
         "xaxis": "x",
         "y": {
          "bdata": "PQrXo7B5uUA9Ctej0IjAQK5H4XoUoMFAUrgehcvowEBI4XoULu28QDMzMzMTQ8tA7FG4HkXqwUBmZmZmpnW+QJqZmZmZIs1A16NwPcpRykD2KFyP4rXNQMP1KFyfjdJACtejcF0Rz0DhehSuB1PRQBSuR+H6ocBAZmZmZsZ+zEDD9ShcTymxQB+F61G4M9FAj8L1KHxnz0AfhetRGIjDQBSuR+F6+cpA9ihcjwLh1kBmZmZmtvrWQClcj8JFmt5AUrgehet+vEA=",
          "dtype": "f8"
         },
         "yaxis": "y"
        },
        {
         "alignmentgroup": "True",
         "hovertemplate": "Country=Germany<br>Month=%{x}<br>Revenue=%{y}<extra></extra>",
         "legendgroup": "Germany",
         "marker": {
          "color": "#00cc96",
          "pattern": {
           "shape": ""
          }
         },
         "name": "Germany",
         "offsetgroup": "Germany",
         "orientation": "v",
         "showlegend": true,
         "textposition": "auto",
         "type": "bar",
         "x": [
          "2009-12",
          "2010-01",
          "2010-02",
          "2010-03",
          "2010-04",
          "2010-05",
          "2010-06",
          "2010-07",
          "2010-08",
          "2010-09",
          "2010-10",
          "2010-11",
          "2010-12",
          "2011-01",
          "2011-02",
          "2011-03",
          "2011-04",
          "2011-05",
          "2011-06",
          "2011-07",
          "2011-08",
          "2011-09",
          "2011-10",
          "2011-11",
          "2011-12"
         ],
         "xaxis": "x",
         "y": {
          "bdata": "zczMzGy4w0BI4XoUDonIQAAAAAAg0sFA7FG4HoVO0EBYObTIziDXQEjhehQuysFAPgrXo1CfzkD2KFyPkszTQML1KFyPa8NAUrgehQtT0UAfhetRaA7VQD0K16MgiN1ASOF6FE5v1EApXI/CtYPQQGZmZmaGtsJAH4XrUVgczEDsUbgexQ3IQM3MzMzMJdlAzczMzAztyUCF61G4Pg7QQHsUrkcxxdJASOF6FM6q0UAUrkfhmuXeQHsUrkdBXttAUrgehSswv0A=",
          "dtype": "f8"
         },
         "yaxis": "y"
        },
        {
         "alignmentgroup": "True",
         "hovertemplate": "Country=Netherlands<br>Month=%{x}<br>Revenue=%{y}<extra></extra>",
         "legendgroup": "Netherlands",
         "marker": {
          "color": "#ab63fa",
          "pattern": {
           "shape": ""
          }
         },
         "name": "Netherlands",
         "offsetgroup": "Netherlands",
         "orientation": "v",
         "showlegend": true,
         "textposition": "auto",
         "type": "bar",
         "x": [
          "2009-12",
          "2010-01",
          "2010-02",
          "2010-03",
          "2010-04",
          "2010-05",
          "2010-06",
          "2010-07",
          "2010-08",
          "2010-09",
          "2010-10",
          "2010-11",
          "2010-12",
          "2011-01",
          "2011-02",
          "2011-03",
          "2011-04",
          "2011-05",
          "2011-06",
          "2011-07",
          "2011-08",
          "2011-09",
          "2011-10",
          "2011-11",
          "2011-12"
         ],
         "xaxis": "x",
         "y": {
          "bdata": "CtejcF1Oy0DhehSul9fZQLgeheuxRc1AhetRuP7a1kDhehSux+i6QLgehesh5NVAPQrXoyCo10DXo3A9Sp61QI/C9SgsP9dArkfheiQz5UBmZmZmdtzQQOF6FK5Xm+FA16NwPYqIwUDXo3A9yvzZQNejcD36eNZAwvUoXB/U00CF61G4HkGnQB+F61F4JNtAKVyPwoU62kCF61G4HgU6QLgehev5sONAPQrXo1BO2kDhehSuD9XgQD0K16OARNlAKVyPwjXfwUA=",
          "dtype": "f8"
         },
         "yaxis": "y"
        },
        {
         "alignmentgroup": "True",
         "hovertemplate": "Country=United Kingdom<br>Month=%{x}<br>Revenue=%{y}<extra></extra>",
         "legendgroup": "United Kingdom",
         "marker": {
          "color": "#FFA15A",
          "pattern": {
           "shape": ""
          }
         },
         "name": "United Kingdom",
         "offsetgroup": "United Kingdom",
         "orientation": "v",
         "showlegend": true,
         "textposition": "auto",
         "type": "bar",
         "x": [
          "2009-12",
          "2010-01",
          "2010-02",
          "2010-03",
          "2010-04",
          "2010-05",
          "2010-06",
          "2010-07",
          "2010-08",
          "2010-09",
          "2010-10",
          "2010-11",
          "2010-12",
          "2011-01",
          "2011-02",
          "2011-03",
          "2011-04",
          "2011-05",
          "2011-06",
          "2011-07",
          "2011-08",
          "2011-09",
          "2011-10",
          "2011-11",
          "2011-12"
         ],
         "xaxis": "x",
         "y": {
          "bdata": "j8L1KKRoIUFKDAIrcH4XQbTIdr49BBlBbxKDACXMIEHTTWKQoGEeQeF6FK4FYh1BCtejcBYEH0GamZmZl0wcQYXrUbjbHB1B1Xjp5vWjIkF7FK5H8LYoQQaBlUNYCCxB9ihcj5Q3JUF7FK5H8c4TQbgehevMlxRB9ihcjxERG0ElBoEVxhEXQVK4HoU2eh9BAAAAAFT2GkElBoEVdxAcQexRuB6FtBxBWDm0yPmCJUHsUbieFjgnQZqZmRkrzSxBmpmZmXCiEEE=",
          "dtype": "f8"
         },
         "yaxis": "y"
        }
       ],
       "layout": {
        "barmode": "group",
        "legend": {
         "title": {
          "text": "Country"
         },
         "tracegroupgap": 0
        },
        "template": {
         "data": {
          "bar": [
           {
            "error_x": {
             "color": "#2a3f5f"
            },
            "error_y": {
             "color": "#2a3f5f"
            },
            "marker": {
             "line": {
              "color": "#E5ECF6",
              "width": 0.5
             },
             "pattern": {
              "fillmode": "overlay",
              "size": 10,
              "solidity": 0.2
             }
            },
            "type": "bar"
           }
          ],
          "barpolar": [
           {
            "marker": {
             "line": {
              "color": "#E5ECF6",
              "width": 0.5
             },
             "pattern": {
              "fillmode": "overlay",
              "size": 10,
              "solidity": 0.2
             }
            },
            "type": "barpolar"
           }
          ],
          "carpet": [
           {
            "aaxis": {
             "endlinecolor": "#2a3f5f",
             "gridcolor": "white",
             "linecolor": "white",
             "minorgridcolor": "white",
             "startlinecolor": "#2a3f5f"
            },
            "baxis": {
             "endlinecolor": "#2a3f5f",
             "gridcolor": "white",
             "linecolor": "white",
             "minorgridcolor": "white",
             "startlinecolor": "#2a3f5f"
            },
            "type": "carpet"
           }
          ],
          "choropleth": [
           {
            "colorbar": {
             "outlinewidth": 0,
             "ticks": ""
            },
            "type": "choropleth"
           }
          ],
          "contour": [
           {
            "colorbar": {
             "outlinewidth": 0,
             "ticks": ""
            },
            "colorscale": [
             [
              0,
              "#0d0887"
             ],
             [
              0.1111111111111111,
              "#46039f"
             ],
             [
              0.2222222222222222,
              "#7201a8"
             ],
             [
              0.3333333333333333,
              "#9c179e"
             ],
             [
              0.4444444444444444,
              "#bd3786"
             ],
             [
              0.5555555555555556,
              "#d8576b"
             ],
             [
              0.6666666666666666,
              "#ed7953"
             ],
             [
              0.7777777777777778,
              "#fb9f3a"
             ],
             [
              0.8888888888888888,
              "#fdca26"
             ],
             [
              1,
              "#f0f921"
             ]
            ],
            "type": "contour"
           }
          ],
          "contourcarpet": [
           {
            "colorbar": {
             "outlinewidth": 0,
             "ticks": ""
            },
            "type": "contourcarpet"
           }
          ],
          "heatmap": [
           {
            "colorbar": {
             "outlinewidth": 0,
             "ticks": ""
            },
            "colorscale": [
             [
              0,
              "#0d0887"
             ],
             [
              0.1111111111111111,
              "#46039f"
             ],
             [
              0.2222222222222222,
              "#7201a8"
             ],
             [
              0.3333333333333333,
              "#9c179e"
             ],
             [
              0.4444444444444444,
              "#bd3786"
             ],
             [
              0.5555555555555556,
              "#d8576b"
             ],
             [
              0.6666666666666666,
              "#ed7953"
             ],
             [
              0.7777777777777778,
              "#fb9f3a"
             ],
             [
              0.8888888888888888,
              "#fdca26"
             ],
             [
              1,
              "#f0f921"
             ]
            ],
            "type": "heatmap"
           }
          ],
          "histogram": [
           {
            "marker": {
             "pattern": {
              "fillmode": "overlay",
              "size": 10,
              "solidity": 0.2
             }
            },
            "type": "histogram"
           }
          ],
          "histogram2d": [
           {
            "colorbar": {
             "outlinewidth": 0,
             "ticks": ""
            },
            "colorscale": [
             [
              0,
              "#0d0887"
             ],
             [
              0.1111111111111111,
              "#46039f"
             ],
             [
              0.2222222222222222,
              "#7201a8"
             ],
             [
              0.3333333333333333,
              "#9c179e"
             ],
             [
              0.4444444444444444,
              "#bd3786"
             ],
             [
              0.5555555555555556,
              "#d8576b"
             ],
             [
              0.6666666666666666,
              "#ed7953"
             ],
             [
              0.7777777777777778,
              "#fb9f3a"
             ],
             [
              0.8888888888888888,
              "#fdca26"
             ],
             [
              1,
              "#f0f921"
             ]
            ],
            "type": "histogram2d"
           }
          ],
          "histogram2dcontour": [
           {
            "colorbar": {
             "outlinewidth": 0,
             "ticks": ""
            },
            "colorscale": [
             [
              0,
              "#0d0887"
             ],
             [
              0.1111111111111111,
              "#46039f"
             ],
             [
              0.2222222222222222,
              "#7201a8"
             ],
             [
              0.3333333333333333,
              "#9c179e"
             ],
             [
              0.4444444444444444,
              "#bd3786"
             ],
             [
              0.5555555555555556,
              "#d8576b"
             ],
             [
              0.6666666666666666,
              "#ed7953"
             ],
             [
              0.7777777777777778,
              "#fb9f3a"
             ],
             [
              0.8888888888888888,
              "#fdca26"
             ],
             [
              1,
              "#f0f921"
             ]
            ],
            "type": "histogram2dcontour"
           }
          ],
          "mesh3d": [
           {
            "colorbar": {
             "outlinewidth": 0,
             "ticks": ""
            },
            "type": "mesh3d"
           }
          ],
          "parcoords": [
           {
            "line": {
             "colorbar": {
              "outlinewidth": 0,
              "ticks": ""
             }
            },
            "type": "parcoords"
           }
          ],
          "pie": [
           {
            "automargin": true,
            "type": "pie"
           }
          ],
          "scatter": [
           {
            "fillpattern": {
             "fillmode": "overlay",
             "size": 10,
             "solidity": 0.2
            },
            "type": "scatter"
           }
          ],
          "scatter3d": [
           {
            "line": {
             "colorbar": {
              "outlinewidth": 0,
              "ticks": ""
             }
            },
            "marker": {
             "colorbar": {
              "outlinewidth": 0,
              "ticks": ""
             }
            },
            "type": "scatter3d"
           }
          ],
          "scattercarpet": [
           {
            "marker": {
             "colorbar": {
              "outlinewidth": 0,
              "ticks": ""
             }
            },
            "type": "scattercarpet"
           }
          ],
          "scattergeo": [
           {
            "marker": {
             "colorbar": {
              "outlinewidth": 0,
              "ticks": ""
             }
            },
            "type": "scattergeo"
           }
          ],
          "scattergl": [
           {
            "marker": {
             "colorbar": {
              "outlinewidth": 0,
              "ticks": ""
             }
            },
            "type": "scattergl"
           }
          ],
          "scattermap": [
           {
            "marker": {
             "colorbar": {
              "outlinewidth": 0,
              "ticks": ""
             }
            },
            "type": "scattermap"
           }
          ],
          "scattermapbox": [
           {
            "marker": {
             "colorbar": {
              "outlinewidth": 0,
              "ticks": ""
             }
            },
            "type": "scattermapbox"
           }
          ],
          "scatterpolar": [
           {
            "marker": {
             "colorbar": {
              "outlinewidth": 0,
              "ticks": ""
             }
            },
            "type": "scatterpolar"
           }
          ],
          "scatterpolargl": [
           {
            "marker": {
             "colorbar": {
              "outlinewidth": 0,
              "ticks": ""
             }
            },
            "type": "scatterpolargl"
           }
          ],
          "scatterternary": [
           {
            "marker": {
             "colorbar": {
              "outlinewidth": 0,
              "ticks": ""
             }
            },
            "type": "scatterternary"
           }
          ],
          "surface": [
           {
            "colorbar": {
             "outlinewidth": 0,
             "ticks": ""
            },
            "colorscale": [
             [
              0,
              "#0d0887"
             ],
             [
              0.1111111111111111,
              "#46039f"
             ],
             [
              0.2222222222222222,
              "#7201a8"
             ],
             [
              0.3333333333333333,
              "#9c179e"
             ],
             [
              0.4444444444444444,
              "#bd3786"
             ],
             [
              0.5555555555555556,
              "#d8576b"
             ],
             [
              0.6666666666666666,
              "#ed7953"
             ],
             [
              0.7777777777777778,
              "#fb9f3a"
             ],
             [
              0.8888888888888888,
              "#fdca26"
             ],
             [
              1,
              "#f0f921"
             ]
            ],
            "type": "surface"
           }
          ],
          "table": [
           {
            "cells": {
             "fill": {
              "color": "#EBF0F8"
             },
             "line": {
              "color": "white"
             }
            },
            "header": {
             "fill": {
              "color": "#C8D4E3"
             },
             "line": {
              "color": "white"
             }
            },
            "type": "table"
           }
          ]
         },
         "layout": {
          "annotationdefaults": {
           "arrowcolor": "#2a3f5f",
           "arrowhead": 0,
           "arrowwidth": 1
          },
          "autotypenumbers": "strict",
          "coloraxis": {
           "colorbar": {
            "outlinewidth": 0,
            "ticks": ""
           }
          },
          "colorscale": {
           "diverging": [
            [
             0,
             "#8e0152"
            ],
            [
             0.1,
             "#c51b7d"
            ],
            [
             0.2,
             "#de77ae"
            ],
            [
             0.3,
             "#f1b6da"
            ],
            [
             0.4,
             "#fde0ef"
            ],
            [
             0.5,
             "#f7f7f7"
            ],
            [
             0.6,
             "#e6f5d0"
            ],
            [
             0.7,
             "#b8e186"
            ],
            [
             0.8,
             "#7fbc41"
            ],
            [
             0.9,
             "#4d9221"
            ],
            [
             1,
             "#276419"
            ]
           ],
           "sequential": [
            [
             0,
             "#0d0887"
            ],
            [
             0.1111111111111111,
             "#46039f"
            ],
            [
             0.2222222222222222,
             "#7201a8"
            ],
            [
             0.3333333333333333,
             "#9c179e"
            ],
            [
             0.4444444444444444,
             "#bd3786"
            ],
            [
             0.5555555555555556,
             "#d8576b"
            ],
            [
             0.6666666666666666,
             "#ed7953"
            ],
            [
             0.7777777777777778,
             "#fb9f3a"
            ],
            [
             0.8888888888888888,
             "#fdca26"
            ],
            [
             1,
             "#f0f921"
            ]
           ],
           "sequentialminus": [
            [
             0,
             "#0d0887"
            ],
            [
             0.1111111111111111,
             "#46039f"
            ],
            [
             0.2222222222222222,
             "#7201a8"
            ],
            [
             0.3333333333333333,
             "#9c179e"
            ],
            [
             0.4444444444444444,
             "#bd3786"
            ],
            [
             0.5555555555555556,
             "#d8576b"
            ],
            [
             0.6666666666666666,
             "#ed7953"
            ],
            [
             0.7777777777777778,
             "#fb9f3a"
            ],
            [
             0.8888888888888888,
             "#fdca26"
            ],
            [
             1,
             "#f0f921"
            ]
           ]
          },
          "colorway": [
           "#636efa",
           "#EF553B",
           "#00cc96",
           "#ab63fa",
           "#FFA15A",
           "#19d3f3",
           "#FF6692",
           "#B6E880",
           "#FF97FF",
           "#FECB52"
          ],
          "font": {
           "color": "#2a3f5f"
          },
          "geo": {
           "bgcolor": "white",
           "lakecolor": "white",
           "landcolor": "#E5ECF6",
           "showlakes": true,
           "showland": true,
           "subunitcolor": "white"
          },
          "hoverlabel": {
           "align": "left"
          },
          "hovermode": "closest",
          "mapbox": {
           "style": "light"
          },
          "paper_bgcolor": "white",
          "plot_bgcolor": "#E5ECF6",
          "polar": {
           "angularaxis": {
            "gridcolor": "white",
            "linecolor": "white",
            "ticks": ""
           },
           "bgcolor": "#E5ECF6",
           "radialaxis": {
            "gridcolor": "white",
            "linecolor": "white",
            "ticks": ""
           }
          },
          "scene": {
           "xaxis": {
            "backgroundcolor": "#E5ECF6",
            "gridcolor": "white",
            "gridwidth": 2,
            "linecolor": "white",
            "showbackground": true,
            "ticks": "",
            "zerolinecolor": "white"
           },
           "yaxis": {
            "backgroundcolor": "#E5ECF6",
            "gridcolor": "white",
            "gridwidth": 2,
            "linecolor": "white",
            "showbackground": true,
            "ticks": "",
            "zerolinecolor": "white"
           },
           "zaxis": {
            "backgroundcolor": "#E5ECF6",
            "gridcolor": "white",
            "gridwidth": 2,
            "linecolor": "white",
            "showbackground": true,
            "ticks": "",
            "zerolinecolor": "white"
           }
          },
          "shapedefaults": {
           "line": {
            "color": "#2a3f5f"
           }
          },
          "ternary": {
           "aaxis": {
            "gridcolor": "white",
            "linecolor": "white",
            "ticks": ""
           },
           "baxis": {
            "gridcolor": "white",
            "linecolor": "white",
            "ticks": ""
           },
           "bgcolor": "#E5ECF6",
           "caxis": {
            "gridcolor": "white",
            "linecolor": "white",
            "ticks": ""
           }
          },
          "title": {
           "x": 0.05
          },
          "xaxis": {
           "automargin": true,
           "gridcolor": "white",
           "linecolor": "white",
           "ticks": "",
           "title": {
            "standoff": 15
           },
           "zerolinecolor": "white",
           "zerolinewidth": 2
          },
          "yaxis": {
           "automargin": true,
           "gridcolor": "white",
           "linecolor": "white",
           "ticks": "",
           "title": {
            "standoff": 15
           },
           "zerolinecolor": "white",
           "zerolinewidth": 2
          }
         }
        },
        "title": {
         "text": "Monthly Revenue (Top 5 Countries, Filtered Revenue < 1000)"
        },
        "xaxis": {
         "anchor": "y",
         "domain": [
          0,
          1
         ],
         "tickangle": 45,
         "title": {
          "text": "Month"
         }
        },
        "yaxis": {
         "anchor": "x",
         "domain": [
          0,
          1
         ],
         "title": {
          "text": "Revenue"
         }
        }
       }
      }
     },
     "metadata": {},
     "output_type": "display_data"
    }
   ],
   "source": [
    "fig = px.bar(\n",
    "    monthly_revenue_top5,\n",
    "    x='Month',\n",
    "    y='Revenue',\n",
    "    color='Country',\n",
    "    title='Monthly Revenue (Top 5 Countries, Filtered Revenue < 1000)',\n",
    "    barmode='group'\n",
    ")\n",
    "\n",
    "fig.update_layout(\n",
    "    xaxis_title='Month',\n",
    "    yaxis_title='Revenue',\n",
    "    xaxis_tickangle=45\n",
    ")\n",
    "\n",
    "fig.show()"
   ]
  },
  {
   "cell_type": "code",
   "execution_count": 61,
   "id": "5c9f0d0a",
   "metadata": {},
   "outputs": [
    {
     "data": {
      "application/vnd.plotly.v1+json": {
       "config": {
        "plotlyServerURL": "https://plot.ly"
       },
       "data": [
        {
         "domain": {
          "x": [
           0,
           1
          ],
          "y": [
           0,
           1
          ]
         },
         "hole": 0.5,
         "hovertemplate": "Country=%{label}<br>Revenue=%{value}<extra></extra>",
         "labels": [
          "United Kingdom",
          "EIRE",
          "Netherlands",
          "Germany",
          "France"
         ],
         "legendgroup": "",
         "name": "",
         "showlegend": true,
         "textinfo": "percent+label",
         "type": "pie",
         "values": {
          "bdata": "lkOLcAkVbEGF61E4fvgiQeF6FK7w6SBBTmIQ2HlSGkEUrkfh5a4VQQ==",
          "dtype": "f8"
         }
        }
       ],
       "layout": {
        "legend": {
         "tracegroupgap": 0
        },
        "template": {
         "data": {
          "bar": [
           {
            "error_x": {
             "color": "#2a3f5f"
            },
            "error_y": {
             "color": "#2a3f5f"
            },
            "marker": {
             "line": {
              "color": "#E5ECF6",
              "width": 0.5
             },
             "pattern": {
              "fillmode": "overlay",
              "size": 10,
              "solidity": 0.2
             }
            },
            "type": "bar"
           }
          ],
          "barpolar": [
           {
            "marker": {
             "line": {
              "color": "#E5ECF6",
              "width": 0.5
             },
             "pattern": {
              "fillmode": "overlay",
              "size": 10,
              "solidity": 0.2
             }
            },
            "type": "barpolar"
           }
          ],
          "carpet": [
           {
            "aaxis": {
             "endlinecolor": "#2a3f5f",
             "gridcolor": "white",
             "linecolor": "white",
             "minorgridcolor": "white",
             "startlinecolor": "#2a3f5f"
            },
            "baxis": {
             "endlinecolor": "#2a3f5f",
             "gridcolor": "white",
             "linecolor": "white",
             "minorgridcolor": "white",
             "startlinecolor": "#2a3f5f"
            },
            "type": "carpet"
           }
          ],
          "choropleth": [
           {
            "colorbar": {
             "outlinewidth": 0,
             "ticks": ""
            },
            "type": "choropleth"
           }
          ],
          "contour": [
           {
            "colorbar": {
             "outlinewidth": 0,
             "ticks": ""
            },
            "colorscale": [
             [
              0,
              "#0d0887"
             ],
             [
              0.1111111111111111,
              "#46039f"
             ],
             [
              0.2222222222222222,
              "#7201a8"
             ],
             [
              0.3333333333333333,
              "#9c179e"
             ],
             [
              0.4444444444444444,
              "#bd3786"
             ],
             [
              0.5555555555555556,
              "#d8576b"
             ],
             [
              0.6666666666666666,
              "#ed7953"
             ],
             [
              0.7777777777777778,
              "#fb9f3a"
             ],
             [
              0.8888888888888888,
              "#fdca26"
             ],
             [
              1,
              "#f0f921"
             ]
            ],
            "type": "contour"
           }
          ],
          "contourcarpet": [
           {
            "colorbar": {
             "outlinewidth": 0,
             "ticks": ""
            },
            "type": "contourcarpet"
           }
          ],
          "heatmap": [
           {
            "colorbar": {
             "outlinewidth": 0,
             "ticks": ""
            },
            "colorscale": [
             [
              0,
              "#0d0887"
             ],
             [
              0.1111111111111111,
              "#46039f"
             ],
             [
              0.2222222222222222,
              "#7201a8"
             ],
             [
              0.3333333333333333,
              "#9c179e"
             ],
             [
              0.4444444444444444,
              "#bd3786"
             ],
             [
              0.5555555555555556,
              "#d8576b"
             ],
             [
              0.6666666666666666,
              "#ed7953"
             ],
             [
              0.7777777777777778,
              "#fb9f3a"
             ],
             [
              0.8888888888888888,
              "#fdca26"
             ],
             [
              1,
              "#f0f921"
             ]
            ],
            "type": "heatmap"
           }
          ],
          "histogram": [
           {
            "marker": {
             "pattern": {
              "fillmode": "overlay",
              "size": 10,
              "solidity": 0.2
             }
            },
            "type": "histogram"
           }
          ],
          "histogram2d": [
           {
            "colorbar": {
             "outlinewidth": 0,
             "ticks": ""
            },
            "colorscale": [
             [
              0,
              "#0d0887"
             ],
             [
              0.1111111111111111,
              "#46039f"
             ],
             [
              0.2222222222222222,
              "#7201a8"
             ],
             [
              0.3333333333333333,
              "#9c179e"
             ],
             [
              0.4444444444444444,
              "#bd3786"
             ],
             [
              0.5555555555555556,
              "#d8576b"
             ],
             [
              0.6666666666666666,
              "#ed7953"
             ],
             [
              0.7777777777777778,
              "#fb9f3a"
             ],
             [
              0.8888888888888888,
              "#fdca26"
             ],
             [
              1,
              "#f0f921"
             ]
            ],
            "type": "histogram2d"
           }
          ],
          "histogram2dcontour": [
           {
            "colorbar": {
             "outlinewidth": 0,
             "ticks": ""
            },
            "colorscale": [
             [
              0,
              "#0d0887"
             ],
             [
              0.1111111111111111,
              "#46039f"
             ],
             [
              0.2222222222222222,
              "#7201a8"
             ],
             [
              0.3333333333333333,
              "#9c179e"
             ],
             [
              0.4444444444444444,
              "#bd3786"
             ],
             [
              0.5555555555555556,
              "#d8576b"
             ],
             [
              0.6666666666666666,
              "#ed7953"
             ],
             [
              0.7777777777777778,
              "#fb9f3a"
             ],
             [
              0.8888888888888888,
              "#fdca26"
             ],
             [
              1,
              "#f0f921"
             ]
            ],
            "type": "histogram2dcontour"
           }
          ],
          "mesh3d": [
           {
            "colorbar": {
             "outlinewidth": 0,
             "ticks": ""
            },
            "type": "mesh3d"
           }
          ],
          "parcoords": [
           {
            "line": {
             "colorbar": {
              "outlinewidth": 0,
              "ticks": ""
             }
            },
            "type": "parcoords"
           }
          ],
          "pie": [
           {
            "automargin": true,
            "type": "pie"
           }
          ],
          "scatter": [
           {
            "fillpattern": {
             "fillmode": "overlay",
             "size": 10,
             "solidity": 0.2
            },
            "type": "scatter"
           }
          ],
          "scatter3d": [
           {
            "line": {
             "colorbar": {
              "outlinewidth": 0,
              "ticks": ""
             }
            },
            "marker": {
             "colorbar": {
              "outlinewidth": 0,
              "ticks": ""
             }
            },
            "type": "scatter3d"
           }
          ],
          "scattercarpet": [
           {
            "marker": {
             "colorbar": {
              "outlinewidth": 0,
              "ticks": ""
             }
            },
            "type": "scattercarpet"
           }
          ],
          "scattergeo": [
           {
            "marker": {
             "colorbar": {
              "outlinewidth": 0,
              "ticks": ""
             }
            },
            "type": "scattergeo"
           }
          ],
          "scattergl": [
           {
            "marker": {
             "colorbar": {
              "outlinewidth": 0,
              "ticks": ""
             }
            },
            "type": "scattergl"
           }
          ],
          "scattermap": [
           {
            "marker": {
             "colorbar": {
              "outlinewidth": 0,
              "ticks": ""
             }
            },
            "type": "scattermap"
           }
          ],
          "scattermapbox": [
           {
            "marker": {
             "colorbar": {
              "outlinewidth": 0,
              "ticks": ""
             }
            },
            "type": "scattermapbox"
           }
          ],
          "scatterpolar": [
           {
            "marker": {
             "colorbar": {
              "outlinewidth": 0,
              "ticks": ""
             }
            },
            "type": "scatterpolar"
           }
          ],
          "scatterpolargl": [
           {
            "marker": {
             "colorbar": {
              "outlinewidth": 0,
              "ticks": ""
             }
            },
            "type": "scatterpolargl"
           }
          ],
          "scatterternary": [
           {
            "marker": {
             "colorbar": {
              "outlinewidth": 0,
              "ticks": ""
             }
            },
            "type": "scatterternary"
           }
          ],
          "surface": [
           {
            "colorbar": {
             "outlinewidth": 0,
             "ticks": ""
            },
            "colorscale": [
             [
              0,
              "#0d0887"
             ],
             [
              0.1111111111111111,
              "#46039f"
             ],
             [
              0.2222222222222222,
              "#7201a8"
             ],
             [
              0.3333333333333333,
              "#9c179e"
             ],
             [
              0.4444444444444444,
              "#bd3786"
             ],
             [
              0.5555555555555556,
              "#d8576b"
             ],
             [
              0.6666666666666666,
              "#ed7953"
             ],
             [
              0.7777777777777778,
              "#fb9f3a"
             ],
             [
              0.8888888888888888,
              "#fdca26"
             ],
             [
              1,
              "#f0f921"
             ]
            ],
            "type": "surface"
           }
          ],
          "table": [
           {
            "cells": {
             "fill": {
              "color": "#EBF0F8"
             },
             "line": {
              "color": "white"
             }
            },
            "header": {
             "fill": {
              "color": "#C8D4E3"
             },
             "line": {
              "color": "white"
             }
            },
            "type": "table"
           }
          ]
         },
         "layout": {
          "annotationdefaults": {
           "arrowcolor": "#2a3f5f",
           "arrowhead": 0,
           "arrowwidth": 1
          },
          "autotypenumbers": "strict",
          "coloraxis": {
           "colorbar": {
            "outlinewidth": 0,
            "ticks": ""
           }
          },
          "colorscale": {
           "diverging": [
            [
             0,
             "#8e0152"
            ],
            [
             0.1,
             "#c51b7d"
            ],
            [
             0.2,
             "#de77ae"
            ],
            [
             0.3,
             "#f1b6da"
            ],
            [
             0.4,
             "#fde0ef"
            ],
            [
             0.5,
             "#f7f7f7"
            ],
            [
             0.6,
             "#e6f5d0"
            ],
            [
             0.7,
             "#b8e186"
            ],
            [
             0.8,
             "#7fbc41"
            ],
            [
             0.9,
             "#4d9221"
            ],
            [
             1,
             "#276419"
            ]
           ],
           "sequential": [
            [
             0,
             "#0d0887"
            ],
            [
             0.1111111111111111,
             "#46039f"
            ],
            [
             0.2222222222222222,
             "#7201a8"
            ],
            [
             0.3333333333333333,
             "#9c179e"
            ],
            [
             0.4444444444444444,
             "#bd3786"
            ],
            [
             0.5555555555555556,
             "#d8576b"
            ],
            [
             0.6666666666666666,
             "#ed7953"
            ],
            [
             0.7777777777777778,
             "#fb9f3a"
            ],
            [
             0.8888888888888888,
             "#fdca26"
            ],
            [
             1,
             "#f0f921"
            ]
           ],
           "sequentialminus": [
            [
             0,
             "#0d0887"
            ],
            [
             0.1111111111111111,
             "#46039f"
            ],
            [
             0.2222222222222222,
             "#7201a8"
            ],
            [
             0.3333333333333333,
             "#9c179e"
            ],
            [
             0.4444444444444444,
             "#bd3786"
            ],
            [
             0.5555555555555556,
             "#d8576b"
            ],
            [
             0.6666666666666666,
             "#ed7953"
            ],
            [
             0.7777777777777778,
             "#fb9f3a"
            ],
            [
             0.8888888888888888,
             "#fdca26"
            ],
            [
             1,
             "#f0f921"
            ]
           ]
          },
          "colorway": [
           "#636efa",
           "#EF553B",
           "#00cc96",
           "#ab63fa",
           "#FFA15A",
           "#19d3f3",
           "#FF6692",
           "#B6E880",
           "#FF97FF",
           "#FECB52"
          ],
          "font": {
           "color": "#2a3f5f"
          },
          "geo": {
           "bgcolor": "white",
           "lakecolor": "white",
           "landcolor": "#E5ECF6",
           "showlakes": true,
           "showland": true,
           "subunitcolor": "white"
          },
          "hoverlabel": {
           "align": "left"
          },
          "hovermode": "closest",
          "mapbox": {
           "style": "light"
          },
          "paper_bgcolor": "white",
          "plot_bgcolor": "#E5ECF6",
          "polar": {
           "angularaxis": {
            "gridcolor": "white",
            "linecolor": "white",
            "ticks": ""
           },
           "bgcolor": "#E5ECF6",
           "radialaxis": {
            "gridcolor": "white",
            "linecolor": "white",
            "ticks": ""
           }
          },
          "scene": {
           "xaxis": {
            "backgroundcolor": "#E5ECF6",
            "gridcolor": "white",
            "gridwidth": 2,
            "linecolor": "white",
            "showbackground": true,
            "ticks": "",
            "zerolinecolor": "white"
           },
           "yaxis": {
            "backgroundcolor": "#E5ECF6",
            "gridcolor": "white",
            "gridwidth": 2,
            "linecolor": "white",
            "showbackground": true,
            "ticks": "",
            "zerolinecolor": "white"
           },
           "zaxis": {
            "backgroundcolor": "#E5ECF6",
            "gridcolor": "white",
            "gridwidth": 2,
            "linecolor": "white",
            "showbackground": true,
            "ticks": "",
            "zerolinecolor": "white"
           }
          },
          "shapedefaults": {
           "line": {
            "color": "#2a3f5f"
           }
          },
          "ternary": {
           "aaxis": {
            "gridcolor": "white",
            "linecolor": "white",
            "ticks": ""
           },
           "baxis": {
            "gridcolor": "white",
            "linecolor": "white",
            "ticks": ""
           },
           "bgcolor": "#E5ECF6",
           "caxis": {
            "gridcolor": "white",
            "linecolor": "white",
            "ticks": ""
           }
          },
          "title": {
           "x": 0.05
          },
          "xaxis": {
           "automargin": true,
           "gridcolor": "white",
           "linecolor": "white",
           "ticks": "",
           "title": {
            "standoff": 15
           },
           "zerolinecolor": "white",
           "zerolinewidth": 2
          },
          "yaxis": {
           "automargin": true,
           "gridcolor": "white",
           "linecolor": "white",
           "ticks": "",
           "title": {
            "standoff": 15
           },
           "zerolinecolor": "white",
           "zerolinewidth": 2
          }
         }
        },
        "title": {
         "text": "Top 5 Countries by Revenue Share"
        }
       }
      }
     },
     "metadata": {},
     "output_type": "display_data"
    }
   ],
   "source": [
    "country_rev = df_sample.groupby('Country')['Revenue'].sum().nlargest(5).reset_index()\n",
    "\n",
    "fig = px.pie(country_rev, names='Country', values='Revenue',\n",
    "             title='Top 5 Countries by Revenue Share',\n",
    "             hole=0.5)  # donut style\n",
    "\n",
    "fig.update_traces(textinfo='percent+label')\n",
    "\n",
    "fig.show()"
   ]
  },
  {
   "cell_type": "code",
   "execution_count": 65,
   "id": "9ac10812",
   "metadata": {},
   "outputs": [
    {
     "data": {
      "application/vnd.plotly.v1+json": {
       "config": {
        "plotlyServerURL": "https://plot.ly"
       },
       "data": [
        {
         "branchvalues": "total",
         "domain": {
          "x": [
           0,
           1
          ],
          "y": [
           0,
           1
          ]
         },
         "hovertemplate": "labels=%{label}<br>Revenue=%{value}<br>parent=%{parent}<br>id=%{id}<extra></extra>",
         "ids": [
          "EIRE/2009-12",
          "EIRE/2010-01",
          "EIRE/2010-02",
          "EIRE/2010-03",
          "EIRE/2010-04",
          "EIRE/2010-05",
          "EIRE/2010-06",
          "EIRE/2010-07",
          "EIRE/2010-08",
          "EIRE/2010-09",
          "EIRE/2010-10",
          "EIRE/2010-11",
          "EIRE/2010-12",
          "EIRE/2011-01",
          "EIRE/2011-02",
          "EIRE/2011-03",
          "EIRE/2011-04",
          "EIRE/2011-05",
          "EIRE/2011-06",
          "EIRE/2011-07",
          "EIRE/2011-08",
          "EIRE/2011-09",
          "EIRE/2011-10",
          "EIRE/2011-11",
          "EIRE/2011-12",
          "France/2009-12",
          "France/2010-01",
          "France/2010-02",
          "France/2010-03",
          "France/2010-04",
          "France/2010-05",
          "France/2010-06",
          "France/2010-07",
          "France/2010-08",
          "France/2010-09",
          "France/2010-10",
          "France/2010-11",
          "France/2010-12",
          "France/2011-01",
          "France/2011-02",
          "France/2011-03",
          "France/2011-04",
          "France/2011-05",
          "France/2011-06",
          "France/2011-07",
          "France/2011-08",
          "France/2011-09",
          "France/2011-10",
          "France/2011-11",
          "France/2011-12",
          "Germany/2009-12",
          "Germany/2010-01",
          "Germany/2010-02",
          "Germany/2010-03",
          "Germany/2010-04",
          "Germany/2010-05",
          "Germany/2010-06",
          "Germany/2010-07",
          "Germany/2010-08",
          "Germany/2010-09",
          "Germany/2010-10",
          "Germany/2010-11",
          "Germany/2010-12",
          "Germany/2011-01",
          "Germany/2011-02",
          "Germany/2011-03",
          "Germany/2011-04",
          "Germany/2011-05",
          "Germany/2011-06",
          "Germany/2011-07",
          "Germany/2011-08",
          "Germany/2011-09",
          "Germany/2011-10",
          "Germany/2011-11",
          "Germany/2011-12",
          "Netherlands/2009-12",
          "Netherlands/2010-01",
          "Netherlands/2010-02",
          "Netherlands/2010-03",
          "Netherlands/2010-04",
          "Netherlands/2010-05",
          "Netherlands/2010-06",
          "Netherlands/2010-07",
          "Netherlands/2010-08",
          "Netherlands/2010-09",
          "Netherlands/2010-10",
          "Netherlands/2010-11",
          "Netherlands/2010-12",
          "Netherlands/2011-01",
          "Netherlands/2011-02",
          "Netherlands/2011-03",
          "Netherlands/2011-04",
          "Netherlands/2011-05",
          "Netherlands/2011-06",
          "Netherlands/2011-07",
          "Netherlands/2011-08",
          "Netherlands/2011-09",
          "Netherlands/2011-10",
          "Netherlands/2011-11",
          "Netherlands/2011-12",
          "United Kingdom/2009-12",
          "United Kingdom/2010-01",
          "United Kingdom/2010-02",
          "United Kingdom/2010-03",
          "United Kingdom/2010-04",
          "United Kingdom/2010-05",
          "United Kingdom/2010-06",
          "United Kingdom/2010-07",
          "United Kingdom/2010-08",
          "United Kingdom/2010-09",
          "United Kingdom/2010-10",
          "United Kingdom/2010-11",
          "United Kingdom/2010-12",
          "United Kingdom/2011-01",
          "United Kingdom/2011-02",
          "United Kingdom/2011-03",
          "United Kingdom/2011-04",
          "United Kingdom/2011-05",
          "United Kingdom/2011-06",
          "United Kingdom/2011-07",
          "United Kingdom/2011-08",
          "United Kingdom/2011-09",
          "United Kingdom/2011-10",
          "United Kingdom/2011-11",
          "United Kingdom/2011-12",
          "EIRE",
          "France",
          "Germany",
          "Netherlands",
          "United Kingdom"
         ],
         "labels": [
          "2009-12",
          "2010-01",
          "2010-02",
          "2010-03",
          "2010-04",
          "2010-05",
          "2010-06",
          "2010-07",
          "2010-08",
          "2010-09",
          "2010-10",
          "2010-11",
          "2010-12",
          "2011-01",
          "2011-02",
          "2011-03",
          "2011-04",
          "2011-05",
          "2011-06",
          "2011-07",
          "2011-08",
          "2011-09",
          "2011-10",
          "2011-11",
          "2011-12",
          "2009-12",
          "2010-01",
          "2010-02",
          "2010-03",
          "2010-04",
          "2010-05",
          "2010-06",
          "2010-07",
          "2010-08",
          "2010-09",
          "2010-10",
          "2010-11",
          "2010-12",
          "2011-01",
          "2011-02",
          "2011-03",
          "2011-04",
          "2011-05",
          "2011-06",
          "2011-07",
          "2011-08",
          "2011-09",
          "2011-10",
          "2011-11",
          "2011-12",
          "2009-12",
          "2010-01",
          "2010-02",
          "2010-03",
          "2010-04",
          "2010-05",
          "2010-06",
          "2010-07",
          "2010-08",
          "2010-09",
          "2010-10",
          "2010-11",
          "2010-12",
          "2011-01",
          "2011-02",
          "2011-03",
          "2011-04",
          "2011-05",
          "2011-06",
          "2011-07",
          "2011-08",
          "2011-09",
          "2011-10",
          "2011-11",
          "2011-12",
          "2009-12",
          "2010-01",
          "2010-02",
          "2010-03",
          "2010-04",
          "2010-05",
          "2010-06",
          "2010-07",
          "2010-08",
          "2010-09",
          "2010-10",
          "2010-11",
          "2010-12",
          "2011-01",
          "2011-02",
          "2011-03",
          "2011-04",
          "2011-05",
          "2011-06",
          "2011-07",
          "2011-08",
          "2011-09",
          "2011-10",
          "2011-11",
          "2011-12",
          "2009-12",
          "2010-01",
          "2010-02",
          "2010-03",
          "2010-04",
          "2010-05",
          "2010-06",
          "2010-07",
          "2010-08",
          "2010-09",
          "2010-10",
          "2010-11",
          "2010-12",
          "2011-01",
          "2011-02",
          "2011-03",
          "2011-04",
          "2011-05",
          "2011-06",
          "2011-07",
          "2011-08",
          "2011-09",
          "2011-10",
          "2011-11",
          "2011-12",
          "EIRE",
          "France",
          "Germany",
          "Netherlands",
          "United Kingdom"
         ],
         "name": "",
         "parents": [
          "EIRE",
          "EIRE",
          "EIRE",
          "EIRE",
          "EIRE",
          "EIRE",
          "EIRE",
          "EIRE",
          "EIRE",
          "EIRE",
          "EIRE",
          "EIRE",
          "EIRE",
          "EIRE",
          "EIRE",
          "EIRE",
          "EIRE",
          "EIRE",
          "EIRE",
          "EIRE",
          "EIRE",
          "EIRE",
          "EIRE",
          "EIRE",
          "EIRE",
          "France",
          "France",
          "France",
          "France",
          "France",
          "France",
          "France",
          "France",
          "France",
          "France",
          "France",
          "France",
          "France",
          "France",
          "France",
          "France",
          "France",
          "France",
          "France",
          "France",
          "France",
          "France",
          "France",
          "France",
          "France",
          "Germany",
          "Germany",
          "Germany",
          "Germany",
          "Germany",
          "Germany",
          "Germany",
          "Germany",
          "Germany",
          "Germany",
          "Germany",
          "Germany",
          "Germany",
          "Germany",
          "Germany",
          "Germany",
          "Germany",
          "Germany",
          "Germany",
          "Germany",
          "Germany",
          "Germany",
          "Germany",
          "Germany",
          "Germany",
          "Netherlands",
          "Netherlands",
          "Netherlands",
          "Netherlands",
          "Netherlands",
          "Netherlands",
          "Netherlands",
          "Netherlands",
          "Netherlands",
          "Netherlands",
          "Netherlands",
          "Netherlands",
          "Netherlands",
          "Netherlands",
          "Netherlands",
          "Netherlands",
          "Netherlands",
          "Netherlands",
          "Netherlands",
          "Netherlands",
          "Netherlands",
          "Netherlands",
          "Netherlands",
          "Netherlands",
          "Netherlands",
          "United Kingdom",
          "United Kingdom",
          "United Kingdom",
          "United Kingdom",
          "United Kingdom",
          "United Kingdom",
          "United Kingdom",
          "United Kingdom",
          "United Kingdom",
          "United Kingdom",
          "United Kingdom",
          "United Kingdom",
          "United Kingdom",
          "United Kingdom",
          "United Kingdom",
          "United Kingdom",
          "United Kingdom",
          "United Kingdom",
          "United Kingdom",
          "United Kingdom",
          "United Kingdom",
          "United Kingdom",
          "United Kingdom",
          "United Kingdom",
          "United Kingdom",
          "",
          "",
          "",
          "",
          ""
         ],
         "type": "treemap",
         "values": {
          "bdata": "CtejcJ2+0UDsUbge7cDvQArXo3Cdu9NACtejcF1z1kDsUbgeBS/UQNejcD36A9JAKVyPwpVl1kCF61G4zjzfQKRwPQrXYdZAj8L1KKS/4UBSuB6FO3PlQIXrUbhuEdtArkfhetR1ykCPwvUoDGTVQPYoXI9Cx8NApHA9Cpcq1UAAAAAAgJK9QB+F61EYN89Aw/UoXP9e00DNzMzMJPnjQB+F61HYkdBA4XoUrm8E5EAVrkfher/XQNejcD1ayNxAUrgehetCu0A9CtejsHm5QD0K16PQiMBArkfhehSgwUBSuB6Fy+jAQEjhehQu7bxAMzMzMxNDy0DsUbgeRerBQDMzMzMTSMZArkfhepQu0EDXo3A9qmHMQPYoXI/itc1Aw/UoXJ+N0kAK16NwXRHPQOF6FK4HU9FAFK5H4fqhwEBmZmZmxn7MQI/C9SicmbVAH4XrUbgz0UCPwvUofGfPQB+F61EYiMNAFK5H4Xr5ykD2KFyPAuHWQGZmZmauWeBAKVyPwkWa3kBSuB6F6368QM3MzMxsuMNASOF6FA6JyEAAAAAAINLBQOxRuB6FTtBAWDm0yM4g10BI4XoULsrBQD4K16NQn85A9ihcj5LM00DC9Shcj2vDQFK4HoULU9FAH4XrUWgO1UA9CtejIIjdQEjhehROb9RAKVyPwrWD0EBmZmZmhrbCQB+F61FYHMxA7FG4HsUNyEDNzMzMzCXZQM3MzMwM7clAhetRuD4O0EB7FK5HMcXSQEjhehTOqtFAFK5H4Zrl3kB7FK5HQV7bQFK4HoUrML9ACtejcF2yzUB7FK5HsYvcQFyPwvXY2dBAhetRuP7f10DhehSux+i6QLgehesh5NVAPQrXoyCo10DXo3A9Sp61QI/C9SgscdhArkfheqT95UBmZmZmdtzQQOF6FK5Xm+FA16NwPYqIwUDXo3A9yvzZQNejcD36eNZAwvUoXB/k1UCF61G4HkGnQB+F61F4gNxAKVyPwoU62kCF61G4HgU6QLgehev5sONAPQrXo1BO2kDNzMzMlODjQD0K16OARNlA9ihcjwLoxkDNzMzMvbYiQRfZzvfsbRlBtMh2vhcXGUHByqEFOv8hQTm0yPYGuh5Brkfheuy6HkGF61G4W4UgQeF6FK6/xh5Bw/UoXCAJH0ESg8CK48wkQWZmZuaq1CpBBoGVQ/oELkF7FK5Hy7gnQdejcD04/RpBUrgehR61FUHD9Shc+oMcQdNNYpBc/xhBPQrXoyHVIEFcj8L15gQgQd0kBgGxox1BexSuR1VsHkGBlUOL2FAoQQrXo3B8KylBAAAAgEvtLUHiehSuANUcQYXrUTh++CJBFK5H4eWuFUFOYhDYeVIaQeF6FK7w6SBBlkOLcAkVbEE=",
          "dtype": "f8"
         }
        }
       ],
       "layout": {
        "legend": {
         "tracegroupgap": 0
        },
        "template": {
         "data": {
          "bar": [
           {
            "error_x": {
             "color": "#2a3f5f"
            },
            "error_y": {
             "color": "#2a3f5f"
            },
            "marker": {
             "line": {
              "color": "#E5ECF6",
              "width": 0.5
             },
             "pattern": {
              "fillmode": "overlay",
              "size": 10,
              "solidity": 0.2
             }
            },
            "type": "bar"
           }
          ],
          "barpolar": [
           {
            "marker": {
             "line": {
              "color": "#E5ECF6",
              "width": 0.5
             },
             "pattern": {
              "fillmode": "overlay",
              "size": 10,
              "solidity": 0.2
             }
            },
            "type": "barpolar"
           }
          ],
          "carpet": [
           {
            "aaxis": {
             "endlinecolor": "#2a3f5f",
             "gridcolor": "white",
             "linecolor": "white",
             "minorgridcolor": "white",
             "startlinecolor": "#2a3f5f"
            },
            "baxis": {
             "endlinecolor": "#2a3f5f",
             "gridcolor": "white",
             "linecolor": "white",
             "minorgridcolor": "white",
             "startlinecolor": "#2a3f5f"
            },
            "type": "carpet"
           }
          ],
          "choropleth": [
           {
            "colorbar": {
             "outlinewidth": 0,
             "ticks": ""
            },
            "type": "choropleth"
           }
          ],
          "contour": [
           {
            "colorbar": {
             "outlinewidth": 0,
             "ticks": ""
            },
            "colorscale": [
             [
              0,
              "#0d0887"
             ],
             [
              0.1111111111111111,
              "#46039f"
             ],
             [
              0.2222222222222222,
              "#7201a8"
             ],
             [
              0.3333333333333333,
              "#9c179e"
             ],
             [
              0.4444444444444444,
              "#bd3786"
             ],
             [
              0.5555555555555556,
              "#d8576b"
             ],
             [
              0.6666666666666666,
              "#ed7953"
             ],
             [
              0.7777777777777778,
              "#fb9f3a"
             ],
             [
              0.8888888888888888,
              "#fdca26"
             ],
             [
              1,
              "#f0f921"
             ]
            ],
            "type": "contour"
           }
          ],
          "contourcarpet": [
           {
            "colorbar": {
             "outlinewidth": 0,
             "ticks": ""
            },
            "type": "contourcarpet"
           }
          ],
          "heatmap": [
           {
            "colorbar": {
             "outlinewidth": 0,
             "ticks": ""
            },
            "colorscale": [
             [
              0,
              "#0d0887"
             ],
             [
              0.1111111111111111,
              "#46039f"
             ],
             [
              0.2222222222222222,
              "#7201a8"
             ],
             [
              0.3333333333333333,
              "#9c179e"
             ],
             [
              0.4444444444444444,
              "#bd3786"
             ],
             [
              0.5555555555555556,
              "#d8576b"
             ],
             [
              0.6666666666666666,
              "#ed7953"
             ],
             [
              0.7777777777777778,
              "#fb9f3a"
             ],
             [
              0.8888888888888888,
              "#fdca26"
             ],
             [
              1,
              "#f0f921"
             ]
            ],
            "type": "heatmap"
           }
          ],
          "histogram": [
           {
            "marker": {
             "pattern": {
              "fillmode": "overlay",
              "size": 10,
              "solidity": 0.2
             }
            },
            "type": "histogram"
           }
          ],
          "histogram2d": [
           {
            "colorbar": {
             "outlinewidth": 0,
             "ticks": ""
            },
            "colorscale": [
             [
              0,
              "#0d0887"
             ],
             [
              0.1111111111111111,
              "#46039f"
             ],
             [
              0.2222222222222222,
              "#7201a8"
             ],
             [
              0.3333333333333333,
              "#9c179e"
             ],
             [
              0.4444444444444444,
              "#bd3786"
             ],
             [
              0.5555555555555556,
              "#d8576b"
             ],
             [
              0.6666666666666666,
              "#ed7953"
             ],
             [
              0.7777777777777778,
              "#fb9f3a"
             ],
             [
              0.8888888888888888,
              "#fdca26"
             ],
             [
              1,
              "#f0f921"
             ]
            ],
            "type": "histogram2d"
           }
          ],
          "histogram2dcontour": [
           {
            "colorbar": {
             "outlinewidth": 0,
             "ticks": ""
            },
            "colorscale": [
             [
              0,
              "#0d0887"
             ],
             [
              0.1111111111111111,
              "#46039f"
             ],
             [
              0.2222222222222222,
              "#7201a8"
             ],
             [
              0.3333333333333333,
              "#9c179e"
             ],
             [
              0.4444444444444444,
              "#bd3786"
             ],
             [
              0.5555555555555556,
              "#d8576b"
             ],
             [
              0.6666666666666666,
              "#ed7953"
             ],
             [
              0.7777777777777778,
              "#fb9f3a"
             ],
             [
              0.8888888888888888,
              "#fdca26"
             ],
             [
              1,
              "#f0f921"
             ]
            ],
            "type": "histogram2dcontour"
           }
          ],
          "mesh3d": [
           {
            "colorbar": {
             "outlinewidth": 0,
             "ticks": ""
            },
            "type": "mesh3d"
           }
          ],
          "parcoords": [
           {
            "line": {
             "colorbar": {
              "outlinewidth": 0,
              "ticks": ""
             }
            },
            "type": "parcoords"
           }
          ],
          "pie": [
           {
            "automargin": true,
            "type": "pie"
           }
          ],
          "scatter": [
           {
            "fillpattern": {
             "fillmode": "overlay",
             "size": 10,
             "solidity": 0.2
            },
            "type": "scatter"
           }
          ],
          "scatter3d": [
           {
            "line": {
             "colorbar": {
              "outlinewidth": 0,
              "ticks": ""
             }
            },
            "marker": {
             "colorbar": {
              "outlinewidth": 0,
              "ticks": ""
             }
            },
            "type": "scatter3d"
           }
          ],
          "scattercarpet": [
           {
            "marker": {
             "colorbar": {
              "outlinewidth": 0,
              "ticks": ""
             }
            },
            "type": "scattercarpet"
           }
          ],
          "scattergeo": [
           {
            "marker": {
             "colorbar": {
              "outlinewidth": 0,
              "ticks": ""
             }
            },
            "type": "scattergeo"
           }
          ],
          "scattergl": [
           {
            "marker": {
             "colorbar": {
              "outlinewidth": 0,
              "ticks": ""
             }
            },
            "type": "scattergl"
           }
          ],
          "scattermap": [
           {
            "marker": {
             "colorbar": {
              "outlinewidth": 0,
              "ticks": ""
             }
            },
            "type": "scattermap"
           }
          ],
          "scattermapbox": [
           {
            "marker": {
             "colorbar": {
              "outlinewidth": 0,
              "ticks": ""
             }
            },
            "type": "scattermapbox"
           }
          ],
          "scatterpolar": [
           {
            "marker": {
             "colorbar": {
              "outlinewidth": 0,
              "ticks": ""
             }
            },
            "type": "scatterpolar"
           }
          ],
          "scatterpolargl": [
           {
            "marker": {
             "colorbar": {
              "outlinewidth": 0,
              "ticks": ""
             }
            },
            "type": "scatterpolargl"
           }
          ],
          "scatterternary": [
           {
            "marker": {
             "colorbar": {
              "outlinewidth": 0,
              "ticks": ""
             }
            },
            "type": "scatterternary"
           }
          ],
          "surface": [
           {
            "colorbar": {
             "outlinewidth": 0,
             "ticks": ""
            },
            "colorscale": [
             [
              0,
              "#0d0887"
             ],
             [
              0.1111111111111111,
              "#46039f"
             ],
             [
              0.2222222222222222,
              "#7201a8"
             ],
             [
              0.3333333333333333,
              "#9c179e"
             ],
             [
              0.4444444444444444,
              "#bd3786"
             ],
             [
              0.5555555555555556,
              "#d8576b"
             ],
             [
              0.6666666666666666,
              "#ed7953"
             ],
             [
              0.7777777777777778,
              "#fb9f3a"
             ],
             [
              0.8888888888888888,
              "#fdca26"
             ],
             [
              1,
              "#f0f921"
             ]
            ],
            "type": "surface"
           }
          ],
          "table": [
           {
            "cells": {
             "fill": {
              "color": "#EBF0F8"
             },
             "line": {
              "color": "white"
             }
            },
            "header": {
             "fill": {
              "color": "#C8D4E3"
             },
             "line": {
              "color": "white"
             }
            },
            "type": "table"
           }
          ]
         },
         "layout": {
          "annotationdefaults": {
           "arrowcolor": "#2a3f5f",
           "arrowhead": 0,
           "arrowwidth": 1
          },
          "autotypenumbers": "strict",
          "coloraxis": {
           "colorbar": {
            "outlinewidth": 0,
            "ticks": ""
           }
          },
          "colorscale": {
           "diverging": [
            [
             0,
             "#8e0152"
            ],
            [
             0.1,
             "#c51b7d"
            ],
            [
             0.2,
             "#de77ae"
            ],
            [
             0.3,
             "#f1b6da"
            ],
            [
             0.4,
             "#fde0ef"
            ],
            [
             0.5,
             "#f7f7f7"
            ],
            [
             0.6,
             "#e6f5d0"
            ],
            [
             0.7,
             "#b8e186"
            ],
            [
             0.8,
             "#7fbc41"
            ],
            [
             0.9,
             "#4d9221"
            ],
            [
             1,
             "#276419"
            ]
           ],
           "sequential": [
            [
             0,
             "#0d0887"
            ],
            [
             0.1111111111111111,
             "#46039f"
            ],
            [
             0.2222222222222222,
             "#7201a8"
            ],
            [
             0.3333333333333333,
             "#9c179e"
            ],
            [
             0.4444444444444444,
             "#bd3786"
            ],
            [
             0.5555555555555556,
             "#d8576b"
            ],
            [
             0.6666666666666666,
             "#ed7953"
            ],
            [
             0.7777777777777778,
             "#fb9f3a"
            ],
            [
             0.8888888888888888,
             "#fdca26"
            ],
            [
             1,
             "#f0f921"
            ]
           ],
           "sequentialminus": [
            [
             0,
             "#0d0887"
            ],
            [
             0.1111111111111111,
             "#46039f"
            ],
            [
             0.2222222222222222,
             "#7201a8"
            ],
            [
             0.3333333333333333,
             "#9c179e"
            ],
            [
             0.4444444444444444,
             "#bd3786"
            ],
            [
             0.5555555555555556,
             "#d8576b"
            ],
            [
             0.6666666666666666,
             "#ed7953"
            ],
            [
             0.7777777777777778,
             "#fb9f3a"
            ],
            [
             0.8888888888888888,
             "#fdca26"
            ],
            [
             1,
             "#f0f921"
            ]
           ]
          },
          "colorway": [
           "#636efa",
           "#EF553B",
           "#00cc96",
           "#ab63fa",
           "#FFA15A",
           "#19d3f3",
           "#FF6692",
           "#B6E880",
           "#FF97FF",
           "#FECB52"
          ],
          "font": {
           "color": "#2a3f5f"
          },
          "geo": {
           "bgcolor": "white",
           "lakecolor": "white",
           "landcolor": "#E5ECF6",
           "showlakes": true,
           "showland": true,
           "subunitcolor": "white"
          },
          "hoverlabel": {
           "align": "left"
          },
          "hovermode": "closest",
          "mapbox": {
           "style": "light"
          },
          "paper_bgcolor": "white",
          "plot_bgcolor": "#E5ECF6",
          "polar": {
           "angularaxis": {
            "gridcolor": "white",
            "linecolor": "white",
            "ticks": ""
           },
           "bgcolor": "#E5ECF6",
           "radialaxis": {
            "gridcolor": "white",
            "linecolor": "white",
            "ticks": ""
           }
          },
          "scene": {
           "xaxis": {
            "backgroundcolor": "#E5ECF6",
            "gridcolor": "white",
            "gridwidth": 2,
            "linecolor": "white",
            "showbackground": true,
            "ticks": "",
            "zerolinecolor": "white"
           },
           "yaxis": {
            "backgroundcolor": "#E5ECF6",
            "gridcolor": "white",
            "gridwidth": 2,
            "linecolor": "white",
            "showbackground": true,
            "ticks": "",
            "zerolinecolor": "white"
           },
           "zaxis": {
            "backgroundcolor": "#E5ECF6",
            "gridcolor": "white",
            "gridwidth": 2,
            "linecolor": "white",
            "showbackground": true,
            "ticks": "",
            "zerolinecolor": "white"
           }
          },
          "shapedefaults": {
           "line": {
            "color": "#2a3f5f"
           }
          },
          "ternary": {
           "aaxis": {
            "gridcolor": "white",
            "linecolor": "white",
            "ticks": ""
           },
           "baxis": {
            "gridcolor": "white",
            "linecolor": "white",
            "ticks": ""
           },
           "bgcolor": "#E5ECF6",
           "caxis": {
            "gridcolor": "white",
            "linecolor": "white",
            "ticks": ""
           }
          },
          "title": {
           "x": 0.05
          },
          "xaxis": {
           "automargin": true,
           "gridcolor": "white",
           "linecolor": "white",
           "ticks": "",
           "title": {
            "standoff": 15
           },
           "zerolinecolor": "white",
           "zerolinewidth": 2
          },
          "yaxis": {
           "automargin": true,
           "gridcolor": "white",
           "linecolor": "white",
           "ticks": "",
           "title": {
            "standoff": 15
           },
           "zerolinecolor": "white",
           "zerolinewidth": 2
          }
         }
        },
        "title": {
         "text": "Revenue by Country and Month"
        }
       }
      }
     },
     "metadata": {},
     "output_type": "display_data"
    }
   ],
   "source": [
    "df_tree = df_sample.groupby(['Country', 'Month'])['Revenue'].sum().reset_index()\n",
    "top_countries = df_tree.groupby('Country')['Revenue'].sum().nlargest(5).index\n",
    "df_tree = df_tree[df_tree['Country'].isin(top_countries)]\n",
    "\n",
    "fig = px.treemap(df_tree, path=['Country', 'Month'], values='Revenue',\n",
    "                 title='Revenue by Country and Month')\n",
    "fig.show()"
   ]
  },
  {
   "cell_type": "code",
   "execution_count": 66,
   "id": "8b7e5576",
   "metadata": {},
   "outputs": [
    {
     "data": {
      "application/vnd.plotly.v1+json": {
       "config": {
        "plotlyServerURL": "https://plot.ly"
       },
       "data": [
        {
         "branchvalues": "total",
         "domain": {
          "x": [
           0,
           1
          ],
          "y": [
           0,
           1
          ]
         },
         "hovertemplate": "labels=%{label}<br>Revenue=%{value}<br>parent=%{parent}<br>id=%{id}<extra></extra>",
         "ids": [
          "EIRE/2009-12",
          "EIRE/2010-01",
          "EIRE/2010-02",
          "EIRE/2010-03",
          "EIRE/2010-04",
          "EIRE/2010-05",
          "EIRE/2010-06",
          "EIRE/2010-07",
          "EIRE/2010-08",
          "EIRE/2010-09",
          "EIRE/2010-10",
          "EIRE/2010-11",
          "EIRE/2010-12",
          "EIRE/2011-01",
          "EIRE/2011-02",
          "EIRE/2011-03",
          "EIRE/2011-04",
          "EIRE/2011-05",
          "EIRE/2011-06",
          "EIRE/2011-07",
          "EIRE/2011-08",
          "EIRE/2011-09",
          "EIRE/2011-10",
          "EIRE/2011-11",
          "EIRE/2011-12",
          "France/2009-12",
          "France/2010-01",
          "France/2010-02",
          "France/2010-03",
          "France/2010-04",
          "France/2010-05",
          "France/2010-06",
          "France/2010-07",
          "France/2010-08",
          "France/2010-09",
          "France/2010-10",
          "France/2010-11",
          "France/2010-12",
          "France/2011-01",
          "France/2011-02",
          "France/2011-03",
          "France/2011-04",
          "France/2011-05",
          "France/2011-06",
          "France/2011-07",
          "France/2011-08",
          "France/2011-09",
          "France/2011-10",
          "France/2011-11",
          "France/2011-12",
          "Germany/2009-12",
          "Germany/2010-01",
          "Germany/2010-02",
          "Germany/2010-03",
          "Germany/2010-04",
          "Germany/2010-05",
          "Germany/2010-06",
          "Germany/2010-07",
          "Germany/2010-08",
          "Germany/2010-09",
          "Germany/2010-10",
          "Germany/2010-11",
          "Germany/2010-12",
          "Germany/2011-01",
          "Germany/2011-02",
          "Germany/2011-03",
          "Germany/2011-04",
          "Germany/2011-05",
          "Germany/2011-06",
          "Germany/2011-07",
          "Germany/2011-08",
          "Germany/2011-09",
          "Germany/2011-10",
          "Germany/2011-11",
          "Germany/2011-12",
          "Netherlands/2009-12",
          "Netherlands/2010-01",
          "Netherlands/2010-02",
          "Netherlands/2010-03",
          "Netherlands/2010-04",
          "Netherlands/2010-05",
          "Netherlands/2010-06",
          "Netherlands/2010-07",
          "Netherlands/2010-08",
          "Netherlands/2010-09",
          "Netherlands/2010-10",
          "Netherlands/2010-11",
          "Netherlands/2010-12",
          "Netherlands/2011-01",
          "Netherlands/2011-02",
          "Netherlands/2011-03",
          "Netherlands/2011-04",
          "Netherlands/2011-05",
          "Netherlands/2011-06",
          "Netherlands/2011-07",
          "Netherlands/2011-08",
          "Netherlands/2011-09",
          "Netherlands/2011-10",
          "Netherlands/2011-11",
          "Netherlands/2011-12",
          "United Kingdom/2009-12",
          "United Kingdom/2010-01",
          "United Kingdom/2010-02",
          "United Kingdom/2010-03",
          "United Kingdom/2010-04",
          "United Kingdom/2010-05",
          "United Kingdom/2010-06",
          "United Kingdom/2010-07",
          "United Kingdom/2010-08",
          "United Kingdom/2010-09",
          "United Kingdom/2010-10",
          "United Kingdom/2010-11",
          "United Kingdom/2010-12",
          "United Kingdom/2011-01",
          "United Kingdom/2011-02",
          "United Kingdom/2011-03",
          "United Kingdom/2011-04",
          "United Kingdom/2011-05",
          "United Kingdom/2011-06",
          "United Kingdom/2011-07",
          "United Kingdom/2011-08",
          "United Kingdom/2011-09",
          "United Kingdom/2011-10",
          "United Kingdom/2011-11",
          "United Kingdom/2011-12",
          "EIRE",
          "France",
          "Germany",
          "Netherlands",
          "United Kingdom"
         ],
         "labels": [
          "2009-12",
          "2010-01",
          "2010-02",
          "2010-03",
          "2010-04",
          "2010-05",
          "2010-06",
          "2010-07",
          "2010-08",
          "2010-09",
          "2010-10",
          "2010-11",
          "2010-12",
          "2011-01",
          "2011-02",
          "2011-03",
          "2011-04",
          "2011-05",
          "2011-06",
          "2011-07",
          "2011-08",
          "2011-09",
          "2011-10",
          "2011-11",
          "2011-12",
          "2009-12",
          "2010-01",
          "2010-02",
          "2010-03",
          "2010-04",
          "2010-05",
          "2010-06",
          "2010-07",
          "2010-08",
          "2010-09",
          "2010-10",
          "2010-11",
          "2010-12",
          "2011-01",
          "2011-02",
          "2011-03",
          "2011-04",
          "2011-05",
          "2011-06",
          "2011-07",
          "2011-08",
          "2011-09",
          "2011-10",
          "2011-11",
          "2011-12",
          "2009-12",
          "2010-01",
          "2010-02",
          "2010-03",
          "2010-04",
          "2010-05",
          "2010-06",
          "2010-07",
          "2010-08",
          "2010-09",
          "2010-10",
          "2010-11",
          "2010-12",
          "2011-01",
          "2011-02",
          "2011-03",
          "2011-04",
          "2011-05",
          "2011-06",
          "2011-07",
          "2011-08",
          "2011-09",
          "2011-10",
          "2011-11",
          "2011-12",
          "2009-12",
          "2010-01",
          "2010-02",
          "2010-03",
          "2010-04",
          "2010-05",
          "2010-06",
          "2010-07",
          "2010-08",
          "2010-09",
          "2010-10",
          "2010-11",
          "2010-12",
          "2011-01",
          "2011-02",
          "2011-03",
          "2011-04",
          "2011-05",
          "2011-06",
          "2011-07",
          "2011-08",
          "2011-09",
          "2011-10",
          "2011-11",
          "2011-12",
          "2009-12",
          "2010-01",
          "2010-02",
          "2010-03",
          "2010-04",
          "2010-05",
          "2010-06",
          "2010-07",
          "2010-08",
          "2010-09",
          "2010-10",
          "2010-11",
          "2010-12",
          "2011-01",
          "2011-02",
          "2011-03",
          "2011-04",
          "2011-05",
          "2011-06",
          "2011-07",
          "2011-08",
          "2011-09",
          "2011-10",
          "2011-11",
          "2011-12",
          "EIRE",
          "France",
          "Germany",
          "Netherlands",
          "United Kingdom"
         ],
         "name": "",
         "parents": [
          "EIRE",
          "EIRE",
          "EIRE",
          "EIRE",
          "EIRE",
          "EIRE",
          "EIRE",
          "EIRE",
          "EIRE",
          "EIRE",
          "EIRE",
          "EIRE",
          "EIRE",
          "EIRE",
          "EIRE",
          "EIRE",
          "EIRE",
          "EIRE",
          "EIRE",
          "EIRE",
          "EIRE",
          "EIRE",
          "EIRE",
          "EIRE",
          "EIRE",
          "France",
          "France",
          "France",
          "France",
          "France",
          "France",
          "France",
          "France",
          "France",
          "France",
          "France",
          "France",
          "France",
          "France",
          "France",
          "France",
          "France",
          "France",
          "France",
          "France",
          "France",
          "France",
          "France",
          "France",
          "France",
          "Germany",
          "Germany",
          "Germany",
          "Germany",
          "Germany",
          "Germany",
          "Germany",
          "Germany",
          "Germany",
          "Germany",
          "Germany",
          "Germany",
          "Germany",
          "Germany",
          "Germany",
          "Germany",
          "Germany",
          "Germany",
          "Germany",
          "Germany",
          "Germany",
          "Germany",
          "Germany",
          "Germany",
          "Germany",
          "Netherlands",
          "Netherlands",
          "Netherlands",
          "Netherlands",
          "Netherlands",
          "Netherlands",
          "Netherlands",
          "Netherlands",
          "Netherlands",
          "Netherlands",
          "Netherlands",
          "Netherlands",
          "Netherlands",
          "Netherlands",
          "Netherlands",
          "Netherlands",
          "Netherlands",
          "Netherlands",
          "Netherlands",
          "Netherlands",
          "Netherlands",
          "Netherlands",
          "Netherlands",
          "Netherlands",
          "Netherlands",
          "United Kingdom",
          "United Kingdom",
          "United Kingdom",
          "United Kingdom",
          "United Kingdom",
          "United Kingdom",
          "United Kingdom",
          "United Kingdom",
          "United Kingdom",
          "United Kingdom",
          "United Kingdom",
          "United Kingdom",
          "United Kingdom",
          "United Kingdom",
          "United Kingdom",
          "United Kingdom",
          "United Kingdom",
          "United Kingdom",
          "United Kingdom",
          "United Kingdom",
          "United Kingdom",
          "United Kingdom",
          "United Kingdom",
          "United Kingdom",
          "United Kingdom",
          "",
          "",
          "",
          "",
          ""
         ],
         "type": "sunburst",
         "values": {
          "bdata": "CtejcJ2+0UDsUbge7cDvQArXo3Cdu9NACtejcF1z1kDsUbgeBS/UQNejcD36A9JAKVyPwpVl1kCF61G4zjzfQKRwPQrXYdZAj8L1KKS/4UBSuB6FO3PlQIXrUbhuEdtArkfhetR1ykCPwvUoDGTVQPYoXI9Cx8NApHA9Cpcq1UAAAAAAgJK9QB+F61EYN89Aw/UoXP9e00DNzMzMJPnjQB+F61HYkdBA4XoUrm8E5EAVrkfher/XQNejcD1ayNxAUrgehetCu0A9CtejsHm5QD0K16PQiMBArkfhehSgwUBSuB6Fy+jAQEjhehQu7bxAMzMzMxNDy0DsUbgeRerBQDMzMzMTSMZArkfhepQu0EDXo3A9qmHMQPYoXI/itc1Aw/UoXJ+N0kAK16NwXRHPQOF6FK4HU9FAFK5H4fqhwEBmZmZmxn7MQI/C9SicmbVAH4XrUbgz0UCPwvUofGfPQB+F61EYiMNAFK5H4Xr5ykD2KFyPAuHWQGZmZmauWeBAKVyPwkWa3kBSuB6F6368QM3MzMxsuMNASOF6FA6JyEAAAAAAINLBQOxRuB6FTtBAWDm0yM4g10BI4XoULsrBQD4K16NQn85A9ihcj5LM00DC9Shcj2vDQFK4HoULU9FAH4XrUWgO1UA9CtejIIjdQEjhehROb9RAKVyPwrWD0EBmZmZmhrbCQB+F61FYHMxA7FG4HsUNyEDNzMzMzCXZQM3MzMwM7clAhetRuD4O0EB7FK5HMcXSQEjhehTOqtFAFK5H4Zrl3kB7FK5HQV7bQFK4HoUrML9ACtejcF2yzUB7FK5HsYvcQFyPwvXY2dBAhetRuP7f10DhehSux+i6QLgehesh5NVAPQrXoyCo10DXo3A9Sp61QI/C9SgscdhArkfheqT95UBmZmZmdtzQQOF6FK5Xm+FA16NwPYqIwUDXo3A9yvzZQNejcD36eNZAwvUoXB/k1UCF61G4HkGnQB+F61F4gNxAKVyPwoU62kCF61G4HgU6QLgehev5sONAPQrXo1BO2kDNzMzMlODjQD0K16OARNlA9ihcjwLoxkDNzMzMvbYiQRfZzvfsbRlBtMh2vhcXGUHByqEFOv8hQTm0yPYGuh5Brkfheuy6HkGF61G4W4UgQeF6FK6/xh5Bw/UoXCAJH0ESg8CK48wkQWZmZuaq1CpBBoGVQ/oELkF7FK5Hy7gnQdejcD04/RpBUrgehR61FUHD9Shc+oMcQdNNYpBc/xhBPQrXoyHVIEFcj8L15gQgQd0kBgGxox1BexSuR1VsHkGBlUOL2FAoQQrXo3B8KylBAAAAgEvtLUHiehSuANUcQYXrUTh++CJBFK5H4eWuFUFOYhDYeVIaQeF6FK7w6SBBlkOLcAkVbEE=",
          "dtype": "f8"
         }
        }
       ],
       "layout": {
        "legend": {
         "tracegroupgap": 0
        },
        "template": {
         "data": {
          "bar": [
           {
            "error_x": {
             "color": "#2a3f5f"
            },
            "error_y": {
             "color": "#2a3f5f"
            },
            "marker": {
             "line": {
              "color": "#E5ECF6",
              "width": 0.5
             },
             "pattern": {
              "fillmode": "overlay",
              "size": 10,
              "solidity": 0.2
             }
            },
            "type": "bar"
           }
          ],
          "barpolar": [
           {
            "marker": {
             "line": {
              "color": "#E5ECF6",
              "width": 0.5
             },
             "pattern": {
              "fillmode": "overlay",
              "size": 10,
              "solidity": 0.2
             }
            },
            "type": "barpolar"
           }
          ],
          "carpet": [
           {
            "aaxis": {
             "endlinecolor": "#2a3f5f",
             "gridcolor": "white",
             "linecolor": "white",
             "minorgridcolor": "white",
             "startlinecolor": "#2a3f5f"
            },
            "baxis": {
             "endlinecolor": "#2a3f5f",
             "gridcolor": "white",
             "linecolor": "white",
             "minorgridcolor": "white",
             "startlinecolor": "#2a3f5f"
            },
            "type": "carpet"
           }
          ],
          "choropleth": [
           {
            "colorbar": {
             "outlinewidth": 0,
             "ticks": ""
            },
            "type": "choropleth"
           }
          ],
          "contour": [
           {
            "colorbar": {
             "outlinewidth": 0,
             "ticks": ""
            },
            "colorscale": [
             [
              0,
              "#0d0887"
             ],
             [
              0.1111111111111111,
              "#46039f"
             ],
             [
              0.2222222222222222,
              "#7201a8"
             ],
             [
              0.3333333333333333,
              "#9c179e"
             ],
             [
              0.4444444444444444,
              "#bd3786"
             ],
             [
              0.5555555555555556,
              "#d8576b"
             ],
             [
              0.6666666666666666,
              "#ed7953"
             ],
             [
              0.7777777777777778,
              "#fb9f3a"
             ],
             [
              0.8888888888888888,
              "#fdca26"
             ],
             [
              1,
              "#f0f921"
             ]
            ],
            "type": "contour"
           }
          ],
          "contourcarpet": [
           {
            "colorbar": {
             "outlinewidth": 0,
             "ticks": ""
            },
            "type": "contourcarpet"
           }
          ],
          "heatmap": [
           {
            "colorbar": {
             "outlinewidth": 0,
             "ticks": ""
            },
            "colorscale": [
             [
              0,
              "#0d0887"
             ],
             [
              0.1111111111111111,
              "#46039f"
             ],
             [
              0.2222222222222222,
              "#7201a8"
             ],
             [
              0.3333333333333333,
              "#9c179e"
             ],
             [
              0.4444444444444444,
              "#bd3786"
             ],
             [
              0.5555555555555556,
              "#d8576b"
             ],
             [
              0.6666666666666666,
              "#ed7953"
             ],
             [
              0.7777777777777778,
              "#fb9f3a"
             ],
             [
              0.8888888888888888,
              "#fdca26"
             ],
             [
              1,
              "#f0f921"
             ]
            ],
            "type": "heatmap"
           }
          ],
          "histogram": [
           {
            "marker": {
             "pattern": {
              "fillmode": "overlay",
              "size": 10,
              "solidity": 0.2
             }
            },
            "type": "histogram"
           }
          ],
          "histogram2d": [
           {
            "colorbar": {
             "outlinewidth": 0,
             "ticks": ""
            },
            "colorscale": [
             [
              0,
              "#0d0887"
             ],
             [
              0.1111111111111111,
              "#46039f"
             ],
             [
              0.2222222222222222,
              "#7201a8"
             ],
             [
              0.3333333333333333,
              "#9c179e"
             ],
             [
              0.4444444444444444,
              "#bd3786"
             ],
             [
              0.5555555555555556,
              "#d8576b"
             ],
             [
              0.6666666666666666,
              "#ed7953"
             ],
             [
              0.7777777777777778,
              "#fb9f3a"
             ],
             [
              0.8888888888888888,
              "#fdca26"
             ],
             [
              1,
              "#f0f921"
             ]
            ],
            "type": "histogram2d"
           }
          ],
          "histogram2dcontour": [
           {
            "colorbar": {
             "outlinewidth": 0,
             "ticks": ""
            },
            "colorscale": [
             [
              0,
              "#0d0887"
             ],
             [
              0.1111111111111111,
              "#46039f"
             ],
             [
              0.2222222222222222,
              "#7201a8"
             ],
             [
              0.3333333333333333,
              "#9c179e"
             ],
             [
              0.4444444444444444,
              "#bd3786"
             ],
             [
              0.5555555555555556,
              "#d8576b"
             ],
             [
              0.6666666666666666,
              "#ed7953"
             ],
             [
              0.7777777777777778,
              "#fb9f3a"
             ],
             [
              0.8888888888888888,
              "#fdca26"
             ],
             [
              1,
              "#f0f921"
             ]
            ],
            "type": "histogram2dcontour"
           }
          ],
          "mesh3d": [
           {
            "colorbar": {
             "outlinewidth": 0,
             "ticks": ""
            },
            "type": "mesh3d"
           }
          ],
          "parcoords": [
           {
            "line": {
             "colorbar": {
              "outlinewidth": 0,
              "ticks": ""
             }
            },
            "type": "parcoords"
           }
          ],
          "pie": [
           {
            "automargin": true,
            "type": "pie"
           }
          ],
          "scatter": [
           {
            "fillpattern": {
             "fillmode": "overlay",
             "size": 10,
             "solidity": 0.2
            },
            "type": "scatter"
           }
          ],
          "scatter3d": [
           {
            "line": {
             "colorbar": {
              "outlinewidth": 0,
              "ticks": ""
             }
            },
            "marker": {
             "colorbar": {
              "outlinewidth": 0,
              "ticks": ""
             }
            },
            "type": "scatter3d"
           }
          ],
          "scattercarpet": [
           {
            "marker": {
             "colorbar": {
              "outlinewidth": 0,
              "ticks": ""
             }
            },
            "type": "scattercarpet"
           }
          ],
          "scattergeo": [
           {
            "marker": {
             "colorbar": {
              "outlinewidth": 0,
              "ticks": ""
             }
            },
            "type": "scattergeo"
           }
          ],
          "scattergl": [
           {
            "marker": {
             "colorbar": {
              "outlinewidth": 0,
              "ticks": ""
             }
            },
            "type": "scattergl"
           }
          ],
          "scattermap": [
           {
            "marker": {
             "colorbar": {
              "outlinewidth": 0,
              "ticks": ""
             }
            },
            "type": "scattermap"
           }
          ],
          "scattermapbox": [
           {
            "marker": {
             "colorbar": {
              "outlinewidth": 0,
              "ticks": ""
             }
            },
            "type": "scattermapbox"
           }
          ],
          "scatterpolar": [
           {
            "marker": {
             "colorbar": {
              "outlinewidth": 0,
              "ticks": ""
             }
            },
            "type": "scatterpolar"
           }
          ],
          "scatterpolargl": [
           {
            "marker": {
             "colorbar": {
              "outlinewidth": 0,
              "ticks": ""
             }
            },
            "type": "scatterpolargl"
           }
          ],
          "scatterternary": [
           {
            "marker": {
             "colorbar": {
              "outlinewidth": 0,
              "ticks": ""
             }
            },
            "type": "scatterternary"
           }
          ],
          "surface": [
           {
            "colorbar": {
             "outlinewidth": 0,
             "ticks": ""
            },
            "colorscale": [
             [
              0,
              "#0d0887"
             ],
             [
              0.1111111111111111,
              "#46039f"
             ],
             [
              0.2222222222222222,
              "#7201a8"
             ],
             [
              0.3333333333333333,
              "#9c179e"
             ],
             [
              0.4444444444444444,
              "#bd3786"
             ],
             [
              0.5555555555555556,
              "#d8576b"
             ],
             [
              0.6666666666666666,
              "#ed7953"
             ],
             [
              0.7777777777777778,
              "#fb9f3a"
             ],
             [
              0.8888888888888888,
              "#fdca26"
             ],
             [
              1,
              "#f0f921"
             ]
            ],
            "type": "surface"
           }
          ],
          "table": [
           {
            "cells": {
             "fill": {
              "color": "#EBF0F8"
             },
             "line": {
              "color": "white"
             }
            },
            "header": {
             "fill": {
              "color": "#C8D4E3"
             },
             "line": {
              "color": "white"
             }
            },
            "type": "table"
           }
          ]
         },
         "layout": {
          "annotationdefaults": {
           "arrowcolor": "#2a3f5f",
           "arrowhead": 0,
           "arrowwidth": 1
          },
          "autotypenumbers": "strict",
          "coloraxis": {
           "colorbar": {
            "outlinewidth": 0,
            "ticks": ""
           }
          },
          "colorscale": {
           "diverging": [
            [
             0,
             "#8e0152"
            ],
            [
             0.1,
             "#c51b7d"
            ],
            [
             0.2,
             "#de77ae"
            ],
            [
             0.3,
             "#f1b6da"
            ],
            [
             0.4,
             "#fde0ef"
            ],
            [
             0.5,
             "#f7f7f7"
            ],
            [
             0.6,
             "#e6f5d0"
            ],
            [
             0.7,
             "#b8e186"
            ],
            [
             0.8,
             "#7fbc41"
            ],
            [
             0.9,
             "#4d9221"
            ],
            [
             1,
             "#276419"
            ]
           ],
           "sequential": [
            [
             0,
             "#0d0887"
            ],
            [
             0.1111111111111111,
             "#46039f"
            ],
            [
             0.2222222222222222,
             "#7201a8"
            ],
            [
             0.3333333333333333,
             "#9c179e"
            ],
            [
             0.4444444444444444,
             "#bd3786"
            ],
            [
             0.5555555555555556,
             "#d8576b"
            ],
            [
             0.6666666666666666,
             "#ed7953"
            ],
            [
             0.7777777777777778,
             "#fb9f3a"
            ],
            [
             0.8888888888888888,
             "#fdca26"
            ],
            [
             1,
             "#f0f921"
            ]
           ],
           "sequentialminus": [
            [
             0,
             "#0d0887"
            ],
            [
             0.1111111111111111,
             "#46039f"
            ],
            [
             0.2222222222222222,
             "#7201a8"
            ],
            [
             0.3333333333333333,
             "#9c179e"
            ],
            [
             0.4444444444444444,
             "#bd3786"
            ],
            [
             0.5555555555555556,
             "#d8576b"
            ],
            [
             0.6666666666666666,
             "#ed7953"
            ],
            [
             0.7777777777777778,
             "#fb9f3a"
            ],
            [
             0.8888888888888888,
             "#fdca26"
            ],
            [
             1,
             "#f0f921"
            ]
           ]
          },
          "colorway": [
           "#636efa",
           "#EF553B",
           "#00cc96",
           "#ab63fa",
           "#FFA15A",
           "#19d3f3",
           "#FF6692",
           "#B6E880",
           "#FF97FF",
           "#FECB52"
          ],
          "font": {
           "color": "#2a3f5f"
          },
          "geo": {
           "bgcolor": "white",
           "lakecolor": "white",
           "landcolor": "#E5ECF6",
           "showlakes": true,
           "showland": true,
           "subunitcolor": "white"
          },
          "hoverlabel": {
           "align": "left"
          },
          "hovermode": "closest",
          "mapbox": {
           "style": "light"
          },
          "paper_bgcolor": "white",
          "plot_bgcolor": "#E5ECF6",
          "polar": {
           "angularaxis": {
            "gridcolor": "white",
            "linecolor": "white",
            "ticks": ""
           },
           "bgcolor": "#E5ECF6",
           "radialaxis": {
            "gridcolor": "white",
            "linecolor": "white",
            "ticks": ""
           }
          },
          "scene": {
           "xaxis": {
            "backgroundcolor": "#E5ECF6",
            "gridcolor": "white",
            "gridwidth": 2,
            "linecolor": "white",
            "showbackground": true,
            "ticks": "",
            "zerolinecolor": "white"
           },
           "yaxis": {
            "backgroundcolor": "#E5ECF6",
            "gridcolor": "white",
            "gridwidth": 2,
            "linecolor": "white",
            "showbackground": true,
            "ticks": "",
            "zerolinecolor": "white"
           },
           "zaxis": {
            "backgroundcolor": "#E5ECF6",
            "gridcolor": "white",
            "gridwidth": 2,
            "linecolor": "white",
            "showbackground": true,
            "ticks": "",
            "zerolinecolor": "white"
           }
          },
          "shapedefaults": {
           "line": {
            "color": "#2a3f5f"
           }
          },
          "ternary": {
           "aaxis": {
            "gridcolor": "white",
            "linecolor": "white",
            "ticks": ""
           },
           "baxis": {
            "gridcolor": "white",
            "linecolor": "white",
            "ticks": ""
           },
           "bgcolor": "#E5ECF6",
           "caxis": {
            "gridcolor": "white",
            "linecolor": "white",
            "ticks": ""
           }
          },
          "title": {
           "x": 0.05
          },
          "xaxis": {
           "automargin": true,
           "gridcolor": "white",
           "linecolor": "white",
           "ticks": "",
           "title": {
            "standoff": 15
           },
           "zerolinecolor": "white",
           "zerolinewidth": 2
          },
          "yaxis": {
           "automargin": true,
           "gridcolor": "white",
           "linecolor": "white",
           "ticks": "",
           "title": {
            "standoff": 15
           },
           "zerolinecolor": "white",
           "zerolinewidth": 2
          }
         }
        },
        "title": {
         "text": "Sunburst of Revenue by Country/Month"
        }
       }
      }
     },
     "metadata": {},
     "output_type": "display_data"
    }
   ],
   "source": [
    "fig = px.sunburst(df_tree, path=['Country', 'Month'], values='Revenue',\n",
    "                  title='Sunburst of Revenue by Country/Month')\n",
    "                  \n",
    "fig.show()"
   ]
  }
 ],
 "metadata": {
  "kernelspec": {
   "display_name": "cv_collection_review_rnd",
   "language": "python",
   "name": "python3"
  },
  "language_info": {
   "codemirror_mode": {
    "name": "ipython",
    "version": 3
   },
   "file_extension": ".py",
   "mimetype": "text/x-python",
   "name": "python",
   "nbconvert_exporter": "python",
   "pygments_lexer": "ipython3",
   "version": "3.10.16"
  }
 },
 "nbformat": 4,
 "nbformat_minor": 5
}
