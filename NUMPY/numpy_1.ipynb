{
 "cells": [
  {
   "cell_type": "code",
   "execution_count": 2,
   "id": "bf22a841",
   "metadata": {},
   "outputs": [],
   "source": [
    "import numpy"
   ]
  },
  {
   "cell_type": "code",
   "execution_count": 3,
   "id": "c3fd5404",
   "metadata": {},
   "outputs": [
    {
     "name": "stdout",
     "output_type": "stream",
     "text": [
      "Requirement already satisfied: numpy in c:\\users\\hp\\miniconda3\\lib\\site-packages (2.2.6)\n"
     ]
    }
   ],
   "source": [
    "!pip install numpy"
   ]
  },
  {
   "cell_type": "code",
   "execution_count": 4,
   "id": "99a1a965",
   "metadata": {},
   "outputs": [],
   "source": [
    "import numpy as np\n",
    "import time"
   ]
  },
  {
   "cell_type": "code",
   "execution_count": 5,
   "id": "01f1c3d5",
   "metadata": {},
   "outputs": [],
   "source": [
    "a = list(range(100000000))\n",
    "b = list(range(100000000))"
   ]
  },
  {
   "cell_type": "code",
   "execution_count": 10,
   "id": "3724e04e",
   "metadata": {},
   "outputs": [
    {
     "name": "stdout",
     "output_type": "stream",
     "text": [
      "Time Taken = 35.02870178222656\n"
     ]
    }
   ],
   "source": [
    "# Using List\n",
    "\n",
    "start_time_1 = time.time()\n",
    "c = [i + j for i, j in zip(a,b)]\n",
    "end_time_1 = time.time()\n",
    "\n",
    "time_taken_1 = end_time_1 - start_time_1\n",
    "\n",
    "print (f\"Time Taken = {time_taken_1}\")"
   ]
  },
  {
   "cell_type": "code",
   "execution_count": 11,
   "id": "7da84d5d",
   "metadata": {},
   "outputs": [],
   "source": [
    "a = np.array(a)\n",
    "b = np.array(b)"
   ]
  },
  {
   "cell_type": "code",
   "execution_count": 12,
   "id": "94a6f699",
   "metadata": {},
   "outputs": [
    {
     "name": "stdout",
     "output_type": "stream",
     "text": [
      "Time Taken = 10.27835202217102\n"
     ]
    }
   ],
   "source": [
    "# Using Numpy\n",
    "\n",
    "start_time_2 = time.time()\n",
    "d = a + b\n",
    "end_time_2 = time.time()\n",
    "\n",
    "time_taken_2 = end_time_2 - start_time_2\n",
    "\n",
    "print (f\"Time Taken = {time_taken_2}\")"
   ]
  },
  {
   "cell_type": "code",
   "execution_count": 14,
   "id": "bc876d57",
   "metadata": {},
   "outputs": [
    {
     "data": {
      "text/plain": [
       "3.408007597586418"
      ]
     },
     "execution_count": 14,
     "metadata": {},
     "output_type": "execute_result"
    }
   ],
   "source": [
    "time_taken_1 / time_taken_2"
   ]
  },
  {
   "cell_type": "markdown",
   "id": "6741d9ca",
   "metadata": {},
   "source": [
    "1. np.array()"
   ]
  },
  {
   "cell_type": "code",
   "execution_count": 15,
   "id": "87a21250",
   "metadata": {},
   "outputs": [],
   "source": [
    "array1 = [1, 2, 3]\n",
    "\n",
    "np_array1 = np.array(array1)"
   ]
  },
  {
   "cell_type": "code",
   "execution_count": 16,
   "id": "7d92bbc3",
   "metadata": {},
   "outputs": [
    {
     "data": {
      "text/plain": [
       "[1, 2, 3]"
      ]
     },
     "execution_count": 16,
     "metadata": {},
     "output_type": "execute_result"
    }
   ],
   "source": [
    "array1"
   ]
  },
  {
   "cell_type": "code",
   "execution_count": 17,
   "id": "b29779fe",
   "metadata": {},
   "outputs": [
    {
     "data": {
      "text/plain": [
       "array([1, 2, 3])"
      ]
     },
     "execution_count": 17,
     "metadata": {},
     "output_type": "execute_result"
    }
   ],
   "source": [
    "np_array1"
   ]
  },
  {
   "cell_type": "code",
   "execution_count": 18,
   "id": "683484df",
   "metadata": {},
   "outputs": [
    {
     "data": {
      "text/plain": [
       "list"
      ]
     },
     "execution_count": 18,
     "metadata": {},
     "output_type": "execute_result"
    }
   ],
   "source": [
    "type(array1)"
   ]
  },
  {
   "cell_type": "code",
   "execution_count": 19,
   "id": "4a0beb35",
   "metadata": {},
   "outputs": [
    {
     "data": {
      "text/plain": [
       "numpy.ndarray"
      ]
     },
     "execution_count": 19,
     "metadata": {},
     "output_type": "execute_result"
    }
   ],
   "source": [
    "type(np_array1)"
   ]
  },
  {
   "cell_type": "code",
   "execution_count": 20,
   "id": "4742c44e",
   "metadata": {},
   "outputs": [
    {
     "data": {
      "text/plain": [
       "numpy.int64"
      ]
     },
     "execution_count": 20,
     "metadata": {},
     "output_type": "execute_result"
    }
   ],
   "source": [
    "type(np_array1[0])"
   ]
  },
  {
   "cell_type": "code",
   "execution_count": 21,
   "id": "85e7b61e",
   "metadata": {},
   "outputs": [],
   "source": [
    "np_array2 = np.array(array1, dtype=np.int8)"
   ]
  },
  {
   "cell_type": "code",
   "execution_count": 23,
   "id": "e0bfd06b",
   "metadata": {},
   "outputs": [
    {
     "data": {
      "text/plain": [
       "numpy.int8"
      ]
     },
     "execution_count": 23,
     "metadata": {},
     "output_type": "execute_result"
    }
   ],
   "source": [
    "type(np_array2[0])"
   ]
  },
  {
   "cell_type": "code",
   "execution_count": 24,
   "id": "25341b85",
   "metadata": {},
   "outputs": [],
   "source": [
    "np_array3 = np.array(array1, dtype=np.float16)"
   ]
  },
  {
   "cell_type": "code",
   "execution_count": 25,
   "id": "ff7a593e",
   "metadata": {},
   "outputs": [
    {
     "data": {
      "text/plain": [
       "numpy.float16"
      ]
     },
     "execution_count": 25,
     "metadata": {},
     "output_type": "execute_result"
    }
   ],
   "source": [
    "type(np_array3[0])"
   ]
  },
  {
   "cell_type": "markdown",
   "id": "8e77a14a",
   "metadata": {},
   "source": [
    "2. np.arange(start, stop, step)"
   ]
  },
  {
   "cell_type": "code",
   "execution_count": 26,
   "id": "eb922ba2",
   "metadata": {},
   "outputs": [
    {
     "data": {
      "text/plain": [
       "array([1, 2, 3, 4, 5, 6, 7, 8, 9])"
      ]
     },
     "execution_count": 26,
     "metadata": {},
     "output_type": "execute_result"
    }
   ],
   "source": [
    "np.arange(1, 10)"
   ]
  },
  {
   "cell_type": "code",
   "execution_count": 27,
   "id": "8c3c8795",
   "metadata": {},
   "outputs": [
    {
     "data": {
      "text/plain": [
       "array([1, 3, 5, 7, 9])"
      ]
     },
     "execution_count": 27,
     "metadata": {},
     "output_type": "execute_result"
    }
   ],
   "source": [
    "np.arange(1, 10, 2)"
   ]
  },
  {
   "cell_type": "markdown",
   "id": "e7ddbb9e",
   "metadata": {},
   "source": [
    "3. np.linspace(start, stop, num)"
   ]
  },
  {
   "cell_type": "code",
   "execution_count": 28,
   "id": "032bcc98",
   "metadata": {},
   "outputs": [
    {
     "data": {
      "text/plain": [
       "array([ 1.,  4.,  7., 10.])"
      ]
     },
     "execution_count": 28,
     "metadata": {},
     "output_type": "execute_result"
    }
   ],
   "source": [
    "np.linspace(1, 10, 4)"
   ]
  },
  {
   "cell_type": "markdown",
   "id": "df4088c0",
   "metadata": {},
   "source": [
    "4. np.zeros(shape)"
   ]
  },
  {
   "cell_type": "code",
   "execution_count": 35,
   "id": "d1132f05",
   "metadata": {},
   "outputs": [
    {
     "name": "stdout",
     "output_type": "stream",
     "text": [
      "[0. 0. 0. 0. 0.]\n",
      "1\n"
     ]
    }
   ],
   "source": [
    "npz1 = np.zeros(5)\n",
    "\n",
    "print (npz1)\n",
    "print (npz1.ndim)"
   ]
  },
  {
   "cell_type": "code",
   "execution_count": 36,
   "id": "f60b3a1d",
   "metadata": {},
   "outputs": [
    {
     "name": "stdout",
     "output_type": "stream",
     "text": [
      "[[0. 0. 0.]\n",
      " [0. 0. 0.]\n",
      " [0. 0. 0.]\n",
      " [0. 0. 0.]\n",
      " [0. 0. 0.]]\n",
      "2\n"
     ]
    }
   ],
   "source": [
    "npz2 = np.zeros((5, 3))\n",
    "\n",
    "print (npz2)\n",
    "print (npz2.ndim)"
   ]
  },
  {
   "cell_type": "code",
   "execution_count": 37,
   "id": "dc737eed",
   "metadata": {},
   "outputs": [
    {
     "name": "stdout",
     "output_type": "stream",
     "text": [
      "[[[0. 0.]\n",
      "  [0. 0.]\n",
      "  [0. 0.]]\n",
      "\n",
      " [[0. 0.]\n",
      "  [0. 0.]\n",
      "  [0. 0.]]\n",
      "\n",
      " [[0. 0.]\n",
      "  [0. 0.]\n",
      "  [0. 0.]]\n",
      "\n",
      " [[0. 0.]\n",
      "  [0. 0.]\n",
      "  [0. 0.]]\n",
      "\n",
      " [[0. 0.]\n",
      "  [0. 0.]\n",
      "  [0. 0.]]]\n",
      "3\n"
     ]
    }
   ],
   "source": [
    "npz3 = np.zeros((5, 3, 2))\n",
    "\n",
    "print (npz3)\n",
    "print (npz3.ndim)"
   ]
  }
 ],
 "metadata": {
  "kernelspec": {
   "display_name": "base",
   "language": "python",
   "name": "python3"
  },
  "language_info": {
   "codemirror_mode": {
    "name": "ipython",
    "version": 3
   },
   "file_extension": ".py",
   "mimetype": "text/x-python",
   "name": "python",
   "nbconvert_exporter": "python",
   "pygments_lexer": "ipython3",
   "version": "3.12.3"
  }
 },
 "nbformat": 4,
 "nbformat_minor": 5
}
