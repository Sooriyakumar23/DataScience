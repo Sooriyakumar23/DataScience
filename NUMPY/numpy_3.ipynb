{
 "cells": [
  {
   "cell_type": "markdown",
   "id": "909e92f1",
   "metadata": {},
   "source": [
    "Math Operations"
   ]
  },
  {
   "cell_type": "code",
   "execution_count": 8,
   "id": "a728ab66",
   "metadata": {},
   "outputs": [
    {
     "data": {
      "text/plain": [
       "[1, 2, 3, 4, 5, 6]"
      ]
     },
     "execution_count": 8,
     "metadata": {},
     "output_type": "execute_result"
    }
   ],
   "source": [
    "a = [1, 2, 3]\n",
    "b = [4, 5, 6]\n",
    "\n",
    "a + b"
   ]
  },
  {
   "cell_type": "code",
   "execution_count": 9,
   "id": "f0b0b6cc",
   "metadata": {},
   "outputs": [],
   "source": [
    "import numpy as np"
   ]
  },
  {
   "cell_type": "code",
   "execution_count": 10,
   "id": "3e6c8a93",
   "metadata": {},
   "outputs": [
    {
     "data": {
      "text/plain": [
       "array([5, 7, 9])"
      ]
     },
     "execution_count": 10,
     "metadata": {},
     "output_type": "execute_result"
    }
   ],
   "source": [
    "a = np.array([1, 2, 3])\n",
    "b = np.array([4, 5, 6])\n",
    "\n",
    "a + b"
   ]
  },
  {
   "cell_type": "code",
   "execution_count": 12,
   "id": "4cc41217",
   "metadata": {},
   "outputs": [
    {
     "name": "stdout",
     "output_type": "stream",
     "text": [
      "[-3 -3 -3]\n",
      "[ 4 10 18]\n",
      "[0.25 0.4  0.5 ]\n"
     ]
    }
   ],
   "source": [
    "print (a - b)\n",
    "print (a * b)\n",
    "print (a / b)"
   ]
  },
  {
   "cell_type": "markdown",
   "id": "9fe7286f",
   "metadata": {},
   "source": [
    "Comparison"
   ]
  },
  {
   "cell_type": "code",
   "execution_count": 15,
   "id": "4dff324d",
   "metadata": {},
   "outputs": [
    {
     "name": "stdout",
     "output_type": "stream",
     "text": [
      "[False False False]\n",
      "[ True  True  True]\n",
      "[False False False]\n"
     ]
    }
   ],
   "source": [
    "print (a > b)\n",
    "print (a < b)\n",
    "print (a == b)"
   ]
  },
  {
   "cell_type": "markdown",
   "id": "d6297df4",
   "metadata": {},
   "source": [
    "Logical Operator"
   ]
  },
  {
   "cell_type": "code",
   "execution_count": 18,
   "id": "c9c1920a",
   "metadata": {},
   "outputs": [
    {
     "name": "stdout",
     "output_type": "stream",
     "text": [
      "[False False  True]\n",
      "[ True False  True]\n",
      "[False  True False]\n"
     ]
    }
   ],
   "source": [
    "x = np.array([True, False, True])\n",
    "y = np.array([False, False, True])\n",
    "\n",
    "print (np.logical_and(x, y))\n",
    "print (np.logical_or(x, y))\n",
    "print (np.logical_not(x))"
   ]
  },
  {
   "cell_type": "markdown",
   "id": "64893462",
   "metadata": {},
   "source": [
    "Bitwise Operator"
   ]
  },
  {
   "cell_type": "code",
   "execution_count": 21,
   "id": "2ebfd83c",
   "metadata": {},
   "outputs": [
    {
     "name": "stdout",
     "output_type": "stream",
     "text": [
      "[0 0 1]\n",
      "[1 3 3]\n"
     ]
    }
   ],
   "source": [
    "a = np.array([1, 2, 3])\n",
    "b = np.array([0, 1, 1])\n",
    "\n",
    "print (np.bitwise_and(a, b))\n",
    "print (np.bitwise_or(a, b))"
   ]
  },
  {
   "cell_type": "markdown",
   "id": "c455ce35",
   "metadata": {},
   "source": [
    "Modulus and Power"
   ]
  },
  {
   "cell_type": "code",
   "execution_count": 22,
   "id": "5aabc471",
   "metadata": {},
   "outputs": [
    {
     "data": {
      "text/plain": [
       "1"
      ]
     },
     "execution_count": 22,
     "metadata": {},
     "output_type": "execute_result"
    }
   ],
   "source": [
    "10 % 3"
   ]
  },
  {
   "cell_type": "code",
   "execution_count": 23,
   "id": "76063f75",
   "metadata": {},
   "outputs": [
    {
     "data": {
      "text/plain": [
       "1000"
      ]
     },
     "execution_count": 23,
     "metadata": {},
     "output_type": "execute_result"
    }
   ],
   "source": [
    "10 ** 3"
   ]
  },
  {
   "cell_type": "code",
   "execution_count": null,
   "id": "e1c65a45",
   "metadata": {},
   "outputs": [
    {
     "name": "stdout",
     "output_type": "stream",
     "text": [
      "[1 6 2]\n",
      "[      1000 1280000000     810000]\n"
     ]
    }
   ],
   "source": [
    "a = np.array([10, 20, 30])\n",
    "b = np.array([3, 7, 4])\n",
    "\n",
    "print (np.mod(a, b)) # a % b\n",
    "print (np.power(a, b)) # a ** b"
   ]
  },
  {
   "cell_type": "code",
   "execution_count": 26,
   "id": "a914e53b",
   "metadata": {},
   "outputs": [
    {
     "data": {
      "text/plain": [
       "array([1, 6, 2])"
      ]
     },
     "execution_count": 26,
     "metadata": {},
     "output_type": "execute_result"
    }
   ],
   "source": [
    "a % b"
   ]
  },
  {
   "cell_type": "code",
   "execution_count": 27,
   "id": "3fad4af5",
   "metadata": {},
   "outputs": [
    {
     "data": {
      "text/plain": [
       "array([      1000, 1280000000,     810000])"
      ]
     },
     "execution_count": 27,
     "metadata": {},
     "output_type": "execute_result"
    }
   ],
   "source": [
    "a ** b"
   ]
  },
  {
   "cell_type": "markdown",
   "id": "acb20383",
   "metadata": {},
   "source": [
    "Scalar Operations"
   ]
  },
  {
   "cell_type": "markdown",
   "id": "3ad37980",
   "metadata": {},
   "source": [
    "Fahrenheit = Celsius * 9 / 5 + 32"
   ]
  },
  {
   "cell_type": "code",
   "execution_count": 28,
   "id": "d412a995",
   "metadata": {},
   "outputs": [
    {
     "ename": "TypeError",
     "evalue": "unsupported operand type(s) for /: 'list' and 'int'",
     "output_type": "error",
     "traceback": [
      "\u001b[1;31m---------------------------------------------------------------------------\u001b[0m",
      "\u001b[1;31mTypeError\u001b[0m                                 Traceback (most recent call last)",
      "Cell \u001b[1;32mIn[28], line 2\u001b[0m\n\u001b[0;32m      1\u001b[0m celsius \u001b[38;5;241m=\u001b[39m [\u001b[38;5;241m0\u001b[39m, \u001b[38;5;241m10\u001b[39m, \u001b[38;5;241m20\u001b[39m, \u001b[38;5;241m30\u001b[39m]\n\u001b[1;32m----> 2\u001b[0m fahrenheit \u001b[38;5;241m=\u001b[39m \u001b[43mcelsius\u001b[49m\u001b[43m \u001b[49m\u001b[38;5;241;43m*\u001b[39;49m\u001b[43m \u001b[49m\u001b[38;5;241;43m9\u001b[39;49m\u001b[43m \u001b[49m\u001b[38;5;241;43m/\u001b[39;49m\u001b[43m \u001b[49m\u001b[38;5;241;43m5\u001b[39;49m \u001b[38;5;241m+\u001b[39m \u001b[38;5;241m32\u001b[39m\n",
      "\u001b[1;31mTypeError\u001b[0m: unsupported operand type(s) for /: 'list' and 'int'"
     ]
    }
   ],
   "source": [
    "celsius = [0, 10, 20, 30]\n",
    "fahrenheit = celsius * 9 / 5 + 32"
   ]
  },
  {
   "cell_type": "code",
   "execution_count": 31,
   "id": "7be14120",
   "metadata": {},
   "outputs": [
    {
     "name": "stdout",
     "output_type": "stream",
     "text": [
      "[32. 50. 68. 86.]\n"
     ]
    }
   ],
   "source": [
    "celsius = np.array([0, 10, 20, 30])\n",
    "\n",
    "fahrenheit = celsius * 9 / 5 + 32\n",
    "\n",
    "print(fahrenheit)"
   ]
  },
  {
   "cell_type": "markdown",
   "id": "29ed0cea",
   "metadata": {},
   "source": [
    "Math functions"
   ]
  },
  {
   "cell_type": "code",
   "execution_count": 41,
   "id": "fe52bb2c",
   "metadata": {},
   "outputs": [
    {
     "name": "stdout",
     "output_type": "stream",
     "text": [
      "[1.         1.41421356 1.73205081 2.        ]\n",
      "[ 2.71828183  7.3890561  20.08553692 54.59815003]\n",
      "[0.         0.69314718 1.09861229 1.38629436]\n",
      "[ 0.84147098  0.90929743  0.14112001 -0.7568025 ]\n"
     ]
    }
   ],
   "source": [
    "a = np.array([1, 2, 3, 4])\n",
    "\n",
    "print (np.sqrt(a))\n",
    "print (np.exp(a))\n",
    "print (np.log(a))\n",
    "print (np.sin(a))"
   ]
  },
  {
   "cell_type": "code",
   "execution_count": 56,
   "id": "5cd1ce6e",
   "metadata": {},
   "outputs": [
    {
     "name": "stdout",
     "output_type": "stream",
     "text": [
      "[0.26894142 0.5        0.73105858]\n"
     ]
    }
   ],
   "source": [
    "# sigmoid function <- Machine Learning\n",
    "### x -> 1 / (1 + e^-x)\n",
    "\n",
    "x = np.array([-1, 0, 1])\n",
    "y = 1 / (1 + np.exp(-x))\n",
    "\n",
    "print (y)"
   ]
  },
  {
   "cell_type": "markdown",
   "id": "5061ddc6",
   "metadata": {},
   "source": [
    "Aggregation Functions"
   ]
  },
  {
   "cell_type": "code",
   "execution_count": 57,
   "id": "c13fe6b6",
   "metadata": {},
   "outputs": [],
   "source": [
    "a = np.array([[1, 2, 3],\n",
    "              [4, 5, 6]])"
   ]
  },
  {
   "cell_type": "code",
   "execution_count": 58,
   "id": "fa81d177",
   "metadata": {},
   "outputs": [
    {
     "data": {
      "text/plain": [
       "array([[1, 2, 3],\n",
       "       [4, 5, 6]])"
      ]
     },
     "execution_count": 58,
     "metadata": {},
     "output_type": "execute_result"
    }
   ],
   "source": [
    "a"
   ]
  },
  {
   "cell_type": "code",
   "execution_count": 59,
   "id": "2916c9ea",
   "metadata": {},
   "outputs": [
    {
     "name": "stdout",
     "output_type": "stream",
     "text": [
      "21\n"
     ]
    }
   ],
   "source": [
    "print (np.sum(a))"
   ]
  },
  {
   "cell_type": "code",
   "execution_count": 61,
   "id": "a9f15a6f",
   "metadata": {},
   "outputs": [
    {
     "name": "stdout",
     "output_type": "stream",
     "text": [
      "[5 7 9]\n"
     ]
    }
   ],
   "source": [
    "print (np.sum(a, axis=0))"
   ]
  },
  {
   "cell_type": "code",
   "execution_count": 62,
   "id": "37dfc813",
   "metadata": {},
   "outputs": [
    {
     "name": "stdout",
     "output_type": "stream",
     "text": [
      "[ 6 15]\n"
     ]
    }
   ],
   "source": [
    "print (np.sum(a, axis=1))"
   ]
  },
  {
   "cell_type": "code",
   "execution_count": 63,
   "id": "1fe5590a",
   "metadata": {},
   "outputs": [
    {
     "name": "stdout",
     "output_type": "stream",
     "text": [
      "21\n",
      "3.5\n",
      "1.707825127659933\n",
      "1\n",
      "6\n"
     ]
    }
   ],
   "source": [
    "print (np.sum(a))\n",
    "print (np.mean(a))\n",
    "print (np.std(a))\n",
    "print (np.min(a))\n",
    "print (np.max(a))"
   ]
  },
  {
   "cell_type": "markdown",
   "id": "c10fc6b1",
   "metadata": {},
   "source": [
    "Dot Product"
   ]
  },
  {
   "cell_type": "code",
   "execution_count": 64,
   "id": "745241e0",
   "metadata": {},
   "outputs": [],
   "source": [
    "house = np.array([\n",
    "    [1200, 3, 1],\n",
    "    [1200, 3, 0],\n",
    "    [1000, 3, 0],\n",
    "    [1000, 1, 1]\n",
    "])"
   ]
  },
  {
   "cell_type": "code",
   "execution_count": 65,
   "id": "9d7d0792",
   "metadata": {},
   "outputs": [],
   "source": [
    "w = np.array([200, 10000, 50000])"
   ]
  },
  {
   "cell_type": "code",
   "execution_count": 66,
   "id": "e9d5b12f",
   "metadata": {},
   "outputs": [
    {
     "name": "stdout",
     "output_type": "stream",
     "text": [
      "(4, 3)\n",
      "(3,)\n"
     ]
    }
   ],
   "source": [
    "print (house.shape)\n",
    "print (w.shape)"
   ]
  },
  {
   "cell_type": "code",
   "execution_count": 67,
   "id": "af00da0b",
   "metadata": {},
   "outputs": [
    {
     "name": "stdout",
     "output_type": "stream",
     "text": [
      "[320000 270000 230000 260000]\n"
     ]
    }
   ],
   "source": [
    "print (np.dot(house, w))"
   ]
  },
  {
   "cell_type": "code",
   "execution_count": null,
   "id": "847e4b30",
   "metadata": {},
   "outputs": [
    {
     "data": {
      "text/plain": [
       "array([[240000,  30000,  50000],\n",
       "       [240000,  30000,      0],\n",
       "       [200000,  30000,      0],\n",
       "       [200000,  10000,  50000]])"
      ]
     },
     "execution_count": 68,
     "metadata": {},
     "output_type": "execute_result"
    }
   ],
   "source": [
    "house * w"
   ]
  },
  {
   "cell_type": "code",
   "execution_count": 70,
   "id": "01d3af7a",
   "metadata": {},
   "outputs": [
    {
     "data": {
      "text/plain": [
       "array([320000, 270000, 230000, 260000])"
      ]
     },
     "execution_count": 70,
     "metadata": {},
     "output_type": "execute_result"
    }
   ],
   "source": [
    "np.sum(house * w, axis=1)"
   ]
  },
  {
   "cell_type": "code",
   "execution_count": 71,
   "id": "cc135c46",
   "metadata": {},
   "outputs": [],
   "source": [
    "A = np.array([[1, 2, 3, 4], [1, 2, 3, 4]])\n",
    "B = np.array([[1, 2, 3, 4], [1, 2, 3, 4]])"
   ]
  },
  {
   "cell_type": "code",
   "execution_count": 75,
   "id": "e46ecbca",
   "metadata": {},
   "outputs": [
    {
     "name": "stdout",
     "output_type": "stream",
     "text": [
      "(2, 4)\n",
      "(2, 4)\n",
      "(4, 2)\n"
     ]
    }
   ],
   "source": [
    "print (A.shape)\n",
    "print (B.shape)\n",
    "print (B.T.shape)"
   ]
  },
  {
   "cell_type": "code",
   "execution_count": 74,
   "id": "186d8ea0",
   "metadata": {},
   "outputs": [
    {
     "ename": "ValueError",
     "evalue": "shapes (2,4) and (2,4) not aligned: 4 (dim 1) != 2 (dim 0)",
     "output_type": "error",
     "traceback": [
      "\u001b[1;31m---------------------------------------------------------------------------\u001b[0m",
      "\u001b[1;31mValueError\u001b[0m                                Traceback (most recent call last)",
      "Cell \u001b[1;32mIn[74], line 1\u001b[0m\n\u001b[1;32m----> 1\u001b[0m \u001b[38;5;28mprint\u001b[39m (\u001b[43mnp\u001b[49m\u001b[38;5;241;43m.\u001b[39;49m\u001b[43mdot\u001b[49m\u001b[43m(\u001b[49m\u001b[43mA\u001b[49m\u001b[43m,\u001b[49m\u001b[43m \u001b[49m\u001b[43mB\u001b[49m\u001b[43m)\u001b[49m)\n",
      "\u001b[1;31mValueError\u001b[0m: shapes (2,4) and (2,4) not aligned: 4 (dim 1) != 2 (dim 0)"
     ]
    }
   ],
   "source": [
    "print (np.dot(A, B))"
   ]
  },
  {
   "cell_type": "code",
   "execution_count": 76,
   "id": "d745c7c7",
   "metadata": {},
   "outputs": [
    {
     "name": "stdout",
     "output_type": "stream",
     "text": [
      "[[30 30]\n",
      " [30 30]]\n"
     ]
    }
   ],
   "source": [
    "print (np.dot(A, B.T))"
   ]
  },
  {
   "cell_type": "code",
   "execution_count": 77,
   "id": "677e32c7",
   "metadata": {},
   "outputs": [
    {
     "data": {
      "text/plain": [
       "array([[1, 2, 3, 4],\n",
       "       [1, 2, 3, 4]])"
      ]
     },
     "execution_count": 77,
     "metadata": {},
     "output_type": "execute_result"
    }
   ],
   "source": [
    "A"
   ]
  },
  {
   "cell_type": "code",
   "execution_count": 78,
   "id": "18d651bf",
   "metadata": {},
   "outputs": [
    {
     "data": {
      "text/plain": [
       "array([[1, 1],\n",
       "       [2, 2],\n",
       "       [3, 3],\n",
       "       [4, 4]])"
      ]
     },
     "execution_count": 78,
     "metadata": {},
     "output_type": "execute_result"
    }
   ],
   "source": [
    "B.T"
   ]
  },
  {
   "cell_type": "code",
   "execution_count": 79,
   "id": "b1f6c4ec",
   "metadata": {},
   "outputs": [
    {
     "name": "stdout",
     "output_type": "stream",
     "text": [
      "[[30 30]\n",
      " [30 30]]\n"
     ]
    }
   ],
   "source": [
    "print (A @ B.T)"
   ]
  },
  {
   "cell_type": "markdown",
   "id": "0d0c6494",
   "metadata": {},
   "source": [
    "Broadcasting"
   ]
  },
  {
   "cell_type": "code",
   "execution_count": 80,
   "id": "f3e856cc",
   "metadata": {},
   "outputs": [],
   "source": [
    "a = np.array([1, 2, 3])\n",
    "b = np.array([[10], [20]])"
   ]
  },
  {
   "cell_type": "code",
   "execution_count": 82,
   "id": "bb69139c",
   "metadata": {},
   "outputs": [
    {
     "name": "stdout",
     "output_type": "stream",
     "text": [
      "(3,)\n",
      "(2, 1)\n"
     ]
    }
   ],
   "source": [
    "print (a.shape)\n",
    "print (b.shape)"
   ]
  },
  {
   "cell_type": "code",
   "execution_count": 85,
   "id": "965ffd6e",
   "metadata": {},
   "outputs": [
    {
     "data": {
      "text/plain": [
       "array([1, 2, 3])"
      ]
     },
     "execution_count": 85,
     "metadata": {},
     "output_type": "execute_result"
    }
   ],
   "source": [
    "a"
   ]
  },
  {
   "cell_type": "code",
   "execution_count": 86,
   "id": "e9cc161b",
   "metadata": {},
   "outputs": [
    {
     "data": {
      "text/plain": [
       "array([[10],\n",
       "       [20]])"
      ]
     },
     "execution_count": 86,
     "metadata": {},
     "output_type": "execute_result"
    }
   ],
   "source": [
    "b"
   ]
  },
  {
   "cell_type": "code",
   "execution_count": 84,
   "id": "0425c4f3",
   "metadata": {},
   "outputs": [
    {
     "data": {
      "text/plain": [
       "array([[11, 12, 13],\n",
       "       [21, 22, 23]])"
      ]
     },
     "execution_count": 84,
     "metadata": {},
     "output_type": "execute_result"
    }
   ],
   "source": [
    "a + b"
   ]
  },
  {
   "cell_type": "markdown",
   "id": "18fba454",
   "metadata": {},
   "source": [
    "Creating Arrays from Existing Data"
   ]
  },
  {
   "cell_type": "code",
   "execution_count": 89,
   "id": "15168999",
   "metadata": {},
   "outputs": [],
   "source": [
    "a = [1,2,3,4] # List\n",
    "b = ([[1,2], [2,3]]) # Tuple -> 2D List\n",
    "c = (10,20,30) # Tuple"
   ]
  },
  {
   "cell_type": "code",
   "execution_count": 90,
   "id": "0df43b66",
   "metadata": {},
   "outputs": [
    {
     "name": "stdout",
     "output_type": "stream",
     "text": [
      "[1 2 3 4] int64 <class 'list'>\n"
     ]
    }
   ],
   "source": [
    "a_npy = np.array(a)\n",
    "print(a_npy, a_npy.dtype, type(a))"
   ]
  },
  {
   "cell_type": "code",
   "execution_count": 91,
   "id": "8e0692da",
   "metadata": {},
   "outputs": [
    {
     "name": "stdout",
     "output_type": "stream",
     "text": [
      "[[1 2]\n",
      " [2 3]] int64 <class 'list'>\n"
     ]
    }
   ],
   "source": [
    "b_npy = np.array(b)\n",
    "print(b_npy, b_npy.dtype, type(b))"
   ]
  },
  {
   "cell_type": "code",
   "execution_count": 92,
   "id": "0b819155",
   "metadata": {},
   "outputs": [
    {
     "name": "stdout",
     "output_type": "stream",
     "text": [
      "[10 20 30] int64 <class 'tuple'>\n"
     ]
    }
   ],
   "source": [
    "c_npy = np.array(c)\n",
    "print(c_npy, c_npy.dtype, type(c))"
   ]
  },
  {
   "cell_type": "markdown",
   "id": "fd118a03",
   "metadata": {},
   "source": [
    "Let's do some Stack"
   ]
  },
  {
   "cell_type": "code",
   "execution_count": 93,
   "id": "125a78f7",
   "metadata": {},
   "outputs": [],
   "source": [
    "a = np.array([[1,2]])\n",
    "b = np.array([[3,4]])"
   ]
  },
  {
   "cell_type": "code",
   "execution_count": 96,
   "id": "47d7c2e8",
   "metadata": {},
   "outputs": [
    {
     "data": {
      "text/plain": [
       "array([[1, 2]])"
      ]
     },
     "execution_count": 96,
     "metadata": {},
     "output_type": "execute_result"
    }
   ],
   "source": [
    "a"
   ]
  },
  {
   "cell_type": "code",
   "execution_count": 97,
   "id": "f8a1e2cd",
   "metadata": {},
   "outputs": [
    {
     "data": {
      "text/plain": [
       "array([[3, 4]])"
      ]
     },
     "execution_count": 97,
     "metadata": {},
     "output_type": "execute_result"
    }
   ],
   "source": [
    "b"
   ]
  },
  {
   "cell_type": "code",
   "execution_count": 95,
   "id": "bf71bc66",
   "metadata": {},
   "outputs": [
    {
     "name": "stdout",
     "output_type": "stream",
     "text": [
      "[[1 2]\n",
      " [3 4]]\n"
     ]
    }
   ],
   "source": [
    "# vstack\n",
    "\n",
    "print (np.vstack((a, b)))"
   ]
  },
  {
   "cell_type": "code",
   "execution_count": 98,
   "id": "58f1dbc2",
   "metadata": {},
   "outputs": [
    {
     "name": "stdout",
     "output_type": "stream",
     "text": [
      "[[1 2 3 4]]\n"
     ]
    }
   ],
   "source": [
    "# hstack\n",
    "\n",
    "print (np.hstack((a, b)))"
   ]
  },
  {
   "cell_type": "markdown",
   "id": "9fc3d924",
   "metadata": {},
   "source": [
    "np.char"
   ]
  },
  {
   "cell_type": "code",
   "execution_count": 99,
   "id": "52f47203",
   "metadata": {},
   "outputs": [],
   "source": [
    "a = np.array(['hello', 'world'])\n",
    "b = np.array(['_user', '_123'])"
   ]
  },
  {
   "cell_type": "code",
   "execution_count": 101,
   "id": "3c828cc7",
   "metadata": {},
   "outputs": [
    {
     "name": "stdout",
     "output_type": "stream",
     "text": [
      "['hello_user' 'world_123']\n"
     ]
    }
   ],
   "source": [
    "print (np.char.add(a, b))"
   ]
  },
  {
   "cell_type": "code",
   "execution_count": 104,
   "id": "b2b3fb3d",
   "metadata": {},
   "outputs": [
    {
     "name": "stdout",
     "output_type": "stream",
     "text": [
      "['hellohellohello' 'worldworldworld']\n"
     ]
    }
   ],
   "source": [
    "print (np.char.multiply(a, 3))"
   ]
  },
  {
   "cell_type": "code",
   "execution_count": 111,
   "id": "81faf8ed",
   "metadata": {},
   "outputs": [
    {
     "name": "stdout",
     "output_type": "stream",
     "text": [
      "['HELLOO' 'WORLD']\n",
      "['helloo' 'world']\n",
      "['Helloo' 'World']\n"
     ]
    }
   ],
   "source": [
    "a = np.array(['helloo', 'WORLD'])\n",
    "\n",
    "print(np.char.upper(a)) \n",
    "print(np.char.lower(a)) \n",
    "print(np.char.capitalize(a)) "
   ]
  },
  {
   "cell_type": "code",
   "execution_count": 112,
   "id": "7e3f5b3b",
   "metadata": {},
   "outputs": [
    {
     "name": "stdout",
     "output_type": "stream",
     "text": [
      "['***helloo**' '***WORLD***']\n"
     ]
    }
   ],
   "source": [
    "print(np.char.center(a, 11, fillchar='*'))"
   ]
  },
  {
   "cell_type": "code",
   "execution_count": 113,
   "id": "07ff26a1",
   "metadata": {},
   "outputs": [],
   "source": [
    "a = np.array(['data_science', 'machine_learning'])"
   ]
  },
  {
   "cell_type": "code",
   "execution_count": 114,
   "id": "212d4c7e",
   "metadata": {},
   "outputs": [
    {
     "name": "stdout",
     "output_type": "stream",
     "text": [
      "['data science' 'machine learning']\n"
     ]
    }
   ],
   "source": [
    "print (np.char.replace(a, \"_\", \" \"))"
   ]
  },
  {
   "cell_type": "code",
   "execution_count": 115,
   "id": "c17b171e",
   "metadata": {},
   "outputs": [
    {
     "name": "stdout",
     "output_type": "stream",
     "text": [
      "[list(['data', 'science']) list(['machine', 'learning'])]\n"
     ]
    }
   ],
   "source": [
    "print (np.char.split(a, sep=\"_\"))"
   ]
  },
  {
   "cell_type": "code",
   "execution_count": 120,
   "id": "8672afc2",
   "metadata": {},
   "outputs": [
    {
     "name": "stdout",
     "output_type": "stream",
     "text": [
      "[4 7]\n",
      "[1 1]\n",
      "[-1 -1]\n",
      "[-1  8]\n"
     ]
    }
   ],
   "source": [
    "print (np.char.find(a, \"_\"))\n",
    "print (np.char.find(a, \"a\"))\n",
    "print (np.char.find(a, \"z\"))\n",
    "print (np.char.find(a, \"learn\"))"
   ]
  },
  {
   "cell_type": "code",
   "execution_count": 121,
   "id": "51535466",
   "metadata": {},
   "outputs": [
    {
     "data": {
      "text/plain": [
       "array(['data_science', 'machine_learning'], dtype='<U16')"
      ]
     },
     "execution_count": 121,
     "metadata": {},
     "output_type": "execute_result"
    }
   ],
   "source": [
    "a"
   ]
  },
  {
   "cell_type": "code",
   "execution_count": 127,
   "id": "c2d9ee07",
   "metadata": {},
   "outputs": [
    {
     "name": "stdout",
     "output_type": "stream",
     "text": [
      "[2 2]\n",
      "[1 0]\n",
      "[1 0]\n",
      "[0 0]\n"
     ]
    }
   ],
   "source": [
    "print(np.char.count(a, 'a'))\n",
    "print(np.char.count(a, 'data'))\n",
    "print(np.char.count(a, 'data_s'))\n",
    "print(np.char.count(a, 'data s'))"
   ]
  },
  {
   "cell_type": "markdown",
   "id": "2878a757",
   "metadata": {},
   "source": [
    "Statistical Functions"
   ]
  },
  {
   "cell_type": "code",
   "execution_count": 128,
   "id": "f5a89dab",
   "metadata": {},
   "outputs": [],
   "source": [
    "data = np.array([1, 2, 3, 4, 5, 6])"
   ]
  },
  {
   "cell_type": "code",
   "execution_count": 130,
   "id": "0b0a500d",
   "metadata": {},
   "outputs": [
    {
     "name": "stdout",
     "output_type": "stream",
     "text": [
      "Mean: 3.5\n",
      "Median: 3.5\n",
      "Standard Deviation: 1.707825127659933\n",
      "Variance: 2.9166666666666665\n",
      "Min: 1\n",
      "Max: 6\n"
     ]
    }
   ],
   "source": [
    "print(\"Mean:\", np.mean(data))\n",
    "print(\"Median:\", np.median(data))\n",
    "print(\"Standard Deviation:\", np.std(data))\n",
    "print(\"Variance:\", np.var(data))\n",
    "\n",
    "print(\"Min:\", np.min(data))\n",
    "print(\"Max:\", np.max(data))"
   ]
  },
  {
   "cell_type": "code",
   "execution_count": 131,
   "id": "f405de2b",
   "metadata": {},
   "outputs": [
    {
     "name": "stdout",
     "output_type": "stream",
     "text": [
      "Argmin: 0\n",
      "Argmax: 5\n"
     ]
    }
   ],
   "source": [
    "print(\"Argmin:\", np.argmin(data))\n",
    "print(\"Argmax:\", np.argmax(data))"
   ]
  },
  {
   "cell_type": "code",
   "execution_count": 142,
   "id": "4faffbbd",
   "metadata": {},
   "outputs": [
    {
     "name": "stdout",
     "output_type": "stream",
     "text": [
      "5.0\n",
      "9\n"
     ]
    }
   ],
   "source": [
    "data = np.array([1, 3, 5, 7, 9])\n",
    "print(np.percentile(data, 50)) # range 1 - 100\n",
    "print(np.quantile(data, 1)) # range 0 - 1"
   ]
  },
  {
   "cell_type": "code",
   "execution_count": 132,
   "id": "6bc70810",
   "metadata": {},
   "outputs": [
    {
     "name": "stdout",
     "output_type": "stream",
     "text": [
      "[2.5 3.5 4.5]\n",
      "[2. 5.]\n"
     ]
    }
   ],
   "source": [
    "matrix = np.array([[1, 2, 3], \n",
    "                   [4, 5, 6]])\n",
    "\n",
    "print(np.mean(matrix, axis=0)) # Column\n",
    "print(np.mean(matrix, axis=1)) # Row"
   ]
  },
  {
   "cell_type": "markdown",
   "id": "134bd9d2",
   "metadata": {},
   "source": [
    "sort, search and counting functions"
   ]
  },
  {
   "cell_type": "code",
   "execution_count": 143,
   "id": "7747fcf5",
   "metadata": {},
   "outputs": [],
   "source": [
    "arr = np.array([3, 6, 1, 1, 1, 1, 8, 2, 5, 6])"
   ]
  },
  {
   "cell_type": "code",
   "execution_count": null,
   "id": "df448854",
   "metadata": {},
   "outputs": [
    {
     "name": "stdout",
     "output_type": "stream",
     "text": [
      "Sorted: [1 1 1 1 2 3 5 6 6 8]\n",
      "Unique elements: [1 2 3 5 6 8]\n",
      "Sorted indices: [3 2 5 4 7 0 8 1 9 6]\n",
      "Count of each element: [0 4 1 1 0 1 2 0 1]\n"
     ]
    }
   ],
   "source": [
    "print(\"Sorted:\", np.sort(arr))\n",
    "print(\"Unique elements:\", np.unique(arr))\n",
    "print(\"Sorted indices:\", np.argsort(arr)) # [1 1 1 1 2 3 5 6 6 8]\n",
    "print(\"Count of each element:\", np.bincount(arr)) # 0->0, 1->4, 2->1, 3->1, 4->0, 5->1, 6->2, 7->0, 8->1"
   ]
  },
  {
   "cell_type": "code",
   "execution_count": 148,
   "id": "af127981",
   "metadata": {},
   "outputs": [
    {
     "name": "stdout",
     "output_type": "stream",
     "text": [
      "1\n",
      "2\n",
      "3\n",
      "4\n"
     ]
    }
   ],
   "source": [
    "arr = np.array([1, 2, 3, 4])\n",
    "\n",
    "for x in arr:\n",
    "    print(x)"
   ]
  },
  {
   "cell_type": "code",
   "execution_count": 149,
   "id": "5d0fbb7f",
   "metadata": {},
   "outputs": [
    {
     "name": "stdout",
     "output_type": "stream",
     "text": [
      "[1 2]\n",
      "[3 4]\n"
     ]
    }
   ],
   "source": [
    "arr_2d = np.array([[1, 2], [3, 4]])\n",
    "\n",
    "for x in arr_2d:\n",
    "    print(x)"
   ]
  },
  {
   "cell_type": "code",
   "execution_count": 151,
   "id": "9f6deb0c",
   "metadata": {},
   "outputs": [
    {
     "data": {
      "text/plain": [
       "<numpy.nditer at 0x1ff4bcfd0d0>"
      ]
     },
     "execution_count": 151,
     "metadata": {},
     "output_type": "execute_result"
    }
   ],
   "source": [
    "np.nditer(arr_2d)"
   ]
  },
  {
   "cell_type": "code",
   "execution_count": 150,
   "id": "5c54299c",
   "metadata": {},
   "outputs": [
    {
     "name": "stdout",
     "output_type": "stream",
     "text": [
      "1\n",
      "2\n",
      "3\n",
      "4\n"
     ]
    }
   ],
   "source": [
    "for x in np.nditer(arr_2d):\n",
    "    print(x)"
   ]
  },
  {
   "cell_type": "markdown",
   "id": "06c992c0",
   "metadata": {},
   "source": [
    "Duplicate"
   ]
  },
  {
   "cell_type": "code",
   "execution_count": 152,
   "id": "d347e79a",
   "metadata": {},
   "outputs": [],
   "source": [
    "a = np.array([1, 2, 3])"
   ]
  },
  {
   "cell_type": "code",
   "execution_count": 153,
   "id": "132fd238",
   "metadata": {},
   "outputs": [],
   "source": [
    "b = a"
   ]
  },
  {
   "cell_type": "code",
   "execution_count": 154,
   "id": "c94d71d7",
   "metadata": {},
   "outputs": [
    {
     "data": {
      "text/plain": [
       "array([1, 2, 3])"
      ]
     },
     "execution_count": 154,
     "metadata": {},
     "output_type": "execute_result"
    }
   ],
   "source": [
    "a"
   ]
  },
  {
   "cell_type": "code",
   "execution_count": 155,
   "id": "b5e162a0",
   "metadata": {},
   "outputs": [
    {
     "data": {
      "text/plain": [
       "array([1, 2, 3])"
      ]
     },
     "execution_count": 155,
     "metadata": {},
     "output_type": "execute_result"
    }
   ],
   "source": [
    "b"
   ]
  },
  {
   "cell_type": "code",
   "execution_count": 156,
   "id": "a179d0fb",
   "metadata": {},
   "outputs": [],
   "source": [
    "b[0] = 100"
   ]
  },
  {
   "cell_type": "code",
   "execution_count": 157,
   "id": "a8f56165",
   "metadata": {},
   "outputs": [
    {
     "data": {
      "text/plain": [
       "array([100,   2,   3])"
      ]
     },
     "execution_count": 157,
     "metadata": {},
     "output_type": "execute_result"
    }
   ],
   "source": [
    "b"
   ]
  },
  {
   "cell_type": "code",
   "execution_count": 158,
   "id": "8d064c93",
   "metadata": {},
   "outputs": [
    {
     "data": {
      "text/plain": [
       "array([100,   2,   3])"
      ]
     },
     "execution_count": 158,
     "metadata": {},
     "output_type": "execute_result"
    }
   ],
   "source": [
    "a"
   ]
  },
  {
   "cell_type": "code",
   "execution_count": 159,
   "id": "69dd36e9",
   "metadata": {},
   "outputs": [
    {
     "name": "stdout",
     "output_type": "stream",
     "text": [
      "2196000123152\n",
      "2196000123152\n"
     ]
    }
   ],
   "source": [
    "print (id(a))\n",
    "print (id(b))"
   ]
  },
  {
   "cell_type": "code",
   "execution_count": 160,
   "id": "cd7e8de9",
   "metadata": {},
   "outputs": [],
   "source": [
    "a = np.array([1, 2, 3])"
   ]
  },
  {
   "cell_type": "code",
   "execution_count": 162,
   "id": "616e9b7e",
   "metadata": {},
   "outputs": [],
   "source": [
    "b = a.copy()"
   ]
  },
  {
   "cell_type": "code",
   "execution_count": 163,
   "id": "1f18bfdf",
   "metadata": {},
   "outputs": [
    {
     "data": {
      "text/plain": [
       "array([1, 2, 3])"
      ]
     },
     "execution_count": 163,
     "metadata": {},
     "output_type": "execute_result"
    }
   ],
   "source": [
    "a"
   ]
  },
  {
   "cell_type": "code",
   "execution_count": 164,
   "id": "f3a1a5e6",
   "metadata": {},
   "outputs": [
    {
     "data": {
      "text/plain": [
       "array([1, 2, 3])"
      ]
     },
     "execution_count": 164,
     "metadata": {},
     "output_type": "execute_result"
    }
   ],
   "source": [
    "b"
   ]
  },
  {
   "cell_type": "code",
   "execution_count": 166,
   "id": "a7dc1b38",
   "metadata": {},
   "outputs": [],
   "source": [
    "b[0] = 100"
   ]
  },
  {
   "cell_type": "code",
   "execution_count": 167,
   "id": "b8d26837",
   "metadata": {},
   "outputs": [
    {
     "data": {
      "text/plain": [
       "array([100,   2,   3])"
      ]
     },
     "execution_count": 167,
     "metadata": {},
     "output_type": "execute_result"
    }
   ],
   "source": [
    "b"
   ]
  },
  {
   "cell_type": "code",
   "execution_count": 168,
   "id": "3daf6ec3",
   "metadata": {},
   "outputs": [
    {
     "data": {
      "text/plain": [
       "array([1, 2, 3])"
      ]
     },
     "execution_count": 168,
     "metadata": {},
     "output_type": "execute_result"
    }
   ],
   "source": [
    "a"
   ]
  },
  {
   "cell_type": "code",
   "execution_count": 169,
   "id": "a073b14e",
   "metadata": {},
   "outputs": [
    {
     "name": "stdout",
     "output_type": "stream",
     "text": [
      "2196000127760\n",
      "2196000160624\n"
     ]
    }
   ],
   "source": [
    "print (id(a))\n",
    "print (id(b))"
   ]
  },
  {
   "cell_type": "code",
   "execution_count": null,
   "id": "2765d512",
   "metadata": {},
   "outputs": [],
   "source": [
    "a = np.array([1, 2, 3])\n",
    "\n",
    "b = a.view() # Similar to b = a but in different memory position\n",
    "\n",
    "c = a.copy()"
   ]
  },
  {
   "cell_type": "code",
   "execution_count": 171,
   "id": "1ca99135",
   "metadata": {},
   "outputs": [
    {
     "name": "stdout",
     "output_type": "stream",
     "text": [
      "[1 2 3]\n",
      "[1 2 3]\n",
      "[1 2 3]\n"
     ]
    }
   ],
   "source": [
    "print (a)\n",
    "print (b)\n",
    "print (c)"
   ]
  },
  {
   "cell_type": "code",
   "execution_count": 172,
   "id": "b9c46bb2",
   "metadata": {},
   "outputs": [
    {
     "name": "stdout",
     "output_type": "stream",
     "text": [
      "[10  2  3]\n",
      "[10  2  3]\n",
      "[1 2 3]\n"
     ]
    }
   ],
   "source": [
    "b[0] = 10\n",
    "\n",
    "print (a)\n",
    "print (b)\n",
    "print (c)"
   ]
  },
  {
   "cell_type": "code",
   "execution_count": 173,
   "id": "293492c4",
   "metadata": {},
   "outputs": [
    {
     "name": "stdout",
     "output_type": "stream",
     "text": [
      "[10  2  3]\n",
      "[10  2  3]\n",
      "[20  2  3]\n"
     ]
    }
   ],
   "source": [
    "c[0] = 20\n",
    "\n",
    "print (a)\n",
    "print (b)\n",
    "print (c)"
   ]
  },
  {
   "cell_type": "code",
   "execution_count": null,
   "id": "c60be671",
   "metadata": {},
   "outputs": [
    {
     "name": "stdout",
     "output_type": "stream",
     "text": [
      "True\n"
     ]
    }
   ],
   "source": [
    "a = np.arange(5) # [0, 1, 2, 3, 4]\n",
    "\n",
    "b = a[1:4] # View -> [1, 2, 3]\n",
    "\n",
    "print(np.shares_memory(a, b))"
   ]
  },
  {
   "cell_type": "code",
   "execution_count": 190,
   "id": "08c23885",
   "metadata": {},
   "outputs": [
    {
     "name": "stdout",
     "output_type": "stream",
     "text": [
      "False\n"
     ]
    }
   ],
   "source": [
    "a = np.arange(5) # [0, 1, 2, 3, 4]\n",
    "\n",
    "b = a[1:4].copy() # Copy -> [1, 2, 3]\n",
    "\n",
    "print(np.shares_memory(a, b))"
   ]
  },
  {
   "cell_type": "code",
   "execution_count": 193,
   "id": "8f03e24a",
   "metadata": {},
   "outputs": [
    {
     "name": "stdout",
     "output_type": "stream",
     "text": [
      "[[1 2]\n",
      " [3 4]]\n",
      "[1 2 3 4]\n",
      "[1 2 3 4]\n"
     ]
    }
   ],
   "source": [
    "a = np.array([[1, 2], [3, 4]])\n",
    "print (a)\n",
    "print(a.ravel())\n",
    "print(a.flatten())"
   ]
  }
 ],
 "metadata": {
  "kernelspec": {
   "display_name": "cv_collection_review_rnd",
   "language": "python",
   "name": "python3"
  },
  "language_info": {
   "codemirror_mode": {
    "name": "ipython",
    "version": 3
   },
   "file_extension": ".py",
   "mimetype": "text/x-python",
   "name": "python",
   "nbconvert_exporter": "python",
   "pygments_lexer": "ipython3",
   "version": "3.10.16"
  }
 },
 "nbformat": 4,
 "nbformat_minor": 5
}
